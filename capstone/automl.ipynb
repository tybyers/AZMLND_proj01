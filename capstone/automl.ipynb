{
 "cells": [
  {
   "cell_type": "markdown",
   "metadata": {},
   "source": [
    "# Automated ML\n",
    "\n",
    "TODO: Import Dependencies. In the cell below, import all the dependencies that you will need to complete the project."
   ]
  },
  {
   "cell_type": "markdown",
   "metadata": {},
   "source": [
    "## Import Dependencies"
   ]
  },
  {
   "cell_type": "code",
   "execution_count": 2,
   "metadata": {
    "collapsed": false,
    "gather": {
     "logged": 1598423888013
    },
    "jupyter": {
     "outputs_hidden": false,
     "source_hidden": false
    },
    "nteract": {
     "transient": {
      "deleting": false
     }
    }
   },
   "outputs": [],
   "source": [
    "from azureml.core import Workspace, Experiment, Dataset\n",
    "from azureml.data.dataset_factory import TabularDatasetFactory as tdf\n",
    "from azureml.core.compute import ComputeTarget, AmlCompute\n",
    "from azureml.core.compute_target import ComputeTargetException\n",
    "from azureml.widgets import RunDetails\n",
    "from azureml.train.automl import AutoMLConfig\n",
    "from azureml.core.model import InferenceConfig\n",
    "from azureml.core.webservice import LocalWebservice\n",
    "from azureml.core.model import Model\n",
    "import requests"
   ]
  },
  {
   "cell_type": "markdown",
   "metadata": {},
   "source": [
    "## Set Up\n",
    "\n",
    "### Load Workspace Elements"
   ]
  },
  {
   "cell_type": "code",
   "execution_count": 3,
   "metadata": {
    "collapsed": false,
    "gather": {
     "logged": 1598423890461
    },
    "jupyter": {
     "outputs_hidden": false,
     "source_hidden": false
    },
    "nteract": {
     "transient": {
      "deleting": false
     }
    }
   },
   "outputs": [
    {
     "name": "stdout",
     "output_type": "stream",
     "text": [
      "Workspace name: quick-starts-ws-133553\n",
      "Azure region: southcentralus\n",
      "Subscription id: 610d6e37-4747-4a20-80eb-3aad70a55f43\n",
      "Resource group: aml-quickstarts-133553\n"
     ]
    }
   ],
   "source": [
    "ws = Workspace.from_config()\n",
    "\n",
    "print('Workspace name: ' + ws.name, \n",
    "      'Azure region: ' + ws.location, \n",
    "      'Subscription id: ' + ws.subscription_id, \n",
    "      'Resource group: ' + ws.resource_group, sep = '\\n')"
   ]
  },
  {
   "cell_type": "markdown",
   "metadata": {},
   "source": [
    "### Create Experiment"
   ]
  },
  {
   "cell_type": "code",
   "execution_count": 4,
   "metadata": {},
   "outputs": [],
   "source": [
    "# choose a name for experiment\n",
    "experiment_name = 'MS-Malware'\n",
    "project_folder = './automl'\n",
    "\n",
    "experiment=Experiment(ws, experiment_name)"
   ]
  },
  {
   "cell_type": "markdown",
   "metadata": {},
   "source": [
    "### Create Environment"
   ]
  },
  {
   "cell_type": "code",
   "execution_count": 43,
   "metadata": {},
   "outputs": [
    {
     "name": "stdout",
     "output_type": "stream",
     "text": [
      "Overwriting automl_dependencies.yml\n"
     ]
    }
   ],
   "source": [
    "%%writefile automl_dependencies.yml\n",
    "\n",
    "dependencies:\n",
    "    - python=3.6.2\n",
    "    - scikit-learn\n",
    "    - numpy\n",
    "    - xgboost\n",
    "    - pandas\n",
    "    - pip:\n",
    "        - azureml-defaults\n",
    "        - azureml-train-automl"
   ]
  },
  {
   "cell_type": "code",
   "execution_count": 44,
   "metadata": {},
   "outputs": [],
   "source": [
    "from azureml.core import Environment\n",
    "\n",
    "automl_env = Environment.from_conda_specification(name = 'automl-env', file_path = './automl_dependencies.yml')"
   ]
  },
  {
   "cell_type": "markdown",
   "metadata": {},
   "source": [
    "## Create/Get Compute Cluster"
   ]
  },
  {
   "cell_type": "code",
   "execution_count": 7,
   "metadata": {},
   "outputs": [
    {
     "name": "stdout",
     "output_type": "stream",
     "text": [
      "Cluster malware-compute exists. Will use this cluster.\n"
     ]
    }
   ],
   "source": [
    "cpu_cluster_name = \"malware-compute\"\n",
    "\n",
    "# if cluster already exists, use it\n",
    "try:\n",
    "    cpu_cluster = ComputeTarget(workspace=ws, name=cpu_cluster_name)\n",
    "    print('Cluster {} exists. Will use this cluster.'.format(cpu_cluster_name))\n",
    "except ComputeTargetException:\n",
    "    compute_config = AmlCompute.provisioning_configuration(vm_size='STANDARD_D2_V2', max_nodes=4)\n",
    "    cpu_cluster = ComputeTarget.create(ws, cpu_cluster_name, compute_config)\n",
    "    \n",
    "    cpu_cluster.wait_for_completion(show_output=True)"
   ]
  },
  {
   "cell_type": "markdown",
   "metadata": {},
   "source": [
    "## Dataset\n",
    "\n",
    "### Overview\n",
    "\n",
    "This data set was taken from the [Microsoft Malware Prediction](https://www.kaggle.com/c/microsoft-malware-prediction) competition run in 2019. \"Microsoft is challenging the data science community to develop techniques to predict if a machine will soon be hit with malware. As with their previous, Malware Challenge (2015), Microsoft is providing Kagglers with an unprecedented malware dataset to encourage open-source progress on effective techniques for predicting malware occurrences.\"  \n",
    "\n",
    "The raw training data set for the competition is very large: 8,921,483 observations (rows), and 83 features (variables), taking up 4.1 GB of space! \n",
    "\n",
    "In order to allow us to complete the tasks for this assignment in a reasonable amount of time, we took a very small subset of the entire train.csv data set -- just 10,000 rows (or about 0.1% of the entire training set). We skimmed off the top 10,000 rows from the data set for use in this project, and put it on our GitHub at https://raw.githubusercontent.com/tybyers/AZMLND_projects/capstone/capstone/data/train_1_10k.csv.\n",
    "\n",
    "### Goal\n",
    "\n",
    "The goal for this project is to predict whether a Windows machine is infected by various families of malware, based on different properties of that machine. Each row in this dataset corresponds to a machine, and has observations from telemetry data generated by WindowsDefender. The `HasDetections` column indicates that Malware was detected on the machine. \n",
    "\n",
    "For our 10,000 row data set, 4,950 machines have no malware detections, and 5,050 machines have malware detections. This is a nice, balanced data set.\n"
   ]
  },
  {
   "cell_type": "code",
   "execution_count": 8,
   "metadata": {},
   "outputs": [
    {
     "data": {
      "text/html": [
       "<div>\n",
       "<style scoped>\n",
       "    .dataframe tbody tr th:only-of-type {\n",
       "        vertical-align: middle;\n",
       "    }\n",
       "\n",
       "    .dataframe tbody tr th {\n",
       "        vertical-align: top;\n",
       "    }\n",
       "\n",
       "    .dataframe thead th {\n",
       "        text-align: right;\n",
       "    }\n",
       "</style>\n",
       "<table border=\"1\" class=\"dataframe\">\n",
       "  <thead>\n",
       "    <tr style=\"text-align: right;\">\n",
       "      <th></th>\n",
       "      <th>ProductName</th>\n",
       "      <th>EngineVersion</th>\n",
       "      <th>AppVersion</th>\n",
       "      <th>AvSigVersion</th>\n",
       "      <th>IsBeta</th>\n",
       "      <th>RtpStateBitfield</th>\n",
       "      <th>IsSxsPassiveMode</th>\n",
       "      <th>DefaultBrowsersIdentifier</th>\n",
       "      <th>AVProductStatesIdentifier</th>\n",
       "      <th>AVProductsInstalled</th>\n",
       "      <th>...</th>\n",
       "      <th>Census_FirmwareVersionIdentifier</th>\n",
       "      <th>Census_IsSecureBootEnabled</th>\n",
       "      <th>Census_IsWIMBootEnabled</th>\n",
       "      <th>Census_IsVirtualDevice</th>\n",
       "      <th>Census_IsTouchEnabled</th>\n",
       "      <th>Census_IsPenCapable</th>\n",
       "      <th>Census_IsAlwaysOnAlwaysConnectedCapable</th>\n",
       "      <th>Wdft_IsGamer</th>\n",
       "      <th>Wdft_RegionIdentifier</th>\n",
       "      <th>HasDetections</th>\n",
       "    </tr>\n",
       "  </thead>\n",
       "  <tbody>\n",
       "    <tr>\n",
       "      <th>0</th>\n",
       "      <td>win8defender</td>\n",
       "      <td>1.1.15100.1</td>\n",
       "      <td>4.18.1807.18075</td>\n",
       "      <td>1.273.1735.0</td>\n",
       "      <td>0</td>\n",
       "      <td>7</td>\n",
       "      <td>0</td>\n",
       "      <td>NA</td>\n",
       "      <td>53447.0</td>\n",
       "      <td>1.0</td>\n",
       "      <td>...</td>\n",
       "      <td>36144</td>\n",
       "      <td>0</td>\n",
       "      <td>NA</td>\n",
       "      <td>0</td>\n",
       "      <td>0</td>\n",
       "      <td>0</td>\n",
       "      <td>0.0</td>\n",
       "      <td>0</td>\n",
       "      <td>10</td>\n",
       "      <td>0</td>\n",
       "    </tr>\n",
       "    <tr>\n",
       "      <th>1</th>\n",
       "      <td>win8defender</td>\n",
       "      <td>1.1.14600.4</td>\n",
       "      <td>4.13.17134.1</td>\n",
       "      <td>1.263.48.0</td>\n",
       "      <td>0</td>\n",
       "      <td>7</td>\n",
       "      <td>0</td>\n",
       "      <td>NA</td>\n",
       "      <td>53447.0</td>\n",
       "      <td>1.0</td>\n",
       "      <td>...</td>\n",
       "      <td>57858</td>\n",
       "      <td>0</td>\n",
       "      <td>NA</td>\n",
       "      <td>0</td>\n",
       "      <td>0</td>\n",
       "      <td>0</td>\n",
       "      <td>0.0</td>\n",
       "      <td>0</td>\n",
       "      <td>8</td>\n",
       "      <td>0</td>\n",
       "    </tr>\n",
       "    <tr>\n",
       "      <th>2</th>\n",
       "      <td>win8defender</td>\n",
       "      <td>1.1.15100.1</td>\n",
       "      <td>4.18.1807.18075</td>\n",
       "      <td>1.273.1341.0</td>\n",
       "      <td>0</td>\n",
       "      <td>7</td>\n",
       "      <td>0</td>\n",
       "      <td>NA</td>\n",
       "      <td>53447.0</td>\n",
       "      <td>1.0</td>\n",
       "      <td>...</td>\n",
       "      <td>52682</td>\n",
       "      <td>0</td>\n",
       "      <td>NA</td>\n",
       "      <td>0</td>\n",
       "      <td>0</td>\n",
       "      <td>0</td>\n",
       "      <td>0.0</td>\n",
       "      <td>0</td>\n",
       "      <td>3</td>\n",
       "      <td>0</td>\n",
       "    </tr>\n",
       "    <tr>\n",
       "      <th>3</th>\n",
       "      <td>win8defender</td>\n",
       "      <td>1.1.15100.1</td>\n",
       "      <td>4.18.1807.18075</td>\n",
       "      <td>1.273.1527.0</td>\n",
       "      <td>0</td>\n",
       "      <td>7</td>\n",
       "      <td>0</td>\n",
       "      <td>NA</td>\n",
       "      <td>53447.0</td>\n",
       "      <td>1.0</td>\n",
       "      <td>...</td>\n",
       "      <td>20050</td>\n",
       "      <td>0</td>\n",
       "      <td>NA</td>\n",
       "      <td>0</td>\n",
       "      <td>0</td>\n",
       "      <td>0</td>\n",
       "      <td>0.0</td>\n",
       "      <td>0</td>\n",
       "      <td>3</td>\n",
       "      <td>1</td>\n",
       "    </tr>\n",
       "    <tr>\n",
       "      <th>4</th>\n",
       "      <td>win8defender</td>\n",
       "      <td>1.1.15100.1</td>\n",
       "      <td>4.18.1807.18075</td>\n",
       "      <td>1.273.1379.0</td>\n",
       "      <td>0</td>\n",
       "      <td>7</td>\n",
       "      <td>0</td>\n",
       "      <td>NA</td>\n",
       "      <td>53447.0</td>\n",
       "      <td>1.0</td>\n",
       "      <td>...</td>\n",
       "      <td>19844</td>\n",
       "      <td>0</td>\n",
       "      <td>0</td>\n",
       "      <td>0</td>\n",
       "      <td>0</td>\n",
       "      <td>0</td>\n",
       "      <td>0.0</td>\n",
       "      <td>0</td>\n",
       "      <td>1</td>\n",
       "      <td>1</td>\n",
       "    </tr>\n",
       "  </tbody>\n",
       "</table>\n",
       "<p>5 rows × 82 columns</p>\n",
       "</div>"
      ],
      "text/plain": [
       "    ProductName EngineVersion       AppVersion  AvSigVersion  IsBeta  \\\n",
       "0  win8defender   1.1.15100.1  4.18.1807.18075  1.273.1735.0       0   \n",
       "1  win8defender   1.1.14600.4     4.13.17134.1    1.263.48.0       0   \n",
       "2  win8defender   1.1.15100.1  4.18.1807.18075  1.273.1341.0       0   \n",
       "3  win8defender   1.1.15100.1  4.18.1807.18075  1.273.1527.0       0   \n",
       "4  win8defender   1.1.15100.1  4.18.1807.18075  1.273.1379.0       0   \n",
       "\n",
       "  RtpStateBitfield  IsSxsPassiveMode DefaultBrowsersIdentifier  \\\n",
       "0                7                 0                        NA   \n",
       "1                7                 0                        NA   \n",
       "2                7                 0                        NA   \n",
       "3                7                 0                        NA   \n",
       "4                7                 0                        NA   \n",
       "\n",
       "   AVProductStatesIdentifier  AVProductsInstalled  ...  \\\n",
       "0                    53447.0                  1.0  ...   \n",
       "1                    53447.0                  1.0  ...   \n",
       "2                    53447.0                  1.0  ...   \n",
       "3                    53447.0                  1.0  ...   \n",
       "4                    53447.0                  1.0  ...   \n",
       "\n",
       "   Census_FirmwareVersionIdentifier  Census_IsSecureBootEnabled  \\\n",
       "0                             36144                           0   \n",
       "1                             57858                           0   \n",
       "2                             52682                           0   \n",
       "3                             20050                           0   \n",
       "4                             19844                           0   \n",
       "\n",
       "   Census_IsWIMBootEnabled Census_IsVirtualDevice Census_IsTouchEnabled  \\\n",
       "0                       NA                      0                     0   \n",
       "1                       NA                      0                     0   \n",
       "2                       NA                      0                     0   \n",
       "3                       NA                      0                     0   \n",
       "4                        0                      0                     0   \n",
       "\n",
       "   Census_IsPenCapable  Census_IsAlwaysOnAlwaysConnectedCapable Wdft_IsGamer  \\\n",
       "0                    0                                      0.0            0   \n",
       "1                    0                                      0.0            0   \n",
       "2                    0                                      0.0            0   \n",
       "3                    0                                      0.0            0   \n",
       "4                    0                                      0.0            0   \n",
       "\n",
       "  Wdft_RegionIdentifier HasDetections  \n",
       "0                    10             0  \n",
       "1                     8             0  \n",
       "2                     3             0  \n",
       "3                     3             1  \n",
       "4                     1             1  \n",
       "\n",
       "[5 rows x 82 columns]"
      ]
     },
     "execution_count": 8,
     "metadata": {},
     "output_type": "execute_result"
    }
   ],
   "source": [
    "# Load Data set\n",
    "data_path = 'https://raw.githubusercontent.com/tybyers/AZMLND_projects/capstone/capstone/data/train_1_10k.csv'\n",
    "dataset = tdf.from_delimited_files(path=data_path)\n",
    "dataset.to_pandas_dataframe().head()"
   ]
  },
  {
   "cell_type": "markdown",
   "metadata": {},
   "source": [
    "## AutoML Configuration\n",
    "\n",
    "TODO: Explain why you chose the automl settings and configuration you used below."
   ]
  },
  {
   "cell_type": "code",
   "execution_count": 9,
   "metadata": {
    "collapsed": false,
    "gather": {
     "logged": 1598429217746
    },
    "jupyter": {
     "outputs_hidden": false,
     "source_hidden": false
    },
    "nteract": {
     "transient": {
      "deleting": false
     }
    }
   },
   "outputs": [],
   "source": [
    "# TODO: Put your automl settings here\n",
    "automl_settings = {\n",
    "    \"experiment_timeout_minutes\": 30,\n",
    "    \"max_concurrent_iterations\": 5,\n",
    "    \"primary_metric\" : 'accuracy'\n",
    "}\n",
    "\n",
    "# TODO: Put your automl config here\n",
    "automl_config = AutoMLConfig(\n",
    "    compute_target=cpu_cluster,\n",
    "    task=\"classification\",\n",
    "    training_data=dataset,\n",
    "    label_column_name='HasDetections',\n",
    "    enable_early_stopping=True,\n",
    "    path=project_folder,\n",
    "    debug_log='automl_errors.log',\n",
    "    n_cross_validations=5,\n",
    "    **automl_settings\n",
    ")"
   ]
  },
  {
   "cell_type": "code",
   "execution_count": 10,
   "metadata": {
    "collapsed": false,
    "gather": {
     "logged": 1598431107951
    },
    "jupyter": {
     "outputs_hidden": false,
     "source_hidden": false
    },
    "nteract": {
     "transient": {
      "deleting": false
     }
    }
   },
   "outputs": [
    {
     "name": "stdout",
     "output_type": "stream",
     "text": [
      "Running on remote.\n",
      "No run_configuration provided, running on malware-compute with default configuration\n",
      "Running on remote compute: malware-compute\n",
      "Parent Run ID: AutoML_b41a0d8e-8a07-4e82-ac68-cae8152970b4\n",
      "\n",
      "Current status: FeaturesGeneration. Generating features for the dataset.\n",
      "Current status: DatasetFeaturization. Beginning to fit featurizers and featurize the dataset.\n",
      "Current status: DatasetCrossValidationSplit. Generating individually featurized CV splits.\n",
      "Current status: ModelSelection. Beginning model selection.\n",
      "\n",
      "****************************************************************************************************\n",
      "DATA GUARDRAILS: \n",
      "\n",
      "TYPE:         Class balancing detection\n",
      "STATUS:       PASSED\n",
      "DESCRIPTION:  Your inputs were analyzed, and all classes are balanced in your training data.\n",
      "              Learn more about imbalanced data: https://aka.ms/AutomatedMLImbalancedData\n",
      "\n",
      "****************************************************************************************************\n",
      "\n",
      "TYPE:         Missing feature values imputation\n",
      "STATUS:       DONE\n",
      "DESCRIPTION:  If the missing values are expected, let the run complete. Otherwise cancel the current run and use a script to customize the handling of missing feature values that may be more appropriate based on the data type and business requirement.\n",
      "              Learn more about missing value imputation: https://aka.ms/AutomatedMLFeaturization\n",
      "DETAILS:      \n",
      "+---------------------------------+---------------------------------+---------------------------------+\n",
      "|Column name                      |Missing value count              |Imputation type                  |\n",
      "+=================================+=================================+=================================+\n",
      "|AVProductStatesIdentifier        |30                               |mean                             |\n",
      "|AVProductsInstalled              |30                               |mean                             |\n",
      "|AVProductsEnabled                |30                               |mean                             |\n",
      "|IsProtected                      |30                               |mean                             |\n",
      "|Firewall                         |96                               |mean                             |\n",
      "|Census_ProcessorCoreCount        |44                               |mean                             |\n",
      "|Census_ProcessorManufacturerId...|44                               |mean                             |\n",
      "|Census_ProcessorModelIdentifier  |44                               |mean                             |\n",
      "|Census_PrimaryDiskTotalCapacity  |56                               |mean                             |\n",
      "|Census_SystemVolumeTotalCapacity |56                               |mean                             |\n",
      "|Census_IsAlwaysOnAlwaysConnect...|78                               |mean                             |\n",
      "+---------------------------------+---------------------------------+---------------------------------+\n",
      "\n",
      "****************************************************************************************************\n",
      "\n",
      "TYPE:         High cardinality feature detection\n",
      "STATUS:       DONE\n",
      "DESCRIPTION:  High cardinality features were detected in your inputs and handled.\n",
      "              Learn more about high cardinality feature handling: https://aka.ms/AutomatedMLFeaturization\n",
      "DETAILS:      High cardinality features refer to columns that contain a large percentage of unique values.\n",
      "+---------------------------------+---------------------------------+\n",
      "|Column name                      |Column Content Type              |\n",
      "+=================================+=================================+\n",
      "|AvSigVersion                     |categorical_hash                 |\n",
      "|CityIdentifier                   |categorical_hash                 |\n",
      "|OsBuildLab                       |categorical_hash                 |\n",
      "|Census_OEMNameIdentifier         |categorical_hash                 |\n",
      "|Census_OEMModelIdentifier        |categorical_hash                 |\n",
      "|Census_InternalBatteryNumberOf...|categorical_hash                 |\n",
      "|Census_FirmwareVersionIdentifier |categorical_hash                 |\n",
      "+---------------------------------+---------------------------------+\n",
      "\n",
      "****************************************************************************************************\n",
      "\n",
      "****************************************************************************************************\n",
      "ITERATION: The iteration being evaluated.\n",
      "PIPELINE: A summary description of the pipeline being evaluated.\n",
      "DURATION: Time taken for the current iteration.\n",
      "METRIC: The result of computing score on the fitted pipeline.\n",
      "BEST: The best observed score thus far.\n",
      "****************************************************************************************************\n",
      "\n",
      " ITERATION   PIPELINE                                       DURATION      METRIC      BEST\n",
      "         2   MaxAbsScaler RandomForest                      0:00:50       0.5819    0.5819\n",
      "         1   MaxAbsScaler XGBoostClassifier                 0:01:08       0.6240    0.6240\n",
      "         0   MaxAbsScaler LightGBM                          0:00:49       0.6178    0.6240\n",
      "         4   MaxAbsScaler RandomForest                      0:01:00       0.5314    0.6240\n",
      "         7   StandardScalerWrapper XGBoostClassifier        0:00:58       0.6094    0.6240\n",
      "         8   SparseNormalizer XGBoostClassifier             0:01:38       0.6126    0.6240\n",
      "         5   MaxAbsScaler RandomForest                      0:03:18       0.5739    0.6240\n",
      "         3   MaxAbsScaler RandomForest                      0:03:24       0.5545    0.6240\n",
      "         6   StandardScalerWrapper LightGBM                 0:03:34       0.6272    0.6272\n",
      "        12   SparseNormalizer XGBoostClassifier             0:00:45       0.5958    0.6272\n",
      "        10   StandardScalerWrapper RandomForest             0:01:11       0.6140    0.6272\n",
      "        11   MaxAbsScaler RandomForest                      0:00:59       0.6062    0.6272\n",
      "        13   MaxAbsScaler LightGBM                          0:00:57       0.6178    0.6272\n",
      "        15   MaxAbsScaler ExtremeRandomTrees                0:01:21       0.6084    0.6272\n",
      "        14   MaxAbsScaler RandomForest                      0:01:51       0.6110    0.6272\n",
      "        17   MaxAbsScaler LightGBM                          0:00:52       0.6163    0.6272\n",
      "        16   SparseNormalizer XGBoostClassifier             0:01:37       0.6146    0.6272\n",
      "        18   StandardScalerWrapper LightGBM                 0:01:00       0.6078    0.6272\n",
      "         9   MaxAbsScaler LogisticRegression                0:05:20       0.5819    0.6272\n",
      "        19   SparseNormalizer XGBoostClassifier             0:01:14       0.6165    0.6272\n",
      "        20   SparseNormalizer LightGBM                      0:00:56       0.6197    0.6272\n",
      "        23   MaxAbsScaler LightGBM                          0:00:52       0.6085    0.6272\n",
      "        24   MaxAbsScaler LightGBM                          0:00:47       0.6187    0.6272\n",
      "        22   TruncatedSVDWrapper XGBoostClassifier          0:02:05       0.6002    0.6272\n",
      "        25   StandardScalerWrapper LightGBM                 0:00:51       0.5306    0.6272\n",
      "        27   MaxAbsScaler ExtremeRandomTrees                0:01:00       0.6150    0.6272\n",
      "        28   StandardScalerWrapper LightGBM                 0:00:48       0.6100    0.6272\n",
      "        30   MaxAbsScaler LightGBM                          0:00:51       0.6069    0.6272\n",
      "        29   SparseNormalizer XGBoostClassifier             0:01:27       0.6088    0.6272\n",
      "        31   MaxAbsScaler ExtremeRandomTrees                0:01:07       0.5878    0.6272\n",
      "        32   MaxAbsScaler LightGBM                          0:00:49       0.6113    0.6272\n",
      "        26   MaxAbsScaler ExtremeRandomTrees                0:04:10       0.6123    0.6272\n",
      "        33   StandardScalerWrapper LightGBM                 0:00:54       0.6174    0.6272\n",
      "        21   MaxAbsScaler LogisticRegression                0:07:15          nan    0.6272\n",
      "        34   MaxAbsScaler RandomForest                      0:00:57       0.5841    0.6272\n",
      "        35   StandardScalerWrapper LightGBM                 0:00:43       0.5973    0.6272\n",
      "        36                                                  0:00:16          nan    0.6272\n",
      "        37                                                  0:00:19          nan    0.6272\n",
      "        38    VotingEnsemble                                0:01:36       0.6376    0.6376\n",
      "        39    StackEnsemble                                 0:01:52       0.6363    0.6376\n"
     ]
    }
   ],
   "source": [
    "# Submit experiment\n",
    "remote_run = experiment.submit(config=automl_config, show_output=True)"
   ]
  },
  {
   "cell_type": "markdown",
   "metadata": {},
   "source": [
    "## Run Details\n",
    "\n",
    "OPTIONAL: Write about the different models trained and their performance. Why do you think some models did better than others?\n",
    "\n",
    "TODO: In the cell below, use the `RunDetails` widget to show the different experiments."
   ]
  },
  {
   "cell_type": "code",
   "execution_count": 11,
   "metadata": {
    "collapsed": false,
    "gather": {
     "logged": 1598431121770
    },
    "jupyter": {
     "outputs_hidden": false,
     "source_hidden": false
    },
    "nteract": {
     "transient": {
      "deleting": false
     }
    }
   },
   "outputs": [
    {
     "data": {
      "application/vnd.jupyter.widget-view+json": {
       "model_id": "9507fa09b0df48039c938e9e97882a23",
       "version_major": 2,
       "version_minor": 0
      },
      "text/plain": [
       "_AutoMLWidget(widget_settings={'childWidgetDisplay': 'popup', 'send_telemetry': False, 'log_level': 'INFO', 's…"
      ]
     },
     "metadata": {},
     "output_type": "display_data"
    },
    {
     "data": {
      "application/aml.mini.widget.v1": "{\"status\": \"Completed\", \"workbench_run_details_uri\": \"https://ml.azure.com/experiments/MS-Malware/runs/AutoML_b41a0d8e-8a07-4e82-ac68-cae8152970b4?wsid=/subscriptions/610d6e37-4747-4a20-80eb-3aad70a55f43/resourcegroups/aml-quickstarts-133553/workspaces/quick-starts-ws-133553\", \"run_id\": \"AutoML_b41a0d8e-8a07-4e82-ac68-cae8152970b4\", \"run_properties\": {\"run_id\": \"AutoML_b41a0d8e-8a07-4e82-ac68-cae8152970b4\", \"created_utc\": \"2021-01-05T20:35:01.228727Z\", \"properties\": {\"num_iterations\": \"1000\", \"training_type\": \"TrainFull\", \"acquisition_function\": \"EI\", \"primary_metric\": \"accuracy\", \"train_split\": \"0\", \"acquisition_parameter\": \"0\", \"num_cross_validation\": \"5\", \"target\": \"malware-compute\", \"AMLSettingsJsonString\": \"{\\\"path\\\":null,\\\"name\\\":\\\"MS-Malware\\\",\\\"subscription_id\\\":\\\"610d6e37-4747-4a20-80eb-3aad70a55f43\\\",\\\"resource_group\\\":\\\"aml-quickstarts-133553\\\",\\\"workspace_name\\\":\\\"quick-starts-ws-133553\\\",\\\"region\\\":\\\"southcentralus\\\",\\\"compute_target\\\":\\\"malware-compute\\\",\\\"spark_service\\\":null,\\\"azure_service\\\":\\\"remote\\\",\\\"many_models\\\":false,\\\"pipeline_fetch_max_batch_size\\\":1,\\\"iterations\\\":1000,\\\"primary_metric\\\":\\\"accuracy\\\",\\\"task_type\\\":\\\"classification\\\",\\\"data_script\\\":null,\\\"validation_size\\\":0.0,\\\"n_cross_validations\\\":5,\\\"y_min\\\":null,\\\"y_max\\\":null,\\\"num_classes\\\":null,\\\"featurization\\\":\\\"auto\\\",\\\"_ignore_package_version_incompatibilities\\\":false,\\\"is_timeseries\\\":false,\\\"max_cores_per_iteration\\\":1,\\\"max_concurrent_iterations\\\":5,\\\"iteration_timeout_minutes\\\":null,\\\"mem_in_mb\\\":null,\\\"enforce_time_on_windows\\\":false,\\\"experiment_timeout_minutes\\\":30,\\\"experiment_exit_score\\\":null,\\\"whitelist_models\\\":null,\\\"blacklist_algos\\\":[\\\"TensorFlowLinearClassifier\\\",\\\"TensorFlowDNN\\\"],\\\"supported_models\\\":[\\\"MultinomialNaiveBayes\\\",\\\"LightGBM\\\",\\\"TensorFlowLinearClassifier\\\",\\\"ExtremeRandomTrees\\\",\\\"XGBoostClassifier\\\",\\\"DecisionTree\\\",\\\"LinearSVM\\\",\\\"TensorFlowDNN\\\",\\\"BernoulliNaiveBayes\\\",\\\"SGD\\\",\\\"RandomForest\\\",\\\"AveragedPerceptronClassifier\\\",\\\"GradientBoosting\\\",\\\"SVM\\\",\\\"KNN\\\",\\\"LogisticRegression\\\"],\\\"auto_blacklist\\\":true,\\\"blacklist_samples_reached\\\":false,\\\"exclude_nan_labels\\\":true,\\\"verbosity\\\":20,\\\"_debug_log\\\":\\\"azureml_automl.log\\\",\\\"show_warnings\\\":false,\\\"model_explainability\\\":true,\\\"service_url\\\":null,\\\"sdk_url\\\":null,\\\"sdk_packages\\\":null,\\\"enable_onnx_compatible_models\\\":false,\\\"enable_split_onnx_featurizer_estimator_models\\\":false,\\\"vm_type\\\":\\\"STANDARD_D2_V2\\\",\\\"telemetry_verbosity\\\":20,\\\"send_telemetry\\\":true,\\\"enable_dnn\\\":false,\\\"scenario\\\":\\\"SDK-1.13.0\\\",\\\"environment_label\\\":null,\\\"force_text_dnn\\\":false,\\\"enable_feature_sweeping\\\":true,\\\"enable_early_stopping\\\":true,\\\"early_stopping_n_iters\\\":10,\\\"metrics\\\":null,\\\"enable_ensembling\\\":true,\\\"enable_stack_ensembling\\\":true,\\\"ensemble_iterations\\\":15,\\\"enable_tf\\\":false,\\\"enable_subsampling\\\":null,\\\"subsample_seed\\\":null,\\\"enable_nimbusml\\\":false,\\\"enable_streaming\\\":false,\\\"force_streaming\\\":false,\\\"track_child_runs\\\":true,\\\"allowed_private_models\\\":[],\\\"label_column_name\\\":\\\"HasDetections\\\",\\\"weight_column_name\\\":null,\\\"cv_split_column_names\\\":null,\\\"enable_local_managed\\\":false,\\\"_local_managed_run_id\\\":null,\\\"cost_mode\\\":1,\\\"lag_length\\\":0,\\\"metric_operation\\\":\\\"maximize\\\",\\\"preprocess\\\":true}\", \"DataPrepJsonString\": \"{\\\\\\\"training_data\\\\\\\": \\\\\\\"{\\\\\\\\\\\\\\\"blocks\\\\\\\\\\\\\\\": [{\\\\\\\\\\\\\\\"id\\\\\\\\\\\\\\\": \\\\\\\\\\\\\\\"4db8456e-2e05-4ae9-86b5-36fa3124ea04\\\\\\\\\\\\\\\", \\\\\\\\\\\\\\\"type\\\\\\\\\\\\\\\": \\\\\\\\\\\\\\\"Microsoft.DPrep.GetFilesBlock\\\\\\\\\\\\\\\", \\\\\\\\\\\\\\\"arguments\\\\\\\\\\\\\\\": {\\\\\\\\\\\\\\\"isArchive\\\\\\\\\\\\\\\": false, \\\\\\\\\\\\\\\"path\\\\\\\\\\\\\\\": {\\\\\\\\\\\\\\\"target\\\\\\\\\\\\\\\": 4, \\\\\\\\\\\\\\\"resourceDetails\\\\\\\\\\\\\\\": [{\\\\\\\\\\\\\\\"path\\\\\\\\\\\\\\\": \\\\\\\\\\\\\\\"https://raw.githubusercontent.com/tybyers/AZMLND_projects/capstone/capstone/data/train_1_10k.csv\\\\\\\\\\\\\\\"}]}}, \\\\\\\\\\\\\\\"localData\\\\\\\\\\\\\\\": {}, \\\\\\\\\\\\\\\"isEnabled\\\\\\\\\\\\\\\": true, \\\\\\\\\\\\\\\"name\\\\\\\\\\\\\\\": null, \\\\\\\\\\\\\\\"annotation\\\\\\\\\\\\\\\": null}, {\\\\\\\\\\\\\\\"id\\\\\\\\\\\\\\\": \\\\\\\\\\\\\\\"f92b4235-58ea-4571-aa84-4aa630226667\\\\\\\\\\\\\\\", \\\\\\\\\\\\\\\"type\\\\\\\\\\\\\\\": \\\\\\\\\\\\\\\"Microsoft.DPrep.ParseDelimitedBlock\\\\\\\\\\\\\\\", \\\\\\\\\\\\\\\"arguments\\\\\\\\\\\\\\\": {\\\\\\\\\\\\\\\"columnHeadersMode\\\\\\\\\\\\\\\": 3, \\\\\\\\\\\\\\\"fileEncoding\\\\\\\\\\\\\\\": 0, \\\\\\\\\\\\\\\"handleQuotedLineBreaks\\\\\\\\\\\\\\\": false, \\\\\\\\\\\\\\\"preview\\\\\\\\\\\\\\\": false, \\\\\\\\\\\\\\\"separator\\\\\\\\\\\\\\\": \\\\\\\\\\\\\\\",\\\\\\\\\\\\\\\", \\\\\\\\\\\\\\\"skipRows\\\\\\\\\\\\\\\": 0, \\\\\\\\\\\\\\\"skipRowsMode\\\\\\\\\\\\\\\": 0}, \\\\\\\\\\\\\\\"localData\\\\\\\\\\\\\\\": {}, \\\\\\\\\\\\\\\"isEnabled\\\\\\\\\\\\\\\": true, \\\\\\\\\\\\\\\"name\\\\\\\\\\\\\\\": null, \\\\\\\\\\\\\\\"annotation\\\\\\\\\\\\\\\": null}, {\\\\\\\\\\\\\\\"id\\\\\\\\\\\\\\\": \\\\\\\\\\\\\\\"0d1250e7-e8ae-41a9-b344-4f4ad7bf1d56\\\\\\\\\\\\\\\", \\\\\\\\\\\\\\\"type\\\\\\\\\\\\\\\": \\\\\\\\\\\\\\\"Microsoft.DPrep.DropColumnsBlock\\\\\\\\\\\\\\\", \\\\\\\\\\\\\\\"arguments\\\\\\\\\\\\\\\": {\\\\\\\\\\\\\\\"columns\\\\\\\\\\\\\\\": {\\\\\\\\\\\\\\\"type\\\\\\\\\\\\\\\": 0, \\\\\\\\\\\\\\\"details\\\\\\\\\\\\\\\": {\\\\\\\\\\\\\\\"selectedColumns\\\\\\\\\\\\\\\": [\\\\\\\\\\\\\\\"Path\\\\\\\\\\\\\\\"]}}}, \\\\\\\\\\\\\\\"localData\\\\\\\\\\\\\\\": {}, \\\\\\\\\\\\\\\"isEnabled\\\\\\\\\\\\\\\": true, \\\\\\\\\\\\\\\"name\\\\\\\\\\\\\\\": null, \\\\\\\\\\\\\\\"annotation\\\\\\\\\\\\\\\": null}, {\\\\\\\\\\\\\\\"id\\\\\\\\\\\\\\\": \\\\\\\\\\\\\\\"930e5018-863b-49b2-b84b-055e1b34751a\\\\\\\\\\\\\\\", \\\\\\\\\\\\\\\"type\\\\\\\\\\\\\\\": \\\\\\\\\\\\\\\"Microsoft.DPrep.SetColumnTypesBlock\\\\\\\\\\\\\\\", \\\\\\\\\\\\\\\"arguments\\\\\\\\\\\\\\\": {\\\\\\\\\\\\\\\"columnConversion\\\\\\\\\\\\\\\": [{\\\\\\\\\\\\\\\"column\\\\\\\\\\\\\\\": {\\\\\\\\\\\\\\\"type\\\\\\\\\\\\\\\": 2, \\\\\\\\\\\\\\\"details\\\\\\\\\\\\\\\": {\\\\\\\\\\\\\\\"selectedColumn\\\\\\\\\\\\\\\": \\\\\\\\\\\\\\\"ProductName\\\\\\\\\\\\\\\"}}, \\\\\\\\\\\\\\\"typeProperty\\\\\\\\\\\\\\\": 0}, {\\\\\\\\\\\\\\\"column\\\\\\\\\\\\\\\": {\\\\\\\\\\\\\\\"type\\\\\\\\\\\\\\\": 2, \\\\\\\\\\\\\\\"details\\\\\\\\\\\\\\\": {\\\\\\\\\\\\\\\"selectedColumn\\\\\\\\\\\\\\\": \\\\\\\\\\\\\\\"EngineVersion\\\\\\\\\\\\\\\"}}, \\\\\\\\\\\\\\\"typeProperty\\\\\\\\\\\\\\\": 0}, {\\\\\\\\\\\\\\\"column\\\\\\\\\\\\\\\": {\\\\\\\\\\\\\\\"type\\\\\\\\\\\\\\\": 2, \\\\\\\\\\\\\\\"details\\\\\\\\\\\\\\\": {\\\\\\\\\\\\\\\"selectedColumn\\\\\\\\\\\\\\\": \\\\\\\\\\\\\\\"AppVersion\\\\\\\\\\\\\\\"}}, \\\\\\\\\\\\\\\"typeProperty\\\\\\\\\\\\\\\": 0}, {\\\\\\\\\\\\\\\"column\\\\\\\\\\\\\\\": {\\\\\\\\\\\\\\\"type\\\\\\\\\\\\\\\": 2, \\\\\\\\\\\\\\\"details\\\\\\\\\\\\\\\": {\\\\\\\\\\\\\\\"selectedColumn\\\\\\\\\\\\\\\": \\\\\\\\\\\\\\\"AvSigVersion\\\\\\\\\\\\\\\"}}, \\\\\\\\\\\\\\\"typeProperty\\\\\\\\\\\\\\\": 0}, {\\\\\\\\\\\\\\\"column\\\\\\\\\\\\\\\": {\\\\\\\\\\\\\\\"type\\\\\\\\\\\\\\\": 2, \\\\\\\\\\\\\\\"details\\\\\\\\\\\\\\\": {\\\\\\\\\\\\\\\"selectedColumn\\\\\\\\\\\\\\\": \\\\\\\\\\\\\\\"IsBeta\\\\\\\\\\\\\\\"}}, \\\\\\\\\\\\\\\"typeProperty\\\\\\\\\\\\\\\": 2}, {\\\\\\\\\\\\\\\"column\\\\\\\\\\\\\\\": {\\\\\\\\\\\\\\\"type\\\\\\\\\\\\\\\": 2, \\\\\\\\\\\\\\\"details\\\\\\\\\\\\\\\": {\\\\\\\\\\\\\\\"selectedColumn\\\\\\\\\\\\\\\": \\\\\\\\\\\\\\\"RtpStateBitfield\\\\\\\\\\\\\\\"}}, \\\\\\\\\\\\\\\"typeProperty\\\\\\\\\\\\\\\": 0}, {\\\\\\\\\\\\\\\"column\\\\\\\\\\\\\\\": {\\\\\\\\\\\\\\\"type\\\\\\\\\\\\\\\": 2, \\\\\\\\\\\\\\\"details\\\\\\\\\\\\\\\": {\\\\\\\\\\\\\\\"selectedColumn\\\\\\\\\\\\\\\": \\\\\\\\\\\\\\\"IsSxsPassiveMode\\\\\\\\\\\\\\\"}}, \\\\\\\\\\\\\\\"typeProperty\\\\\\\\\\\\\\\": 2}, {\\\\\\\\\\\\\\\"column\\\\\\\\\\\\\\\": {\\\\\\\\\\\\\\\"type\\\\\\\\\\\\\\\": 2, \\\\\\\\\\\\\\\"details\\\\\\\\\\\\\\\": {\\\\\\\\\\\\\\\"selectedColumn\\\\\\\\\\\\\\\": \\\\\\\\\\\\\\\"DefaultBrowsersIdentifier\\\\\\\\\\\\\\\"}}, \\\\\\\\\\\\\\\"typeProperty\\\\\\\\\\\\\\\": 0}, {\\\\\\\\\\\\\\\"column\\\\\\\\\\\\\\\": {\\\\\\\\\\\\\\\"type\\\\\\\\\\\\\\\": 2, \\\\\\\\\\\\\\\"details\\\\\\\\\\\\\\\": {\\\\\\\\\\\\\\\"selectedColumn\\\\\\\\\\\\\\\": \\\\\\\\\\\\\\\"AVProductStatesIdentifier\\\\\\\\\\\\\\\"}}, \\\\\\\\\\\\\\\"typeProperty\\\\\\\\\\\\\\\": 2}, {\\\\\\\\\\\\\\\"column\\\\\\\\\\\\\\\": {\\\\\\\\\\\\\\\"type\\\\\\\\\\\\\\\": 2, \\\\\\\\\\\\\\\"details\\\\\\\\\\\\\\\": {\\\\\\\\\\\\\\\"selectedColumn\\\\\\\\\\\\\\\": \\\\\\\\\\\\\\\"AVProductsInstalled\\\\\\\\\\\\\\\"}}, \\\\\\\\\\\\\\\"typeProperty\\\\\\\\\\\\\\\": 2}, {\\\\\\\\\\\\\\\"column\\\\\\\\\\\\\\\": {\\\\\\\\\\\\\\\"type\\\\\\\\\\\\\\\": 2, \\\\\\\\\\\\\\\"details\\\\\\\\\\\\\\\": {\\\\\\\\\\\\\\\"selectedColumn\\\\\\\\\\\\\\\": \\\\\\\\\\\\\\\"AVProductsEnabled\\\\\\\\\\\\\\\"}}, \\\\\\\\\\\\\\\"typeProperty\\\\\\\\\\\\\\\": 2}, {\\\\\\\\\\\\\\\"column\\\\\\\\\\\\\\\": {\\\\\\\\\\\\\\\"type\\\\\\\\\\\\\\\": 2, \\\\\\\\\\\\\\\"details\\\\\\\\\\\\\\\": {\\\\\\\\\\\\\\\"selectedColumn\\\\\\\\\\\\\\\": \\\\\\\\\\\\\\\"HasTpm\\\\\\\\\\\\\\\"}}, \\\\\\\\\\\\\\\"typeProperty\\\\\\\\\\\\\\\": 2}, {\\\\\\\\\\\\\\\"column\\\\\\\\\\\\\\\": {\\\\\\\\\\\\\\\"type\\\\\\\\\\\\\\\": 2, \\\\\\\\\\\\\\\"details\\\\\\\\\\\\\\\": {\\\\\\\\\\\\\\\"selectedColumn\\\\\\\\\\\\\\\": \\\\\\\\\\\\\\\"CountryIdentifier\\\\\\\\\\\\\\\"}}, \\\\\\\\\\\\\\\"typeProperty\\\\\\\\\\\\\\\": 2}, {\\\\\\\\\\\\\\\"column\\\\\\\\\\\\\\\": {\\\\\\\\\\\\\\\"type\\\\\\\\\\\\\\\": 2, \\\\\\\\\\\\\\\"details\\\\\\\\\\\\\\\": {\\\\\\\\\\\\\\\"selectedColumn\\\\\\\\\\\\\\\": \\\\\\\\\\\\\\\"CityIdentifier\\\\\\\\\\\\\\\"}}, \\\\\\\\\\\\\\\"typeProperty\\\\\\\\\\\\\\\": 0}, {\\\\\\\\\\\\\\\"column\\\\\\\\\\\\\\\": {\\\\\\\\\\\\\\\"type\\\\\\\\\\\\\\\": 2, \\\\\\\\\\\\\\\"details\\\\\\\\\\\\\\\": {\\\\\\\\\\\\\\\"selectedColumn\\\\\\\\\\\\\\\": \\\\\\\\\\\\\\\"OrganizationIdentifier\\\\\\\\\\\\\\\"}}, \\\\\\\\\\\\\\\"typeProperty\\\\\\\\\\\\\\\": 0}, {\\\\\\\\\\\\\\\"column\\\\\\\\\\\\\\\": {\\\\\\\\\\\\\\\"type\\\\\\\\\\\\\\\": 2, \\\\\\\\\\\\\\\"details\\\\\\\\\\\\\\\": {\\\\\\\\\\\\\\\"selectedColumn\\\\\\\\\\\\\\\": \\\\\\\\\\\\\\\"GeoNameIdentifier\\\\\\\\\\\\\\\"}}, \\\\\\\\\\\\\\\"typeProperty\\\\\\\\\\\\\\\": 2}, {\\\\\\\\\\\\\\\"column\\\\\\\\\\\\\\\": {\\\\\\\\\\\\\\\"type\\\\\\\\\\\\\\\": 2, \\\\\\\\\\\\\\\"details\\\\\\\\\\\\\\\": {\\\\\\\\\\\\\\\"selectedColumn\\\\\\\\\\\\\\\": \\\\\\\\\\\\\\\"LocaleEnglishNameIdentifier\\\\\\\\\\\\\\\"}}, \\\\\\\\\\\\\\\"typeProperty\\\\\\\\\\\\\\\": 2}, {\\\\\\\\\\\\\\\"column\\\\\\\\\\\\\\\": {\\\\\\\\\\\\\\\"type\\\\\\\\\\\\\\\": 2, \\\\\\\\\\\\\\\"details\\\\\\\\\\\\\\\": {\\\\\\\\\\\\\\\"selectedColumn\\\\\\\\\\\\\\\": \\\\\\\\\\\\\\\"Platform\\\\\\\\\\\\\\\"}}, \\\\\\\\\\\\\\\"typeProperty\\\\\\\\\\\\\\\": 0}, {\\\\\\\\\\\\\\\"column\\\\\\\\\\\\\\\": {\\\\\\\\\\\\\\\"type\\\\\\\\\\\\\\\": 2, \\\\\\\\\\\\\\\"details\\\\\\\\\\\\\\\": {\\\\\\\\\\\\\\\"selectedColumn\\\\\\\\\\\\\\\": \\\\\\\\\\\\\\\"Processor\\\\\\\\\\\\\\\"}}, \\\\\\\\\\\\\\\"typeProperty\\\\\\\\\\\\\\\": 0}, {\\\\\\\\\\\\\\\"column\\\\\\\\\\\\\\\": {\\\\\\\\\\\\\\\"type\\\\\\\\\\\\\\\": 2, \\\\\\\\\\\\\\\"details\\\\\\\\\\\\\\\": {\\\\\\\\\\\\\\\"selectedColumn\\\\\\\\\\\\\\\": \\\\\\\\\\\\\\\"OsVer\\\\\\\\\\\\\\\"}}, \\\\\\\\\\\\\\\"typeProperty\\\\\\\\\\\\\\\": 0}, {\\\\\\\\\\\\\\\"column\\\\\\\\\\\\\\\": {\\\\\\\\\\\\\\\"type\\\\\\\\\\\\\\\": 2, \\\\\\\\\\\\\\\"details\\\\\\\\\\\\\\\": {\\\\\\\\\\\\\\\"selectedColumn\\\\\\\\\\\\\\\": \\\\\\\\\\\\\\\"OsBuild\\\\\\\\\\\\\\\"}}, \\\\\\\\\\\\\\\"typeProperty\\\\\\\\\\\\\\\": 2}, {\\\\\\\\\\\\\\\"column\\\\\\\\\\\\\\\": {\\\\\\\\\\\\\\\"type\\\\\\\\\\\\\\\": 2, \\\\\\\\\\\\\\\"details\\\\\\\\\\\\\\\": {\\\\\\\\\\\\\\\"selectedColumn\\\\\\\\\\\\\\\": \\\\\\\\\\\\\\\"OsSuite\\\\\\\\\\\\\\\"}}, \\\\\\\\\\\\\\\"typeProperty\\\\\\\\\\\\\\\": 2}, {\\\\\\\\\\\\\\\"column\\\\\\\\\\\\\\\": {\\\\\\\\\\\\\\\"type\\\\\\\\\\\\\\\": 2, \\\\\\\\\\\\\\\"details\\\\\\\\\\\\\\\": {\\\\\\\\\\\\\\\"selectedColumn\\\\\\\\\\\\\\\": \\\\\\\\\\\\\\\"OsPlatformSubRelease\\\\\\\\\\\\\\\"}}, \\\\\\\\\\\\\\\"typeProperty\\\\\\\\\\\\\\\": 0}, {\\\\\\\\\\\\\\\"column\\\\\\\\\\\\\\\": {\\\\\\\\\\\\\\\"type\\\\\\\\\\\\\\\": 2, \\\\\\\\\\\\\\\"details\\\\\\\\\\\\\\\": {\\\\\\\\\\\\\\\"selectedColumn\\\\\\\\\\\\\\\": \\\\\\\\\\\\\\\"OsBuildLab\\\\\\\\\\\\\\\"}}, \\\\\\\\\\\\\\\"typeProperty\\\\\\\\\\\\\\\": 0}, {\\\\\\\\\\\\\\\"column\\\\\\\\\\\\\\\": {\\\\\\\\\\\\\\\"type\\\\\\\\\\\\\\\": 2, \\\\\\\\\\\\\\\"details\\\\\\\\\\\\\\\": {\\\\\\\\\\\\\\\"selectedColumn\\\\\\\\\\\\\\\": \\\\\\\\\\\\\\\"SkuEdition\\\\\\\\\\\\\\\"}}, \\\\\\\\\\\\\\\"typeProperty\\\\\\\\\\\\\\\": 0}, {\\\\\\\\\\\\\\\"column\\\\\\\\\\\\\\\": {\\\\\\\\\\\\\\\"type\\\\\\\\\\\\\\\": 2, \\\\\\\\\\\\\\\"details\\\\\\\\\\\\\\\": {\\\\\\\\\\\\\\\"selectedColumn\\\\\\\\\\\\\\\": \\\\\\\\\\\\\\\"IsProtected\\\\\\\\\\\\\\\"}}, \\\\\\\\\\\\\\\"typeProperty\\\\\\\\\\\\\\\": 2}, {\\\\\\\\\\\\\\\"column\\\\\\\\\\\\\\\": {\\\\\\\\\\\\\\\"type\\\\\\\\\\\\\\\": 2, \\\\\\\\\\\\\\\"details\\\\\\\\\\\\\\\": {\\\\\\\\\\\\\\\"selectedColumn\\\\\\\\\\\\\\\": \\\\\\\\\\\\\\\"AutoSampleOptIn\\\\\\\\\\\\\\\"}}, \\\\\\\\\\\\\\\"typeProperty\\\\\\\\\\\\\\\": 2}, {\\\\\\\\\\\\\\\"column\\\\\\\\\\\\\\\": {\\\\\\\\\\\\\\\"type\\\\\\\\\\\\\\\": 2, \\\\\\\\\\\\\\\"details\\\\\\\\\\\\\\\": {\\\\\\\\\\\\\\\"selectedColumn\\\\\\\\\\\\\\\": \\\\\\\\\\\\\\\"PuaMode\\\\\\\\\\\\\\\"}}, \\\\\\\\\\\\\\\"typeProperty\\\\\\\\\\\\\\\": 0}, {\\\\\\\\\\\\\\\"column\\\\\\\\\\\\\\\": {\\\\\\\\\\\\\\\"type\\\\\\\\\\\\\\\": 2, \\\\\\\\\\\\\\\"details\\\\\\\\\\\\\\\": {\\\\\\\\\\\\\\\"selectedColumn\\\\\\\\\\\\\\\": \\\\\\\\\\\\\\\"SMode\\\\\\\\\\\\\\\"}}, \\\\\\\\\\\\\\\"typeProperty\\\\\\\\\\\\\\\": 0}, {\\\\\\\\\\\\\\\"column\\\\\\\\\\\\\\\": {\\\\\\\\\\\\\\\"type\\\\\\\\\\\\\\\": 2, \\\\\\\\\\\\\\\"details\\\\\\\\\\\\\\\": {\\\\\\\\\\\\\\\"selectedColumn\\\\\\\\\\\\\\\": \\\\\\\\\\\\\\\"IeVerIdentifier\\\\\\\\\\\\\\\"}}, \\\\\\\\\\\\\\\"typeProperty\\\\\\\\\\\\\\\": 0}, {\\\\\\\\\\\\\\\"column\\\\\\\\\\\\\\\": {\\\\\\\\\\\\\\\"type\\\\\\\\\\\\\\\": 2, \\\\\\\\\\\\\\\"details\\\\\\\\\\\\\\\": {\\\\\\\\\\\\\\\"selectedColumn\\\\\\\\\\\\\\\": \\\\\\\\\\\\\\\"SmartScreen\\\\\\\\\\\\\\\"}}, \\\\\\\\\\\\\\\"typeProperty\\\\\\\\\\\\\\\": 0}, {\\\\\\\\\\\\\\\"column\\\\\\\\\\\\\\\": {\\\\\\\\\\\\\\\"type\\\\\\\\\\\\\\\": 2, \\\\\\\\\\\\\\\"details\\\\\\\\\\\\\\\": {\\\\\\\\\\\\\\\"selectedColumn\\\\\\\\\\\\\\\": \\\\\\\\\\\\\\\"Firewall\\\\\\\\\\\\\\\"}}, \\\\\\\\\\\\\\\"typeProperty\\\\\\\\\\\\\\\": 2}, {\\\\\\\\\\\\\\\"column\\\\\\\\\\\\\\\": {\\\\\\\\\\\\\\\"type\\\\\\\\\\\\\\\": 2, \\\\\\\\\\\\\\\"details\\\\\\\\\\\\\\\": {\\\\\\\\\\\\\\\"selectedColumn\\\\\\\\\\\\\\\": \\\\\\\\\\\\\\\"UacLuaenable\\\\\\\\\\\\\\\"}}, \\\\\\\\\\\\\\\"typeProperty\\\\\\\\\\\\\\\": 0}, {\\\\\\\\\\\\\\\"column\\\\\\\\\\\\\\\": {\\\\\\\\\\\\\\\"type\\\\\\\\\\\\\\\": 2, \\\\\\\\\\\\\\\"details\\\\\\\\\\\\\\\": {\\\\\\\\\\\\\\\"selectedColumn\\\\\\\\\\\\\\\": \\\\\\\\\\\\\\\"Census_MDC2FormFactor\\\\\\\\\\\\\\\"}}, \\\\\\\\\\\\\\\"typeProperty\\\\\\\\\\\\\\\": 0}, {\\\\\\\\\\\\\\\"column\\\\\\\\\\\\\\\": {\\\\\\\\\\\\\\\"type\\\\\\\\\\\\\\\": 2, \\\\\\\\\\\\\\\"details\\\\\\\\\\\\\\\": {\\\\\\\\\\\\\\\"selectedColumn\\\\\\\\\\\\\\\": \\\\\\\\\\\\\\\"Census_DeviceFamily\\\\\\\\\\\\\\\"}}, \\\\\\\\\\\\\\\"typeProperty\\\\\\\\\\\\\\\": 0}, {\\\\\\\\\\\\\\\"column\\\\\\\\\\\\\\\": {\\\\\\\\\\\\\\\"type\\\\\\\\\\\\\\\": 2, \\\\\\\\\\\\\\\"details\\\\\\\\\\\\\\\": {\\\\\\\\\\\\\\\"selectedColumn\\\\\\\\\\\\\\\": \\\\\\\\\\\\\\\"Census_OEMNameIdentifier\\\\\\\\\\\\\\\"}}, \\\\\\\\\\\\\\\"typeProperty\\\\\\\\\\\\\\\": 0}, {\\\\\\\\\\\\\\\"column\\\\\\\\\\\\\\\": {\\\\\\\\\\\\\\\"type\\\\\\\\\\\\\\\": 2, \\\\\\\\\\\\\\\"details\\\\\\\\\\\\\\\": {\\\\\\\\\\\\\\\"selectedColumn\\\\\\\\\\\\\\\": \\\\\\\\\\\\\\\"Census_OEMModelIdentifier\\\\\\\\\\\\\\\"}}, \\\\\\\\\\\\\\\"typeProperty\\\\\\\\\\\\\\\": 0}, {\\\\\\\\\\\\\\\"column\\\\\\\\\\\\\\\": {\\\\\\\\\\\\\\\"type\\\\\\\\\\\\\\\": 2, \\\\\\\\\\\\\\\"details\\\\\\\\\\\\\\\": {\\\\\\\\\\\\\\\"selectedColumn\\\\\\\\\\\\\\\": \\\\\\\\\\\\\\\"Census_ProcessorCoreCount\\\\\\\\\\\\\\\"}}, \\\\\\\\\\\\\\\"typeProperty\\\\\\\\\\\\\\\": 2}, {\\\\\\\\\\\\\\\"column\\\\\\\\\\\\\\\": {\\\\\\\\\\\\\\\"type\\\\\\\\\\\\\\\": 2, \\\\\\\\\\\\\\\"details\\\\\\\\\\\\\\\": {\\\\\\\\\\\\\\\"selectedColumn\\\\\\\\\\\\\\\": \\\\\\\\\\\\\\\"Census_ProcessorManufacturerIdentifier\\\\\\\\\\\\\\\"}}, \\\\\\\\\\\\\\\"typeProperty\\\\\\\\\\\\\\\": 2}, {\\\\\\\\\\\\\\\"column\\\\\\\\\\\\\\\": {\\\\\\\\\\\\\\\"type\\\\\\\\\\\\\\\": 2, \\\\\\\\\\\\\\\"details\\\\\\\\\\\\\\\": {\\\\\\\\\\\\\\\"selectedColumn\\\\\\\\\\\\\\\": \\\\\\\\\\\\\\\"Census_ProcessorModelIdentifier\\\\\\\\\\\\\\\"}}, \\\\\\\\\\\\\\\"typeProperty\\\\\\\\\\\\\\\": 2}, {\\\\\\\\\\\\\\\"column\\\\\\\\\\\\\\\": {\\\\\\\\\\\\\\\"type\\\\\\\\\\\\\\\": 2, \\\\\\\\\\\\\\\"details\\\\\\\\\\\\\\\": {\\\\\\\\\\\\\\\"selectedColumn\\\\\\\\\\\\\\\": \\\\\\\\\\\\\\\"Census_ProcessorClass\\\\\\\\\\\\\\\"}}, \\\\\\\\\\\\\\\"typeProperty\\\\\\\\\\\\\\\": 0}, {\\\\\\\\\\\\\\\"column\\\\\\\\\\\\\\\": {\\\\\\\\\\\\\\\"type\\\\\\\\\\\\\\\": 2, \\\\\\\\\\\\\\\"details\\\\\\\\\\\\\\\": {\\\\\\\\\\\\\\\"selectedColumn\\\\\\\\\\\\\\\": \\\\\\\\\\\\\\\"Census_PrimaryDiskTotalCapacity\\\\\\\\\\\\\\\"}}, \\\\\\\\\\\\\\\"typeProperty\\\\\\\\\\\\\\\": 2}, {\\\\\\\\\\\\\\\"column\\\\\\\\\\\\\\\": {\\\\\\\\\\\\\\\"type\\\\\\\\\\\\\\\": 2, \\\\\\\\\\\\\\\"details\\\\\\\\\\\\\\\": {\\\\\\\\\\\\\\\"selectedColumn\\\\\\\\\\\\\\\": \\\\\\\\\\\\\\\"Census_PrimaryDiskTypeName\\\\\\\\\\\\\\\"}}, \\\\\\\\\\\\\\\"typeProperty\\\\\\\\\\\\\\\": 0}, {\\\\\\\\\\\\\\\"column\\\\\\\\\\\\\\\": {\\\\\\\\\\\\\\\"type\\\\\\\\\\\\\\\": 2, \\\\\\\\\\\\\\\"details\\\\\\\\\\\\\\\": {\\\\\\\\\\\\\\\"selectedColumn\\\\\\\\\\\\\\\": \\\\\\\\\\\\\\\"Census_SystemVolumeTotalCapacity\\\\\\\\\\\\\\\"}}, \\\\\\\\\\\\\\\"typeProperty\\\\\\\\\\\\\\\": 2}, {\\\\\\\\\\\\\\\"column\\\\\\\\\\\\\\\": {\\\\\\\\\\\\\\\"type\\\\\\\\\\\\\\\": 2, \\\\\\\\\\\\\\\"details\\\\\\\\\\\\\\\": {\\\\\\\\\\\\\\\"selectedColumn\\\\\\\\\\\\\\\": \\\\\\\\\\\\\\\"Census_HasOpticalDiskDrive\\\\\\\\\\\\\\\"}}, \\\\\\\\\\\\\\\"typeProperty\\\\\\\\\\\\\\\": 2}, {\\\\\\\\\\\\\\\"column\\\\\\\\\\\\\\\": {\\\\\\\\\\\\\\\"type\\\\\\\\\\\\\\\": 2, \\\\\\\\\\\\\\\"details\\\\\\\\\\\\\\\": {\\\\\\\\\\\\\\\"selectedColumn\\\\\\\\\\\\\\\": \\\\\\\\\\\\\\\"Census_TotalPhysicalRAM\\\\\\\\\\\\\\\"}}, \\\\\\\\\\\\\\\"typeProperty\\\\\\\\\\\\\\\": 0}, {\\\\\\\\\\\\\\\"column\\\\\\\\\\\\\\\": {\\\\\\\\\\\\\\\"type\\\\\\\\\\\\\\\": 2, \\\\\\\\\\\\\\\"details\\\\\\\\\\\\\\\": {\\\\\\\\\\\\\\\"selectedColumn\\\\\\\\\\\\\\\": \\\\\\\\\\\\\\\"Census_ChassisTypeName\\\\\\\\\\\\\\\"}}, \\\\\\\\\\\\\\\"typeProperty\\\\\\\\\\\\\\\": 0}, {\\\\\\\\\\\\\\\"column\\\\\\\\\\\\\\\": {\\\\\\\\\\\\\\\"type\\\\\\\\\\\\\\\": 2, \\\\\\\\\\\\\\\"details\\\\\\\\\\\\\\\": {\\\\\\\\\\\\\\\"selectedColumn\\\\\\\\\\\\\\\": \\\\\\\\\\\\\\\"Census_InternalPrimaryDiagonalDisplaySizeInInches\\\\\\\\\\\\\\\"}}, \\\\\\\\\\\\\\\"typeProperty\\\\\\\\\\\\\\\": 0}, {\\\\\\\\\\\\\\\"column\\\\\\\\\\\\\\\": {\\\\\\\\\\\\\\\"type\\\\\\\\\\\\\\\": 2, \\\\\\\\\\\\\\\"details\\\\\\\\\\\\\\\": {\\\\\\\\\\\\\\\"selectedColumn\\\\\\\\\\\\\\\": \\\\\\\\\\\\\\\"Census_InternalPrimaryDisplayResolutionHorizontal\\\\\\\\\\\\\\\"}}, \\\\\\\\\\\\\\\"typeProperty\\\\\\\\\\\\\\\": 0}, {\\\\\\\\\\\\\\\"column\\\\\\\\\\\\\\\": {\\\\\\\\\\\\\\\"type\\\\\\\\\\\\\\\": 2, \\\\\\\\\\\\\\\"details\\\\\\\\\\\\\\\": {\\\\\\\\\\\\\\\"selectedColumn\\\\\\\\\\\\\\\": \\\\\\\\\\\\\\\"Census_InternalPrimaryDisplayResolutionVertical\\\\\\\\\\\\\\\"}}, \\\\\\\\\\\\\\\"typeProperty\\\\\\\\\\\\\\\": 0}, {\\\\\\\\\\\\\\\"column\\\\\\\\\\\\\\\": {\\\\\\\\\\\\\\\"type\\\\\\\\\\\\\\\": 2, \\\\\\\\\\\\\\\"details\\\\\\\\\\\\\\\": {\\\\\\\\\\\\\\\"selectedColumn\\\\\\\\\\\\\\\": \\\\\\\\\\\\\\\"Census_PowerPlatformRoleName\\\\\\\\\\\\\\\"}}, \\\\\\\\\\\\\\\"typeProperty\\\\\\\\\\\\\\\": 0}, {\\\\\\\\\\\\\\\"column\\\\\\\\\\\\\\\": {\\\\\\\\\\\\\\\"type\\\\\\\\\\\\\\\": 2, \\\\\\\\\\\\\\\"details\\\\\\\\\\\\\\\": {\\\\\\\\\\\\\\\"selectedColumn\\\\\\\\\\\\\\\": \\\\\\\\\\\\\\\"Census_InternalBatteryType\\\\\\\\\\\\\\\"}}, \\\\\\\\\\\\\\\"typeProperty\\\\\\\\\\\\\\\": 0}, {\\\\\\\\\\\\\\\"column\\\\\\\\\\\\\\\": {\\\\\\\\\\\\\\\"type\\\\\\\\\\\\\\\": 2, \\\\\\\\\\\\\\\"details\\\\\\\\\\\\\\\": {\\\\\\\\\\\\\\\"selectedColumn\\\\\\\\\\\\\\\": \\\\\\\\\\\\\\\"Census_InternalBatteryNumberOfCharges\\\\\\\\\\\\\\\"}}, \\\\\\\\\\\\\\\"typeProperty\\\\\\\\\\\\\\\": 0}, {\\\\\\\\\\\\\\\"column\\\\\\\\\\\\\\\": {\\\\\\\\\\\\\\\"type\\\\\\\\\\\\\\\": 2, \\\\\\\\\\\\\\\"details\\\\\\\\\\\\\\\": {\\\\\\\\\\\\\\\"selectedColumn\\\\\\\\\\\\\\\": \\\\\\\\\\\\\\\"Census_OSVersion\\\\\\\\\\\\\\\"}}, \\\\\\\\\\\\\\\"typeProperty\\\\\\\\\\\\\\\": 0}, {\\\\\\\\\\\\\\\"column\\\\\\\\\\\\\\\": {\\\\\\\\\\\\\\\"type\\\\\\\\\\\\\\\": 2, \\\\\\\\\\\\\\\"details\\\\\\\\\\\\\\\": {\\\\\\\\\\\\\\\"selectedColumn\\\\\\\\\\\\\\\": \\\\\\\\\\\\\\\"Census_OSArchitecture\\\\\\\\\\\\\\\"}}, \\\\\\\\\\\\\\\"typeProperty\\\\\\\\\\\\\\\": 0}, {\\\\\\\\\\\\\\\"column\\\\\\\\\\\\\\\": {\\\\\\\\\\\\\\\"type\\\\\\\\\\\\\\\": 2, \\\\\\\\\\\\\\\"details\\\\\\\\\\\\\\\": {\\\\\\\\\\\\\\\"selectedColumn\\\\\\\\\\\\\\\": \\\\\\\\\\\\\\\"Census_OSBranch\\\\\\\\\\\\\\\"}}, \\\\\\\\\\\\\\\"typeProperty\\\\\\\\\\\\\\\": 0}, {\\\\\\\\\\\\\\\"column\\\\\\\\\\\\\\\": {\\\\\\\\\\\\\\\"type\\\\\\\\\\\\\\\": 2, \\\\\\\\\\\\\\\"details\\\\\\\\\\\\\\\": {\\\\\\\\\\\\\\\"selectedColumn\\\\\\\\\\\\\\\": \\\\\\\\\\\\\\\"Census_OSBuildNumber\\\\\\\\\\\\\\\"}}, \\\\\\\\\\\\\\\"typeProperty\\\\\\\\\\\\\\\": 2}, {\\\\\\\\\\\\\\\"column\\\\\\\\\\\\\\\": {\\\\\\\\\\\\\\\"type\\\\\\\\\\\\\\\": 2, \\\\\\\\\\\\\\\"details\\\\\\\\\\\\\\\": {\\\\\\\\\\\\\\\"selectedColumn\\\\\\\\\\\\\\\": \\\\\\\\\\\\\\\"Census_OSBuildRevision\\\\\\\\\\\\\\\"}}, \\\\\\\\\\\\\\\"typeProperty\\\\\\\\\\\\\\\": 2}, {\\\\\\\\\\\\\\\"column\\\\\\\\\\\\\\\": {\\\\\\\\\\\\\\\"type\\\\\\\\\\\\\\\": 2, \\\\\\\\\\\\\\\"details\\\\\\\\\\\\\\\": {\\\\\\\\\\\\\\\"selectedColumn\\\\\\\\\\\\\\\": \\\\\\\\\\\\\\\"Census_OSEdition\\\\\\\\\\\\\\\"}}, \\\\\\\\\\\\\\\"typeProperty\\\\\\\\\\\\\\\": 0}, {\\\\\\\\\\\\\\\"column\\\\\\\\\\\\\\\": {\\\\\\\\\\\\\\\"type\\\\\\\\\\\\\\\": 2, \\\\\\\\\\\\\\\"details\\\\\\\\\\\\\\\": {\\\\\\\\\\\\\\\"selectedColumn\\\\\\\\\\\\\\\": \\\\\\\\\\\\\\\"Census_OSSkuName\\\\\\\\\\\\\\\"}}, \\\\\\\\\\\\\\\"typeProperty\\\\\\\\\\\\\\\": 0}, {\\\\\\\\\\\\\\\"column\\\\\\\\\\\\\\\": {\\\\\\\\\\\\\\\"type\\\\\\\\\\\\\\\": 2, \\\\\\\\\\\\\\\"details\\\\\\\\\\\\\\\": {\\\\\\\\\\\\\\\"selectedColumn\\\\\\\\\\\\\\\": \\\\\\\\\\\\\\\"Census_OSInstallTypeName\\\\\\\\\\\\\\\"}}, \\\\\\\\\\\\\\\"typeProperty\\\\\\\\\\\\\\\": 0}, {\\\\\\\\\\\\\\\"column\\\\\\\\\\\\\\\": {\\\\\\\\\\\\\\\"type\\\\\\\\\\\\\\\": 2, \\\\\\\\\\\\\\\"details\\\\\\\\\\\\\\\": {\\\\\\\\\\\\\\\"selectedColumn\\\\\\\\\\\\\\\": \\\\\\\\\\\\\\\"Census_OSInstallLanguageIdentifier\\\\\\\\\\\\\\\"}}, \\\\\\\\\\\\\\\"typeProperty\\\\\\\\\\\\\\\": 0}, {\\\\\\\\\\\\\\\"column\\\\\\\\\\\\\\\": {\\\\\\\\\\\\\\\"type\\\\\\\\\\\\\\\": 2, \\\\\\\\\\\\\\\"details\\\\\\\\\\\\\\\": {\\\\\\\\\\\\\\\"selectedColumn\\\\\\\\\\\\\\\": \\\\\\\\\\\\\\\"Census_OSUILocaleIdentifier\\\\\\\\\\\\\\\"}}, \\\\\\\\\\\\\\\"typeProperty\\\\\\\\\\\\\\\": 2}, {\\\\\\\\\\\\\\\"column\\\\\\\\\\\\\\\": {\\\\\\\\\\\\\\\"type\\\\\\\\\\\\\\\": 2, \\\\\\\\\\\\\\\"details\\\\\\\\\\\\\\\": {\\\\\\\\\\\\\\\"selectedColumn\\\\\\\\\\\\\\\": \\\\\\\\\\\\\\\"Census_OSWUAutoUpdateOptionsName\\\\\\\\\\\\\\\"}}, \\\\\\\\\\\\\\\"typeProperty\\\\\\\\\\\\\\\": 0}, {\\\\\\\\\\\\\\\"column\\\\\\\\\\\\\\\": {\\\\\\\\\\\\\\\"type\\\\\\\\\\\\\\\": 2, \\\\\\\\\\\\\\\"details\\\\\\\\\\\\\\\": {\\\\\\\\\\\\\\\"selectedColumn\\\\\\\\\\\\\\\": \\\\\\\\\\\\\\\"Census_IsPortableOperatingSystem\\\\\\\\\\\\\\\"}}, \\\\\\\\\\\\\\\"typeProperty\\\\\\\\\\\\\\\": 2}, {\\\\\\\\\\\\\\\"column\\\\\\\\\\\\\\\": {\\\\\\\\\\\\\\\"type\\\\\\\\\\\\\\\": 2, \\\\\\\\\\\\\\\"details\\\\\\\\\\\\\\\": {\\\\\\\\\\\\\\\"selectedColumn\\\\\\\\\\\\\\\": \\\\\\\\\\\\\\\"Census_GenuineStateName\\\\\\\\\\\\\\\"}}, \\\\\\\\\\\\\\\"typeProperty\\\\\\\\\\\\\\\": 0}, {\\\\\\\\\\\\\\\"column\\\\\\\\\\\\\\\": {\\\\\\\\\\\\\\\"type\\\\\\\\\\\\\\\": 2, \\\\\\\\\\\\\\\"details\\\\\\\\\\\\\\\": {\\\\\\\\\\\\\\\"selectedColumn\\\\\\\\\\\\\\\": \\\\\\\\\\\\\\\"Census_ActivationChannel\\\\\\\\\\\\\\\"}}, \\\\\\\\\\\\\\\"typeProperty\\\\\\\\\\\\\\\": 0}, {\\\\\\\\\\\\\\\"column\\\\\\\\\\\\\\\": {\\\\\\\\\\\\\\\"type\\\\\\\\\\\\\\\": 2, \\\\\\\\\\\\\\\"details\\\\\\\\\\\\\\\": {\\\\\\\\\\\\\\\"selectedColumn\\\\\\\\\\\\\\\": \\\\\\\\\\\\\\\"Census_IsFlightingInternal\\\\\\\\\\\\\\\"}}, \\\\\\\\\\\\\\\"typeProperty\\\\\\\\\\\\\\\": 0}, {\\\\\\\\\\\\\\\"column\\\\\\\\\\\\\\\": {\\\\\\\\\\\\\\\"type\\\\\\\\\\\\\\\": 2, \\\\\\\\\\\\\\\"details\\\\\\\\\\\\\\\": {\\\\\\\\\\\\\\\"selectedColumn\\\\\\\\\\\\\\\": \\\\\\\\\\\\\\\"Census_IsFlightsDisabled\\\\\\\\\\\\\\\"}}, \\\\\\\\\\\\\\\"typeProperty\\\\\\\\\\\\\\\": 0}, {\\\\\\\\\\\\\\\"column\\\\\\\\\\\\\\\": {\\\\\\\\\\\\\\\"type\\\\\\\\\\\\\\\": 2, \\\\\\\\\\\\\\\"details\\\\\\\\\\\\\\\": {\\\\\\\\\\\\\\\"selectedColumn\\\\\\\\\\\\\\\": \\\\\\\\\\\\\\\"Census_FlightRing\\\\\\\\\\\\\\\"}}, \\\\\\\\\\\\\\\"typeProperty\\\\\\\\\\\\\\\": 0}, {\\\\\\\\\\\\\\\"column\\\\\\\\\\\\\\\": {\\\\\\\\\\\\\\\"type\\\\\\\\\\\\\\\": 2, \\\\\\\\\\\\\\\"details\\\\\\\\\\\\\\\": {\\\\\\\\\\\\\\\"selectedColumn\\\\\\\\\\\\\\\": \\\\\\\\\\\\\\\"Census_ThresholdOptIn\\\\\\\\\\\\\\\"}}, \\\\\\\\\\\\\\\"typeProperty\\\\\\\\\\\\\\\": 0}, {\\\\\\\\\\\\\\\"column\\\\\\\\\\\\\\\": {\\\\\\\\\\\\\\\"type\\\\\\\\\\\\\\\": 2, \\\\\\\\\\\\\\\"details\\\\\\\\\\\\\\\": {\\\\\\\\\\\\\\\"selectedColumn\\\\\\\\\\\\\\\": \\\\\\\\\\\\\\\"Census_FirmwareManufacturerIdentifier\\\\\\\\\\\\\\\"}}, \\\\\\\\\\\\\\\"typeProperty\\\\\\\\\\\\\\\": 0}, {\\\\\\\\\\\\\\\"column\\\\\\\\\\\\\\\": {\\\\\\\\\\\\\\\"type\\\\\\\\\\\\\\\": 2, \\\\\\\\\\\\\\\"details\\\\\\\\\\\\\\\": {\\\\\\\\\\\\\\\"selectedColumn\\\\\\\\\\\\\\\": \\\\\\\\\\\\\\\"Census_FirmwareVersionIdentifier\\\\\\\\\\\\\\\"}}, \\\\\\\\\\\\\\\"typeProperty\\\\\\\\\\\\\\\": 0}, {\\\\\\\\\\\\\\\"column\\\\\\\\\\\\\\\": {\\\\\\\\\\\\\\\"type\\\\\\\\\\\\\\\": 2, \\\\\\\\\\\\\\\"details\\\\\\\\\\\\\\\": {\\\\\\\\\\\\\\\"selectedColumn\\\\\\\\\\\\\\\": \\\\\\\\\\\\\\\"Census_IsSecureBootEnabled\\\\\\\\\\\\\\\"}}, \\\\\\\\\\\\\\\"typeProperty\\\\\\\\\\\\\\\": 2}, {\\\\\\\\\\\\\\\"column\\\\\\\\\\\\\\\": {\\\\\\\\\\\\\\\"type\\\\\\\\\\\\\\\": 2, \\\\\\\\\\\\\\\"details\\\\\\\\\\\\\\\": {\\\\\\\\\\\\\\\"selectedColumn\\\\\\\\\\\\\\\": \\\\\\\\\\\\\\\"Census_IsWIMBootEnabled\\\\\\\\\\\\\\\"}}, \\\\\\\\\\\\\\\"typeProperty\\\\\\\\\\\\\\\": 0}, {\\\\\\\\\\\\\\\"column\\\\\\\\\\\\\\\": {\\\\\\\\\\\\\\\"type\\\\\\\\\\\\\\\": 2, \\\\\\\\\\\\\\\"details\\\\\\\\\\\\\\\": {\\\\\\\\\\\\\\\"selectedColumn\\\\\\\\\\\\\\\": \\\\\\\\\\\\\\\"Census_IsVirtualDevice\\\\\\\\\\\\\\\"}}, \\\\\\\\\\\\\\\"typeProperty\\\\\\\\\\\\\\\": 0}, {\\\\\\\\\\\\\\\"column\\\\\\\\\\\\\\\": {\\\\\\\\\\\\\\\"type\\\\\\\\\\\\\\\": 2, \\\\\\\\\\\\\\\"details\\\\\\\\\\\\\\\": {\\\\\\\\\\\\\\\"selectedColumn\\\\\\\\\\\\\\\": \\\\\\\\\\\\\\\"Census_IsTouchEnabled\\\\\\\\\\\\\\\"}}, \\\\\\\\\\\\\\\"typeProperty\\\\\\\\\\\\\\\": 2}, {\\\\\\\\\\\\\\\"column\\\\\\\\\\\\\\\": {\\\\\\\\\\\\\\\"type\\\\\\\\\\\\\\\": 2, \\\\\\\\\\\\\\\"details\\\\\\\\\\\\\\\": {\\\\\\\\\\\\\\\"selectedColumn\\\\\\\\\\\\\\\": \\\\\\\\\\\\\\\"Census_IsPenCapable\\\\\\\\\\\\\\\"}}, \\\\\\\\\\\\\\\"typeProperty\\\\\\\\\\\\\\\": 2}, {\\\\\\\\\\\\\\\"column\\\\\\\\\\\\\\\": {\\\\\\\\\\\\\\\"type\\\\\\\\\\\\\\\": 2, \\\\\\\\\\\\\\\"details\\\\\\\\\\\\\\\": {\\\\\\\\\\\\\\\"selectedColumn\\\\\\\\\\\\\\\": \\\\\\\\\\\\\\\"Census_IsAlwaysOnAlwaysConnectedCapable\\\\\\\\\\\\\\\"}}, \\\\\\\\\\\\\\\"typeProperty\\\\\\\\\\\\\\\": 2}, {\\\\\\\\\\\\\\\"column\\\\\\\\\\\\\\\": {\\\\\\\\\\\\\\\"type\\\\\\\\\\\\\\\": 2, \\\\\\\\\\\\\\\"details\\\\\\\\\\\\\\\": {\\\\\\\\\\\\\\\"selectedColumn\\\\\\\\\\\\\\\": \\\\\\\\\\\\\\\"Wdft_IsGamer\\\\\\\\\\\\\\\"}}, \\\\\\\\\\\\\\\"typeProperty\\\\\\\\\\\\\\\": 0}, {\\\\\\\\\\\\\\\"column\\\\\\\\\\\\\\\": {\\\\\\\\\\\\\\\"type\\\\\\\\\\\\\\\": 2, \\\\\\\\\\\\\\\"details\\\\\\\\\\\\\\\": {\\\\\\\\\\\\\\\"selectedColumn\\\\\\\\\\\\\\\": \\\\\\\\\\\\\\\"Wdft_RegionIdentifier\\\\\\\\\\\\\\\"}}, \\\\\\\\\\\\\\\"typeProperty\\\\\\\\\\\\\\\": 0}, {\\\\\\\\\\\\\\\"column\\\\\\\\\\\\\\\": {\\\\\\\\\\\\\\\"type\\\\\\\\\\\\\\\": 2, \\\\\\\\\\\\\\\"details\\\\\\\\\\\\\\\": {\\\\\\\\\\\\\\\"selectedColumn\\\\\\\\\\\\\\\": \\\\\\\\\\\\\\\"HasDetections\\\\\\\\\\\\\\\"}}, \\\\\\\\\\\\\\\"typeProperty\\\\\\\\\\\\\\\": 2}]}, \\\\\\\\\\\\\\\"localData\\\\\\\\\\\\\\\": {}, \\\\\\\\\\\\\\\"isEnabled\\\\\\\\\\\\\\\": true, \\\\\\\\\\\\\\\"name\\\\\\\\\\\\\\\": null, \\\\\\\\\\\\\\\"annotation\\\\\\\\\\\\\\\": null}], \\\\\\\\\\\\\\\"inspectors\\\\\\\\\\\\\\\": [], \\\\\\\\\\\\\\\"meta\\\\\\\\\\\\\\\": {\\\\\\\\\\\\\\\"savedDatasetId\\\\\\\\\\\\\\\": \\\\\\\\\\\\\\\"da188b62-2e59-4455-979a-1f550d341e46\\\\\\\\\\\\\\\", \\\\\\\\\\\\\\\"datasetType\\\\\\\\\\\\\\\": \\\\\\\\\\\\\\\"tabular\\\\\\\\\\\\\\\", \\\\\\\\\\\\\\\"subscriptionId\\\\\\\\\\\\\\\": \\\\\\\\\\\\\\\"610d6e37-4747-4a20-80eb-3aad70a55f43\\\\\\\\\\\\\\\", \\\\\\\\\\\\\\\"workspaceId\\\\\\\\\\\\\\\": \\\\\\\\\\\\\\\"c3d5fe77-879a-4028-b956-5b67ead59c84\\\\\\\\\\\\\\\", \\\\\\\\\\\\\\\"workspaceLocation\\\\\\\\\\\\\\\": \\\\\\\\\\\\\\\"southcentralus\\\\\\\\\\\\\\\"}}\\\\\\\", \\\\\\\"activities\\\\\\\": 0}\", \"EnableSubsampling\": null, \"runTemplate\": \"AutoML\", \"azureml.runsource\": \"automl\", \"display_task_type\": \"classification\", \"dependencies_versions\": \"{\\\"azureml-widgets\\\": \\\"1.19.0\\\", \\\"azureml-train\\\": \\\"1.19.0\\\", \\\"azureml-train-restclients-hyperdrive\\\": \\\"1.19.0\\\", \\\"azureml-train-core\\\": \\\"1.19.0\\\", \\\"azureml-train-automl\\\": \\\"1.19.0\\\", \\\"azureml-train-automl-runtime\\\": \\\"1.19.0\\\", \\\"azureml-train-automl-client\\\": \\\"1.19.0\\\", \\\"azureml-tensorboard\\\": \\\"1.19.0\\\", \\\"azureml-telemetry\\\": \\\"1.19.0\\\", \\\"azureml-sdk\\\": \\\"1.19.0\\\", \\\"azureml-samples\\\": \\\"0+unknown\\\", \\\"azureml-pipeline\\\": \\\"1.19.0\\\", \\\"azureml-pipeline-steps\\\": \\\"1.19.0\\\", \\\"azureml-pipeline-core\\\": \\\"1.19.0\\\", \\\"azureml-opendatasets\\\": \\\"1.19.0\\\", \\\"azureml-model-management-sdk\\\": \\\"1.0.1b6.post1\\\", \\\"azureml-mlflow\\\": \\\"1.19.0\\\", \\\"azureml-interpret\\\": \\\"1.19.0\\\", \\\"azureml-explain-model\\\": \\\"1.19.0\\\", \\\"azureml-defaults\\\": \\\"1.19.0\\\", \\\"azureml-dataset-runtime\\\": \\\"1.19.0\\\", \\\"azureml-dataprep\\\": \\\"2.6.1\\\", \\\"azureml-dataprep-rslex\\\": \\\"1.4.0\\\", \\\"azureml-dataprep-native\\\": \\\"26.0.0\\\", \\\"azureml-datadrift\\\": \\\"1.19.0\\\", \\\"azureml-core\\\": \\\"1.19.0\\\", \\\"azureml-contrib-services\\\": \\\"1.19.0\\\", \\\"azureml-contrib-server\\\": \\\"1.19.0\\\", \\\"azureml-contrib-reinforcementlearning\\\": \\\"1.19.0\\\", \\\"azureml-contrib-pipeline-steps\\\": \\\"1.19.0\\\", \\\"azureml-contrib-notebook\\\": \\\"1.19.0\\\", \\\"azureml-contrib-interpret\\\": \\\"1.19.0\\\", \\\"azureml-contrib-gbdt\\\": \\\"1.19.0\\\", \\\"azureml-contrib-fairness\\\": \\\"1.19.0\\\", \\\"azureml-contrib-dataset\\\": \\\"1.19.0\\\", \\\"azureml-cli-common\\\": \\\"1.19.0\\\", \\\"azureml-automl-runtime\\\": \\\"1.19.0\\\", \\\"azureml-automl-core\\\": \\\"1.19.0\\\", \\\"azureml-accel-models\\\": \\\"1.19.0\\\"}\", \"_aml_system_scenario_identification\": \"Remote.Parent\", \"ClientType\": \"SDK\", \"environment_cpu_name\": \"AzureML-AutoML\", \"environment_cpu_label\": \"prod\", \"environment_gpu_name\": \"AzureML-AutoML-GPU\", \"environment_gpu_label\": \"prod\", \"root_attribution\": \"automl\", \"attribution\": \"AutoML\", \"Orchestrator\": \"AutoML\", \"CancelUri\": \"https://southcentralus.experiments.azureml.net/jasmine/v1.0/subscriptions/610d6e37-4747-4a20-80eb-3aad70a55f43/resourceGroups/aml-quickstarts-133553/providers/Microsoft.MachineLearningServices/workspaces/quick-starts-ws-133553/experimentids/59b20a5b-0788-4ae2-8080-718329fd695d/cancel/AutoML_b41a0d8e-8a07-4e82-ac68-cae8152970b4\", \"ClientSdkVersion\": \"1.19.0\", \"snapshotId\": \"00000000-0000-0000-0000-000000000000\", \"SetupRunId\": \"AutoML_b41a0d8e-8a07-4e82-ac68-cae8152970b4_setup\", \"SetupRunContainerId\": \"dcid.AutoML_b41a0d8e-8a07-4e82-ac68-cae8152970b4_setup\", \"FeaturizationRunJsonPath\": \"featurizer_container.json\", \"FeaturizationRunId\": \"AutoML_b41a0d8e-8a07-4e82-ac68-cae8152970b4_featurize\", \"ProblemInfoJsonString\": \"{\\\"dataset_num_categorical\\\": 0, \\\"is_sparse\\\": true, \\\"subsampling\\\": false, \\\"dataset_classes\\\": 2, \\\"dataset_features\\\": 9066, \\\"dataset_samples\\\": 10000, \\\"single_frequency_class_detected\\\": false}\", \"ModelExplainRunId\": \"AutoML_b41a0d8e-8a07-4e82-ac68-cae8152970b4_ModelExplain\"}, \"tags\": {\"model_explain_run\": \"best_run\", \"_aml_system_azureml.automlComponent\": \"AutoML\", \"pipeline_id\": \"\", \"score\": \"\", \"predicted_cost\": \"\", \"fit_time\": \"\", \"training_percent\": \"\", \"iteration\": \"\", \"run_preprocessor\": \"\", \"run_algorithm\": \"\", \"dynamic_whitelisting_iterations\": \"<25>;<30>;<35>;\", \"automl_best_child_run_id\": \"AutoML_b41a0d8e-8a07-4e82-ac68-cae8152970b4_38\", \"model_explain_best_run_child_id\": \"AutoML_b41a0d8e-8a07-4e82-ac68-cae8152970b4_38\"}, \"end_time_utc\": \"2021-01-05T21:02:59.430578Z\", \"status\": \"Completed\", \"log_files\": {}, \"log_groups\": [], \"run_duration\": \"0:27:58\"}, \"child_runs\": [{\"run_id\": \"AutoML_b41a0d8e-8a07-4e82-ac68-cae8152970b4_0\", \"run_number\": 17, \"metric\": null, \"status\": \"Completed\", \"run_type\": \"azureml.scriptrun\", \"training_percent\": \"100\", \"start_time\": \"2021-01-05T20:44:08.984522Z\", \"end_time\": \"2021-01-05T20:44:58.241666Z\", \"created_time\": \"2021-01-05T20:41:50.318799Z\", \"created_time_dt\": \"2021-01-05T20:41:50.318799Z\", \"duration\": \"0:03:07\", \"iteration\": \"0\", \"goal\": \"accuracy_max\", \"run_name\": \"MaxAbsScaler, LightGBM\", \"run_properties\": \"copy=True\", \"primary_metric\": 0.6178, \"best_metric\": 0.6178}, {\"run_id\": \"AutoML_b41a0d8e-8a07-4e82-ac68-cae8152970b4_4\", \"run_number\": 18, \"metric\": null, \"status\": \"Completed\", \"run_type\": \"azureml.scriptrun\", \"training_percent\": \"100\", \"start_time\": \"2021-01-05T20:45:03.114128Z\", \"end_time\": \"2021-01-05T20:46:02.854989Z\", \"created_time\": \"2021-01-05T20:41:50.340284Z\", \"created_time_dt\": \"2021-01-05T20:41:50.340284Z\", \"duration\": \"0:04:12\", \"iteration\": \"4\", \"goal\": \"accuracy_max\", \"run_name\": \"MaxAbsScaler, RandomForest\", \"run_properties\": \"copy=True\", \"primary_metric\": 0.5314, \"best_metric\": 0.624}, {\"run_id\": \"AutoML_b41a0d8e-8a07-4e82-ac68-cae8152970b4_2\", \"run_number\": 19, \"metric\": null, \"status\": \"Completed\", \"run_type\": \"azureml.scriptrun\", \"training_percent\": \"100\", \"start_time\": \"2021-01-05T20:42:01.639477Z\", \"end_time\": \"2021-01-05T20:42:51.991732Z\", \"created_time\": \"2021-01-05T20:41:50.339738Z\", \"created_time_dt\": \"2021-01-05T20:41:50.339738Z\", \"duration\": \"0:01:01\", \"iteration\": \"2\", \"goal\": \"accuracy_max\", \"run_name\": \"MaxAbsScaler, RandomForest\", \"run_properties\": \"copy=True\", \"primary_metric\": 0.5819, \"best_metric\": 0.624}, {\"run_id\": \"AutoML_b41a0d8e-8a07-4e82-ac68-cae8152970b4_3\", \"run_number\": 20, \"metric\": null, \"status\": \"Completed\", \"run_type\": \"azureml.scriptrun\", \"training_percent\": \"100\", \"start_time\": \"2021-01-05T20:45:57.53129Z\", \"end_time\": \"2021-01-05T20:49:21.437741Z\", \"created_time\": \"2021-01-05T20:41:50.339891Z\", \"created_time_dt\": \"2021-01-05T20:41:50.339891Z\", \"duration\": \"0:07:31\", \"iteration\": \"3\", \"goal\": \"accuracy_max\", \"run_name\": \"MaxAbsScaler, RandomForest\", \"run_properties\": \"copy=True\", \"primary_metric\": 0.5545, \"best_metric\": 0.624}, {\"run_id\": \"AutoML_b41a0d8e-8a07-4e82-ac68-cae8152970b4_1\", \"run_number\": 21, \"metric\": null, \"status\": \"Completed\", \"run_type\": \"azureml.scriptrun\", \"training_percent\": \"100\", \"start_time\": \"2021-01-05T20:42:55.566539Z\", \"end_time\": \"2021-01-05T20:44:03.27392Z\", \"created_time\": \"2021-01-05T20:41:50.339844Z\", \"created_time_dt\": \"2021-01-05T20:41:50.339844Z\", \"duration\": \"0:02:12\", \"iteration\": \"1\", \"goal\": \"accuracy_max\", \"run_name\": \"MaxAbsScaler, XGBoostClassifier\", \"run_properties\": \"copy=True\", \"primary_metric\": 0.624, \"best_metric\": 0.624}, {\"run_id\": \"AutoML_b41a0d8e-8a07-4e82-ac68-cae8152970b4_5\", \"run_number\": 22, \"metric\": null, \"status\": \"Completed\", \"run_type\": \"azureml.scriptrun\", \"training_percent\": \"100\", \"start_time\": \"2021-01-05T20:45:54.12023Z\", \"end_time\": \"2021-01-05T20:49:11.94426Z\", \"created_time\": \"2021-01-05T20:42:55.376959Z\", \"created_time_dt\": \"2021-01-05T20:42:55.376959Z\", \"duration\": \"0:06:16\", \"iteration\": \"5\", \"goal\": \"accuracy_max\", \"run_name\": \"MaxAbsScaler, RandomForest\", \"run_properties\": \"copy=True\", \"primary_metric\": 0.5739, \"best_metric\": 0.624}, {\"run_id\": \"AutoML_b41a0d8e-8a07-4e82-ac68-cae8152970b4_6\", \"run_number\": 23, \"metric\": null, \"status\": \"Completed\", \"run_type\": \"azureml.scriptrun\", \"training_percent\": \"100\", \"start_time\": \"2021-01-05T20:45:56.398979Z\", \"end_time\": \"2021-01-05T20:49:30.61114Z\", \"created_time\": \"2021-01-05T20:44:06.788146Z\", \"created_time_dt\": \"2021-01-05T20:44:06.788146Z\", \"duration\": \"0:05:23\", \"iteration\": \"6\", \"goal\": \"accuracy_max\", \"run_name\": \"StandardScalerWrapper, LightGBM\", \"run_properties\": \"<azureml.automl.runtime.shared.model_wrappers.StandardScalerWrapper object at 0x7fd4f09be2b0\", \"primary_metric\": 0.6272, \"best_metric\": 0.6272}, {\"run_id\": \"AutoML_b41a0d8e-8a07-4e82-ac68-cae8152970b4_7\", \"run_number\": 24, \"metric\": null, \"status\": \"Completed\", \"run_type\": \"azureml.scriptrun\", \"training_percent\": \"100\", \"start_time\": \"2021-01-05T20:46:03.900078Z\", \"end_time\": \"2021-01-05T20:47:01.741312Z\", \"created_time\": \"2021-01-05T20:45:01.269961Z\", \"created_time_dt\": \"2021-01-05T20:45:01.269961Z\", \"duration\": \"0:02:00\", \"iteration\": \"7\", \"goal\": \"accuracy_max\", \"run_name\": \"StandardScalerWrapper, XGBoostClassifier\", \"run_properties\": \"<azureml.automl.runtime.shared.model_wrappers.StandardScalerWrapper object at 0x7fab0c3a6080\", \"primary_metric\": 0.6094, \"best_metric\": 0.6272}, {\"run_id\": \"AutoML_b41a0d8e-8a07-4e82-ac68-cae8152970b4_8\", \"run_number\": 25, \"metric\": null, \"status\": \"Completed\", \"run_type\": \"azureml.scriptrun\", \"training_percent\": \"100\", \"start_time\": \"2021-01-05T20:47:03.336636Z\", \"end_time\": \"2021-01-05T20:48:41.797012Z\", \"created_time\": \"2021-01-05T20:46:05.685289Z\", \"created_time_dt\": \"2021-01-05T20:46:05.685289Z\", \"duration\": \"0:02:36\", \"iteration\": \"8\", \"goal\": \"accuracy_max\", \"run_name\": \"SparseNormalizer, XGBoostClassifier\", \"run_properties\": \"<azureml.automl.runtime.shared.model_wrappers.SparseNormalizer object at 0x7fd0724549b0\", \"primary_metric\": 0.6126, \"best_metric\": 0.6272}, {\"run_id\": \"AutoML_b41a0d8e-8a07-4e82-ac68-cae8152970b4_9\", \"run_number\": 26, \"metric\": null, \"status\": \"Completed\", \"run_type\": \"azureml.scriptrun\", \"training_percent\": \"100\", \"start_time\": \"2021-01-05T20:48:44.26184Z\", \"end_time\": \"2021-01-05T20:54:04.407311Z\", \"created_time\": \"2021-01-05T20:47:04.126001Z\", \"created_time_dt\": \"2021-01-05T20:47:04.126001Z\", \"duration\": \"0:07:00\", \"iteration\": \"9\", \"goal\": \"accuracy_max\", \"run_name\": \"MaxAbsScaler, LogisticRegression\", \"run_properties\": \"copy=True\", \"primary_metric\": 0.5819, \"best_metric\": 0.6272}, {\"run_id\": \"AutoML_b41a0d8e-8a07-4e82-ac68-cae8152970b4_10\", \"run_number\": 27, \"metric\": null, \"status\": \"Completed\", \"run_type\": \"azureml.scriptrun\", \"training_percent\": \"100\", \"start_time\": \"2021-01-05T20:49:15.777054Z\", \"end_time\": \"2021-01-05T20:50:26.280465Z\", \"created_time\": \"2021-01-05T20:48:45.777952Z\", \"created_time_dt\": \"2021-01-05T20:48:45.777952Z\", \"duration\": \"0:01:40\", \"iteration\": \"10\", \"goal\": \"accuracy_max\", \"run_name\": \"StandardScalerWrapper, RandomForest\", \"run_properties\": \"<azureml.automl.runtime.shared.model_wrappers.StandardScalerWrapper object at 0x7f1584399a90\", \"primary_metric\": 0.614, \"best_metric\": 0.6272}, {\"run_id\": \"AutoML_b41a0d8e-8a07-4e82-ac68-cae8152970b4_11\", \"run_number\": 28, \"metric\": null, \"status\": \"Completed\", \"run_type\": \"azureml.scriptrun\", \"training_percent\": \"100\", \"start_time\": \"2021-01-05T20:49:27.71679Z\", \"end_time\": \"2021-01-05T20:50:26.923308Z\", \"created_time\": \"2021-01-05T20:49:15.618018Z\", \"created_time_dt\": \"2021-01-05T20:49:15.618018Z\", \"duration\": \"0:01:11\", \"iteration\": \"11\", \"goal\": \"accuracy_max\", \"run_name\": \"MaxAbsScaler, RandomForest\", \"run_properties\": \"copy=True\", \"primary_metric\": 0.6062, \"best_metric\": 0.6272}, {\"run_id\": \"AutoML_b41a0d8e-8a07-4e82-ac68-cae8152970b4_12\", \"run_number\": 29, \"metric\": null, \"status\": \"Completed\", \"run_type\": \"azureml.scriptrun\", \"training_percent\": \"100\", \"start_time\": \"2021-01-05T20:49:35.121811Z\", \"end_time\": \"2021-01-05T20:50:19.708627Z\", \"created_time\": \"2021-01-05T20:49:23.952343Z\", \"created_time_dt\": \"2021-01-05T20:49:23.952343Z\", \"duration\": \"0:00:55\", \"iteration\": \"12\", \"goal\": \"accuracy_max\", \"run_name\": \"SparseNormalizer, XGBoostClassifier\", \"run_properties\": \"<azureml.automl.runtime.shared.model_wrappers.SparseNormalizer object at 0x7ff776bba5c0\", \"primary_metric\": 0.5958, \"best_metric\": 0.6272}, {\"run_id\": \"AutoML_b41a0d8e-8a07-4e82-ac68-cae8152970b4_13\", \"run_number\": 30, \"metric\": null, \"status\": \"Completed\", \"run_type\": \"azureml.scriptrun\", \"training_percent\": \"100\", \"start_time\": \"2021-01-05T20:50:24.254863Z\", \"end_time\": \"2021-01-05T20:51:21.266755Z\", \"created_time\": \"2021-01-05T20:49:33.61761Z\", \"created_time_dt\": \"2021-01-05T20:49:33.61761Z\", \"duration\": \"0:01:47\", \"iteration\": \"13\", \"goal\": \"accuracy_max\", \"run_name\": \"MaxAbsScaler, LightGBM\", \"run_properties\": \"copy=True\", \"primary_metric\": 0.6178, \"best_metric\": 0.6272}, {\"run_id\": \"AutoML_b41a0d8e-8a07-4e82-ac68-cae8152970b4_14\", \"run_number\": 31, \"metric\": null, \"status\": \"Completed\", \"run_type\": \"azureml.scriptrun\", \"training_percent\": \"100\", \"start_time\": \"2021-01-05T20:50:34.436554Z\", \"end_time\": \"2021-01-05T20:52:25.535941Z\", \"created_time\": \"2021-01-05T20:50:22.349789Z\", \"created_time_dt\": \"2021-01-05T20:50:22.349789Z\", \"duration\": \"0:02:03\", \"iteration\": \"14\", \"goal\": \"accuracy_max\", \"run_name\": \"MaxAbsScaler, RandomForest\", \"run_properties\": \"copy=True\", \"primary_metric\": 0.611, \"best_metric\": 0.6272}, {\"run_id\": \"AutoML_b41a0d8e-8a07-4e82-ac68-cae8152970b4_15\", \"run_number\": 32, \"metric\": null, \"status\": \"Completed\", \"run_type\": \"azureml.scriptrun\", \"training_percent\": \"100\", \"start_time\": \"2021-01-05T20:50:42.044896Z\", \"end_time\": \"2021-01-05T20:52:02.688743Z\", \"created_time\": \"2021-01-05T20:50:29.081437Z\", \"created_time_dt\": \"2021-01-05T20:50:29.081437Z\", \"duration\": \"0:01:33\", \"iteration\": \"15\", \"goal\": \"accuracy_max\", \"run_name\": \"MaxAbsScaler, ExtremeRandomTrees\", \"run_properties\": \"copy=True\", \"primary_metric\": 0.6084, \"best_metric\": 0.6272}, {\"run_id\": \"AutoML_b41a0d8e-8a07-4e82-ac68-cae8152970b4_16\", \"run_number\": 33, \"metric\": null, \"status\": \"Completed\", \"run_type\": \"azureml.scriptrun\", \"training_percent\": \"100\", \"start_time\": \"2021-01-05T20:51:23.467629Z\", \"end_time\": \"2021-01-05T20:53:00.177753Z\", \"created_time\": \"2021-01-05T20:50:34.815276Z\", \"created_time_dt\": \"2021-01-05T20:50:34.815276Z\", \"duration\": \"0:02:25\", \"iteration\": \"16\", \"goal\": \"accuracy_max\", \"run_name\": \"SparseNormalizer, XGBoostClassifier\", \"run_properties\": \"<azureml.automl.runtime.shared.model_wrappers.SparseNormalizer object at 0x7ffafd911f98\", \"primary_metric\": 0.6146, \"best_metric\": 0.6272}, {\"run_id\": \"AutoML_b41a0d8e-8a07-4e82-ac68-cae8152970b4_17\", \"run_number\": 34, \"metric\": null, \"status\": \"Completed\", \"run_type\": \"azureml.scriptrun\", \"training_percent\": \"100\", \"start_time\": \"2021-01-05T20:52:04.908208Z\", \"end_time\": \"2021-01-05T20:52:56.472067Z\", \"created_time\": \"2021-01-05T20:51:25.169507Z\", \"created_time_dt\": \"2021-01-05T20:51:25.169507Z\", \"duration\": \"0:01:31\", \"iteration\": \"17\", \"goal\": \"accuracy_max\", \"run_name\": \"MaxAbsScaler, LightGBM\", \"run_properties\": \"copy=True\", \"primary_metric\": 0.6163, \"best_metric\": 0.6272}, {\"run_id\": \"AutoML_b41a0d8e-8a07-4e82-ac68-cae8152970b4_18\", \"run_number\": 35, \"metric\": null, \"status\": \"Completed\", \"run_type\": \"azureml.scriptrun\", \"training_percent\": \"100\", \"start_time\": \"2021-01-05T20:52:25.646738Z\", \"end_time\": \"2021-01-05T20:53:25.498405Z\", \"created_time\": \"2021-01-05T20:52:05.526758Z\", \"created_time_dt\": \"2021-01-05T20:52:05.526758Z\", \"duration\": \"0:01:19\", \"iteration\": \"18\", \"goal\": \"accuracy_max\", \"run_name\": \"StandardScalerWrapper, LightGBM\", \"run_properties\": \"<azureml.automl.runtime.shared.model_wrappers.StandardScalerWrapper object at 0x7fc324d3eeb8\", \"primary_metric\": 0.6078, \"best_metric\": 0.6272}, {\"run_id\": \"AutoML_b41a0d8e-8a07-4e82-ac68-cae8152970b4_19\", \"run_number\": 36, \"metric\": null, \"status\": \"Completed\", \"run_type\": \"azureml.scriptrun\", \"training_percent\": \"100\", \"start_time\": \"2021-01-05T20:52:59.197408Z\", \"end_time\": \"2021-01-05T20:54:13.659943Z\", \"created_time\": \"2021-01-05T20:52:28.17182Z\", \"created_time_dt\": \"2021-01-05T20:52:28.17182Z\", \"duration\": \"0:01:45\", \"iteration\": \"19\", \"goal\": \"accuracy_max\", \"run_name\": \"SparseNormalizer, XGBoostClassifier\", \"run_properties\": \"<azureml.automl.runtime.shared.model_wrappers.SparseNormalizer object at 0x7f754ed23d30\", \"primary_metric\": 0.6165, \"best_metric\": 0.6272}, {\"run_id\": \"AutoML_b41a0d8e-8a07-4e82-ac68-cae8152970b4_20\", \"run_number\": 37, \"metric\": null, \"status\": \"Completed\", \"run_type\": \"azureml.scriptrun\", \"training_percent\": \"100\", \"start_time\": \"2021-01-05T20:53:11.782768Z\", \"end_time\": \"2021-01-05T20:54:08.116239Z\", \"created_time\": \"2021-01-05T20:52:59.371318Z\", \"created_time_dt\": \"2021-01-05T20:52:59.371318Z\", \"duration\": \"0:01:08\", \"iteration\": \"20\", \"goal\": \"accuracy_max\", \"run_name\": \"SparseNormalizer, LightGBM\", \"run_properties\": \"<azureml.automl.runtime.shared.model_wrappers.SparseNormalizer object at 0x7f8f1f56a470\", \"primary_metric\": 0.6197, \"best_metric\": 0.6272}, {\"run_id\": \"AutoML_b41a0d8e-8a07-4e82-ac68-cae8152970b4_21\", \"run_number\": 38, \"metric\": null, \"status\": \"Canceled\", \"run_type\": \"azureml.scriptrun\", \"training_percent\": \"100\", \"start_time\": \"2021-01-05T20:53:27.368797Z\", \"end_time\": \"2021-01-05T21:00:42.476231Z\", \"created_time\": \"2021-01-05T20:53:05.666587Z\", \"created_time_dt\": \"2021-01-05T20:53:05.666587Z\", \"duration\": \"0:07:36\", \"iteration\": \"21\", \"goal\": null, \"run_name\": \"MaxAbsScaler, LogisticRegression\", \"run_properties\": null}, {\"run_id\": \"AutoML_b41a0d8e-8a07-4e82-ac68-cae8152970b4_22\", \"run_number\": 39, \"metric\": null, \"status\": \"Completed\", \"run_type\": \"azureml.scriptrun\", \"training_percent\": \"100\", \"start_time\": \"2021-01-05T20:54:06.839432Z\", \"end_time\": \"2021-01-05T20:56:11.843285Z\", \"created_time\": \"2021-01-05T20:53:28.68206Z\", \"created_time_dt\": \"2021-01-05T20:53:28.68206Z\", \"duration\": \"0:02:43\", \"iteration\": \"22\", \"goal\": \"accuracy_max\", \"run_name\": \"TruncatedSVDWrapper, XGBoostClassifier\", \"run_properties\": \"n_components=0.3068421052631579, random_state=None\", \"primary_metric\": 0.6002, \"best_metric\": 0.6272}, {\"run_id\": \"AutoML_b41a0d8e-8a07-4e82-ac68-cae8152970b4_23\", \"run_number\": 40, \"metric\": null, \"status\": \"Completed\", \"run_type\": \"azureml.scriptrun\", \"training_percent\": \"100\", \"start_time\": \"2021-01-05T20:54:20.819559Z\", \"end_time\": \"2021-01-05T20:55:12.692795Z\", \"created_time\": \"2021-01-05T20:54:07.203769Z\", \"created_time_dt\": \"2021-01-05T20:54:07.203769Z\", \"duration\": \"0:01:05\", \"iteration\": \"23\", \"goal\": \"accuracy_max\", \"run_name\": \"MaxAbsScaler, LightGBM\", \"run_properties\": \"copy=True\", \"primary_metric\": 0.6085, \"best_metric\": 0.6272}, {\"run_id\": \"AutoML_b41a0d8e-8a07-4e82-ac68-cae8152970b4_24\", \"run_number\": 41, \"metric\": null, \"status\": \"Completed\", \"run_type\": \"azureml.scriptrun\", \"training_percent\": \"100\", \"start_time\": \"2021-01-05T20:54:24.339128Z\", \"end_time\": \"2021-01-05T20:55:11.72974Z\", \"created_time\": \"2021-01-05T20:54:13.259131Z\", \"created_time_dt\": \"2021-01-05T20:54:13.259131Z\", \"duration\": \"0:00:58\", \"iteration\": \"24\", \"goal\": \"accuracy_max\", \"run_name\": \"MaxAbsScaler, LightGBM\", \"run_properties\": \"copy=True\", \"primary_metric\": 0.6187, \"best_metric\": 0.6272}, {\"run_id\": \"AutoML_b41a0d8e-8a07-4e82-ac68-cae8152970b4_25\", \"run_number\": 42, \"metric\": null, \"status\": \"Completed\", \"run_type\": \"azureml.scriptrun\", \"training_percent\": \"100\", \"start_time\": \"2021-01-05T20:55:13.217659Z\", \"end_time\": \"2021-01-05T20:56:03.813622Z\", \"created_time\": \"2021-01-05T20:54:20.327718Z\", \"created_time_dt\": \"2021-01-05T20:54:20.327718Z\", \"duration\": \"0:01:43\", \"iteration\": \"25\", \"goal\": \"accuracy_max\", \"run_name\": \"StandardScalerWrapper, LightGBM\", \"run_properties\": \"<azureml.automl.runtime.shared.model_wrappers.StandardScalerWrapper object at 0x7f22b1594278\", \"primary_metric\": 0.5306, \"best_metric\": 0.6272}, {\"run_id\": \"AutoML_b41a0d8e-8a07-4e82-ac68-cae8152970b4_26\", \"run_number\": 43, \"metric\": null, \"status\": \"Completed\", \"run_type\": \"azureml.scriptrun\", \"training_percent\": \"100\", \"start_time\": \"2021-01-05T20:55:27.117919Z\", \"end_time\": \"2021-01-05T20:59:37.568455Z\", \"created_time\": \"2021-01-05T20:55:14.4543Z\", \"created_time_dt\": \"2021-01-05T20:55:14.4543Z\", \"duration\": \"0:04:23\", \"iteration\": \"26\", \"goal\": \"accuracy_max\", \"run_name\": \"MaxAbsScaler, ExtremeRandomTrees\", \"run_properties\": \"copy=True\", \"primary_metric\": 0.6123, \"best_metric\": 0.6272}, {\"run_id\": \"AutoML_b41a0d8e-8a07-4e82-ac68-cae8152970b4_27\", \"run_number\": 44, \"metric\": null, \"status\": \"Completed\", \"run_type\": \"azureml.scriptrun\", \"training_percent\": \"100\", \"start_time\": \"2021-01-05T20:56:06.002435Z\", \"end_time\": \"2021-01-05T20:57:05.802244Z\", \"created_time\": \"2021-01-05T20:55:21.079381Z\", \"created_time_dt\": \"2021-01-05T20:55:21.079381Z\", \"duration\": \"0:01:44\", \"iteration\": \"27\", \"goal\": \"accuracy_max\", \"run_name\": \"MaxAbsScaler, ExtremeRandomTrees\", \"run_properties\": \"copy=True\", \"primary_metric\": 0.615, \"best_metric\": 0.6272}, {\"run_id\": \"AutoML_b41a0d8e-8a07-4e82-ac68-cae8152970b4_28\", \"run_number\": 45, \"metric\": null, \"status\": \"Completed\", \"run_type\": \"azureml.scriptrun\", \"training_percent\": \"100\", \"start_time\": \"2021-01-05T20:56:19.399283Z\", \"end_time\": \"2021-01-05T20:57:07.875628Z\", \"created_time\": \"2021-01-05T20:56:06.853317Z\", \"created_time_dt\": \"2021-01-05T20:56:06.853317Z\", \"duration\": \"0:01:01\", \"iteration\": \"28\", \"goal\": \"accuracy_max\", \"run_name\": \"StandardScalerWrapper, LightGBM\", \"run_properties\": \"<azureml.automl.runtime.shared.model_wrappers.StandardScalerWrapper object at 0x7fed5fad8a58\", \"primary_metric\": 0.61, \"best_metric\": 0.6272}, {\"run_id\": \"AutoML_b41a0d8e-8a07-4e82-ac68-cae8152970b4_29\", \"run_number\": 46, \"metric\": null, \"status\": \"Completed\", \"run_type\": \"azureml.scriptrun\", \"training_percent\": \"100\", \"start_time\": \"2021-01-05T20:57:09.883977Z\", \"end_time\": \"2021-01-05T20:58:36.614808Z\", \"created_time\": \"2021-01-05T20:56:14.449436Z\", \"created_time_dt\": \"2021-01-05T20:56:14.449436Z\", \"duration\": \"0:02:22\", \"iteration\": \"29\", \"goal\": \"accuracy_max\", \"run_name\": \"SparseNormalizer, XGBoostClassifier\", \"run_properties\": \"<azureml.automl.runtime.shared.model_wrappers.SparseNormalizer object at 0x7fc239b611d0\", \"primary_metric\": 0.6088, \"best_metric\": 0.6272}, {\"run_id\": \"AutoML_b41a0d8e-8a07-4e82-ac68-cae8152970b4_30\", \"run_number\": 47, \"metric\": null, \"status\": \"Completed\", \"run_type\": \"azureml.scriptrun\", \"training_percent\": \"100\", \"start_time\": \"2021-01-05T20:57:29.162948Z\", \"end_time\": \"2021-01-05T20:58:19.985435Z\", \"created_time\": \"2021-01-05T20:57:10.569365Z\", \"created_time_dt\": \"2021-01-05T20:57:10.569365Z\", \"duration\": \"0:01:09\", \"iteration\": \"30\", \"goal\": \"accuracy_max\", \"run_name\": \"MaxAbsScaler, LightGBM\", \"run_properties\": \"copy=True\", \"primary_metric\": 0.6069, \"best_metric\": 0.6272}, {\"run_id\": \"AutoML_b41a0d8e-8a07-4e82-ac68-cae8152970b4_31\", \"run_number\": 48, \"metric\": null, \"status\": \"Completed\", \"run_type\": \"azureml.scriptrun\", \"training_percent\": \"100\", \"start_time\": \"2021-01-05T20:58:23.330746Z\", \"end_time\": \"2021-01-05T20:59:30.313115Z\", \"created_time\": \"2021-01-05T20:57:22.52578Z\", \"created_time_dt\": \"2021-01-05T20:57:22.52578Z\", \"duration\": \"0:02:07\", \"iteration\": \"31\", \"goal\": \"accuracy_max\", \"run_name\": \"MaxAbsScaler, ExtremeRandomTrees\", \"run_properties\": \"copy=True\", \"primary_metric\": 0.5878, \"best_metric\": 0.6272}, {\"run_id\": \"AutoML_b41a0d8e-8a07-4e82-ac68-cae8152970b4_32\", \"run_number\": 49, \"metric\": null, \"status\": \"Completed\", \"run_type\": \"azureml.scriptrun\", \"training_percent\": \"100\", \"start_time\": \"2021-01-05T20:58:36.390569Z\", \"end_time\": \"2021-01-05T20:59:24.936058Z\", \"created_time\": \"2021-01-05T20:58:22.660282Z\", \"created_time_dt\": \"2021-01-05T20:58:22.660282Z\", \"duration\": \"0:01:02\", \"iteration\": \"32\", \"goal\": \"accuracy_max\", \"run_name\": \"MaxAbsScaler, LightGBM\", \"run_properties\": \"copy=True\", \"primary_metric\": 0.6113, \"best_metric\": 0.6272}, {\"run_id\": \"AutoML_b41a0d8e-8a07-4e82-ac68-cae8152970b4_33\", \"run_number\": 50, \"metric\": null, \"status\": \"Completed\", \"run_type\": \"azureml.scriptrun\", \"training_percent\": \"100\", \"start_time\": \"2021-01-05T20:59:29.410246Z\", \"end_time\": \"2021-01-05T21:00:23.195889Z\", \"created_time\": \"2021-01-05T20:58:39.31852Z\", \"created_time_dt\": \"2021-01-05T20:58:39.31852Z\", \"duration\": \"0:01:43\", \"iteration\": \"33\", \"goal\": \"accuracy_max\", \"run_name\": \"StandardScalerWrapper, LightGBM\", \"run_properties\": \"<azureml.automl.runtime.shared.model_wrappers.StandardScalerWrapper object at 0x7f6fd8ee8eb8\", \"primary_metric\": 0.6174, \"best_metric\": 0.6272}, {\"run_id\": \"AutoML_b41a0d8e-8a07-4e82-ac68-cae8152970b4_34\", \"run_number\": 51, \"metric\": null, \"status\": \"Canceled\", \"run_type\": \"azureml.scriptrun\", \"training_percent\": \"100\", \"start_time\": \"2021-01-05T20:59:42.02488Z\", \"end_time\": \"2021-01-05T21:00:38.977818Z\", \"created_time\": \"2021-01-05T20:59:27.900623Z\", \"created_time_dt\": \"2021-01-05T20:59:27.900623Z\", \"duration\": \"0:01:11\", \"iteration\": \"34\", \"goal\": \"accuracy_max\", \"run_name\": \"MaxAbsScaler, RandomForest\", \"run_properties\": \"copy=True\", \"primary_metric\": 0.5841, \"best_metric\": 0.6272}, {\"run_id\": \"AutoML_b41a0d8e-8a07-4e82-ac68-cae8152970b4_35\", \"run_number\": 52, \"metric\": null, \"status\": \"Completed\", \"run_type\": \"azureml.scriptrun\", \"training_percent\": \"100\", \"start_time\": \"2021-01-05T20:59:51.087479Z\", \"end_time\": \"2021-01-05T21:00:34.223511Z\", \"created_time\": \"2021-01-05T20:59:36.436999Z\", \"created_time_dt\": \"2021-01-05T20:59:36.436999Z\", \"duration\": \"0:00:57\", \"iteration\": \"35\", \"goal\": \"accuracy_max\", \"run_name\": \"StandardScalerWrapper, LightGBM\", \"run_properties\": \"<azureml.automl.runtime.shared.model_wrappers.StandardScalerWrapper object at 0x7fe3573d0860\", \"primary_metric\": 0.5973, \"best_metric\": 0.6272}, {\"run_id\": \"AutoML_b41a0d8e-8a07-4e82-ac68-cae8152970b4_36\", \"run_number\": 53, \"metric\": null, \"status\": \"Canceled\", \"run_type\": \"azureml.scriptrun\", \"training_percent\": \"100\", \"start_time\": \"2021-01-05T21:00:25.791683Z\", \"end_time\": \"2021-01-05T21:00:41.809242Z\", \"created_time\": \"2021-01-05T20:59:43.777322Z\", \"created_time_dt\": \"2021-01-05T20:59:43.777322Z\", \"duration\": \"0:00:58\", \"iteration\": \"36\", \"goal\": null, \"run_name\": \"Canceled\", \"run_properties\": null}, {\"run_id\": \"AutoML_b41a0d8e-8a07-4e82-ac68-cae8152970b4_37\", \"run_number\": 54, \"metric\": null, \"status\": \"Canceled\", \"run_type\": \"azureml.scriptrun\", \"training_percent\": \"100\", \"start_time\": \"2021-01-05T21:00:25.956344Z\", \"end_time\": \"2021-01-05T21:00:44.508582Z\", \"created_time\": \"2021-01-05T21:00:25.956344Z\", \"created_time_dt\": \"2021-01-05T21:00:25.956344Z\", \"duration\": \"0:00:18\", \"iteration\": \"37\", \"goal\": null, \"run_name\": \"Canceled\", \"run_properties\": null}, {\"run_id\": \"AutoML_b41a0d8e-8a07-4e82-ac68-cae8152970b4_38\", \"run_number\": 55, \"metric\": null, \"status\": \"Completed\", \"run_type\": \"azureml.scriptrun\", \"training_percent\": \"100\", \"start_time\": \"2021-01-05T21:01:00.0043Z\", \"end_time\": \"2021-01-05T21:02:35.81611Z\", \"created_time\": \"2021-01-05T21:00:46.643142Z\", \"created_time_dt\": \"2021-01-05T21:00:46.643142Z\", \"duration\": \"0:01:49\", \"iteration\": \"38\", \"goal\": \"accuracy_max\", \"run_name\": \"VotingEnsemble\", \"run_properties\": \"classification_labels=None,\\n                              estimators=[('6',\\n                                           Pipeline(memory=None,\\n                                                    steps=[('standardscalerwrapper',\\n                                                            <azureml.automl.runtime.shared.model_wrappers.StandardScalerWrapper object at 0x7fccd8271198>\", \"primary_metric\": 0.6376, \"best_metric\": 0.6376}, {\"run_id\": \"AutoML_b41a0d8e-8a07-4e82-ac68-cae8152970b4_39\", \"run_number\": 56, \"metric\": null, \"status\": \"Completed\", \"run_type\": \"azureml.scriptrun\", \"training_percent\": \"100\", \"start_time\": \"2021-01-05T21:00:59.428902Z\", \"end_time\": \"2021-01-05T21:02:51.732878Z\", \"created_time\": \"2021-01-05T21:00:46.7827Z\", \"created_time_dt\": \"2021-01-05T21:00:46.7827Z\", \"duration\": \"0:02:04\", \"iteration\": \"39\", \"goal\": \"accuracy_max\", \"run_name\": \"StackEnsemble\", \"run_properties\": \"base_learners=[('6',\\n                                        Pipeline(memory=None,\\n                                                 steps=[('standardscalerwrapper',\\n                                                         <azureml.automl.runtime.shared.model_wrappers.StandardScalerWrapper object at 0x7f597286f438>\", \"primary_metric\": 0.6363, \"best_metric\": 0.6376}], \"children_metrics\": {\"categories\": [0], \"series\": {\"f1_score_weighted\": [{\"categories\": [\"0\", \"1\", \"2\", \"3\", \"4\", \"5\", \"6\", \"7\", \"8\", \"9\", \"10\", \"11\", \"12\", \"13\", \"14\", \"15\", \"16\", \"17\", \"18\", \"19\", \"20\", \"22\", \"23\", \"24\", \"25\", \"26\", \"27\", \"28\", \"29\", \"30\", \"31\", \"32\", \"33\", \"34\", \"35\", \"38\", \"39\"], \"mode\": \"markers\", \"name\": \"f1_score_weighted\", \"stepped\": false, \"type\": \"scatter\", \"data\": [0.6178080229645694, 0.623879917010697, 0.5790604060589828, 0.5435486966728701, 0.5198451265546197, 0.5728790583853696, 0.6271213099833257, 0.608388962093924, 0.612579414756784, 0.5818702458142946, 0.6138584153223668, 0.6061220439164655, 0.587448434390691, 0.6177723677816541, 0.6108878377197537, 0.6035627089857982, 0.614439064806232, 0.6156376869249108, 0.6064635290904783, 0.6161022411087441, 0.6195927834669235, 0.6001155064476288, 0.6084463366612752, 0.6186976328750715, 0.440532774608241, 0.6084727121102168, 0.6142190623243398, 0.6093433180642406, 0.608677814297495, 0.6064320882623563, 0.5878099364455743, 0.6112928755378091, 0.6172349706625357, 0.584076597144431, 0.5938492045417039, 0.6376129954389803, 0.6362420184441573]}, {\"categories\": [\"0\", \"1\", \"2\", \"3\", \"4\", \"5\", \"6\", \"7\", \"8\", \"9\", \"10\", \"11\", \"12\", \"13\", \"14\", \"15\", \"16\", \"17\", \"18\", \"19\", \"20\", \"22\", \"23\", \"24\", \"25\", \"26\", \"27\", \"28\", \"29\", \"30\", \"31\", \"32\", \"33\", \"34\", \"35\", \"38\", \"39\"], \"mode\": \"lines\", \"name\": \"f1_score_weighted_max\", \"stepped\": true, \"type\": \"scatter\", \"data\": [0.6178080229645694, 0.623879917010697, 0.623879917010697, 0.623879917010697, 0.623879917010697, 0.623879917010697, 0.6271213099833257, 0.6271213099833257, 0.6271213099833257, 0.6271213099833257, 0.6271213099833257, 0.6271213099833257, 0.6271213099833257, 0.6271213099833257, 0.6271213099833257, 0.6271213099833257, 0.6271213099833257, 0.6271213099833257, 0.6271213099833257, 0.6271213099833257, 0.6271213099833257, 0.6271213099833257, 0.6271213099833257, 0.6271213099833257, 0.6271213099833257, 0.6271213099833257, 0.6271213099833257, 0.6271213099833257, 0.6271213099833257, 0.6271213099833257, 0.6271213099833257, 0.6271213099833257, 0.6271213099833257, 0.6271213099833257, 0.6271213099833257, 0.6376129954389803, 0.6376129954389803]}], \"balanced_accuracy\": [{\"categories\": [\"0\", \"1\", \"2\", \"3\", \"4\", \"5\", \"6\", \"7\", \"8\", \"9\", \"10\", \"11\", \"12\", \"13\", \"14\", \"15\", \"16\", \"17\", \"18\", \"19\", \"20\", \"22\", \"23\", \"24\", \"25\", \"26\", \"27\", \"28\", \"29\", \"30\", \"31\", \"32\", \"33\", \"34\", \"35\", \"38\", \"39\"], \"mode\": \"markers\", \"name\": \"balanced_accuracy\", \"stepped\": false, \"type\": \"scatter\", \"data\": [0.6178096895057201, 0.623824766248154, 0.5812998826171141, 0.5539202169863808, 0.5298664756102951, 0.5741652664686882, 0.627046260891673, 0.6087673286986437, 0.6127477065885909, 0.581987612774644, 0.6141969101853346, 0.6064100503670282, 0.5970706794916278, 0.6180272813080899, 0.6109913125149307, 0.6095197053961154, 0.6148194690561869, 0.6158734799044001, 0.6070346410557783, 0.616881792131291, 0.6199452010489699, 0.6001503592079526, 0.6087057697296011, 0.6188385490405924, 0.5279279793308245, 0.6133881071357342, 0.6156697672712138, 0.6098495428592393, 0.6091039541400194, 0.607291904894464, 0.5878349444074248, 0.6113217671064195, 0.6177128501953432, 0.5841072635402556, 0.5972293581880855, 0.6376637619117124, 0.6364909394437638]}, {\"categories\": [\"0\", \"1\", \"2\", \"3\", \"4\", \"5\", \"6\", \"7\", \"8\", \"9\", \"10\", \"11\", \"12\", \"13\", \"14\", \"15\", \"16\", \"17\", \"18\", \"19\", \"20\", \"22\", \"23\", \"24\", \"25\", \"26\", \"27\", \"28\", \"29\", \"30\", \"31\", \"32\", \"33\", \"34\", \"35\", \"38\", \"39\"], \"mode\": \"lines\", \"name\": \"balanced_accuracy_max\", \"stepped\": true, \"type\": \"scatter\", \"data\": [0.6178096895057201, 0.623824766248154, 0.623824766248154, 0.623824766248154, 0.623824766248154, 0.623824766248154, 0.627046260891673, 0.627046260891673, 0.627046260891673, 0.627046260891673, 0.627046260891673, 0.627046260891673, 0.627046260891673, 0.627046260891673, 0.627046260891673, 0.627046260891673, 0.627046260891673, 0.627046260891673, 0.627046260891673, 0.627046260891673, 0.627046260891673, 0.627046260891673, 0.627046260891673, 0.627046260891673, 0.627046260891673, 0.627046260891673, 0.627046260891673, 0.627046260891673, 0.627046260891673, 0.627046260891673, 0.627046260891673, 0.627046260891673, 0.627046260891673, 0.627046260891673, 0.627046260891673, 0.6376637619117124, 0.6376637619117124]}], \"f1_score_macro\": [{\"categories\": [\"0\", \"1\", \"2\", \"3\", \"4\", \"5\", \"6\", \"7\", \"8\", \"9\", \"10\", \"11\", \"12\", \"13\", \"14\", \"15\", \"16\", \"17\", \"18\", \"19\", \"20\", \"22\", \"23\", \"24\", \"25\", \"26\", \"27\", \"28\", \"29\", \"30\", \"31\", \"32\", \"33\", \"34\", \"35\", \"38\", \"39\"], \"mode\": \"markers\", \"name\": \"f1_score_macro\", \"stepped\": false, \"type\": \"scatter\", \"data\": [0.6177403253601101, 0.6237418606415122, 0.5787313822153991, 0.5432409248806638, 0.5189783603778523, 0.5729162946563586, 0.6269937768786862, 0.6080689783301381, 0.6125665198469251, 0.5818343280860586, 0.6138648402565335, 0.6061361824727267, 0.5879286574083401, 0.6177888920042569, 0.610813118587719, 0.6039433409989516, 0.6144536349911994, 0.6153975441605083, 0.6060845938659175, 0.6161798733358874, 0.6196163120035919, 0.6000240368805934, 0.6084563677865774, 0.6186799659695903, 0.439258848585198, 0.6088361987962764, 0.6144082661853341, 0.6092141540916819, 0.60872705765057, 0.6065150121322528, 0.5877496973456686, 0.611230233872858, 0.6172867446794553, 0.5840069874887167, 0.5937547909359128, 0.6375678259506241, 0.6362433397130121]}, {\"categories\": [\"0\", \"1\", \"2\", \"3\", \"4\", \"5\", \"6\", \"7\", \"8\", \"9\", \"10\", \"11\", \"12\", \"13\", \"14\", \"15\", \"16\", \"17\", \"18\", \"19\", \"20\", \"22\", \"23\", \"24\", \"25\", \"26\", \"27\", \"28\", \"29\", \"30\", \"31\", \"32\", \"33\", \"34\", \"35\", \"38\", \"39\"], \"mode\": \"lines\", \"name\": \"f1_score_macro_max\", \"stepped\": true, \"type\": \"scatter\", \"data\": [0.6177403253601101, 0.6237418606415122, 0.6237418606415122, 0.6237418606415122, 0.6237418606415122, 0.6237418606415122, 0.6269937768786862, 0.6269937768786862, 0.6269937768786862, 0.6269937768786862, 0.6269937768786862, 0.6269937768786862, 0.6269937768786862, 0.6269937768786862, 0.6269937768786862, 0.6269937768786862, 0.6269937768786862, 0.6269937768786862, 0.6269937768786862, 0.6269937768786862, 0.6269937768786862, 0.6269937768786862, 0.6269937768786862, 0.6269937768786862, 0.6269937768786862, 0.6269937768786862, 0.6269937768786862, 0.6269937768786862, 0.6269937768786862, 0.6269937768786862, 0.6269937768786862, 0.6269937768786862, 0.6269937768786862, 0.6269937768786862, 0.6269937768786862, 0.6375678259506241, 0.6375678259506241]}], \"recall_score_macro\": [{\"categories\": [\"0\", \"1\", \"2\", \"3\", \"4\", \"5\", \"6\", \"7\", \"8\", \"9\", \"10\", \"11\", \"12\", \"13\", \"14\", \"15\", \"16\", \"17\", \"18\", \"19\", \"20\", \"22\", \"23\", \"24\", \"25\", \"26\", \"27\", \"28\", \"29\", \"30\", \"31\", \"32\", \"33\", \"34\", \"35\", \"38\", \"39\"], \"mode\": \"markers\", \"name\": \"recall_score_macro\", \"stepped\": false, \"type\": \"scatter\", \"data\": [0.6178096895057201, 0.623824766248154, 0.5812998826171141, 0.5539202169863808, 0.5298664756102951, 0.5741652664686882, 0.627046260891673, 0.6087673286986437, 0.6127477065885909, 0.581987612774644, 0.6141969101853346, 0.6064100503670282, 0.5970706794916278, 0.6180272813080899, 0.6109913125149307, 0.6095197053961154, 0.6148194690561869, 0.6158734799044001, 0.6070346410557783, 0.616881792131291, 0.6199452010489699, 0.6001503592079526, 0.6087057697296011, 0.6188385490405924, 0.5279279793308245, 0.6133881071357342, 0.6156697672712138, 0.6098495428592393, 0.6091039541400194, 0.607291904894464, 0.5878349444074248, 0.6113217671064195, 0.6177128501953432, 0.5841072635402556, 0.5972293581880855, 0.6376637619117124, 0.6364909394437638]}, {\"categories\": [\"0\", \"1\", \"2\", \"3\", \"4\", \"5\", \"6\", \"7\", \"8\", \"9\", \"10\", \"11\", \"12\", \"13\", \"14\", \"15\", \"16\", \"17\", \"18\", \"19\", \"20\", \"22\", \"23\", \"24\", \"25\", \"26\", \"27\", \"28\", \"29\", \"30\", \"31\", \"32\", \"33\", \"34\", \"35\", \"38\", \"39\"], \"mode\": \"lines\", \"name\": \"recall_score_macro_max\", \"stepped\": true, \"type\": \"scatter\", \"data\": [0.6178096895057201, 0.623824766248154, 0.623824766248154, 0.623824766248154, 0.623824766248154, 0.623824766248154, 0.627046260891673, 0.627046260891673, 0.627046260891673, 0.627046260891673, 0.627046260891673, 0.627046260891673, 0.627046260891673, 0.627046260891673, 0.627046260891673, 0.627046260891673, 0.627046260891673, 0.627046260891673, 0.627046260891673, 0.627046260891673, 0.627046260891673, 0.627046260891673, 0.627046260891673, 0.627046260891673, 0.627046260891673, 0.627046260891673, 0.627046260891673, 0.627046260891673, 0.627046260891673, 0.627046260891673, 0.627046260891673, 0.627046260891673, 0.627046260891673, 0.627046260891673, 0.627046260891673, 0.6376637619117124, 0.6376637619117124]}], \"matthews_correlation\": [{\"categories\": [\"0\", \"1\", \"2\", \"3\", \"4\", \"5\", \"6\", \"7\", \"8\", \"9\", \"10\", \"11\", \"12\", \"13\", \"14\", \"15\", \"16\", \"17\", \"18\", \"19\", \"20\", \"22\", \"23\", \"24\", \"25\", \"26\", \"27\", \"28\", \"29\", \"30\", \"31\", \"32\", \"33\", \"34\", \"35\", \"38\", \"39\"], \"mode\": \"markers\", \"name\": \"matthews_correlation\", \"stepped\": false, \"type\": \"scatter\", \"data\": [0.23561167259285037, 0.24780579302308164, 0.16477330155994885, 0.11322236890339643, 0.06269491474692357, 0.14916053361923293, 0.2541980446974211, 0.2186915314503494, 0.22552049561318407, 0.16399914905473126, 0.22855637480698462, 0.21289505253773808, 0.202302219069259, 0.23608776708929408, 0.22212024213901574, 0.22458848953629174, 0.22981897396155904, 0.23256088770528072, 0.21548524110018502, 0.23423884659845937, 0.24002910985079287, 0.20039100817947034, 0.2174723141915794, 0.23768254948016102, 0.08934977062816521, 0.23131023816892538, 0.2322951490306182, 0.22047667265640375, 0.21833981298845034, 0.215106374930519, 0.17566322276669571, 0.22265532687387307, 0.23562393580433097, 0.16823304267246159, 0.19799695994884836, 0.2753086631258564, 0.2730714184450228]}, {\"categories\": [\"0\", \"1\", \"2\", \"3\", \"4\", \"5\", \"6\", \"7\", \"8\", \"9\", \"10\", \"11\", \"12\", \"13\", \"14\", \"15\", \"16\", \"17\", \"18\", \"19\", \"20\", \"22\", \"23\", \"24\", \"25\", \"26\", \"27\", \"28\", \"29\", \"30\", \"31\", \"32\", \"33\", \"34\", \"35\", \"38\", \"39\"], \"mode\": \"lines\", \"name\": \"matthews_correlation_max\", \"stepped\": true, \"type\": \"scatter\", \"data\": [0.23561167259285037, 0.24780579302308164, 0.24780579302308164, 0.24780579302308164, 0.24780579302308164, 0.24780579302308164, 0.2541980446974211, 0.2541980446974211, 0.2541980446974211, 0.2541980446974211, 0.2541980446974211, 0.2541980446974211, 0.2541980446974211, 0.2541980446974211, 0.2541980446974211, 0.2541980446974211, 0.2541980446974211, 0.2541980446974211, 0.2541980446974211, 0.2541980446974211, 0.2541980446974211, 0.2541980446974211, 0.2541980446974211, 0.2541980446974211, 0.2541980446974211, 0.2541980446974211, 0.2541980446974211, 0.2541980446974211, 0.2541980446974211, 0.2541980446974211, 0.2541980446974211, 0.2541980446974211, 0.2541980446974211, 0.2541980446974211, 0.2541980446974211, 0.2753086631258564, 0.2753086631258564]}], \"average_precision_score_micro\": [{\"categories\": [\"0\", \"1\", \"2\", \"3\", \"4\", \"5\", \"6\", \"7\", \"8\", \"9\", \"10\", \"11\", \"12\", \"13\", \"14\", \"15\", \"16\", \"17\", \"18\", \"19\", \"20\", \"22\", \"23\", \"24\", \"25\", \"26\", \"27\", \"28\", \"29\", \"30\", \"31\", \"32\", \"33\", \"34\", \"35\", \"38\", \"39\"], \"mode\": \"markers\", \"name\": \"average_precision_score_micro\", \"stepped\": false, \"type\": \"scatter\", \"data\": [0.6701107739298199, 0.6777162630175676, 0.6177460322790739, 0.5698924412220462, 0.5398720056010986, 0.6022692625317002, 0.6823186808465738, 0.6637188317272439, 0.6630310512271962, 0.6129186550606939, 0.6698332109820843, 0.6538936988050279, 0.6495052551201279, 0.6637377555279456, 0.659015136953729, 0.6489659564487965, 0.6650617712276903, 0.6638084086401154, 0.6400836780932158, 0.6641331361018377, 0.658720935745748, 0.6376584355128081, 0.6620804925212634, 0.6653127387878408, 0.5864885045035313, 0.660559261284077, 0.6623363204841481, 0.6657983704535616, 0.6603605322213395, 0.6547783965838743, 0.6130059350390787, 0.6605035897472835, 0.6610682720990296, 0.6065750195331417, 0.6466574286950237, 0.6850607643945976, 0.6847931392542617]}, {\"categories\": [\"0\", \"1\", \"2\", \"3\", \"4\", \"5\", \"6\", \"7\", \"8\", \"9\", \"10\", \"11\", \"12\", \"13\", \"14\", \"15\", \"16\", \"17\", \"18\", \"19\", \"20\", \"22\", \"23\", \"24\", \"25\", \"26\", \"27\", \"28\", \"29\", \"30\", \"31\", \"32\", \"33\", \"34\", \"35\", \"38\", \"39\"], \"mode\": \"lines\", \"name\": \"average_precision_score_micro_max\", \"stepped\": true, \"type\": \"scatter\", \"data\": [0.6701107739298199, 0.6777162630175676, 0.6777162630175676, 0.6777162630175676, 0.6777162630175676, 0.6777162630175676, 0.6823186808465738, 0.6823186808465738, 0.6823186808465738, 0.6823186808465738, 0.6823186808465738, 0.6823186808465738, 0.6823186808465738, 0.6823186808465738, 0.6823186808465738, 0.6823186808465738, 0.6823186808465738, 0.6823186808465738, 0.6823186808465738, 0.6823186808465738, 0.6823186808465738, 0.6823186808465738, 0.6823186808465738, 0.6823186808465738, 0.6823186808465738, 0.6823186808465738, 0.6823186808465738, 0.6823186808465738, 0.6823186808465738, 0.6823186808465738, 0.6823186808465738, 0.6823186808465738, 0.6823186808465738, 0.6823186808465738, 0.6823186808465738, 0.6850607643945976, 0.6850607643945976]}], \"precision_score_micro\": [{\"categories\": [\"0\", \"1\", \"2\", \"3\", \"4\", \"5\", \"6\", \"7\", \"8\", \"9\", \"10\", \"11\", \"12\", \"13\", \"14\", \"15\", \"16\", \"17\", \"18\", \"19\", \"20\", \"22\", \"23\", \"24\", \"25\", \"26\", \"27\", \"28\", \"29\", \"30\", \"31\", \"32\", \"33\", \"34\", \"35\", \"38\", \"39\"], \"mode\": \"markers\", \"name\": \"precision_score_micro\", \"stepped\": false, \"type\": \"scatter\", \"data\": [0.6178, 0.624, 0.5819, 0.5545, 0.5314, 0.5739, 0.6272, 0.6094000000000002, 0.6125999999999999, 0.5819000000000001, 0.6140000000000001, 0.6062, 0.5958, 0.6178000000000001, 0.611, 0.6083999999999999, 0.6146, 0.6163000000000001, 0.6078, 0.6165, 0.6197, 0.6002, 0.6085, 0.6187000000000001, 0.5306, 0.6123, 0.615, 0.6100000000000001, 0.6088, 0.6069, 0.5878000000000001, 0.6113, 0.6174000000000001, 0.5841, 0.5973, 0.6376000000000001, 0.6363000000000001]}, {\"categories\": [\"0\", \"1\", \"2\", \"3\", \"4\", \"5\", \"6\", \"7\", \"8\", \"9\", \"10\", \"11\", \"12\", \"13\", \"14\", \"15\", \"16\", \"17\", \"18\", \"19\", \"20\", \"22\", \"23\", \"24\", \"25\", \"26\", \"27\", \"28\", \"29\", \"30\", \"31\", \"32\", \"33\", \"34\", \"35\", \"38\", \"39\"], \"mode\": \"lines\", \"name\": \"precision_score_micro_max\", \"stepped\": true, \"type\": \"scatter\", \"data\": [0.6178, 0.624, 0.624, 0.624, 0.624, 0.624, 0.6272, 0.6272, 0.6272, 0.6272, 0.6272, 0.6272, 0.6272, 0.6272, 0.6272, 0.6272, 0.6272, 0.6272, 0.6272, 0.6272, 0.6272, 0.6272, 0.6272, 0.6272, 0.6272, 0.6272, 0.6272, 0.6272, 0.6272, 0.6272, 0.6272, 0.6272, 0.6272, 0.6272, 0.6272, 0.6376000000000001, 0.6376000000000001]}], \"log_loss\": [{\"categories\": [\"0\", \"1\", \"2\", \"3\", \"4\", \"5\", \"6\", \"7\", \"8\", \"9\", \"10\", \"11\", \"12\", \"13\", \"14\", \"15\", \"16\", \"17\", \"18\", \"19\", \"20\", \"22\", \"23\", \"24\", \"25\", \"26\", \"27\", \"28\", \"29\", \"30\", \"31\", \"32\", \"33\", \"34\", \"35\", \"38\", \"39\"], \"mode\": \"markers\", \"name\": \"log_loss\", \"stepped\": false, \"type\": \"scatter\", \"data\": [0.6455401438756957, 0.6376559026921522, 0.6804215368204561, 0.6890708968663228, 0.69272318208483, 0.6854391425423232, 0.6350348203361296, 0.6496789876190286, 0.6458597600878043, 0.937293923696547, 0.6457566445290397, 0.6488605761040013, 0.6646813802801034, 0.6456881609319801, 0.6649308666537613, 0.652696196105145, 0.6439206664059177, 0.6591889544858658, 0.6680392513320289, 0.6471369679360004, 0.6516776072825621, 0.6580402611154436, 0.6469236478799141, 0.6449905122775103, 0.6915872301176662, 0.6498392782566725, 0.645416254911541, 0.6658229231121698, 0.6467318942731645, 0.6513184575633341, 0.690169438734787, 0.6580761679578003, 0.6466350864506681, 0.6908961662993441, 0.6835066962889317, 0.6404037431875012, 0.6371780047165544]}, {\"categories\": [\"0\", \"1\", \"2\", \"3\", \"4\", \"5\", \"6\", \"7\", \"8\", \"9\", \"10\", \"11\", \"12\", \"13\", \"14\", \"15\", \"16\", \"17\", \"18\", \"19\", \"20\", \"22\", \"23\", \"24\", \"25\", \"26\", \"27\", \"28\", \"29\", \"30\", \"31\", \"32\", \"33\", \"34\", \"35\", \"38\", \"39\"], \"mode\": \"lines\", \"name\": \"log_loss_min\", \"stepped\": true, \"type\": \"scatter\", \"data\": [0.6455401438756957, 0.6376559026921522, 0.6376559026921522, 0.6376559026921522, 0.6376559026921522, 0.6376559026921522, 0.6350348203361296, 0.6350348203361296, 0.6350348203361296, 0.6350348203361296, 0.6350348203361296, 0.6350348203361296, 0.6350348203361296, 0.6350348203361296, 0.6350348203361296, 0.6350348203361296, 0.6350348203361296, 0.6350348203361296, 0.6350348203361296, 0.6350348203361296, 0.6350348203361296, 0.6350348203361296, 0.6350348203361296, 0.6350348203361296, 0.6350348203361296, 0.6350348203361296, 0.6350348203361296, 0.6350348203361296, 0.6350348203361296, 0.6350348203361296, 0.6350348203361296, 0.6350348203361296, 0.6350348203361296, 0.6350348203361296, 0.6350348203361296, 0.6350348203361296, 0.6350348203361296]}], \"average_precision_score_weighted\": [{\"categories\": [\"0\", \"1\", \"2\", \"3\", \"4\", \"5\", \"6\", \"7\", \"8\", \"9\", \"10\", \"11\", \"12\", \"13\", \"14\", \"15\", \"16\", \"17\", \"18\", \"19\", \"20\", \"22\", \"23\", \"24\", \"25\", \"26\", \"27\", \"28\", \"29\", \"30\", \"31\", \"32\", \"33\", \"34\", \"35\", \"38\", \"39\"], \"mode\": \"markers\", \"name\": \"average_precision_score_weighted\", \"stepped\": false, \"type\": \"scatter\", \"data\": [0.6678019831241044, 0.6732308059433608, 0.619670460486985, 0.5747214463308639, 0.5373274867454252, 0.6040789366777887, 0.6793742277029258, 0.6574746916799568, 0.6592288693913052, 0.6134059944178918, 0.6650183152475099, 0.6482298908738556, 0.6440445727194639, 0.6615156572413389, 0.6548977998727692, 0.6438324416792397, 0.6610126836983007, 0.6615494339091014, 0.6423481710083966, 0.6603880119160906, 0.653096881363142, 0.6370176372030858, 0.6584454794739119, 0.6619410825771757, 0.6178878854569876, 0.6574100865076415, 0.6583688854753984, 0.6613495535510114, 0.6583244548230355, 0.6486326171873367, 0.6141092713469529, 0.655699906106405, 0.6576915510039176, 0.6075323531588328, 0.6478530200807565, 0.6814373682936801, 0.6813850081754541]}, {\"categories\": [\"0\", \"1\", \"2\", \"3\", \"4\", \"5\", \"6\", \"7\", \"8\", \"9\", \"10\", \"11\", \"12\", \"13\", \"14\", \"15\", \"16\", \"17\", \"18\", \"19\", \"20\", \"22\", \"23\", \"24\", \"25\", \"26\", \"27\", \"28\", \"29\", \"30\", \"31\", \"32\", \"33\", \"34\", \"35\", \"38\", \"39\"], \"mode\": \"lines\", \"name\": \"average_precision_score_weighted_max\", \"stepped\": true, \"type\": \"scatter\", \"data\": [0.6678019831241044, 0.6732308059433608, 0.6732308059433608, 0.6732308059433608, 0.6732308059433608, 0.6732308059433608, 0.6793742277029258, 0.6793742277029258, 0.6793742277029258, 0.6793742277029258, 0.6793742277029258, 0.6793742277029258, 0.6793742277029258, 0.6793742277029258, 0.6793742277029258, 0.6793742277029258, 0.6793742277029258, 0.6793742277029258, 0.6793742277029258, 0.6793742277029258, 0.6793742277029258, 0.6793742277029258, 0.6793742277029258, 0.6793742277029258, 0.6793742277029258, 0.6793742277029258, 0.6793742277029258, 0.6793742277029258, 0.6793742277029258, 0.6793742277029258, 0.6793742277029258, 0.6793742277029258, 0.6793742277029258, 0.6793742277029258, 0.6793742277029258, 0.6814373682936801, 0.6814373682936801]}], \"f1_score_micro\": [{\"categories\": [\"0\", \"1\", \"2\", \"3\", \"4\", \"5\", \"6\", \"7\", \"8\", \"9\", \"10\", \"11\", \"12\", \"13\", \"14\", \"15\", \"16\", \"17\", \"18\", \"19\", \"20\", \"22\", \"23\", \"24\", \"25\", \"26\", \"27\", \"28\", \"29\", \"30\", \"31\", \"32\", \"33\", \"34\", \"35\", \"38\", \"39\"], \"mode\": \"markers\", \"name\": \"f1_score_micro\", \"stepped\": false, \"type\": \"scatter\", \"data\": [0.6178, 0.624, 0.5819, 0.5545, 0.5314, 0.5739, 0.6272, 0.6094000000000002, 0.6125999999999999, 0.5819000000000001, 0.6140000000000001, 0.6062, 0.5958, 0.6178000000000001, 0.611, 0.6083999999999999, 0.6146, 0.6163000000000001, 0.6078, 0.6165, 0.6197, 0.6002, 0.6085, 0.6187000000000001, 0.5306, 0.6123, 0.615, 0.6100000000000001, 0.6088, 0.6069, 0.5878000000000001, 0.6113, 0.6174000000000001, 0.5841, 0.5973, 0.6376000000000001, 0.6363000000000001]}, {\"categories\": [\"0\", \"1\", \"2\", \"3\", \"4\", \"5\", \"6\", \"7\", \"8\", \"9\", \"10\", \"11\", \"12\", \"13\", \"14\", \"15\", \"16\", \"17\", \"18\", \"19\", \"20\", \"22\", \"23\", \"24\", \"25\", \"26\", \"27\", \"28\", \"29\", \"30\", \"31\", \"32\", \"33\", \"34\", \"35\", \"38\", \"39\"], \"mode\": \"lines\", \"name\": \"f1_score_micro_max\", \"stepped\": true, \"type\": \"scatter\", \"data\": [0.6178, 0.624, 0.624, 0.624, 0.624, 0.624, 0.6272, 0.6272, 0.6272, 0.6272, 0.6272, 0.6272, 0.6272, 0.6272, 0.6272, 0.6272, 0.6272, 0.6272, 0.6272, 0.6272, 0.6272, 0.6272, 0.6272, 0.6272, 0.6272, 0.6272, 0.6272, 0.6272, 0.6272, 0.6272, 0.6272, 0.6272, 0.6272, 0.6272, 0.6272, 0.6376000000000001, 0.6376000000000001]}], \"precision_score_weighted\": [{\"categories\": [\"0\", \"1\", \"2\", \"3\", \"4\", \"5\", \"6\", \"7\", \"8\", \"9\", \"10\", \"11\", \"12\", \"13\", \"14\", \"15\", \"16\", \"17\", \"18\", \"19\", \"20\", \"22\", \"23\", \"24\", \"25\", \"26\", \"27\", \"28\", \"29\", \"30\", \"31\", \"32\", \"33\", \"34\", \"35\", \"38\", \"39\"], \"mode\": \"markers\", \"name\": \"precision_score_weighted\", \"stepped\": false, \"type\": \"scatter\", \"data\": [0.6179470670456151, 0.6240819156407258, 0.5835467086348812, 0.5596808039116719, 0.5332432029826268, 0.5751930991561836, 0.6272531334916598, 0.6099340408549002, 0.6129462882395764, 0.5821709945729954, 0.6145437118078081, 0.6066670968954352, 0.6058760716418254, 0.6182547792552534, 0.6112699013376384, 0.6155245741329725, 0.6151901707561467, 0.6167419629093716, 0.6084439797903096, 0.6175852159757313, 0.6202823261317484, 0.6003740746696972, 0.6089523487797786, 0.6190178801042565, 0.6079386315279505, 0.6183525629265736, 0.6169238406715549, 0.6107370753299429, 0.6094417632494007, 0.6080423913813251, 0.5879836920644808, 0.6114805850765223, 0.6181209130907097, 0.5842722558954823, 0.6009717771164288, 0.6377989744319355, 0.6367689344286983]}, {\"categories\": [\"0\", \"1\", \"2\", \"3\", \"4\", \"5\", \"6\", \"7\", \"8\", \"9\", \"10\", \"11\", \"12\", \"13\", \"14\", \"15\", \"16\", \"17\", \"18\", \"19\", \"20\", \"22\", \"23\", \"24\", \"25\", \"26\", \"27\", \"28\", \"29\", \"30\", \"31\", \"32\", \"33\", \"34\", \"35\", \"38\", \"39\"], \"mode\": \"lines\", \"name\": \"precision_score_weighted_max\", \"stepped\": true, \"type\": \"scatter\", \"data\": [0.6179470670456151, 0.6240819156407258, 0.6240819156407258, 0.6240819156407258, 0.6240819156407258, 0.6240819156407258, 0.6272531334916598, 0.6272531334916598, 0.6272531334916598, 0.6272531334916598, 0.6272531334916598, 0.6272531334916598, 0.6272531334916598, 0.6272531334916598, 0.6272531334916598, 0.6272531334916598, 0.6272531334916598, 0.6272531334916598, 0.6272531334916598, 0.6272531334916598, 0.6272531334916598, 0.6272531334916598, 0.6272531334916598, 0.6272531334916598, 0.6272531334916598, 0.6272531334916598, 0.6272531334916598, 0.6272531334916598, 0.6272531334916598, 0.6272531334916598, 0.6272531334916598, 0.6272531334916598, 0.6272531334916598, 0.6272531334916598, 0.6272531334916598, 0.6377989744319355, 0.6377989744319355]}], \"precision_score_macro\": [{\"categories\": [\"0\", \"1\", \"2\", \"3\", \"4\", \"5\", \"6\", \"7\", \"8\", \"9\", \"10\", \"11\", \"12\", \"13\", \"14\", \"15\", \"16\", \"17\", \"18\", \"19\", \"20\", \"22\", \"23\", \"24\", \"25\", \"26\", \"27\", \"28\", \"29\", \"30\", \"31\", \"32\", \"33\", \"34\", \"35\", \"38\", \"39\"], \"mode\": \"markers\", \"name\": \"precision_score_macro\", \"stepped\": false, \"type\": \"scatter\", \"data\": [0.6178019858826597, 0.6239810995132394, 0.5834933781418932, 0.559603710560235, 0.5332152787614295, 0.5749997899416183, 0.6271518364081516, 0.6099329949789124, 0.6127727923317494, 0.5820115393870997, 0.6143595814299677, 0.6064850454585823, 0.6054955325073017, 0.6180604929032376, 0.6111290413426171, 0.615141542141812, 0.6149997108896722, 0.6166892336964775, 0.6084576964777932, 0.6173576863045875, 0.6200839579430932, 0.6002406996485236, 0.608766580512221, 0.6188440078191979, 0.6078215626560489, 0.6179693875852487, 0.6166282543807382, 0.610629268732799, 0.609235923094355, 0.6078152777832232, 0.587828279551228, 0.6113335656561356, 0.6179111887964689, 0.5841257836697582, 0.6008397419450537, 0.6376449033869295, 0.6365805085077668]}, {\"categories\": [\"0\", \"1\", \"2\", \"3\", \"4\", \"5\", \"6\", \"7\", \"8\", \"9\", \"10\", \"11\", \"12\", \"13\", \"14\", \"15\", \"16\", \"17\", \"18\", \"19\", \"20\", \"22\", \"23\", \"24\", \"25\", \"26\", \"27\", \"28\", \"29\", \"30\", \"31\", \"32\", \"33\", \"34\", \"35\", \"38\", \"39\"], \"mode\": \"lines\", \"name\": \"precision_score_macro_max\", \"stepped\": true, \"type\": \"scatter\", \"data\": [0.6178019858826597, 0.6239810995132394, 0.6239810995132394, 0.6239810995132394, 0.6239810995132394, 0.6239810995132394, 0.6271518364081516, 0.6271518364081516, 0.6271518364081516, 0.6271518364081516, 0.6271518364081516, 0.6271518364081516, 0.6271518364081516, 0.6271518364081516, 0.6271518364081516, 0.6271518364081516, 0.6271518364081516, 0.6271518364081516, 0.6271518364081516, 0.6271518364081516, 0.6271518364081516, 0.6271518364081516, 0.6271518364081516, 0.6271518364081516, 0.6271518364081516, 0.6271518364081516, 0.6271518364081516, 0.6271518364081516, 0.6271518364081516, 0.6271518364081516, 0.6271518364081516, 0.6271518364081516, 0.6271518364081516, 0.6271518364081516, 0.6271518364081516, 0.6376449033869295, 0.6376449033869295]}], \"accuracy\": [{\"categories\": [\"0\", \"1\", \"2\", \"3\", \"4\", \"5\", \"6\", \"7\", \"8\", \"9\", \"10\", \"11\", \"12\", \"13\", \"14\", \"15\", \"16\", \"17\", \"18\", \"19\", \"20\", \"22\", \"23\", \"24\", \"25\", \"26\", \"27\", \"28\", \"29\", \"30\", \"31\", \"32\", \"33\", \"34\", \"35\", \"38\", \"39\"], \"mode\": \"markers\", \"name\": \"accuracy\", \"stepped\": false, \"type\": \"scatter\", \"data\": [0.6178, 0.624, 0.5819, 0.5545, 0.5314, 0.5739, 0.6272, 0.6094000000000002, 0.6125999999999999, 0.5819000000000001, 0.6140000000000001, 0.6062, 0.5958, 0.6178000000000001, 0.611, 0.6083999999999999, 0.6146, 0.6163000000000001, 0.6078, 0.6165, 0.6197, 0.6002, 0.6085, 0.6187000000000001, 0.5306, 0.6123, 0.615, 0.6100000000000001, 0.6088, 0.6069, 0.5878000000000001, 0.6113, 0.6174000000000001, 0.5841, 0.5973, 0.6376000000000001, 0.6363000000000001]}, {\"categories\": [\"0\", \"1\", \"2\", \"3\", \"4\", \"5\", \"6\", \"7\", \"8\", \"9\", \"10\", \"11\", \"12\", \"13\", \"14\", \"15\", \"16\", \"17\", \"18\", \"19\", \"20\", \"22\", \"23\", \"24\", \"25\", \"26\", \"27\", \"28\", \"29\", \"30\", \"31\", \"32\", \"33\", \"34\", \"35\", \"38\", \"39\"], \"mode\": \"lines\", \"name\": \"accuracy_max\", \"stepped\": true, \"type\": \"scatter\", \"data\": [0.6178, 0.624, 0.624, 0.624, 0.624, 0.624, 0.6272, 0.6272, 0.6272, 0.6272, 0.6272, 0.6272, 0.6272, 0.6272, 0.6272, 0.6272, 0.6272, 0.6272, 0.6272, 0.6272, 0.6272, 0.6272, 0.6272, 0.6272, 0.6272, 0.6272, 0.6272, 0.6272, 0.6272, 0.6272, 0.6272, 0.6272, 0.6272, 0.6272, 0.6272, 0.6376000000000001, 0.6376000000000001]}], \"recall_score_weighted\": [{\"categories\": [\"0\", \"1\", \"2\", \"3\", \"4\", \"5\", \"6\", \"7\", \"8\", \"9\", \"10\", \"11\", \"12\", \"13\", \"14\", \"15\", \"16\", \"17\", \"18\", \"19\", \"20\", \"22\", \"23\", \"24\", \"25\", \"26\", \"27\", \"28\", \"29\", \"30\", \"31\", \"32\", \"33\", \"34\", \"35\", \"38\", \"39\"], \"mode\": \"markers\", \"name\": \"recall_score_weighted\", \"stepped\": false, \"type\": \"scatter\", \"data\": [0.6178, 0.624, 0.5819, 0.5545, 0.5314, 0.5739, 0.6272, 0.6094000000000002, 0.6125999999999999, 0.5819000000000001, 0.6140000000000001, 0.6062, 0.5958, 0.6178000000000001, 0.611, 0.6083999999999999, 0.6146, 0.6163000000000001, 0.6078, 0.6165, 0.6197, 0.6002, 0.6085, 0.6187000000000001, 0.5306, 0.6123, 0.615, 0.6100000000000001, 0.6088, 0.6069, 0.5878000000000001, 0.6113, 0.6174000000000001, 0.5841, 0.5973, 0.6376000000000001, 0.6363000000000001]}, {\"categories\": [\"0\", \"1\", \"2\", \"3\", \"4\", \"5\", \"6\", \"7\", \"8\", \"9\", \"10\", \"11\", \"12\", \"13\", \"14\", \"15\", \"16\", \"17\", \"18\", \"19\", \"20\", \"22\", \"23\", \"24\", \"25\", \"26\", \"27\", \"28\", \"29\", \"30\", \"31\", \"32\", \"33\", \"34\", \"35\", \"38\", \"39\"], \"mode\": \"lines\", \"name\": \"recall_score_weighted_max\", \"stepped\": true, \"type\": \"scatter\", \"data\": [0.6178, 0.624, 0.624, 0.624, 0.624, 0.624, 0.6272, 0.6272, 0.6272, 0.6272, 0.6272, 0.6272, 0.6272, 0.6272, 0.6272, 0.6272, 0.6272, 0.6272, 0.6272, 0.6272, 0.6272, 0.6272, 0.6272, 0.6272, 0.6272, 0.6272, 0.6272, 0.6272, 0.6272, 0.6272, 0.6272, 0.6272, 0.6272, 0.6272, 0.6272, 0.6376000000000001, 0.6376000000000001]}], \"AUC_macro\": [{\"categories\": [\"0\", \"1\", \"2\", \"3\", \"4\", \"5\", \"6\", \"7\", \"8\", \"9\", \"10\", \"11\", \"12\", \"13\", \"14\", \"15\", \"16\", \"17\", \"18\", \"19\", \"20\", \"22\", \"23\", \"24\", \"25\", \"26\", \"27\", \"28\", \"29\", \"30\", \"31\", \"32\", \"33\", \"34\", \"35\", \"38\", \"39\"], \"mode\": \"markers\", \"name\": \"AUC_macro\", \"stepped\": false, \"type\": \"scatter\", \"data\": [0.6727645050971365, 0.6790850708500742, 0.6265053358904495, 0.583380483535973, 0.5413699644442782, 0.6086029647083149, 0.6859690133888046, 0.663139532161332, 0.6648402049497731, 0.6220046538639246, 0.6702819227595282, 0.6596917114173004, 0.6495988116251248, 0.6687819739164063, 0.6624002478963407, 0.655263739706452, 0.6668390106937184, 0.6677908746151109, 0.6527180403607357, 0.6664253897205131, 0.6638593896130827, 0.6466927398562741, 0.6642595569996066, 0.6703931916803113, 0.6255958722918527, 0.6623501855176216, 0.6645425849999882, 0.66572210269944, 0.6618862005975377, 0.6606145638023938, 0.6228622661168186, 0.6620925836449784, 0.6657753043382553, 0.6196345059485597, 0.6518613044936398, 0.6891508554649647, 0.6889902335120807]}, {\"categories\": [\"0\", \"1\", \"2\", \"3\", \"4\", \"5\", \"6\", \"7\", \"8\", \"9\", \"10\", \"11\", \"12\", \"13\", \"14\", \"15\", \"16\", \"17\", \"18\", \"19\", \"20\", \"22\", \"23\", \"24\", \"25\", \"26\", \"27\", \"28\", \"29\", \"30\", \"31\", \"32\", \"33\", \"34\", \"35\", \"38\", \"39\"], \"mode\": \"lines\", \"name\": \"AUC_macro_max\", \"stepped\": true, \"type\": \"scatter\", \"data\": [0.6727645050971365, 0.6790850708500742, 0.6790850708500742, 0.6790850708500742, 0.6790850708500742, 0.6790850708500742, 0.6859690133888046, 0.6859690133888046, 0.6859690133888046, 0.6859690133888046, 0.6859690133888046, 0.6859690133888046, 0.6859690133888046, 0.6859690133888046, 0.6859690133888046, 0.6859690133888046, 0.6859690133888046, 0.6859690133888046, 0.6859690133888046, 0.6859690133888046, 0.6859690133888046, 0.6859690133888046, 0.6859690133888046, 0.6859690133888046, 0.6859690133888046, 0.6859690133888046, 0.6859690133888046, 0.6859690133888046, 0.6859690133888046, 0.6859690133888046, 0.6859690133888046, 0.6859690133888046, 0.6859690133888046, 0.6859690133888046, 0.6859690133888046, 0.6891508554649647, 0.6891508554649647]}], \"average_precision_score_macro\": [{\"categories\": [\"0\", \"1\", \"2\", \"3\", \"4\", \"5\", \"6\", \"7\", \"8\", \"9\", \"10\", \"11\", \"12\", \"13\", \"14\", \"15\", \"16\", \"17\", \"18\", \"19\", \"20\", \"22\", \"23\", \"24\", \"25\", \"26\", \"27\", \"28\", \"29\", \"30\", \"31\", \"32\", \"33\", \"34\", \"35\", \"38\", \"39\"], \"mode\": \"markers\", \"name\": \"average_precision_score_macro\", \"stepped\": false, \"type\": \"scatter\", \"data\": [0.6675600216195003, 0.6729397484523596, 0.6194248217387135, 0.5745816607463995, 0.5372363702170356, 0.6038391834910557, 0.6790624379169607, 0.6571517379471261, 0.6589152889224642, 0.6131134668761098, 0.664722566117665, 0.6479608802500685, 0.6437275195007082, 0.6612051861926946, 0.6545592057013921, 0.6435215073973423, 0.6607356949384128, 0.6612724235855942, 0.6420870025725762, 0.6601074046868035, 0.6527555534502609, 0.636752725325404, 0.6581300817155966, 0.6616328284410663, 0.6176406686753383, 0.6570866811826027, 0.6580628632263587, 0.6610451187047278, 0.6580604039395761, 0.6483307077622996, 0.6137824843123336, 0.6553664407919326, 0.6573709888126669, 0.6072424619131371, 0.6475110808122302, 0.6811340727295183, 0.681083454973402]}, {\"categories\": [\"0\", \"1\", \"2\", \"3\", \"4\", \"5\", \"6\", \"7\", \"8\", \"9\", \"10\", \"11\", \"12\", \"13\", \"14\", \"15\", \"16\", \"17\", \"18\", \"19\", \"20\", \"22\", \"23\", \"24\", \"25\", \"26\", \"27\", \"28\", \"29\", \"30\", \"31\", \"32\", \"33\", \"34\", \"35\", \"38\", \"39\"], \"mode\": \"lines\", \"name\": \"average_precision_score_macro_max\", \"stepped\": true, \"type\": \"scatter\", \"data\": [0.6675600216195003, 0.6729397484523596, 0.6729397484523596, 0.6729397484523596, 0.6729397484523596, 0.6729397484523596, 0.6790624379169607, 0.6790624379169607, 0.6790624379169607, 0.6790624379169607, 0.6790624379169607, 0.6790624379169607, 0.6790624379169607, 0.6790624379169607, 0.6790624379169607, 0.6790624379169607, 0.6790624379169607, 0.6790624379169607, 0.6790624379169607, 0.6790624379169607, 0.6790624379169607, 0.6790624379169607, 0.6790624379169607, 0.6790624379169607, 0.6790624379169607, 0.6790624379169607, 0.6790624379169607, 0.6790624379169607, 0.6790624379169607, 0.6790624379169607, 0.6790624379169607, 0.6790624379169607, 0.6790624379169607, 0.6790624379169607, 0.6790624379169607, 0.6811340727295183, 0.6811340727295183]}], \"recall_score_micro\": [{\"categories\": [\"0\", \"1\", \"2\", \"3\", \"4\", \"5\", \"6\", \"7\", \"8\", \"9\", \"10\", \"11\", \"12\", \"13\", \"14\", \"15\", \"16\", \"17\", \"18\", \"19\", \"20\", \"22\", \"23\", \"24\", \"25\", \"26\", \"27\", \"28\", \"29\", \"30\", \"31\", \"32\", \"33\", \"34\", \"35\", \"38\", \"39\"], \"mode\": \"markers\", \"name\": \"recall_score_micro\", \"stepped\": false, \"type\": \"scatter\", \"data\": [0.6178, 0.624, 0.5819, 0.5545, 0.5314, 0.5739, 0.6272, 0.6094000000000002, 0.6125999999999999, 0.5819000000000001, 0.6140000000000001, 0.6062, 0.5958, 0.6178000000000001, 0.611, 0.6083999999999999, 0.6146, 0.6163000000000001, 0.6078, 0.6165, 0.6197, 0.6002, 0.6085, 0.6187000000000001, 0.5306, 0.6123, 0.615, 0.6100000000000001, 0.6088, 0.6069, 0.5878000000000001, 0.6113, 0.6174000000000001, 0.5841, 0.5973, 0.6376000000000001, 0.6363000000000001]}, {\"categories\": [\"0\", \"1\", \"2\", \"3\", \"4\", \"5\", \"6\", \"7\", \"8\", \"9\", \"10\", \"11\", \"12\", \"13\", \"14\", \"15\", \"16\", \"17\", \"18\", \"19\", \"20\", \"22\", \"23\", \"24\", \"25\", \"26\", \"27\", \"28\", \"29\", \"30\", \"31\", \"32\", \"33\", \"34\", \"35\", \"38\", \"39\"], \"mode\": \"lines\", \"name\": \"recall_score_micro_max\", \"stepped\": true, \"type\": \"scatter\", \"data\": [0.6178, 0.624, 0.624, 0.624, 0.624, 0.624, 0.6272, 0.6272, 0.6272, 0.6272, 0.6272, 0.6272, 0.6272, 0.6272, 0.6272, 0.6272, 0.6272, 0.6272, 0.6272, 0.6272, 0.6272, 0.6272, 0.6272, 0.6272, 0.6272, 0.6272, 0.6272, 0.6272, 0.6272, 0.6272, 0.6272, 0.6272, 0.6272, 0.6272, 0.6272, 0.6376000000000001, 0.6376000000000001]}], \"AUC_weighted\": [{\"categories\": [\"0\", \"1\", \"2\", \"3\", \"4\", \"5\", \"6\", \"7\", \"8\", \"9\", \"10\", \"11\", \"12\", \"13\", \"14\", \"15\", \"16\", \"17\", \"18\", \"19\", \"20\", \"22\", \"23\", \"24\", \"25\", \"26\", \"27\", \"28\", \"29\", \"30\", \"31\", \"32\", \"33\", \"34\", \"35\", \"38\", \"39\"], \"mode\": \"markers\", \"name\": \"AUC_weighted\", \"stepped\": false, \"type\": \"scatter\", \"data\": [0.6727645050971365, 0.6790850708500741, 0.6265053358904495, 0.583380483535973, 0.5413699644442782, 0.6086029647083149, 0.6859690133888046, 0.663139532161332, 0.6648402049497731, 0.6220046538639243, 0.6702819227595282, 0.6596917114173004, 0.6495988116251248, 0.6687819739164063, 0.6624002478963407, 0.655263739706452, 0.6668390092926199, 0.6677908746151109, 0.6527180403607356, 0.6664253897205132, 0.6638593896130827, 0.6466927398562741, 0.6642595569996066, 0.6703931916803113, 0.6255958722918527, 0.6623501855176216, 0.6645425849999882, 0.66572210269944, 0.6618862005975378, 0.6606145638023938, 0.6228622661168187, 0.6620925836449782, 0.6657753043382553, 0.6196345059485597, 0.6518613044936398, 0.6891508554649647, 0.6889902335120809]}, {\"categories\": [\"0\", \"1\", \"2\", \"3\", \"4\", \"5\", \"6\", \"7\", \"8\", \"9\", \"10\", \"11\", \"12\", \"13\", \"14\", \"15\", \"16\", \"17\", \"18\", \"19\", \"20\", \"22\", \"23\", \"24\", \"25\", \"26\", \"27\", \"28\", \"29\", \"30\", \"31\", \"32\", \"33\", \"34\", \"35\", \"38\", \"39\"], \"mode\": \"lines\", \"name\": \"AUC_weighted_max\", \"stepped\": true, \"type\": \"scatter\", \"data\": [0.6727645050971365, 0.6790850708500741, 0.6790850708500741, 0.6790850708500741, 0.6790850708500741, 0.6790850708500741, 0.6859690133888046, 0.6859690133888046, 0.6859690133888046, 0.6859690133888046, 0.6859690133888046, 0.6859690133888046, 0.6859690133888046, 0.6859690133888046, 0.6859690133888046, 0.6859690133888046, 0.6859690133888046, 0.6859690133888046, 0.6859690133888046, 0.6859690133888046, 0.6859690133888046, 0.6859690133888046, 0.6859690133888046, 0.6859690133888046, 0.6859690133888046, 0.6859690133888046, 0.6859690133888046, 0.6859690133888046, 0.6859690133888046, 0.6859690133888046, 0.6859690133888046, 0.6859690133888046, 0.6859690133888046, 0.6859690133888046, 0.6859690133888046, 0.6891508554649647, 0.6891508554649647]}], \"norm_macro_recall\": [{\"categories\": [\"0\", \"1\", \"2\", \"3\", \"4\", \"5\", \"6\", \"7\", \"8\", \"9\", \"10\", \"11\", \"12\", \"13\", \"14\", \"15\", \"16\", \"17\", \"18\", \"19\", \"20\", \"22\", \"23\", \"24\", \"25\", \"26\", \"27\", \"28\", \"29\", \"30\", \"31\", \"32\", \"33\", \"34\", \"35\", \"38\", \"39\"], \"mode\": \"markers\", \"name\": \"norm_macro_recall\", \"stepped\": false, \"type\": \"scatter\", \"data\": [0.23561937901144042, 0.2476495324963079, 0.16259976523422814, 0.10784043397276175, 0.05973295122059037, 0.14833053293737647, 0.2540925217833461, 0.21753465739728747, 0.22549541317718175, 0.1639752255492879, 0.22839382037066916, 0.21282010073405627, 0.19414135898325582, 0.2360545626161799, 0.22198262502986124, 0.21903941079223088, 0.22963893811237393, 0.23174695980880022, 0.21406928211155668, 0.23376358426258204, 0.23989040209793983, 0.20030071841590508, 0.21741153945920208, 0.2376770980811847, 0.05585595866164868, 0.2267762142714683, 0.23133953454242767, 0.21969908571847868, 0.21820790828003872, 0.2145838097889281, 0.17566988881484943, 0.22264353421283886, 0.23542570039068628, 0.16821452708051104, 0.194458716376171, 0.2753275238234247, 0.2729818788875276]}, {\"categories\": [\"0\", \"1\", \"2\", \"3\", \"4\", \"5\", \"6\", \"7\", \"8\", \"9\", \"10\", \"11\", \"12\", \"13\", \"14\", \"15\", \"16\", \"17\", \"18\", \"19\", \"20\", \"22\", \"23\", \"24\", \"25\", \"26\", \"27\", \"28\", \"29\", \"30\", \"31\", \"32\", \"33\", \"34\", \"35\", \"38\", \"39\"], \"mode\": \"lines\", \"name\": \"norm_macro_recall_max\", \"stepped\": true, \"type\": \"scatter\", \"data\": [0.23561937901144042, 0.2476495324963079, 0.2476495324963079, 0.2476495324963079, 0.2476495324963079, 0.2476495324963079, 0.2540925217833461, 0.2540925217833461, 0.2540925217833461, 0.2540925217833461, 0.2540925217833461, 0.2540925217833461, 0.2540925217833461, 0.2540925217833461, 0.2540925217833461, 0.2540925217833461, 0.2540925217833461, 0.2540925217833461, 0.2540925217833461, 0.2540925217833461, 0.2540925217833461, 0.2540925217833461, 0.2540925217833461, 0.2540925217833461, 0.2540925217833461, 0.2540925217833461, 0.2540925217833461, 0.2540925217833461, 0.2540925217833461, 0.2540925217833461, 0.2540925217833461, 0.2540925217833461, 0.2540925217833461, 0.2540925217833461, 0.2540925217833461, 0.2753275238234247, 0.2753275238234247]}], \"AUC_micro\": [{\"categories\": [\"0\", \"1\", \"2\", \"3\", \"4\", \"5\", \"6\", \"7\", \"8\", \"9\", \"10\", \"11\", \"12\", \"13\", \"14\", \"15\", \"16\", \"17\", \"18\", \"19\", \"20\", \"22\", \"23\", \"24\", \"25\", \"26\", \"27\", \"28\", \"29\", \"30\", \"31\", \"32\", \"33\", \"34\", \"35\", \"38\", \"39\"], \"mode\": \"markers\", \"name\": \"AUC_micro\", \"stepped\": false, \"type\": \"scatter\", \"data\": [0.6729170000000001, 0.6803468, 0.6233774000000001, 0.5766452000000001, 0.5439136999999999, 0.60786625, 0.6864245, 0.66431945, 0.6656443750000001, 0.62205555, 0.6712054499999999, 0.66104225, 0.6493714500000001, 0.6690932, 0.662443, 0.6555683, 0.6675144, 0.66733775, 0.6512313000000001, 0.6669856750000001, 0.6649781499999999, 0.6463753999999999, 0.66495745, 0.6707604500000001, 0.5775585, 0.66188255, 0.6650254500000001, 0.6663953499999999, 0.6622155000000001, 0.6621378499999999, 0.6230706, 0.66268225, 0.6663555000000001, 0.61961405, 0.6461443, 0.6895131, 0.6892694500000001]}, {\"categories\": [\"0\", \"1\", \"2\", \"3\", \"4\", \"5\", \"6\", \"7\", \"8\", \"9\", \"10\", \"11\", \"12\", \"13\", \"14\", \"15\", \"16\", \"17\", \"18\", \"19\", \"20\", \"22\", \"23\", \"24\", \"25\", \"26\", \"27\", \"28\", \"29\", \"30\", \"31\", \"32\", \"33\", \"34\", \"35\", \"38\", \"39\"], \"mode\": \"lines\", \"name\": \"AUC_micro_max\", \"stepped\": true, \"type\": \"scatter\", \"data\": [0.6729170000000001, 0.6803468, 0.6803468, 0.6803468, 0.6803468, 0.6803468, 0.6864245, 0.6864245, 0.6864245, 0.6864245, 0.6864245, 0.6864245, 0.6864245, 0.6864245, 0.6864245, 0.6864245, 0.6864245, 0.6864245, 0.6864245, 0.6864245, 0.6864245, 0.6864245, 0.6864245, 0.6864245, 0.6864245, 0.6864245, 0.6864245, 0.6864245, 0.6864245, 0.6864245, 0.6864245, 0.6864245, 0.6864245, 0.6864245, 0.6864245, 0.6895131, 0.6895131]}], \"weighted_accuracy\": [{\"categories\": [\"0\", \"1\", \"2\", \"3\", \"4\", \"5\", \"6\", \"7\", \"8\", \"9\", \"10\", \"11\", \"12\", \"13\", \"14\", \"15\", \"16\", \"17\", \"18\", \"19\", \"20\", \"22\", \"23\", \"24\", \"25\", \"26\", \"27\", \"28\", \"29\", \"30\", \"31\", \"32\", \"33\", \"34\", \"35\", \"38\", \"39\"], \"mode\": \"markers\", \"name\": \"weighted_accuracy\", \"stepped\": false, \"type\": \"scatter\", \"data\": [0.6177902675452612, 0.6241750119928604, 0.5824993981045201, 0.5550787391464064, 0.5329322795564667, 0.5736348568414277, 0.6273535911798517, 0.6100320806222024, 0.6124524928496518, 0.5818124892872121, 0.6138033462069179, 0.6059902199580861, 0.5945312032158876, 0.6175729607440215, 0.6110086469371865, 0.6072816478905289, 0.6143808092572712, 0.6167259191234912, 0.6085644746311683, 0.6161186944052421, 0.6194551344148731, 0.6002495129062125, 0.608294422007549, 0.6185615715713506, 0.533268536443957, 0.6112131934682996, 0.6143309813830121, 0.6101503117274334, 0.6084964230844403, 0.6065085555868477, 0.5877650346417499, 0.6112782488831419, 0.6170875333317095, 0.5840928172522457, 0.5973704482886175, 0.6375363288373189, 0.6361092708853742]}, {\"categories\": [\"0\", \"1\", \"2\", \"3\", \"4\", \"5\", \"6\", \"7\", \"8\", \"9\", \"10\", \"11\", \"12\", \"13\", \"14\", \"15\", \"16\", \"17\", \"18\", \"19\", \"20\", \"22\", \"23\", \"24\", \"25\", \"26\", \"27\", \"28\", \"29\", \"30\", \"31\", \"32\", \"33\", \"34\", \"35\", \"38\", \"39\"], \"mode\": \"lines\", \"name\": \"weighted_accuracy_max\", \"stepped\": true, \"type\": \"scatter\", \"data\": [0.6177902675452612, 0.6241750119928604, 0.6241750119928604, 0.6241750119928604, 0.6241750119928604, 0.6241750119928604, 0.6273535911798517, 0.6273535911798517, 0.6273535911798517, 0.6273535911798517, 0.6273535911798517, 0.6273535911798517, 0.6273535911798517, 0.6273535911798517, 0.6273535911798517, 0.6273535911798517, 0.6273535911798517, 0.6273535911798517, 0.6273535911798517, 0.6273535911798517, 0.6273535911798517, 0.6273535911798517, 0.6273535911798517, 0.6273535911798517, 0.6273535911798517, 0.6273535911798517, 0.6273535911798517, 0.6273535911798517, 0.6273535911798517, 0.6273535911798517, 0.6273535911798517, 0.6273535911798517, 0.6273535911798517, 0.6273535911798517, 0.6273535911798517, 0.6375363288373189, 0.6375363288373189]}]}, \"metricName\": null, \"primaryMetricName\": \"accuracy\", \"showLegend\": false}, \"run_metrics\": [{\"name\": \"experiment_status\", \"run_id\": \"AutoML_b41a0d8e-8a07-4e82-ac68-cae8152970b4\", \"categories\": [0, 1, 2, 3, 4, 5, 6, 7, 8, 9, 10, 11, 12, 13], \"series\": [{\"data\": [\"DatasetEvaluation\", \"FeaturesGeneration\", \"DatasetFeaturization\", \"DatasetFeaturizationCompleted\", \"DatasetCrossValidationSplit\", \"ModelSelection\", \"BestRunExplainModel\", \"ModelExplanationDataSetSetup\", \"PickSurrogateModel\", \"EngineeredFeatureExplanations\", \"EngineeredFeatureExplanations\", \"RawFeaturesExplanations\", \"RawFeaturesExplanations\", \"BestRunExplainModel\"]}]}, {\"name\": \"experiment_status_description\", \"run_id\": \"AutoML_b41a0d8e-8a07-4e82-ac68-cae8152970b4\", \"categories\": [0, 1, 2, 3, 4, 5, 6, 7, 8, 9, 10, 11, 12, 13], \"series\": [{\"data\": [\"Gathering dataset statistics.\", \"Generating features for the dataset.\", \"Beginning to fit featurizers and featurize the dataset.\", \"Completed fit featurizers and featurizing the dataset.\", \"Generating individually featurized CV splits.\", \"Beginning model selection.\", \"Best run model explanations started\", \"Model explanations data setup completed\", \"Choosing LinearModel as the surrogate model for explanations\", \"Computation of engineered features started\", \"Computation of engineered features completed\", \"Computation of raw features started\", \"Computation of raw features completed\", \"Best run model explanations completed\"]}]}, {\"name\": \"log_loss\", \"run_id\": \"AutoML_b41a0d8e-8a07-4e82-ac68-cae8152970b4\", \"categories\": [0], \"series\": [{\"data\": [0.6404037431875012]}]}, {\"name\": \"average_precision_score_macro\", \"run_id\": \"AutoML_b41a0d8e-8a07-4e82-ac68-cae8152970b4\", \"categories\": [0], \"series\": [{\"data\": [0.6811340727295183]}]}, {\"name\": \"average_precision_score_micro\", \"run_id\": \"AutoML_b41a0d8e-8a07-4e82-ac68-cae8152970b4\", \"categories\": [0], \"series\": [{\"data\": [0.6850607643945976]}]}, {\"name\": \"recall_score_micro\", \"run_id\": \"AutoML_b41a0d8e-8a07-4e82-ac68-cae8152970b4\", \"categories\": [0], \"series\": [{\"data\": [0.6376000000000001]}]}, {\"name\": \"f1_score_macro\", \"run_id\": \"AutoML_b41a0d8e-8a07-4e82-ac68-cae8152970b4\", \"categories\": [0], \"series\": [{\"data\": [0.6375678259506241]}]}, {\"name\": \"AUC_weighted\", \"run_id\": \"AutoML_b41a0d8e-8a07-4e82-ac68-cae8152970b4\", \"categories\": [0], \"series\": [{\"data\": [0.6891508554649647]}]}, {\"name\": \"precision_score_weighted\", \"run_id\": \"AutoML_b41a0d8e-8a07-4e82-ac68-cae8152970b4\", \"categories\": [0], \"series\": [{\"data\": [0.6377989744319355]}]}, {\"name\": \"balanced_accuracy\", \"run_id\": \"AutoML_b41a0d8e-8a07-4e82-ac68-cae8152970b4\", \"categories\": [0], \"series\": [{\"data\": [0.6376637619117124]}]}, {\"name\": \"AUC_macro\", \"run_id\": \"AutoML_b41a0d8e-8a07-4e82-ac68-cae8152970b4\", \"categories\": [0], \"series\": [{\"data\": [0.6891508554649647]}]}, {\"name\": \"AUC_micro\", \"run_id\": \"AutoML_b41a0d8e-8a07-4e82-ac68-cae8152970b4\", \"categories\": [0], \"series\": [{\"data\": [0.6895131]}]}, {\"name\": \"average_precision_score_weighted\", \"run_id\": \"AutoML_b41a0d8e-8a07-4e82-ac68-cae8152970b4\", \"categories\": [0], \"series\": [{\"data\": [0.6814373682936801]}]}, {\"name\": \"matthews_correlation\", \"run_id\": \"AutoML_b41a0d8e-8a07-4e82-ac68-cae8152970b4\", \"categories\": [0], \"series\": [{\"data\": [0.2753086631258564]}]}, {\"name\": \"recall_score_macro\", \"run_id\": \"AutoML_b41a0d8e-8a07-4e82-ac68-cae8152970b4\", \"categories\": [0], \"series\": [{\"data\": [0.6376637619117124]}]}, {\"name\": \"f1_score_micro\", \"run_id\": \"AutoML_b41a0d8e-8a07-4e82-ac68-cae8152970b4\", \"categories\": [0], \"series\": [{\"data\": [0.6376000000000001]}]}, {\"name\": \"accuracy\", \"run_id\": \"AutoML_b41a0d8e-8a07-4e82-ac68-cae8152970b4\", \"categories\": [0], \"series\": [{\"data\": [0.6376000000000001]}]}, {\"name\": \"norm_macro_recall\", \"run_id\": \"AutoML_b41a0d8e-8a07-4e82-ac68-cae8152970b4\", \"categories\": [0], \"series\": [{\"data\": [0.2753275238234247]}]}, {\"name\": \"recall_score_weighted\", \"run_id\": \"AutoML_b41a0d8e-8a07-4e82-ac68-cae8152970b4\", \"categories\": [0], \"series\": [{\"data\": [0.6376000000000001]}]}, {\"name\": \"f1_score_weighted\", \"run_id\": \"AutoML_b41a0d8e-8a07-4e82-ac68-cae8152970b4\", \"categories\": [0], \"series\": [{\"data\": [0.6376129954389803]}]}, {\"name\": \"weighted_accuracy\", \"run_id\": \"AutoML_b41a0d8e-8a07-4e82-ac68-cae8152970b4\", \"categories\": [0], \"series\": [{\"data\": [0.6375363288373189]}]}, {\"name\": \"precision_score_macro\", \"run_id\": \"AutoML_b41a0d8e-8a07-4e82-ac68-cae8152970b4\", \"categories\": [0], \"series\": [{\"data\": [0.6376449033869295]}]}, {\"name\": \"precision_score_micro\", \"run_id\": \"AutoML_b41a0d8e-8a07-4e82-ac68-cae8152970b4\", \"categories\": [0], \"series\": [{\"data\": [0.6376000000000001]}]}], \"run_logs\": \"\\nRun is completed.\", \"graph\": {}, \"widget_settings\": {\"childWidgetDisplay\": \"popup\", \"send_telemetry\": false, \"log_level\": \"INFO\", \"sdk_version\": \"1.19.0\"}, \"loading\": false}"
     },
     "metadata": {},
     "output_type": "display_data"
    }
   ],
   "source": [
    "RunDetails(remote_run).show()"
   ]
  },
  {
   "cell_type": "markdown",
   "metadata": {},
   "source": [
    "## Best Model\n",
    "\n",
    "TODO: In the cell below, get the best model from the automl experiments and display all the properties of the model.\n",
    "\n"
   ]
  },
  {
   "cell_type": "code",
   "execution_count": 12,
   "metadata": {},
   "outputs": [
    {
     "data": {
      "text/plain": [
       "{'precision_score_macro': 0.6376449033869295,\n",
       " 'precision_score_micro': 0.6376000000000001,\n",
       " 'accuracy': 0.6376000000000001,\n",
       " 'f1_score_micro': 0.6376000000000001,\n",
       " 'recall_score_micro': 0.6376000000000001,\n",
       " 'average_precision_score_macro': 0.6811340727295183,\n",
       " 'recall_score_macro': 0.6376637619117124,\n",
       " 'AUC_macro': 0.6891508554649647,\n",
       " 'f1_score_macro': 0.6375678259506241,\n",
       " 'balanced_accuracy': 0.6376637619117124,\n",
       " 'f1_score_weighted': 0.6376129954389803,\n",
       " 'log_loss': 0.6404037431875012,\n",
       " 'weighted_accuracy': 0.6375363288373189,\n",
       " 'AUC_micro': 0.6895131,\n",
       " 'average_precision_score_micro': 0.6850607643945976,\n",
       " 'AUC_weighted': 0.6891508554649647,\n",
       " 'average_precision_score_weighted': 0.6814373682936801,\n",
       " 'recall_score_weighted': 0.6376000000000001,\n",
       " 'matthews_correlation': 0.2753086631258564,\n",
       " 'norm_macro_recall': 0.2753275238234247,\n",
       " 'precision_score_weighted': 0.6377989744319355,\n",
       " 'confusion_matrix': 'aml://artifactId/ExperimentRun/dcid.AutoML_b41a0d8e-8a07-4e82-ac68-cae8152970b4_38/confusion_matrix',\n",
       " 'accuracy_table': 'aml://artifactId/ExperimentRun/dcid.AutoML_b41a0d8e-8a07-4e82-ac68-cae8152970b4_38/accuracy_table'}"
      ]
     },
     "execution_count": 12,
     "metadata": {},
     "output_type": "execute_result"
    }
   ],
   "source": [
    "best_run = remote_run.get_best_child()\n",
    "best_run.get_metrics()"
   ]
  },
  {
   "cell_type": "code",
   "execution_count": 13,
   "metadata": {},
   "outputs": [
    {
     "data": {
      "text/plain": [
       "{'runTemplate': 'automl_child',\n",
       " 'pipeline_id': '__AutoML_Ensemble__',\n",
       " 'pipeline_spec': '{\"pipeline_id\":\"__AutoML_Ensemble__\",\"objects\":[{\"module\":\"azureml.train.automl.ensemble\",\"class_name\":\"Ensemble\",\"spec_class\":\"sklearn\",\"param_args\":[],\"param_kwargs\":{\"automl_settings\":\"{\\'task_type\\':\\'classification\\',\\'primary_metric\\':\\'accuracy\\',\\'verbosity\\':20,\\'ensemble_iterations\\':15,\\'is_timeseries\\':False,\\'name\\':\\'MS-Malware\\',\\'compute_target\\':\\'malware-compute\\',\\'subscription_id\\':\\'610d6e37-4747-4a20-80eb-3aad70a55f43\\',\\'region\\':\\'southcentralus\\',\\'spark_service\\':None}\",\"ensemble_run_id\":\"AutoML_b41a0d8e-8a07-4e82-ac68-cae8152970b4_38\",\"experiment_name\":\"MS-Malware\",\"workspace_name\":\"quick-starts-ws-133553\",\"subscription_id\":\"610d6e37-4747-4a20-80eb-3aad70a55f43\",\"resource_group_name\":\"aml-quickstarts-133553\"}}]}',\n",
       " 'training_percent': '100',\n",
       " 'predicted_cost': None,\n",
       " 'iteration': '38',\n",
       " '_aml_system_scenario_identification': 'Remote.Child',\n",
       " '_azureml.ComputeTargetType': 'amlcompute',\n",
       " 'ContentSnapshotId': '57a45ce7-2b0f-4bd8-a67c-e10bc2c472eb',\n",
       " 'ProcessInfoFile': 'azureml-logs/process_info.json',\n",
       " 'ProcessStatusFile': 'azureml-logs/process_status.json',\n",
       " 'run_template': 'automl_child',\n",
       " 'run_preprocessor': '',\n",
       " 'run_algorithm': 'VotingEnsemble',\n",
       " 'conda_env_data_location': 'aml://artifact/ExperimentRun/dcid.AutoML_b41a0d8e-8a07-4e82-ac68-cae8152970b4_38/outputs/conda_env_v_1_0_0.yml',\n",
       " 'model_data_location': 'aml://artifact/ExperimentRun/dcid.AutoML_b41a0d8e-8a07-4e82-ac68-cae8152970b4_38/outputs/model.pkl',\n",
       " 'model_size_on_disk': '20547585',\n",
       " 'scoring_data_location': 'aml://artifact/ExperimentRun/dcid.AutoML_b41a0d8e-8a07-4e82-ac68-cae8152970b4_38/outputs/scoring_file_v_1_0_0.py',\n",
       " 'model_exp_support': 'True',\n",
       " 'pipeline_graph_version': '1.0.0',\n",
       " 'model_name': 'AutoMLb41a0d8e838',\n",
       " 'staticProperties': '{}',\n",
       " 'score': '0.6376000000000001',\n",
       " 'run_properties': \"classification_labels=None,\\n                              estimators=[('6',\\n                                           Pipeline(memory=None,\\n                                                    steps=[('standardscalerwrapper',\\n                                                            <azureml.automl.runtime.shared.model_wrappers.StandardScalerWrapper object at 0x7fccd8271198>\",\n",
       " 'pipeline_script': '{\"pipeline_id\":\"__AutoML_Ensemble__\",\"objects\":[{\"module\":\"azureml.train.automl.ensemble\",\"class_name\":\"Ensemble\",\"spec_class\":\"sklearn\",\"param_args\":[],\"param_kwargs\":{\"automl_settings\":\"{\\'task_type\\':\\'classification\\',\\'primary_metric\\':\\'accuracy\\',\\'verbosity\\':20,\\'ensemble_iterations\\':15,\\'is_timeseries\\':False,\\'name\\':\\'MS-Malware\\',\\'compute_target\\':\\'malware-compute\\',\\'subscription_id\\':\\'610d6e37-4747-4a20-80eb-3aad70a55f43\\',\\'region\\':\\'southcentralus\\',\\'spark_service\\':None}\",\"ensemble_run_id\":\"AutoML_b41a0d8e-8a07-4e82-ac68-cae8152970b4_38\",\"experiment_name\":\"MS-Malware\",\"workspace_name\":\"quick-starts-ws-133553\",\"subscription_id\":\"610d6e37-4747-4a20-80eb-3aad70a55f43\",\"resource_group_name\":\"aml-quickstarts-133553\"}}]}',\n",
       " 'training_type': 'MeanCrossValidation',\n",
       " 'num_classes': '',\n",
       " 'framework': 'sklearn',\n",
       " 'fit_time': '48',\n",
       " 'goal': 'accuracy_max',\n",
       " 'class_labels': '',\n",
       " 'primary_metric': 'accuracy',\n",
       " 'errors': '{}',\n",
       " 'fitted_pipeline': \"Pipeline(memory=None,\\n         steps=[('datatransformer',\\n                 DataTransformer(enable_dnn=None, enable_feature_sweeping=None,\\n                                 feature_sweeping_config=None,\\n                                 feature_sweeping_timeout=None,\\n                                 featurization_config=None, force_text_dnn=None,\\n                                 is_cross_validation=None,\\n                                 is_onnx_compatible=None, logger=None,\\n                                 observer=None, task=None, working_dir=None)),\\n                ('prefittedsoftvotingclassifier',...\\n                                                                                                solver='saga',\\n                                                                                                tol=0.0001,\\n                                                                                                verbose=0,\\n                                                                                                warm_start=False))],\\n                                                                     verbose=False))],\\n                                               flatten_transform=None,\\n                                               weights=[0.13333333333333333,\\n                                                        0.13333333333333333,\\n                                                        0.06666666666666667,\\n                                                        0.06666666666666667,\\n                                                        0.06666666666666667,\\n                                                        0.06666666666666667,\\n                                                        0.06666666666666667,\\n                                                        0.13333333333333333,\\n                                                        0.06666666666666667,\\n                                                        0.06666666666666667,\\n                                                        0.06666666666666667,\\n                                                        0.06666666666666667]))],\\n         verbose=False)\",\n",
       " 'friendly_errors': '{}',\n",
       " 'onnx_model_resource': '{}',\n",
       " 'error_code': '',\n",
       " 'failure_reason': '',\n",
       " 'feature_skus': 'automatedml_sdk_guardrails',\n",
       " 'dependencies_versions': '{\"azureml-train-automl-runtime\": \"1.19.0\", \"azureml-train-automl-client\": \"1.19.0\", \"azureml-telemetry\": \"1.19.0\", \"azureml-pipeline-core\": \"1.19.0\", \"azureml-model-management-sdk\": \"1.0.1b6.post1\", \"azureml-interpret\": \"1.19.0\", \"azureml-defaults\": \"1.19.0\", \"azureml-dataset-runtime\": \"1.19.0\", \"azureml-dataprep\": \"2.6.1\", \"azureml-dataprep-rslex\": \"1.4.0\", \"azureml-dataprep-native\": \"26.0.0\", \"azureml-core\": \"1.19.0\", \"azureml-automl-runtime\": \"1.19.0\", \"azureml-automl-core\": \"1.19.0\"}',\n",
       " 'num_cores': '2',\n",
       " 'num_logical_cores': '2',\n",
       " 'peak_memory_usage': '946124',\n",
       " 'vm_configuration': 'Intel(R) Xeon(R) Platinum 8171M CPU @ 2.60GHz',\n",
       " 'core_hours': '0.014075552500000001'}"
      ]
     },
     "execution_count": 13,
     "metadata": {},
     "output_type": "execute_result"
    }
   ],
   "source": [
    "best_run.properties"
   ]
  },
  {
   "cell_type": "markdown",
   "metadata": {},
   "source": [
    "## Model Deployment\n",
    "\n",
    "Remember you have to deploy only one of the two models you trained.. Perform the steps in the rest of this notebook only if you wish to deploy this model.\n",
    "\n",
    "TODO: In the cell below, register the model, create an inference config and deploy the model as a web service."
   ]
  },
  {
   "cell_type": "code",
   "execution_count": 14,
   "metadata": {},
   "outputs": [
    {
     "data": {
      "text/plain": [
       "azureml.core.run.Run"
      ]
     },
     "execution_count": 14,
     "metadata": {},
     "output_type": "execute_result"
    }
   ],
   "source": [
    "type(best_run)"
   ]
  },
  {
   "cell_type": "code",
   "execution_count": 45,
   "metadata": {
    "collapsed": false,
    "gather": {
     "logged": 1598431435189
    },
    "jupyter": {
     "outputs_hidden": false,
     "source_hidden": false
    },
    "nteract": {
     "transient": {
      "deleting": false
     }
    }
   },
   "outputs": [
    {
     "name": "stdout",
     "output_type": "stream",
     "text": [
      "best_automl\tbest_automl:4\t4\n"
     ]
    }
   ],
   "source": [
    "model = best_run.register_model(model_name = 'best_automl', model_path='outputs/model.pkl')\n",
    "print(model.name, model.id, model.version, sep='\\t')"
   ]
  },
  {
   "cell_type": "code",
   "execution_count": 46,
   "metadata": {},
   "outputs": [],
   "source": [
    "inference_config = InferenceConfig(entry_script='automl_scoring.py', environment=automl_env)\n",
    "deployment_config = LocalWebservice.deploy_configuration()\n",
    "model = Model(ws, name='best_automl')"
   ]
  },
  {
   "cell_type": "code",
   "execution_count": 47,
   "metadata": {},
   "outputs": [
    {
     "name": "stdout",
     "output_type": "stream",
     "text": [
      "Downloading model best_automl:4 to /tmp/azureml_031xy3hl/best_automl/4\n",
      "Generating Docker build context.\n",
      "2021/01/05 22:17:17 Downloading source code...\n",
      "2021/01/05 22:17:18 Finished downloading source code\n",
      "2021/01/05 22:17:19 Creating Docker network: acb_default_network, driver: 'bridge'\n",
      "2021/01/05 22:17:19 Successfully set up Docker network: acb_default_network\n",
      "2021/01/05 22:17:19 Setting up Docker configuration...\n",
      "2021/01/05 22:17:20 Successfully set up Docker configuration\n",
      "2021/01/05 22:17:20 Logging in to registry: c3d5fe77879a4028b9565b67ead59c84.azurecr.io\n",
      "2021/01/05 22:17:21 Successfully logged into c3d5fe77879a4028b9565b67ead59c84.azurecr.io\n",
      "2021/01/05 22:17:21 Executing step ID: acb_step_0. Timeout(sec): 5400, Working directory: '', Network: 'acb_default_network'\n",
      "2021/01/05 22:17:21 Scanning for dependencies...\n",
      "2021/01/05 22:17:22 Successfully scanned dependencies\n",
      "2021/01/05 22:17:22 Launching container with name: acb_step_0\n",
      "Sending build context to Docker daemon  64.51kB\n",
      "Step 1/15 : FROM mcr.microsoft.com/azureml/intelmpi2018.3-ubuntu16.04:20200821.v1@sha256:8cee6f674276dddb23068d2710da7f7f95b119412cc482675ac79ba45a4acf99\n",
      "sha256:8cee6f674276dddb23068d2710da7f7f95b119412cc482675ac79ba45a4acf99: Pulling from azureml/intelmpi2018.3-ubuntu16.04\n",
      "Digest: sha256:8cee6f674276dddb23068d2710da7f7f95b119412cc482675ac79ba45a4acf99\n",
      "Status: Downloaded newer image for mcr.microsoft.com/azureml/intelmpi2018.3-ubuntu16.04:20200821.v1@sha256:8cee6f674276dddb23068d2710da7f7f95b119412cc482675ac79ba45a4acf99\n",
      " ---> 287916b809d9\n",
      "Step 2/15 : USER root\n",
      " ---> Running in d65c43e23704\n",
      "Removing intermediate container d65c43e23704\n",
      " ---> 60b10a03f7ab\n",
      "Step 3/15 : RUN mkdir -p $HOME/.cache\n",
      " ---> Running in 1b8b6c067508\n",
      "Removing intermediate container 1b8b6c067508\n",
      " ---> f85ce4a6a018\n",
      "Step 4/15 : WORKDIR /\n",
      " ---> Running in 33d5b00e23e9\n",
      "Removing intermediate container 33d5b00e23e9\n",
      " ---> 023ac64634f1\n",
      "Step 5/15 : COPY azureml-environment-setup/99brokenproxy /etc/apt/apt.conf.d/\n",
      " ---> f1a4267d4a67\n",
      "Step 6/15 : RUN if dpkg --compare-versions `conda --version | grep -oE '[^ ]+$'` lt 4.4.11; then conda install conda==4.4.11; fi\n",
      " ---> Running in 77e1f422a4e3\n",
      "Removing intermediate container 77e1f422a4e3\n",
      " ---> f6db697b2f62\n",
      "Step 7/15 : COPY azureml-environment-setup/mutated_conda_dependencies.yml azureml-environment-setup/mutated_conda_dependencies.yml\n",
      " ---> 871ed2fe647e\n",
      "Step 8/15 : RUN ldconfig /usr/local/cuda/lib64/stubs && conda env create -p /azureml-envs/azureml_29d6691f982540a8942a770f453f7d1d -f azureml-environment-setup/mutated_conda_dependencies.yml && rm -rf \"$HOME/.cache/pip\" && conda clean -aqy && CONDA_ROOT_DIR=$(conda info --root) && rm -rf \"$CONDA_ROOT_DIR/pkgs\" && find \"$CONDA_ROOT_DIR\" -type d -name __pycache__ -exec rm -rf {} + && ldconfig\n",
      " ---> Running in 0c508dc6301d\n",
      "Warning: you have pip-installed dependencies in your environment file, but you do not list pip itself as one of your conda dependencies.  Conda may not use the correct pip to install your packages, and they may end up in the wrong place.  Please add an explicit pip dependency.  I'm adding one for you, but still nagging you.\n",
      "Collecting package metadata (repodata.json): ...working... done\n",
      "Solving environment: ...working... done\n",
      "\n",
      "Downloading and Extracting Packages\n",
      "tk-8.6.10            | 3.0 MB    | ########## | 100% \n",
      "readline-7.0         | 848 KB    | ########## | 100% \n",
      "scikit-learn-0.23.2  | 5.0 MB    | ########## | 100% \n",
      "numpy-base-1.19.2    | 4.1 MB    | ########## | 100% \n",
      "xz-5.2.5             | 341 KB    | ########## | 100% \n",
      "libedit-3.1          | 151 KB    | ########## | 100% \n",
      "mkl-2020.2           | 138.3 MB  | ########## | 100% \n",
      "libstdcxx-ng-9.1.0   | 3.1 MB    | ########## | 100% \n",
      "ncurses-6.0          | 781 KB    | ########## | 100% \n",
      "mkl_fft-1.2.0        | 149 KB    | ########## | 100% \n",
      "mkl_random-1.1.1     | 327 KB    | ########## | 100% \n",
      "threadpoolctl-2.1.0  | 17 KB     | ########## | 100% \n",
      "libgfortran-ng-7.3.0 | 1006 KB   | ########## | 100% \n",
      "python-3.6.2         | 23.6 MB   | ########## | 100% \n",
      "certifi-2020.12.5    | 140 KB    | ########## | 100% \n",
      "openssl-1.0.2u       | 2.2 MB    | ########## | 100% \n",
      "joblib-1.0.0         | 208 KB    | ########## | 100% \n",
      "six-1.15.0           | 27 KB     | ########## | 100% \n",
      "_libgcc_mutex-0.1    | 3 KB      | ########## | 100% \n",
      "blas-1.0             | 6 KB      | ########## | 100% \n",
      "pip-20.3.3           | 1.8 MB    | ########## | 100% \n",
      "libffi-3.2.1         | 48 KB     | ########## | 100% \n",
      "sqlite-3.23.1        | 808 KB    | ########## | 100% \n",
      "numpy-1.19.2         | 22 KB     | ########## | 100% \n",
      "libgcc-ng-9.1.0      | 5.1 MB    | ########## | 100% \n",
      "mkl-service-2.3.0    | 52 KB     | ########## | 100% \n",
      "zlib-1.2.11          | 103 KB    | ########## | 100% \n",
      "setuptools-51.0.0    | 712 KB    | ########## | 100% \n",
      "intel-openmp-2020.2  | 786 KB    | ########## | 100% \n",
      "ca-certificates-2020 | 121 KB    | ########## | 100% \n",
      "scipy-1.5.2          | 14.4 MB   | ########## | 100% \n",
      "wheel-0.36.2         | 33 KB     | ########## | 100% \n",
      "Preparing transaction: ...working... done\n",
      "Verifying transaction: ...working... done\n",
      "Executing transaction: ...working... done\n",
      "Ran pip subprocess with arguments:\n",
      "['/azureml-envs/azureml_29d6691f982540a8942a770f453f7d1d/bin/python', '-m', 'pip', 'install', '-U', '-r', '/azureml-environment-setup/condaenv.jg92y2v7.requirements.txt']\n",
      "Pip subprocess output:\n",
      "Collecting azureml-defaults\n",
      "  Downloading azureml_defaults-1.19.0-py3-none-any.whl (3.1 kB)\n",
      "Collecting azureml-model-management-sdk==1.0.1b6.post1\n",
      "  Downloading azureml_model_management_sdk-1.0.1b6.post1-py2.py3-none-any.whl (130 kB)\n",
      "Requirement already satisfied: numpy>=1.13.0 in /azureml-envs/azureml_29d6691f982540a8942a770f453f7d1d/lib/python3.6/site-packages (from azureml-model-management-sdk==1.0.1b6.post1->azureml-defaults->-r /azureml-environment-setup/condaenv.jg92y2v7.requirements.txt (line 1)) (1.19.2)\n",
      "Requirement already satisfied: six>=1.10 in /azureml-envs/azureml_29d6691f982540a8942a770f453f7d1d/lib/python3.6/site-packages (from azureml-model-management-sdk==1.0.1b6.post1->azureml-defaults->-r /azureml-environment-setup/condaenv.jg92y2v7.requirements.txt (line 1)) (1.15.0)\n",
      "Collecting configparser==3.7.4\n",
      "  Downloading configparser-3.7.4-py2.py3-none-any.whl (22 kB)\n",
      "Collecting flask==1.0.3\n",
      "  Downloading Flask-1.0.3-py2.py3-none-any.whl (92 kB)\n",
      "Collecting gunicorn==19.9.0\n",
      "  Downloading gunicorn-19.9.0-py2.py3-none-any.whl (112 kB)\n",
      "Collecting json-logging-py==0.2\n",
      "  Downloading json-logging-py-0.2.tar.gz (3.6 kB)\n",
      "Collecting adal>=0.4.5\n",
      "  Downloading adal-1.2.5-py2.py3-none-any.whl (55 kB)\n",
      "Collecting applicationinsights>=0.11.7\n",
      "  Downloading applicationinsights-0.11.9-py2.py3-none-any.whl (58 kB)\n",
      "Collecting azureml-core~=1.19.0\n",
      "  Downloading azureml_core-1.19.0-py3-none-any.whl (2.1 MB)\n",
      "Collecting azure-common>=1.1.12\n",
      "  Downloading azure_common-1.1.26-py2.py3-none-any.whl (12 kB)\n",
      "Collecting azure-graphrbac<1.0.0,>=0.40.0\n",
      "  Downloading azure_graphrbac-0.61.1-py2.py3-none-any.whl (141 kB)\n",
      "Collecting azure-mgmt-authorization<1.0.0,>=0.40.0\n",
      "  Downloading azure_mgmt_authorization-0.61.0-py2.py3-none-any.whl (94 kB)\n",
      "Collecting azure-mgmt-containerregistry>=2.0.0\n",
      "  Downloading azure_mgmt_containerregistry-2.8.0-py2.py3-none-any.whl (718 kB)\n",
      "Collecting azure-mgmt-keyvault<7.0.0,>=0.40.0\n",
      "  Downloading azure_mgmt_keyvault-2.2.0-py2.py3-none-any.whl (89 kB)\n",
      "Collecting azure-mgmt-resource<15.0.0,>=1.2.1\n",
      "  Downloading azure_mgmt_resource-12.0.0-py2.py3-none-any.whl (1.1 MB)\n",
      "Collecting azure-mgmt-storage<16.0.0,>=1.5.0\n",
      "  Downloading azure_mgmt_storage-11.2.0-py2.py3-none-any.whl (547 kB)\n",
      "Collecting azureml-dataset-runtime[fuse]~=1.19.0\n",
      "  Downloading azureml_dataset_runtime-1.19.0.post1-py3-none-any.whl (3.5 kB)\n",
      "Collecting azureml-dataprep<2.7.0a,>=2.6.0a\n",
      "  Downloading azureml_dataprep-2.6.3-py3-none-any.whl (39.4 MB)\n",
      "Collecting azure-identity<1.5.0,>=1.2.0\n",
      "  Downloading azure_identity-1.4.1-py2.py3-none-any.whl (86 kB)\n",
      "Collecting azure-core<2.0.0,>=1.0.0\n",
      "  Downloading azure_core-1.9.0-py2.py3-none-any.whl (124 kB)\n",
      "Collecting azureml-dataprep-native<27.0.0,>=26.0.0\n",
      "  Downloading azureml_dataprep_native-26.0.0-cp36-cp36m-manylinux1_x86_64.whl (1.3 MB)\n",
      "Collecting azureml-dataprep-rslex<1.5.0a,>=1.4.0dev0\n",
      "  Downloading azureml_dataprep_rslex-1.4.0-cp36-cp36m-manylinux2010_x86_64.whl (7.9 MB)\n",
      "Collecting click>=5.1\n",
      "  Downloading click-7.1.2-py2.py3-none-any.whl (82 kB)\n",
      "Collecting cloudpickle<2.0.0,>=1.1.0\n",
      "  Downloading cloudpickle-1.6.0-py3-none-any.whl (23 kB)\n",
      "Collecting cryptography>=1.1.0\n",
      "  Downloading cryptography-3.3.1-cp36-abi3-manylinux2010_x86_64.whl (2.6 MB)\n",
      "Collecting cffi>=1.12\n",
      "  Downloading cffi-1.14.4-cp36-cp36m-manylinux1_x86_64.whl (401 kB)\n",
      "Collecting dill>=0.2.7.1\n",
      "  Downloading dill-0.3.3-py2.py3-none-any.whl (81 kB)\n",
      "Collecting dotnetcore2<3.0.0,>=2.1.14\n",
      "  Downloading dotnetcore2-2.1.20-py3-none-manylinux1_x86_64.whl (28.7 MB)\n",
      "Collecting distro>=1.2.0\n",
      "  Downloading distro-1.5.0-py2.py3-none-any.whl (18 kB)\n",
      "Collecting fusepy<4.0.0,>=3.0.1\n",
      "  Downloading fusepy-3.0.1.tar.gz (11 kB)\n",
      "Collecting itsdangerous>=0.24\n",
      "  Downloading itsdangerous-1.1.0-py2.py3-none-any.whl (16 kB)\n",
      "Collecting Jinja2>=2.10\n",
      "  Downloading Jinja2-2.11.2-py2.py3-none-any.whl (125 kB)\n",
      "Collecting liac-arff>=2.1.1\n",
      "  Downloading liac-arff-2.5.0.tar.gz (13 kB)\n",
      "Collecting MarkupSafe>=0.23\n",
      "  Downloading MarkupSafe-1.1.1-cp36-cp36m-manylinux1_x86_64.whl (27 kB)\n",
      "Collecting msal<2.0.0,>=1.3.0\n",
      "  Downloading msal-1.8.0-py2.py3-none-any.whl (58 kB)\n",
      "Collecting msal-extensions~=0.2.2\n",
      "  Downloading msal_extensions-0.2.2-py2.py3-none-any.whl (15 kB)\n",
      "Collecting msrest>=0.5.1\n",
      "  Downloading msrest-0.6.19-py2.py3-none-any.whl (84 kB)\n",
      "Requirement already satisfied: certifi>=2017.4.17 in /azureml-envs/azureml_29d6691f982540a8942a770f453f7d1d/lib/python3.6/site-packages (from msrest>=0.5.1->azureml-core~=1.19.0->azureml-defaults->-r /azureml-environment-setup/condaenv.jg92y2v7.requirements.txt (line 1)) (2020.12.5)\n",
      "Collecting isodate>=0.6.0\n",
      "  Downloading isodate-0.6.0-py2.py3-none-any.whl (45 kB)\n",
      "Collecting msrestazure>=0.4.33\n",
      "  Downloading msrestazure-0.6.4-py2.py3-none-any.whl (40 kB)\n",
      "Collecting pandas>=0.20.2\n",
      "  Downloading pandas-1.1.5-cp36-cp36m-manylinux1_x86_64.whl (9.5 MB)\n",
      "Collecting portalocker~=1.0\n",
      "  Downloading portalocker-1.7.1-py2.py3-none-any.whl (10 kB)\n",
      "Collecting pyarrow<2.0.0,>=0.17.0\n",
      "  Downloading pyarrow-1.0.1-cp36-cp36m-manylinux2014_x86_64.whl (17.3 MB)\n",
      "Collecting PyJWT>=1.0.0\n",
      "  Downloading PyJWT-1.7.1-py2.py3-none-any.whl (18 kB)\n",
      "Collecting pyopenssl<20.0.0\n",
      "  Downloading pyOpenSSL-19.1.0-py2.py3-none-any.whl (53 kB)\n",
      "Collecting python-dateutil>=2.5.3\n",
      "  Downloading python_dateutil-2.8.1-py2.py3-none-any.whl (227 kB)\n",
      "Collecting pytz>=2017.2\n",
      "  Downloading pytz-2020.5-py2.py3-none-any.whl (510 kB)\n",
      "Collecting requests>=2.17.3\n",
      "  Downloading requests-2.25.1-py2.py3-none-any.whl (61 kB)\n",
      "Collecting chardet<5,>=3.0.2\n",
      "  Downloading chardet-4.0.0-py2.py3-none-any.whl (178 kB)\n",
      "Collecting idna<3,>=2.5\n",
      "  Downloading idna-2.10-py2.py3-none-any.whl (58 kB)\n",
      "Collecting requests-oauthlib>=0.5.0\n",
      "  Downloading requests_oauthlib-1.3.0-py2.py3-none-any.whl (23 kB)\n",
      "Collecting oauthlib>=3.0.0\n",
      "  Downloading oauthlib-3.1.0-py2.py3-none-any.whl (147 kB)\n",
      "Collecting ruamel.yaml>=0.15.35\n",
      "  Downloading ruamel.yaml-0.16.12-py2.py3-none-any.whl (111 kB)\n",
      "Collecting ruamel.yaml.clib>=0.1.2\n",
      "  Downloading ruamel.yaml.clib-0.2.2-cp36-cp36m-manylinux1_x86_64.whl (549 kB)\n",
      "Collecting urllib3>=1.23\n",
      "  Downloading urllib3-1.26.2-py2.py3-none-any.whl (136 kB)\n",
      "Collecting werkzeug<=1.0.1,>=0.16.1\n",
      "  Downloading Werkzeug-1.0.1-py2.py3-none-any.whl (298 kB)\n",
      "Collecting azureml-train-automl\n",
      "  Downloading azureml_train_automl-1.19.0-py3-none-any.whl (3.4 kB)\n",
      "Collecting azureml-automl-core~=1.19.0\n",
      "  Downloading azureml_automl_core-1.19.0-py3-none-any.whl (188 kB)\n",
      "Collecting azureml-automl-runtime~=1.19.0\n",
      "  Downloading azureml_automl_runtime-1.19.0-py3-none-any.whl (1.9 MB)\n",
      "Requirement already satisfied: scipy<=1.5.2,>=1.0.0 in /azureml-envs/azureml_29d6691f982540a8942a770f453f7d1d/lib/python3.6/site-packages (from azureml-automl-runtime~=1.19.0->azureml-train-automl->-r /azureml-environment-setup/condaenv.jg92y2v7.requirements.txt (line 2)) (1.5.2)\n",
      "Collecting joblib==0.14.1\n",
      "  Downloading joblib-0.14.1-py2.py3-none-any.whl (294 kB)\n",
      "Collecting onnxmltools==1.4.1\n",
      "  Downloading onnxmltools-1.4.1-py2.py3-none-any.whl (371 kB)\n",
      "Collecting onnxruntime==1.3.0\n",
      "  Downloading onnxruntime-1.3.0-cp36-cp36m-manylinux1_x86_64.whl (3.9 MB)\n",
      "Collecting pmdarima==1.1.1\n",
      "  Downloading pmdarima-1.1.1-cp36-cp36m-manylinux1_x86_64.whl (682 kB)\n",
      "Collecting py-cpuinfo==5.0.0\n",
      "  Downloading py-cpuinfo-5.0.0.tar.gz (82 kB)\n",
      "Collecting skl2onnx==1.4.9\n",
      "  Downloading skl2onnx-1.4.9-py2.py3-none-any.whl (114 kB)\n",
      "Collecting azureml-telemetry~=1.19.0\n",
      "  Downloading azureml_telemetry-1.19.0-py3-none-any.whl (30 kB)\n",
      "Collecting azureml-train-automl-client~=1.19.0\n",
      "  Downloading azureml_train_automl_client-1.19.0-py3-none-any.whl (109 kB)\n",
      "Collecting azureml-train-automl-runtime~=1.19.0\n",
      "  Downloading azureml_train_automl_runtime-1.19.0-py3-none-any.whl (132 kB)\n",
      "Collecting azure-storage-queue~=12.1\n",
      "  Downloading azure_storage_queue-12.1.4-py2.py3-none-any.whl (131 kB)\n",
      "Collecting azureml-interpret~=1.19.0\n",
      "  Downloading azureml_interpret-1.19.0-py3-none-any.whl (47 kB)\n",
      "Collecting interpret-community==0.15.*\n",
      "  Downloading interpret_community-0.15.4-py3-none-any.whl (5.9 MB)\n",
      "Collecting boto3<=1.15.18\n",
      "  Downloading boto3-1.15.18-py2.py3-none-any.whl (129 kB)\n",
      "Collecting botocore<=1.18.18\n",
      "  Downloading botocore-1.18.18-py2.py3-none-any.whl (6.7 MB)\n",
      "Collecting Cython>=0.29\n",
      "  Downloading Cython-0.29.21-cp36-cp36m-manylinux1_x86_64.whl (2.0 MB)\n",
      "Collecting gensim<3.9.0\n",
      "  Downloading gensim-3.8.3-cp36-cp36m-manylinux1_x86_64.whl (24.2 MB)\n",
      "Collecting interpret-core[required]<=0.2.1,>=0.1.20\n",
      "  Downloading interpret_core-0.2.1-py3-none-any.whl (5.0 MB)\n",
      "Collecting jmespath\n",
      "  Downloading jmespath-0.10.0-py2.py3-none-any.whl (24 kB)\n",
      "Collecting keras2onnx<=1.6.0,>=1.4.0\n",
      "  Downloading keras2onnx-1.6.0-py3-none-any.whl (219 kB)\n",
      "Collecting lightgbm<=2.3.0,>=2.0.11\n",
      "  Downloading lightgbm-2.3.0-py2.py3-none-manylinux1_x86_64.whl (1.3 MB)\n",
      "Collecting nimbusml<=1.8.0,>=1.7.1\n",
      "  Downloading nimbusml-1.8.0-cp36-none-manylinux1_x86_64.whl (114.1 MB)\n",
      "Collecting numpy>=1.13.0\n",
      "  Downloading numpy-1.18.5-cp36-cp36m-manylinux1_x86_64.whl (20.1 MB)\n",
      "Collecting onnx<=1.7.0,>=1.5.0\n",
      "  Downloading onnx-1.7.0-cp36-cp36m-manylinux1_x86_64.whl (7.4 MB)\n",
      "Collecting onnxconverter-common<=1.6.0,>=1.4.2\n",
      "  Downloading onnxconverter_common-1.6.0-py2.py3-none-any.whl (43 kB)\n",
      "Collecting pandas>=0.20.2\n",
      "  Downloading pandas-0.25.3-cp36-cp36m-manylinux1_x86_64.whl (10.4 MB)\n",
      "Collecting psutil<6.0.0,>=5.2.2\n",
      "  Downloading psutil-5.8.0-cp36-cp36m-manylinux2010_x86_64.whl (291 kB)\n",
      "Collecting s3transfer<0.4.0,>=0.3.0\n",
      "  Downloading s3transfer-0.3.3-py2.py3-none-any.whl (69 kB)\n",
      "Collecting scikit-learn<0.23.0,>=0.19.0\n",
      "  Downloading scikit_learn-0.22.2.post1-cp36-cp36m-manylinux1_x86_64.whl (7.1 MB)\n",
      "Collecting shap<=0.34.0,>=0.20.0\n",
      "  Downloading shap-0.34.0.tar.gz (264 kB)\n",
      "Collecting sklearn-pandas<=1.7.0,>=1.4.0\n",
      "  Downloading sklearn_pandas-1.7.0-py2.py3-none-any.whl (10 kB)\n",
      "Collecting smart-open<=1.9.0\n",
      "  Downloading smart_open-1.9.0.tar.gz (70 kB)\n",
      "Collecting boto>=2.32\n",
      "  Downloading boto-2.49.0-py2.py3-none-any.whl (1.4 MB)\n",
      "Collecting statsmodels<=0.10.2,>=0.9.0\n",
      "  Downloading statsmodels-0.10.2-cp36-cp36m-manylinux1_x86_64.whl (8.1 MB)\n",
      "Collecting patsy>=0.4.0\n",
      "  Downloading patsy-0.5.1-py2.py3-none-any.whl (231 kB)\n",
      "Collecting tqdm>4.25.0\n",
      "  Downloading tqdm-4.55.1-py2.py3-none-any.whl (68 kB)\n",
      "Collecting typing-extensions>=3.6.2.1\n",
      "  Downloading typing_extensions-3.7.4.3-py3-none-any.whl (22 kB)\n",
      "Collecting urllib3>=1.23\n",
      "  Downloading urllib3-1.25.11-py2.py3-none-any.whl (127 kB)\n",
      "Collecting backports.tempfile\n",
      "  Downloading backports.tempfile-1.0-py2.py3-none-any.whl (4.4 kB)\n",
      "Collecting backports.weakref\n",
      "  Downloading backports.weakref-1.0.post1-py2.py3-none-any.whl (5.2 kB)\n",
      "Collecting contextlib2\n",
      "  Downloading contextlib2-0.6.0.post1-py2.py3-none-any.whl (9.8 kB)\n",
      "Collecting docker\n",
      "  Downloading docker-4.4.1-py2.py3-none-any.whl (146 kB)\n",
      "Collecting websocket-client>=0.32.0\n",
      "  Downloading websocket_client-0.57.0-py2.py3-none-any.whl (200 kB)\n",
      "Collecting fire\n",
      "  Downloading fire-0.3.1.tar.gz (81 kB)\n",
      "Collecting jsonpickle\n",
      "  Downloading jsonpickle-1.4.2-py2.py3-none-any.whl (36 kB)\n",
      "Collecting importlib-metadata\n",
      "  Downloading importlib_metadata-3.3.0-py3-none-any.whl (10 kB)\n",
      "Collecting zipp>=0.5\n",
      "  Downloading zipp-3.4.0-py3-none-any.whl (5.2 kB)\n",
      "Collecting ndg-httpsclient\n",
      "  Downloading ndg_httpsclient-0.5.1-py3-none-any.whl (34 kB)\n",
      "Collecting pyasn1>=0.1.1\n",
      "  Downloading pyasn1-0.4.8-py2.py3-none-any.whl (77 kB)\n",
      "Collecting packaging\n",
      "  Downloading packaging-20.8-py2.py3-none-any.whl (39 kB)\n",
      "Collecting pyparsing>=2.0.2\n",
      "  Downloading pyparsing-2.4.7-py2.py3-none-any.whl (67 kB)\n",
      "Collecting pathspec\n",
      "  Downloading pathspec-0.8.1-py2.py3-none-any.whl (28 kB)\n",
      "Collecting protobuf\n",
      "  Downloading protobuf-3.14.0-cp36-cp36m-manylinux1_x86_64.whl (1.0 MB)\n",
      "Collecting pycparser\n",
      "  Downloading pycparser-2.20-py2.py3-none-any.whl (112 kB)\n",
      "Collecting SecretStorage\n",
      "  Downloading SecretStorage-3.3.0-py3-none-any.whl (14 kB)\n",
      "Collecting jeepney>=0.6\n",
      "  Downloading jeepney-0.6.0-py3-none-any.whl (45 kB)\n",
      "Collecting termcolor\n",
      "  Downloading termcolor-1.1.0.tar.gz (3.9 kB)\n",
      "Building wheels for collected packages: json-logging-py, fusepy, liac-arff, py-cpuinfo, shap, smart-open, fire, termcolor\n",
      "  Building wheel for json-logging-py (setup.py): started\n",
      "  Building wheel for json-logging-py (setup.py): finished with status 'done'\n",
      "  Created wheel for json-logging-py: filename=json_logging_py-0.2-py3-none-any.whl size=3923 sha256=704d054efae1c34778a4a185cc5b3916d45af4002f5a1675323f93931c2c89c2\n",
      "  Stored in directory: /root/.cache/pip/wheels/e2/1d/52/535a274b9c2ce7d4064838f2bdb62013801281ef7d7f21e2ee\n",
      "  Building wheel for fusepy (setup.py): started\n",
      "  Building wheel for fusepy (setup.py): finished with status 'done'\n",
      "  Created wheel for fusepy: filename=fusepy-3.0.1-py3-none-any.whl size=10502 sha256=93d64bf999772871603cf3149d642eb5d11f32fcfd7fb9fa3b5f39d41717ad5e\n",
      "  Stored in directory: /root/.cache/pip/wheels/21/5c/83/1dd7e8a232d12227e5410120f4374b33adeb4037473105b079\n",
      "  Building wheel for liac-arff (setup.py): started\n",
      "  Building wheel for liac-arff (setup.py): finished with status 'done'\n",
      "  Created wheel for liac-arff: filename=liac_arff-2.5.0-py3-none-any.whl size=11731 sha256=95c0fd7af5a948de75f94dbab15660413783a5a1c8bbe27d8016482c2bc37bf4\n",
      "  Stored in directory: /root/.cache/pip/wheels/53/ba/da/8562a6a6dbb428fd1ecc21053106df3948645cd991958f669b\n",
      "  Building wheel for py-cpuinfo (setup.py): started\n",
      "  Building wheel for py-cpuinfo (setup.py): finished with status 'done'\n",
      "  Created wheel for py-cpuinfo: filename=py_cpuinfo-5.0.0-py3-none-any.whl size=18682 sha256=216b03eb58fb5391f8f53d9df976c60a8f8b801080222d7a19e17fcd3b10c9ba\n",
      "  Stored in directory: /root/.cache/pip/wheels/e6/54/db/65176a1697a583d8ec5f90510f6faab11cda739d0e4f0ba2ea\n",
      "  Building wheel for shap (setup.py): started\n",
      "  Building wheel for shap (setup.py): finished with status 'done'\n",
      "  Created wheel for shap: filename=shap-0.34.0-cp36-cp36m-linux_x86_64.whl size=387859 sha256=50382490749d53a9bfa9f0ec920ab562c78a96172ce8805515fe76d913d07423\n",
      "  Stored in directory: /root/.cache/pip/wheels/88/56/c6/630b200696678c506f3057a1e7573c086e50d59fdcffcbfd04\n",
      "  Building wheel for smart-open (setup.py): started\n",
      "  Building wheel for smart-open (setup.py): finished with status 'done'\n",
      "  Created wheel for smart-open: filename=smart_open-1.9.0-py3-none-any.whl size=73086 sha256=cbab89006a1190a6c7f9a43570b005eba2214a9a92b9116cf053d01aa553ffd2\n",
      "  Stored in directory: /root/.cache/pip/wheels/8e/9f/cd/dbf5c1362c59abb699a218c1151679033b8ccb5b6db559d512\n",
      "  Building wheel for fire (setup.py): started\n",
      "  Building wheel for fire (setup.py): finished with status 'done'\n",
      "  Created wheel for fire: filename=fire-0.3.1-py2.py3-none-any.whl size=111006 sha256=45cec3aef09b6f25cbbceffce5d4dde7c2c01a0738c6a28f6403e9971c5d1126\n",
      "  Stored in directory: /root/.cache/pip/wheels/3e/38/8f/e5bd4465e4b72c8e4d1530ac46e1a42e1d2495f8c93242d5f1\n",
      "  Building wheel for termcolor (setup.py): started\n",
      "  Building wheel for termcolor (setup.py): finished with status 'done'\n",
      "  Created wheel for termcolor: filename=termcolor-1.1.0-py3-none-any.whl size=4829 sha256=1cbaf4b9d41a4f9c6c2453f45f376e7401b72a149e30c1c88593199d140f3697\n",
      "  Stored in directory: /root/.cache/pip/wheels/93/2a/eb/e58dbcbc963549ee4f065ff80a59f274cc7210b6eab962acdc\n",
      "Successfully built json-logging-py fusepy liac-arff py-cpuinfo shap smart-open fire termcolor\n",
      "Installing collected packages: pycparser, urllib3, idna, chardet, cffi, requests, PyJWT, oauthlib, cryptography, requests-oauthlib, python-dateutil, isodate, zipp, typing-extensions, portalocker, msrest, msal, jmespath, adal, websocket-client, ruamel.yaml.clib, pyopenssl, pyasn1, protobuf, numpy, msrestazure, msal-extensions, jeepney, importlib-metadata, distro, botocore, backports.weakref, azure-core, azure-common, termcolor, SecretStorage, s3transfer, ruamel.yaml, pytz, pathspec, onnx, ndg-httpsclient, jsonpickle, joblib, dotnetcore2, docker, contextlib2, cloudpickle, backports.tempfile, azureml-dataprep-rslex, azureml-dataprep-native, azure-mgmt-storage, azure-mgmt-resource, azure-mgmt-keyvault, azure-mgmt-containerregistry, azure-mgmt-authorization, azure-identity, azure-graphrbac, tqdm, scikit-learn, pyparsing, pyarrow, patsy, pandas, onnxconverter-common, MarkupSafe, interpret-core, fire, boto3, boto, azureml-dataprep, azureml-core, applicationinsights, werkzeug, statsmodels, smart-open, skl2onnx, shap, packaging, liac-arff, keras2onnx, Jinja2, itsdangerous, fusepy, dill, Cython, click, azureml-telemetry, azureml-dataset-runtime, sklearn-pandas, py-cpuinfo, psutil, pmdarima, onnxruntime, onnxmltools, nimbusml, lightgbm, json-logging-py, interpret-community, gunicorn, gensim, flask, configparser, azureml-model-management-sdk, azureml-automl-core, azureml-train-automl-client, azureml-interpret, azureml-defaults, azureml-automl-runtime, azure-storage-queue, azureml-train-automl-runtime, azureml-train-automl\n",
      "  Attempting uninstall: numpy\n",
      "    Found existing installation: numpy 1.19.2\n",
      "    Uninstalling numpy-1.19.2:\n",
      "      Successfully uninstalled numpy-1.19.2\n",
      "  Attempting uninstall: joblib\n",
      "    Found existing installation: joblib 1.0.0\n",
      "    Uninstalling joblib-1.0.0:\n",
      "      Successfully uninstalled joblib-1.0.0\n",
      "  Attempting uninstall: scikit-learn\n",
      "    Found existing installation: scikit-learn 0.23.2\n",
      "    Uninstalling scikit-learn-0.23.2:\n",
      "      Successfully uninstalled scikit-learn-0.23.2\n",
      "Successfully installed Cython-0.29.21 Jinja2-2.11.2 MarkupSafe-1.1.1 PyJWT-1.7.1 SecretStorage-3.3.0 adal-1.2.5 applicationinsights-0.11.9 azure-common-1.1.26 azure-core-1.9.0 azure-graphrbac-0.61.1 azure-identity-1.4.1 azure-mgmt-authorization-0.61.0 azure-mgmt-containerregistry-2.8.0 azure-mgmt-keyvault-2.2.0 azure-mgmt-resource-12.0.0 azure-mgmt-storage-11.2.0 azure-storage-queue-12.1.4 azureml-automl-core-1.19.0 azureml-automl-runtime-1.19.0 azureml-core-1.19.0 azureml-dataprep-2.6.3 azureml-dataprep-native-26.0.0 azureml-dataprep-rslex-1.4.0 azureml-dataset-runtime-1.19.0.post1 azureml-defaults-1.19.0 azureml-interpret-1.19.0 azureml-model-management-sdk-1.0.1b6.post1 azureml-telemetry-1.19.0 azureml-train-automl-1.19.0 azureml-train-automl-client-1.19.0 azureml-train-automl-runtime-1.19.0 backports.tempfile-1.0 backports.weakref-1.0.post1 boto-2.49.0 boto3-1.15.18 botocore-1.18.18 cffi-1.14.4 chardet-4.0.0 click-7.1.2 cloudpickle-1.6.0 configparser-3.7.4 contextlib2-0.6.0.post1 cryptography-3.3.1 dill-0.3.3 distro-1.5.0 docker-4.4.1 dotnetcore2-2.1.20 fire-0.3.1 flask-1.0.3 fusepy-3.0.1 gensim-3.8.3 gunicorn-19.9.0 idna-2.10 importlib-metadata-3.3.0 interpret-community-0.15.4 interpret-core-0.2.1 isodate-0.6.0 itsdangerous-1.1.0 jeepney-0.6.0 jmespath-0.10.0 joblib-0.14.1 json-logging-py-0.2 jsonpickle-1.4.2 keras2onnx-1.6.0 liac-arff-2.5.0 lightgbm-2.3.0 msal-1.8.0 msal-extensions-0.2.2 msrest-0.6.19 msrestazure-0.6.4 ndg-httpsclient-0.5.1 nimbusml-1.8.0 numpy-1.18.5 oauthlib-3.1.0 onnx-1.7.0 onnxconverter-common-1.6.0 onnxmltools-1.4.1 onnxruntime-1.3.0 packaging-20.8 pandas-0.25.3 pathspec-0.8.1 patsy-0.5.1 pmdarima-1.1.1 portalocker-1.7.1 protobuf-3.14.0 psutil-5.8.0 py-cpuinfo-5.0.0 pyarrow-1.0.1 pyasn1-0.4.8 pycparser-2.20 pyopenssl-19.1.0 pyparsing-2.4.7 python-dateutil-2.8.1 pytz-2020.5 requests-2.25.1 requests-oauthlib-1.3.0 ruamel.yaml-0.16.12 ruamel.yaml.clib-0.2.2 s3transfer-0.3.3 scikit-learn-0.22.2.post1 shap-0.34.0 skl2onnx-1.4.9 sklearn-pandas-1.7.0 smart-open-1.9.0 statsmodels-0.10.2 termcolor-1.1.0 tqdm-4.55.1 typing-extensions-3.7.4.3 urllib3-1.25.11 websocket-client-0.57.0 werkzeug-1.0.1 zipp-3.4.0\n",
      "\u001b[91m\n",
      "\n",
      "==> WARNING: A newer version of conda exists. <==\n",
      "  current version: 4.7.12\n",
      "  latest version: 4.9.2\n",
      "\n",
      "Please update conda by running\n",
      "\n",
      "    $ conda update -n base -c defaults conda\n",
      "\n",
      "\n",
      "\u001b[0m\n",
      "#\n",
      "# To activate this environment, use\n",
      "#\n",
      "#     $ conda activate /azureml-envs/azureml_29d6691f982540a8942a770f453f7d1d\n",
      "#\n",
      "# To deactivate an active environment, use\n",
      "#\n",
      "#     $ conda deactivate\n",
      "\n",
      "WARNING: /root/.conda/pkgs does not exist\n",
      "\n",
      "Removing intermediate container 0c508dc6301d\n",
      " ---> 3c1efda0ff0d\n",
      "Step 9/15 : ENV PATH /azureml-envs/azureml_29d6691f982540a8942a770f453f7d1d/bin:$PATH\n",
      " ---> Running in e4ad9f91144d\n",
      "Removing intermediate container e4ad9f91144d\n",
      " ---> caa3c4f8461a\n",
      "Step 10/15 : ENV AZUREML_CONDA_ENVIRONMENT_PATH /azureml-envs/azureml_29d6691f982540a8942a770f453f7d1d\n",
      " ---> Running in a86603a3045f\n",
      "Removing intermediate container a86603a3045f\n",
      " ---> 7810d7270e3c\n",
      "Step 11/15 : ENV LD_LIBRARY_PATH /azureml-envs/azureml_29d6691f982540a8942a770f453f7d1d/lib:$LD_LIBRARY_PATH\n",
      " ---> Running in ade9d898297c\n",
      "Removing intermediate container ade9d898297c\n",
      " ---> 7993db1e795d\n",
      "Step 12/15 : COPY azureml-environment-setup/spark_cache.py azureml-environment-setup/log4j.properties /azureml-environment-setup/\n",
      " ---> 590f8be2955d\n",
      "Step 13/15 : RUN if [ $SPARK_HOME ]; then /bin/bash -c '$SPARK_HOME/bin/spark-submit  /azureml-environment-setup/spark_cache.py'; fi\n",
      " ---> Running in 11155c8b4d7f\n",
      "Removing intermediate container 11155c8b4d7f\n",
      " ---> a83dca6aaabc\n",
      "Step 14/15 : ENV AZUREML_ENVIRONMENT_IMAGE True\n",
      " ---> Running in 6da100ecfd40\n",
      "Removing intermediate container 6da100ecfd40\n",
      " ---> 4fb21010abda\n",
      "Step 15/15 : CMD [\"bash\"]\n",
      " ---> Running in b263854ab641\n",
      "Removing intermediate container b263854ab641\n",
      " ---> 745564b32fa4\n",
      "Successfully built 745564b32fa4\n",
      "Successfully tagged c3d5fe77879a4028b9565b67ead59c84.azurecr.io/azureml/azureml_6807a88250ce0d5a244efdb587053ea4:latest\n",
      "2021/01/05 22:20:25 Successfully executed container: acb_step_0\n",
      "2021/01/05 22:20:25 Executing step ID: acb_step_1. Timeout(sec): 5400, Working directory: '', Network: 'acb_default_network'\n",
      "2021/01/05 22:20:25 Pushing image: c3d5fe77879a4028b9565b67ead59c84.azurecr.io/azureml/azureml_6807a88250ce0d5a244efdb587053ea4:latest, attempt 1\n",
      "The push refers to repository [c3d5fe77879a4028b9565b67ead59c84.azurecr.io/azureml/azureml_6807a88250ce0d5a244efdb587053ea4]\n",
      "34f0b4c5e2d2: Preparing\n",
      "4739f3682733: Preparing\n",
      "07f7d35797d3: Preparing\n",
      "f9b0a5f9108a: Preparing\n",
      "f91321f618d7: Preparing\n",
      "1a7521b13a12: Preparing\n",
      "13e378616f24: Preparing\n",
      "efc99d952c3d: Preparing\n",
      "9e292a80b88a: Preparing\n",
      "5e1805eb9eb5: Preparing\n",
      "8dab94e6d05c: Preparing\n",
      "2817caf0a082: Preparing\n",
      "aece08fd27fc: Preparing\n",
      "4caea5ef1f0b: Preparing\n",
      "dcc0cc99372e: Preparing\n",
      "87c128261339: Preparing\n",
      "41a253a417e6: Preparing\n",
      "e06660e80cf4: Preparing\n",
      "8dab94e6d05c: Waiting\n",
      "2817caf0a082: Waiting\n",
      "aece08fd27fc: Waiting\n",
      "4caea5ef1f0b: Waiting\n",
      "dcc0cc99372e: Waiting\n",
      "87c128261339: Waiting\n",
      "41a253a417e6: Waiting\n",
      "e06660e80cf4: Waiting\n",
      "efc99d952c3d: Waiting\n",
      "1a7521b13a12: Waiting\n",
      "9e292a80b88a: Waiting\n",
      "5e1805eb9eb5: Waiting\n",
      "13e378616f24: Waiting\n",
      "07f7d35797d3: Pushed\n",
      "f91321f618d7: Pushed\n",
      "f9b0a5f9108a: Pushed\n",
      "34f0b4c5e2d2: Pushed\n",
      "1a7521b13a12: Pushed\n",
      "13e378616f24: Pushed\n",
      "efc99d952c3d: Pushed\n",
      "9e292a80b88a: Pushed\n",
      "aece08fd27fc: Pushed\n",
      "8dab94e6d05c: Pushed\n",
      "5e1805eb9eb5: Pushed\n",
      "2817caf0a082: Pushed\n",
      "87c128261339: Pushed\n",
      "dcc0cc99372e: Pushed\n",
      "41a253a417e6: Pushed\n",
      "\n",
      "4caea5ef1f0b: Pushed\n",
      "e06660e80cf4: Pushed\n",
      "4739f3682733: Pushed\n",
      "latest: digest: sha256:a66d82cf4d7fff4aded621ded9e4327d6f23f5529b4ecdd15509a1908d642f9a size: 4095\n",
      "2021/01/05 22:23:38 Successfully pushed image: c3d5fe77879a4028b9565b67ead59c84.azurecr.io/azureml/azureml_6807a88250ce0d5a244efdb587053ea4:latest\n",
      "2021/01/05 22:23:38 Step ID: acb_step_0 marked as successful (elapsed time in seconds: 183.957529)\n",
      "2021/01/05 22:23:38 Populating digests for step ID: acb_step_0...\n",
      "2021/01/05 22:23:40 Successfully populated digests for step ID: acb_step_0\n",
      "2021/01/05 22:23:40 Step ID: acb_step_1 marked as successful (elapsed time in seconds: 193.793659)\n",
      "2021/01/05 22:23:40 The following dependencies were found:\n",
      "2021/01/05 22:23:40 \n",
      "- image:\n",
      "    registry: c3d5fe77879a4028b9565b67ead59c84.azurecr.io\n",
      "    repository: azureml/azureml_6807a88250ce0d5a244efdb587053ea4\n",
      "    tag: latest\n",
      "    digest: sha256:a66d82cf4d7fff4aded621ded9e4327d6f23f5529b4ecdd15509a1908d642f9a\n",
      "  runtime-dependency:\n",
      "    registry: mcr.microsoft.com\n",
      "    repository: azureml/intelmpi2018.3-ubuntu16.04\n",
      "    tag: 20200821.v1\n",
      "    digest: sha256:8cee6f674276dddb23068d2710da7f7f95b119412cc482675ac79ba45a4acf99\n",
      "  git: {}\n",
      "\n",
      "Run ID: cd6 was successful after 6m24s\n",
      "Package creation Succeeded\n",
      "Logging into Docker registry c3d5fe77879a4028b9565b67ead59c84.azurecr.io\n",
      "Logging into Docker registry c3d5fe77879a4028b9565b67ead59c84.azurecr.io\n",
      "Building Docker image from Dockerfile...\n",
      "Step 1/5 : FROM c3d5fe77879a4028b9565b67ead59c84.azurecr.io/azureml/azureml_6807a88250ce0d5a244efdb587053ea4\n",
      " ---> 745564b32fa4\n",
      "Step 2/5 : COPY azureml-app /var/azureml-app\n",
      " ---> de26e8934e7e\n",
      "Step 3/5 : RUN mkdir -p '/var/azureml-app' && echo eyJhY2NvdW50Q29udGV4dCI6eyJzdWJzY3JpcHRpb25JZCI6IjYxMGQ2ZTM3LTQ3NDctNGEyMC04MGViLTNhYWQ3MGE1NWY0MyIsInJlc291cmNlR3JvdXBOYW1lIjoiYW1sLXF1aWNrc3RhcnRzLTEzMzU1MyIsImFjY291bnROYW1lIjoicXVpY2stc3RhcnRzLXdzLTEzMzU1MyIsIndvcmtzcGFjZUlkIjoiYzNkNWZlNzctODc5YS00MDI4LWI5NTYtNWI2N2VhZDU5Yzg0In0sIm1vZGVscyI6e30sIm1vZGVsc0luZm8iOnt9fQ== | base64 --decode > /var/azureml-app/model_config_map.json\n",
      " ---> Running in 56bd8b53036f\n",
      " ---> eba428f1a50d\n",
      "Step 4/5 : RUN mv '/var/azureml-app/tmpfknlizhs.py' /var/azureml-app/main.py\n",
      " ---> Running in 553a2cdd8d49\n",
      " ---> 874f1036faf7\n",
      "Step 5/5 : CMD [\"runsvdir\",\"/var/runit\"]\n",
      " ---> Running in acab0fea0f26\n",
      " ---> 09d28dac7cd1\n",
      "Successfully built 09d28dac7cd1\n",
      "Successfully tagged myservice:latest\n",
      "Container (name:affectionate_mcclintock, id:7855fd71a1c0f1e4c61dcfcc5bc0cd88a4ec07c3957646dc5ce55c7020c3708d) cannot be killed.\n",
      "Container has been successfully cleaned up.\n",
      "Image sha256:95292c21a7423aaaddd80802ba36c21b396036b846abdeca7a1457df1c937d6c successfully removed.\n",
      "Starting Docker container...\n",
      "Docker container running.\n",
      "Checking container health...\n"
     ]
    },
    {
     "name": "stderr",
     "output_type": "stream",
     "text": [
      "Error: Container has crashed. Did your init method fail?\n",
      "\n"
     ]
    },
    {
     "name": "stdout",
     "output_type": "stream",
     "text": [
      "\n",
      "Container Logs:\n",
      "2021-01-05T22:25:41,109053825+00:00 - gunicorn/run \n",
      "2021-01-05T22:25:41,111827995+00:00 - rsyslog/run \n",
      "2021-01-05T22:25:41,115220858+00:00 - iot-server/run \n",
      "2021-01-05T22:25:41,116158748+00:00 - nginx/run \n",
      "/usr/sbin/nginx: /azureml-envs/azureml_29d6691f982540a8942a770f453f7d1d/lib/libcrypto.so.1.0.0: no version information available (required by /usr/sbin/nginx)\n",
      "/usr/sbin/nginx: /azureml-envs/azureml_29d6691f982540a8942a770f453f7d1d/lib/libcrypto.so.1.0.0: no version information available (required by /usr/sbin/nginx)\n",
      "/usr/sbin/nginx: /azureml-envs/azureml_29d6691f982540a8942a770f453f7d1d/lib/libssl.so.1.0.0: no version information available (required by /usr/sbin/nginx)\n",
      "/usr/sbin/nginx: /azureml-envs/azureml_29d6691f982540a8942a770f453f7d1d/lib/libssl.so.1.0.0: no version information available (required by /usr/sbin/nginx)\n",
      "/usr/sbin/nginx: /azureml-envs/azureml_29d6691f982540a8942a770f453f7d1d/lib/libssl.so.1.0.0: no version information available (required by /usr/sbin/nginx)\n",
      "EdgeHubConnectionString and IOTEDGE_IOTHUBHOSTNAME are not set. Exiting...\n",
      "2021-01-05T22:25:41,190118049+00:00 - iot-server/finish 1 0\n",
      "2021-01-05T22:25:41,191170238+00:00 - Exit code 1 is normal. Not restarting iot-server.\n",
      "Starting gunicorn 19.9.0\n",
      "Listening at: http://127.0.0.1:31311 (10)\n",
      "Using worker: sync\n",
      "worker timeout is set to 300\n",
      "Booting worker with pid: 41\n",
      "SPARK_HOME not set. Skipping PySpark Initialization.\n",
      "Initializing logger\n",
      "2021-01-05 22:25:42,966 | root | INFO | Starting up app insights client\n",
      "Starting up app insights client\n",
      "2021-01-05 22:25:42,967 | root | INFO | Starting up request id generator\n",
      "Starting up request id generator\n",
      "2021-01-05 22:25:42,967 | root | INFO | Starting up app insight hooks\n",
      "Starting up app insight hooks\n",
      "2021-01-05 22:25:42,967 | root | INFO | Invoking user's init function\n",
      "Invoking user's init function\n",
      "2021-01-05 22:25:43,830 | root | ERROR | User's init function failed\n",
      "User's init function failed\n",
      "2021-01-05 22:25:43,831 | root | ERROR | Encountered Exception Traceback (most recent call last):\n",
      "  File \"/var/azureml-server/aml_blueprint.py\", line 177, in register\n",
      "    main.init()\n",
      "  File \"/var/azureml-app/automl_scoring.py\", line 12, in init\n",
      "    model = joblib.load(model_path)\n",
      "  File \"/azureml-envs/azureml_29d6691f982540a8942a770f453f7d1d/lib/python3.6/site-packages/joblib/numpy_pickle.py\", line 605, in load\n",
      "    obj = _unpickle(fobj, filename, mmap_mode)\n",
      "  File \"/azureml-envs/azureml_29d6691f982540a8942a770f453f7d1d/lib/python3.6/site-packages/joblib/numpy_pickle.py\", line 529, in _unpickle\n",
      "    obj = unpickler.load()\n",
      "  File \"/azureml-envs/azureml_29d6691f982540a8942a770f453f7d1d/lib/python3.6/pickle.py\", line 1050, in load\n",
      "    dispatch[key[0]](self)\n",
      "  File \"/azureml-envs/azureml_29d6691f982540a8942a770f453f7d1d/lib/python3.6/pickle.py\", line 1347, in load_stack_global\n",
      "    self.append(self.find_class(module, name))\n",
      "  File \"/azureml-envs/azureml_29d6691f982540a8942a770f453f7d1d/lib/python3.6/pickle.py\", line 1388, in find_class\n",
      "    __import__(module, level=0)\n",
      "ModuleNotFoundError: No module named 'xgboost'\n",
      "\n",
      "Encountered Exception Traceback (most recent call last):\n",
      "  File \"/var/azureml-server/aml_blueprint.py\", line 177, in register\n",
      "    main.init()\n",
      "  File \"/var/azureml-app/automl_scoring.py\", line 12, in init\n",
      "    model = joblib.load(model_path)\n",
      "  File \"/azureml-envs/azureml_29d6691f982540a8942a770f453f7d1d/lib/python3.6/site-packages/joblib/numpy_pickle.py\", line 605, in load\n",
      "    obj = _unpickle(fobj, filename, mmap_mode)\n",
      "  File \"/azureml-envs/azureml_29d6691f982540a8942a770f453f7d1d/lib/python3.6/site-packages/joblib/numpy_pickle.py\", line 529, in _unpickle\n",
      "    obj = unpickler.load()\n",
      "  File \"/azureml-envs/azureml_29d6691f982540a8942a770f453f7d1d/lib/python3.6/pickle.py\", line 1050, in load\n",
      "    dispatch[key[0]](self)\n",
      "  File \"/azureml-envs/azureml_29d6691f982540a8942a770f453f7d1d/lib/python3.6/pickle.py\", line 1347, in load_stack_global\n",
      "    self.append(self.find_class(module, name))\n",
      "  File \"/azureml-envs/azureml_29d6691f982540a8942a770f453f7d1d/lib/python3.6/pickle.py\", line 1388, in find_class\n",
      "    __import__(module, level=0)\n",
      "ModuleNotFoundError: No module named 'xgboost'\n",
      "\n",
      "Worker exiting (pid: 41)\n",
      "Shutting down: Master\n",
      "Reason: Worker failed to boot.\n",
      "2021-01-05T22:25:44,640864272+00:00 - gunicorn/finish 3 0\n",
      "2021-01-05T22:25:44,641949361+00:00 - Exit code 3 is not normal. Killing image.\n",
      "\n"
     ]
    },
    {
     "ename": "WebserviceException",
     "evalue": "WebserviceException:\n\tMessage: Error: Container has crashed. Did your init method fail?\n\tInnerException None\n\tErrorResponse \n{\n    \"error\": {\n        \"message\": \"Error: Container has crashed. Did your init method fail?\"\n    }\n}",
     "output_type": "error",
     "traceback": [
      "\u001b[0;31m---------------------------------------------------------------------------\u001b[0m",
      "\u001b[0;31mWebserviceException\u001b[0m                       Traceback (most recent call last)",
      "\u001b[0;32m<ipython-input-47-eca829721b7c>\u001b[0m in \u001b[0;36m<module>\u001b[0;34m\u001b[0m\n\u001b[1;32m      1\u001b[0m \u001b[0mservice\u001b[0m \u001b[0;34m=\u001b[0m \u001b[0mModel\u001b[0m\u001b[0;34m.\u001b[0m\u001b[0mdeploy\u001b[0m\u001b[0;34m(\u001b[0m\u001b[0mws\u001b[0m\u001b[0;34m,\u001b[0m \u001b[0;34m'myservice'\u001b[0m\u001b[0;34m,\u001b[0m \u001b[0;34m[\u001b[0m\u001b[0mmodel\u001b[0m\u001b[0;34m]\u001b[0m\u001b[0;34m,\u001b[0m \u001b[0minference_config\u001b[0m\u001b[0;34m,\u001b[0m \u001b[0mdeployment_config\u001b[0m\u001b[0;34m)\u001b[0m\u001b[0;34m\u001b[0m\u001b[0;34m\u001b[0m\u001b[0m\n\u001b[0;32m----> 2\u001b[0;31m \u001b[0mservice\u001b[0m\u001b[0;34m.\u001b[0m\u001b[0mwait_for_deployment\u001b[0m\u001b[0;34m(\u001b[0m\u001b[0mshow_output\u001b[0m\u001b[0;34m=\u001b[0m\u001b[0;32mTrue\u001b[0m\u001b[0;34m)\u001b[0m\u001b[0;34m\u001b[0m\u001b[0;34m\u001b[0m\u001b[0m\n\u001b[0m\u001b[1;32m      3\u001b[0m \u001b[0mprint\u001b[0m\u001b[0;34m(\u001b[0m\u001b[0mservice\u001b[0m\u001b[0;34m.\u001b[0m\u001b[0mstate\u001b[0m\u001b[0;34m)\u001b[0m\u001b[0;34m\u001b[0m\u001b[0;34m\u001b[0m\u001b[0m\n\u001b[1;32m      4\u001b[0m \u001b[0mprint\u001b[0m\u001b[0;34m(\u001b[0m\u001b[0;34m\"scoring URI: \"\u001b[0m \u001b[0;34m+\u001b[0m \u001b[0mservice\u001b[0m\u001b[0;34m.\u001b[0m\u001b[0mscoring_uri\u001b[0m\u001b[0;34m)\u001b[0m\u001b[0;34m\u001b[0m\u001b[0;34m\u001b[0m\u001b[0m\n",
      "\u001b[0;32m/anaconda/envs/azureml_py36/lib/python3.6/site-packages/azureml/core/webservice/local.py\u001b[0m in \u001b[0;36mdecorated\u001b[0;34m(self, *args, **kwargs)\u001b[0m\n\u001b[1;32m     70\u001b[0m                 raise WebserviceException('Cannot call {}() when service is {}.'.format(func.__name__, self.state),\n\u001b[1;32m     71\u001b[0m                                           logger=module_logger)\n\u001b[0;32m---> 72\u001b[0;31m             \u001b[0;32mreturn\u001b[0m \u001b[0mfunc\u001b[0m\u001b[0;34m(\u001b[0m\u001b[0mself\u001b[0m\u001b[0;34m,\u001b[0m \u001b[0;34m*\u001b[0m\u001b[0margs\u001b[0m\u001b[0;34m,\u001b[0m \u001b[0;34m**\u001b[0m\u001b[0mkwargs\u001b[0m\u001b[0;34m)\u001b[0m\u001b[0;34m\u001b[0m\u001b[0;34m\u001b[0m\u001b[0m\n\u001b[0m\u001b[1;32m     73\u001b[0m         \u001b[0;32mreturn\u001b[0m \u001b[0mdecorated\u001b[0m\u001b[0;34m\u001b[0m\u001b[0;34m\u001b[0m\u001b[0m\n\u001b[1;32m     74\u001b[0m     \u001b[0;32mreturn\u001b[0m \u001b[0mdecorator\u001b[0m\u001b[0;34m\u001b[0m\u001b[0;34m\u001b[0m\u001b[0m\n",
      "\u001b[0;32m/anaconda/envs/azureml_py36/lib/python3.6/site-packages/azureml/core/webservice/local.py\u001b[0m in \u001b[0;36mwait_for_deployment\u001b[0;34m(self, show_output)\u001b[0m\n\u001b[1;32m    609\u001b[0m                                    \u001b[0mself\u001b[0m\u001b[0;34m.\u001b[0m\u001b[0m_container\u001b[0m\u001b[0;34m,\u001b[0m\u001b[0;34m\u001b[0m\u001b[0;34m\u001b[0m\u001b[0m\n\u001b[1;32m    610\u001b[0m                                    \u001b[0mhealth_url\u001b[0m\u001b[0;34m=\u001b[0m\u001b[0mself\u001b[0m\u001b[0;34m.\u001b[0m\u001b[0m_get_health_url\u001b[0m\u001b[0;34m(\u001b[0m\u001b[0;34m)\u001b[0m\u001b[0;34m,\u001b[0m\u001b[0;34m\u001b[0m\u001b[0;34m\u001b[0m\u001b[0m\n\u001b[0;32m--> 611\u001b[0;31m                                    cleanup_if_failed=False)\n\u001b[0m\u001b[1;32m    612\u001b[0m \u001b[0;34m\u001b[0m\u001b[0m\n\u001b[1;32m    613\u001b[0m             \u001b[0mself\u001b[0m\u001b[0;34m.\u001b[0m\u001b[0mstate\u001b[0m \u001b[0;34m=\u001b[0m \u001b[0mLocalWebservice\u001b[0m\u001b[0;34m.\u001b[0m\u001b[0mSTATE_RUNNING\u001b[0m\u001b[0;34m\u001b[0m\u001b[0;34m\u001b[0m\u001b[0m\n",
      "\u001b[0;32m/anaconda/envs/azureml_py36/lib/python3.6/site-packages/azureml/_model_management/_util.py\u001b[0m in \u001b[0;36mcontainer_health_check\u001b[0;34m(docker_port, container, health_url, cleanup_if_failed)\u001b[0m\n\u001b[1;32m    741\u001b[0m             \u001b[0;31m# The container has started and crashed.\u001b[0m\u001b[0;34m\u001b[0m\u001b[0;34m\u001b[0m\u001b[0;34m\u001b[0m\u001b[0m\n\u001b[1;32m    742\u001b[0m             _raise_for_container_failure(container, cleanup_if_failed,\n\u001b[0;32m--> 743\u001b[0;31m                                          'Error: Container has crashed. Did your init method fail?')\n\u001b[0m\u001b[1;32m    744\u001b[0m \u001b[0;34m\u001b[0m\u001b[0m\n\u001b[1;32m    745\u001b[0m         \u001b[0;31m# The container hasn't crashed, so try to ping the health endpoint.\u001b[0m\u001b[0;34m\u001b[0m\u001b[0;34m\u001b[0m\u001b[0;34m\u001b[0m\u001b[0m\n",
      "\u001b[0;32m/anaconda/envs/azureml_py36/lib/python3.6/site-packages/azureml/_model_management/_util.py\u001b[0m in \u001b[0;36m_raise_for_container_failure\u001b[0;34m(container, cleanup, message)\u001b[0m\n\u001b[1;32m   1259\u001b[0m         \u001b[0mcleanup_container\u001b[0m\u001b[0;34m(\u001b[0m\u001b[0mcontainer\u001b[0m\u001b[0;34m)\u001b[0m\u001b[0;34m\u001b[0m\u001b[0;34m\u001b[0m\u001b[0m\n\u001b[1;32m   1260\u001b[0m \u001b[0;34m\u001b[0m\u001b[0m\n\u001b[0;32m-> 1261\u001b[0;31m     \u001b[0;32mraise\u001b[0m \u001b[0mWebserviceException\u001b[0m\u001b[0;34m(\u001b[0m\u001b[0mmessage\u001b[0m\u001b[0;34m,\u001b[0m \u001b[0mlogger\u001b[0m\u001b[0;34m=\u001b[0m\u001b[0mmodule_logger\u001b[0m\u001b[0;34m)\u001b[0m\u001b[0;34m\u001b[0m\u001b[0;34m\u001b[0m\u001b[0m\n\u001b[0m\u001b[1;32m   1262\u001b[0m \u001b[0;34m\u001b[0m\u001b[0m\n\u001b[1;32m   1263\u001b[0m \u001b[0;34m\u001b[0m\u001b[0m\n",
      "\u001b[0;31mWebserviceException\u001b[0m: WebserviceException:\n\tMessage: Error: Container has crashed. Did your init method fail?\n\tInnerException None\n\tErrorResponse \n{\n    \"error\": {\n        \"message\": \"Error: Container has crashed. Did your init method fail?\"\n    }\n}"
     ]
    }
   ],
   "source": [
    "service = Model.deploy(ws, 'myservice', [model], inference_config, deployment_config)\n",
    "service.wait_for_deployment(show_output=True)"
   ]
  },
  {
   "cell_type": "markdown",
   "metadata": {
    "gather": {
     "logged": 1598431657736
    },
    "jupyter": {
     "outputs_hidden": false,
     "source_hidden": false
    },
    "nteract": {
     "transient": {
      "deleting": false
     }
    }
   },
   "source": [
    "TODO: In the cell below, send a request to the web service you deployed to test it."
   ]
  },
  {
   "cell_type": "code",
   "execution_count": null,
   "metadata": {},
   "outputs": [],
   "source": [
    "print(\"Service state: {}\".format(service.state))\n",
    "print(\"Scoring URI: {}\".format( service.scoring_uri))"
   ]
  },
  {
   "cell_type": "code",
   "execution_count": null,
   "metadata": {
    "collapsed": false,
    "gather": {
     "logged": 1598432707604
    },
    "jupyter": {
     "outputs_hidden": false,
     "source_hidden": false
    },
    "nteract": {
     "transient": {
      "deleting": false
     }
    }
   },
   "outputs": [],
   "source": [
    "test_data_path = 'https://raw.githubusercontent.com/tybyers/AZMLND_projects/capstone/capstone/data/test_data.json'\n",
    "\n",
    "r = requests.get(test_data_path)\n",
    "input_data = r.json()"
   ]
  },
  {
   "cell_type": "code",
   "execution_count": null,
   "metadata": {},
   "outputs": [],
   "source": [
    "# Set the content type\n",
    "headers = {'Content-Type': 'application/json'}\n",
    "# If authentication is enabled, set the authorization header\n",
    "headers['Authorization'] = f'Bearer {service.key}'\n",
    "\n",
    "# Make the request and display the response\n",
    "resp = requests.post(service.scoring_uri, input_data, headers=headers)\n",
    "print(resp.json())"
   ]
  },
  {
   "cell_type": "markdown",
   "metadata": {
    "gather": {
     "logged": 1598432765711
    },
    "jupyter": {
     "outputs_hidden": false,
     "source_hidden": false
    },
    "nteract": {
     "transient": {
      "deleting": false
     }
    }
   },
   "source": [
    "TODO: In the cell below, print the logs of the web service and delete the service"
   ]
  },
  {
   "cell_type": "code",
   "execution_count": null,
   "metadata": {},
   "outputs": [],
   "source": []
  }
 ],
 "metadata": {
  "kernel_info": {
   "name": "python3-azureml"
  },
  "kernelspec": {
   "display_name": "Python 3",
   "language": "python",
   "name": "python3"
  },
  "language_info": {
   "codemirror_mode": {
    "name": "ipython",
    "version": 3
   },
   "file_extension": ".py",
   "mimetype": "text/x-python",
   "name": "python",
   "nbconvert_exporter": "python",
   "pygments_lexer": "ipython3",
   "version": "3.6.9"
  },
  "nteract": {
   "version": "nteract-front-end@1.0.0"
  }
 },
 "nbformat": 4,
 "nbformat_minor": 4
}
