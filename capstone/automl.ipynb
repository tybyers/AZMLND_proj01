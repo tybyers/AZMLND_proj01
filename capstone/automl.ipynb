{
 "cells": [
  {
   "cell_type": "markdown",
   "metadata": {},
   "source": [
    "# Automated ML\n",
    "\n",
    "This is the notebook for the AutoML run process."
   ]
  },
  {
   "cell_type": "markdown",
   "metadata": {},
   "source": [
    "## Import Dependencies"
   ]
  },
  {
   "cell_type": "code",
   "execution_count": 13,
   "metadata": {
    "collapsed": false,
    "gather": {
     "logged": 1598423888013
    },
    "jupyter": {
     "outputs_hidden": false,
     "source_hidden": false
    },
    "nteract": {
     "transient": {
      "deleting": false
     }
    }
   },
   "outputs": [],
   "source": [
    "from azureml.core import Workspace, Experiment, Dataset, Environment\n",
    "from azureml.data.dataset_factory import TabularDatasetFactory as tdf\n",
    "from azureml.core.compute import ComputeTarget, AmlCompute\n",
    "from azureml.core.compute_target import ComputeTargetException\n",
    "from azureml.widgets import RunDetails\n",
    "from azureml.train.automl import AutoMLConfig\n",
    "from azureml.core.model import InferenceConfig\n",
    "from azureml.core.webservice import LocalWebservice\n",
    "from azureml.core.model import Model\n",
    "import requests\n",
    "import json"
   ]
  },
  {
   "cell_type": "markdown",
   "metadata": {},
   "source": [
    "## Set Up\n",
    "\n",
    "### Load Workspace Elements"
   ]
  },
  {
   "cell_type": "code",
   "execution_count": 2,
   "metadata": {
    "collapsed": false,
    "gather": {
     "logged": 1598423890461
    },
    "jupyter": {
     "outputs_hidden": false,
     "source_hidden": false
    },
    "nteract": {
     "transient": {
      "deleting": false
     }
    }
   },
   "outputs": [
    {
     "name": "stdout",
     "output_type": "stream",
     "text": [
      "Workspace name: quick-starts-ws-133708\n",
      "Azure region: southcentralus\n",
      "Subscription id: 5a4ab2ba-6c51-4805-8155-58759ad589d8\n",
      "Resource group: aml-quickstarts-133708\n"
     ]
    }
   ],
   "source": [
    "ws = Workspace.from_config()\n",
    "\n",
    "print('Workspace name: ' + ws.name, \n",
    "      'Azure region: ' + ws.location, \n",
    "      'Subscription id: ' + ws.subscription_id, \n",
    "      'Resource group: ' + ws.resource_group, sep = '\\n')"
   ]
  },
  {
   "cell_type": "markdown",
   "metadata": {},
   "source": [
    "### Create Experiment"
   ]
  },
  {
   "cell_type": "code",
   "execution_count": 3,
   "metadata": {},
   "outputs": [],
   "source": [
    "# choose a name for experiment\n",
    "experiment_name = 'MS-Malware'\n",
    "project_folder = './automl'\n",
    "\n",
    "experiment=Experiment(ws, experiment_name)"
   ]
  },
  {
   "cell_type": "markdown",
   "metadata": {},
   "source": [
    "## Create/Get Compute Cluster"
   ]
  },
  {
   "cell_type": "code",
   "execution_count": 4,
   "metadata": {},
   "outputs": [
    {
     "name": "stdout",
     "output_type": "stream",
     "text": [
      "Creating\n",
      "Succeeded\n",
      "AmlCompute wait for completion finished\n",
      "\n",
      "Minimum number of nodes requested have been provisioned\n"
     ]
    }
   ],
   "source": [
    "cpu_cluster_name = \"malware-compute\"\n",
    "\n",
    "# if cluster already exists, use it\n",
    "try:\n",
    "    cpu_cluster = ComputeTarget(workspace=ws, name=cpu_cluster_name)\n",
    "    print('Cluster {} exists. Will use this cluster.'.format(cpu_cluster_name))\n",
    "except ComputeTargetException:\n",
    "    compute_config = AmlCompute.provisioning_configuration(vm_size='STANDARD_D2_V2', max_nodes=4)\n",
    "    cpu_cluster = ComputeTarget.create(ws, cpu_cluster_name, compute_config)\n",
    "    \n",
    "    cpu_cluster.wait_for_completion(show_output=True)"
   ]
  },
  {
   "cell_type": "markdown",
   "metadata": {},
   "source": [
    "## Dataset\n",
    "\n",
    "### Overview\n",
    "\n",
    "This data set was taken from the [Microsoft Malware Prediction](https://www.kaggle.com/c/microsoft-malware-prediction) competition run in 2019. \"Microsoft is challenging the data science community to develop techniques to predict if a machine will soon be hit with malware. As with their previous, Malware Challenge (2015), Microsoft is providing Kagglers with an unprecedented malware dataset to encourage open-source progress on effective techniques for predicting malware occurrences.\"  \n",
    "\n",
    "The raw training data set for the competition is very large: 8,921,483 observations (rows), and 83 features (variables), taking up 4.1 GB of space! \n",
    "\n",
    "In order to allow us to complete the tasks for this assignment in a reasonable amount of time, we took a very small subset of the entire train.csv data set -- just 10,000 rows (or about 0.1% of the entire training set). We skimmed off the top 10,000 rows from the data set for use in this project, and put it on our GitHub at https://raw.githubusercontent.com/tybyers/AZMLND_projects/capstone/capstone/data/train_1_10k.csv.\n",
    "\n",
    "### Goal\n",
    "\n",
    "The goal for this project is to predict whether a Windows machine is infected by various families of malware, based on different properties of that machine. Each row in this dataset corresponds to a machine, and has observations from telemetry data generated by WindowsDefender. The `HasDetections` column indicates that Malware was detected on the machine. \n",
    "\n",
    "For our 10,000 row data set, 4,950 machines have no malware detections, and 5,050 machines have malware detections. This is a nice, balanced data set.\n"
   ]
  },
  {
   "cell_type": "code",
   "execution_count": 5,
   "metadata": {},
   "outputs": [
    {
     "data": {
      "text/html": [
       "<div>\n",
       "<style scoped>\n",
       "    .dataframe tbody tr th:only-of-type {\n",
       "        vertical-align: middle;\n",
       "    }\n",
       "\n",
       "    .dataframe tbody tr th {\n",
       "        vertical-align: top;\n",
       "    }\n",
       "\n",
       "    .dataframe thead th {\n",
       "        text-align: right;\n",
       "    }\n",
       "</style>\n",
       "<table border=\"1\" class=\"dataframe\">\n",
       "  <thead>\n",
       "    <tr style=\"text-align: right;\">\n",
       "      <th></th>\n",
       "      <th>ProductName</th>\n",
       "      <th>EngineVersion</th>\n",
       "      <th>AppVersion</th>\n",
       "      <th>AvSigVersion</th>\n",
       "      <th>IsBeta</th>\n",
       "      <th>RtpStateBitfield</th>\n",
       "      <th>IsSxsPassiveMode</th>\n",
       "      <th>DefaultBrowsersIdentifier</th>\n",
       "      <th>AVProductStatesIdentifier</th>\n",
       "      <th>AVProductsInstalled</th>\n",
       "      <th>...</th>\n",
       "      <th>Census_FirmwareVersionIdentifier</th>\n",
       "      <th>Census_IsSecureBootEnabled</th>\n",
       "      <th>Census_IsWIMBootEnabled</th>\n",
       "      <th>Census_IsVirtualDevice</th>\n",
       "      <th>Census_IsTouchEnabled</th>\n",
       "      <th>Census_IsPenCapable</th>\n",
       "      <th>Census_IsAlwaysOnAlwaysConnectedCapable</th>\n",
       "      <th>Wdft_IsGamer</th>\n",
       "      <th>Wdft_RegionIdentifier</th>\n",
       "      <th>HasDetections</th>\n",
       "    </tr>\n",
       "  </thead>\n",
       "  <tbody>\n",
       "    <tr>\n",
       "      <th>0</th>\n",
       "      <td>win8defender</td>\n",
       "      <td>1.1.15100.1</td>\n",
       "      <td>4.18.1807.18075</td>\n",
       "      <td>1.273.1735.0</td>\n",
       "      <td>0</td>\n",
       "      <td>7</td>\n",
       "      <td>0</td>\n",
       "      <td>NA</td>\n",
       "      <td>53447.0</td>\n",
       "      <td>1.0</td>\n",
       "      <td>...</td>\n",
       "      <td>36144</td>\n",
       "      <td>0</td>\n",
       "      <td>NA</td>\n",
       "      <td>0</td>\n",
       "      <td>0</td>\n",
       "      <td>0</td>\n",
       "      <td>0.0</td>\n",
       "      <td>0</td>\n",
       "      <td>10</td>\n",
       "      <td>0</td>\n",
       "    </tr>\n",
       "    <tr>\n",
       "      <th>1</th>\n",
       "      <td>win8defender</td>\n",
       "      <td>1.1.14600.4</td>\n",
       "      <td>4.13.17134.1</td>\n",
       "      <td>1.263.48.0</td>\n",
       "      <td>0</td>\n",
       "      <td>7</td>\n",
       "      <td>0</td>\n",
       "      <td>NA</td>\n",
       "      <td>53447.0</td>\n",
       "      <td>1.0</td>\n",
       "      <td>...</td>\n",
       "      <td>57858</td>\n",
       "      <td>0</td>\n",
       "      <td>NA</td>\n",
       "      <td>0</td>\n",
       "      <td>0</td>\n",
       "      <td>0</td>\n",
       "      <td>0.0</td>\n",
       "      <td>0</td>\n",
       "      <td>8</td>\n",
       "      <td>0</td>\n",
       "    </tr>\n",
       "    <tr>\n",
       "      <th>2</th>\n",
       "      <td>win8defender</td>\n",
       "      <td>1.1.15100.1</td>\n",
       "      <td>4.18.1807.18075</td>\n",
       "      <td>1.273.1341.0</td>\n",
       "      <td>0</td>\n",
       "      <td>7</td>\n",
       "      <td>0</td>\n",
       "      <td>NA</td>\n",
       "      <td>53447.0</td>\n",
       "      <td>1.0</td>\n",
       "      <td>...</td>\n",
       "      <td>52682</td>\n",
       "      <td>0</td>\n",
       "      <td>NA</td>\n",
       "      <td>0</td>\n",
       "      <td>0</td>\n",
       "      <td>0</td>\n",
       "      <td>0.0</td>\n",
       "      <td>0</td>\n",
       "      <td>3</td>\n",
       "      <td>0</td>\n",
       "    </tr>\n",
       "    <tr>\n",
       "      <th>3</th>\n",
       "      <td>win8defender</td>\n",
       "      <td>1.1.15100.1</td>\n",
       "      <td>4.18.1807.18075</td>\n",
       "      <td>1.273.1527.0</td>\n",
       "      <td>0</td>\n",
       "      <td>7</td>\n",
       "      <td>0</td>\n",
       "      <td>NA</td>\n",
       "      <td>53447.0</td>\n",
       "      <td>1.0</td>\n",
       "      <td>...</td>\n",
       "      <td>20050</td>\n",
       "      <td>0</td>\n",
       "      <td>NA</td>\n",
       "      <td>0</td>\n",
       "      <td>0</td>\n",
       "      <td>0</td>\n",
       "      <td>0.0</td>\n",
       "      <td>0</td>\n",
       "      <td>3</td>\n",
       "      <td>1</td>\n",
       "    </tr>\n",
       "    <tr>\n",
       "      <th>4</th>\n",
       "      <td>win8defender</td>\n",
       "      <td>1.1.15100.1</td>\n",
       "      <td>4.18.1807.18075</td>\n",
       "      <td>1.273.1379.0</td>\n",
       "      <td>0</td>\n",
       "      <td>7</td>\n",
       "      <td>0</td>\n",
       "      <td>NA</td>\n",
       "      <td>53447.0</td>\n",
       "      <td>1.0</td>\n",
       "      <td>...</td>\n",
       "      <td>19844</td>\n",
       "      <td>0</td>\n",
       "      <td>0</td>\n",
       "      <td>0</td>\n",
       "      <td>0</td>\n",
       "      <td>0</td>\n",
       "      <td>0.0</td>\n",
       "      <td>0</td>\n",
       "      <td>1</td>\n",
       "      <td>1</td>\n",
       "    </tr>\n",
       "  </tbody>\n",
       "</table>\n",
       "<p>5 rows × 82 columns</p>\n",
       "</div>"
      ],
      "text/plain": [
       "    ProductName EngineVersion       AppVersion  AvSigVersion  IsBeta  \\\n",
       "0  win8defender   1.1.15100.1  4.18.1807.18075  1.273.1735.0       0   \n",
       "1  win8defender   1.1.14600.4     4.13.17134.1    1.263.48.0       0   \n",
       "2  win8defender   1.1.15100.1  4.18.1807.18075  1.273.1341.0       0   \n",
       "3  win8defender   1.1.15100.1  4.18.1807.18075  1.273.1527.0       0   \n",
       "4  win8defender   1.1.15100.1  4.18.1807.18075  1.273.1379.0       0   \n",
       "\n",
       "  RtpStateBitfield  IsSxsPassiveMode DefaultBrowsersIdentifier  \\\n",
       "0                7                 0                        NA   \n",
       "1                7                 0                        NA   \n",
       "2                7                 0                        NA   \n",
       "3                7                 0                        NA   \n",
       "4                7                 0                        NA   \n",
       "\n",
       "   AVProductStatesIdentifier  AVProductsInstalled  ...  \\\n",
       "0                    53447.0                  1.0  ...   \n",
       "1                    53447.0                  1.0  ...   \n",
       "2                    53447.0                  1.0  ...   \n",
       "3                    53447.0                  1.0  ...   \n",
       "4                    53447.0                  1.0  ...   \n",
       "\n",
       "   Census_FirmwareVersionIdentifier  Census_IsSecureBootEnabled  \\\n",
       "0                             36144                           0   \n",
       "1                             57858                           0   \n",
       "2                             52682                           0   \n",
       "3                             20050                           0   \n",
       "4                             19844                           0   \n",
       "\n",
       "   Census_IsWIMBootEnabled Census_IsVirtualDevice Census_IsTouchEnabled  \\\n",
       "0                       NA                      0                     0   \n",
       "1                       NA                      0                     0   \n",
       "2                       NA                      0                     0   \n",
       "3                       NA                      0                     0   \n",
       "4                        0                      0                     0   \n",
       "\n",
       "   Census_IsPenCapable  Census_IsAlwaysOnAlwaysConnectedCapable Wdft_IsGamer  \\\n",
       "0                    0                                      0.0            0   \n",
       "1                    0                                      0.0            0   \n",
       "2                    0                                      0.0            0   \n",
       "3                    0                                      0.0            0   \n",
       "4                    0                                      0.0            0   \n",
       "\n",
       "  Wdft_RegionIdentifier HasDetections  \n",
       "0                    10             0  \n",
       "1                     8             0  \n",
       "2                     3             0  \n",
       "3                     3             1  \n",
       "4                     1             1  \n",
       "\n",
       "[5 rows x 82 columns]"
      ]
     },
     "execution_count": 5,
     "metadata": {},
     "output_type": "execute_result"
    }
   ],
   "source": [
    "# Load Data set\n",
    "data_path = 'https://raw.githubusercontent.com/tybyers/AZMLND_projects/capstone/capstone/data/train_1_10k.csv'\n",
    "dataset = tdf.from_delimited_files(path=data_path)\n",
    "dataset.to_pandas_dataframe().head()"
   ]
  },
  {
   "cell_type": "markdown",
   "metadata": {},
   "source": [
    "## AutoML Configuration\n",
    "\n",
    "Below are the settings and configuration for the AutoML run. Some of the config and settings are straightforward, but we chose other configurations for the following reasons:  \n",
    "\n",
    "  * `experiment_timeout_minutes = 30` -- Opted for 30 minutes so our Udacity-provided labs wouldn't time out, and this seemed to be sufficient to get through the training.  \n",
    "  * `max_concurrent_iterations = 5` -- Runs some iterations in parallel to speed up processing.  \n",
    "  * `primary_metric = 'accuracy'` -- We opted for accuracy here, although AUC would have been a good choice too. Mostly opted for this for simplicity to compare it to the Hyperdrive run.  \n",
    "  * `task = 'classification'` -- Since we're classifying whether a machine is infected or not, this is a natural choice.  \n",
    "  * `label_column_name = 'HasDetections'` - This is the \"target\" column.  \n",
    "  * `enable_early_stopping = True` - No need to keep going if models are doing well enough.  \n",
    "  * `n_cross_validations = 5` - Wanted to do some cross validation. Especially important with a small data set with high cardinality.  "
   ]
  },
  {
   "cell_type": "code",
   "execution_count": 6,
   "metadata": {
    "collapsed": false,
    "gather": {
     "logged": 1598429217746
    },
    "jupyter": {
     "outputs_hidden": false,
     "source_hidden": false
    },
    "nteract": {
     "transient": {
      "deleting": false
     }
    }
   },
   "outputs": [],
   "source": [
    "# TODO: Put your automl settings here\n",
    "automl_settings = {\n",
    "    \"experiment_timeout_minutes\": 30,\n",
    "    \"max_concurrent_iterations\": 5,\n",
    "    \"primary_metric\" : 'accuracy'\n",
    "}\n",
    "\n",
    "# TODO: Put your automl config here\n",
    "automl_config = AutoMLConfig(\n",
    "    compute_target=cpu_cluster,\n",
    "    task=\"classification\",\n",
    "    training_data=dataset,\n",
    "    label_column_name='HasDetections',\n",
    "    enable_early_stopping=True,\n",
    "    path=project_folder,\n",
    "    debug_log='automl_errors.log',\n",
    "    n_cross_validations=5,\n",
    "    **automl_settings\n",
    ")"
   ]
  },
  {
   "cell_type": "code",
   "execution_count": 7,
   "metadata": {
    "collapsed": false,
    "gather": {
     "logged": 1598431107951
    },
    "jupyter": {
     "outputs_hidden": false,
     "source_hidden": false
    },
    "nteract": {
     "transient": {
      "deleting": false
     }
    }
   },
   "outputs": [
    {
     "name": "stdout",
     "output_type": "stream",
     "text": [
      "Running on remote.\n",
      "No run_configuration provided, running on malware-compute with default configuration\n",
      "Running on remote compute: malware-compute\n",
      "Parent Run ID: AutoML_50201189-2111-4560-956d-146fa247ff16\n",
      "\n",
      "Current status: FeaturesGeneration. Generating features for the dataset.\n",
      "Current status: DatasetFeaturization. Beginning to fit featurizers and featurize the dataset.\n",
      "Current status: DatasetCrossValidationSplit. Generating individually featurized CV splits.\n",
      "Current status: ModelSelection. Beginning model selection.\n",
      "\n",
      "****************************************************************************************************\n",
      "DATA GUARDRAILS: \n",
      "\n",
      "TYPE:         Class balancing detection\n",
      "STATUS:       PASSED\n",
      "DESCRIPTION:  Your inputs were analyzed, and all classes are balanced in your training data.\n",
      "              Learn more about imbalanced data: https://aka.ms/AutomatedMLImbalancedData\n",
      "\n",
      "****************************************************************************************************\n",
      "\n",
      "TYPE:         Missing feature values imputation\n",
      "STATUS:       DONE\n",
      "DESCRIPTION:  If the missing values are expected, let the run complete. Otherwise cancel the current run and use a script to customize the handling of missing feature values that may be more appropriate based on the data type and business requirement.\n",
      "              Learn more about missing value imputation: https://aka.ms/AutomatedMLFeaturization\n",
      "DETAILS:      \n",
      "+---------------------------------+---------------------------------+---------------------------------+\n",
      "|Column name                      |Missing value count              |Imputation type                  |\n",
      "+=================================+=================================+=================================+\n",
      "|AVProductStatesIdentifier        |30                               |mean                             |\n",
      "|AVProductsInstalled              |30                               |mean                             |\n",
      "|AVProductsEnabled                |30                               |mean                             |\n",
      "|IsProtected                      |30                               |mean                             |\n",
      "|Firewall                         |96                               |mean                             |\n",
      "|Census_ProcessorCoreCount        |44                               |mean                             |\n",
      "|Census_ProcessorManufacturerId...|44                               |mean                             |\n",
      "|Census_ProcessorModelIdentifier  |44                               |mean                             |\n",
      "|Census_PrimaryDiskTotalCapacity  |56                               |mean                             |\n",
      "|Census_SystemVolumeTotalCapacity |56                               |mean                             |\n",
      "|Census_IsAlwaysOnAlwaysConnect...|78                               |mean                             |\n",
      "+---------------------------------+---------------------------------+---------------------------------+\n",
      "\n",
      "****************************************************************************************************\n",
      "\n",
      "TYPE:         High cardinality feature detection\n",
      "STATUS:       DONE\n",
      "DESCRIPTION:  High cardinality features were detected in your inputs and handled.\n",
      "              Learn more about high cardinality feature handling: https://aka.ms/AutomatedMLFeaturization\n",
      "DETAILS:      High cardinality features refer to columns that contain a large percentage of unique values.\n",
      "+---------------------------------+---------------------------------+\n",
      "|Column name                      |Column Content Type              |\n",
      "+=================================+=================================+\n",
      "|AvSigVersion                     |categorical_hash                 |\n",
      "|CityIdentifier                   |categorical_hash                 |\n",
      "|OsBuildLab                       |categorical_hash                 |\n",
      "|Census_OEMNameIdentifier         |categorical_hash                 |\n",
      "|Census_OEMModelIdentifier        |categorical_hash                 |\n",
      "|Census_InternalBatteryNumberOf...|categorical_hash                 |\n",
      "|Census_FirmwareVersionIdentifier |categorical_hash                 |\n",
      "+---------------------------------+---------------------------------+\n",
      "\n",
      "****************************************************************************************************\n",
      "\n",
      "****************************************************************************************************\n",
      "ITERATION: The iteration being evaluated.\n",
      "PIPELINE: A summary description of the pipeline being evaluated.\n",
      "DURATION: Time taken for the current iteration.\n",
      "METRIC: The result of computing score on the fitted pipeline.\n",
      "BEST: The best observed score thus far.\n",
      "****************************************************************************************************\n",
      "\n",
      " ITERATION   PIPELINE                                       DURATION      METRIC      BEST\n",
      "         1   MaxAbsScaler XGBoostClassifier                 0:01:04       0.6240    0.6240\n",
      "         4   MaxAbsScaler RandomForest                      0:00:50       0.5467    0.6240\n",
      "         0   MaxAbsScaler LightGBM                          0:00:53       0.6178    0.6240\n",
      "         3   MaxAbsScaler RandomForest                      0:00:47       0.5497    0.6240\n",
      "         7   SparseNormalizer LightGBM                      0:00:56       0.6166    0.6240\n",
      "         8   SparseNormalizer XGBoostClassifier             0:01:39       0.6126    0.6240\n",
      "         2   MaxAbsScaler RandomForest                      0:03:28       0.5955    0.6240\n",
      "         5   MaxAbsScaler RandomForest                      0:03:28       0.5827    0.6240\n",
      "         6   SparseNormalizer LightGBM                      0:03:27       0.6194    0.6240\n",
      "        10   MaxAbsScaler LightGBM                          0:00:51       0.6157    0.6240\n",
      "        11   StandardScalerWrapper GradientBoosting         0:00:46       0.5595    0.6240\n",
      "        12   SparseNormalizer XGBoostClassifier             0:00:49       0.5958    0.6240\n",
      "         9   SparseNormalizer XGBoostClassifier             0:01:28       0.6033    0.6240\n",
      "        13   MaxAbsScaler RandomForest                      0:00:57       0.6040    0.6240\n",
      "        14   MaxAbsScaler LightGBM                          0:00:45       0.6163    0.6240\n",
      "        15   MaxAbsScaler LogisticRegression                0:00:48       0.5922    0.6240\n",
      "        16   SparseNormalizer XGBoostClassifier             0:00:55       0.6154    0.6240\n",
      "        17   SparseNormalizer LightGBM                      0:00:53       0.6129    0.6240\n",
      "        18   MaxAbsScaler LogisticRegression                0:00:52       0.5869    0.6240\n",
      "        20   MaxAbsScaler LightGBM                          0:00:52       0.6016    0.6240\n",
      "        19   SparseNormalizer XGBoostClassifier             0:01:22       0.6146    0.6240\n",
      "        21   StandardScalerWrapper XGBoostClassifier        0:00:48       0.6074    0.6240\n",
      "        22   MaxAbsScaler LogisticRegression                0:01:16       0.6026    0.6240\n",
      "        23   SparseNormalizer XGBoostClassifier             0:01:12       0.6159    0.6240\n",
      "        24   MaxAbsScaler LightGBM                          0:00:59       0.6123    0.6240\n",
      "        25   StandardScalerWrapper XGBoostClassifier        0:00:59       0.5050    0.6240\n",
      "        26   MaxAbsScaler LightGBM                          0:00:52       0.6161    0.6240\n",
      "        27   StandardScalerWrapper XGBoostClassifier        0:00:47       0.6082    0.6240\n",
      "        28   StandardScalerWrapper XGBoostClassifier        0:00:49       0.6202    0.6240\n",
      "        29   StandardScalerWrapper XGBoostClassifier        0:00:53       0.6118    0.6240\n",
      "        30   TruncatedSVDWrapper XGBoostClassifier          0:01:07       0.5755    0.6240\n",
      "        32   MaxAbsScaler RandomForest                      0:01:10       0.6143    0.6240\n",
      "        33   MaxAbsScaler LightGBM                          0:00:55       0.6089    0.6240\n",
      "        31   TruncatedSVDWrapper XGBoostClassifier          0:01:35       0.6103    0.6240\n",
      "        34   MaxAbsScaler ExtremeRandomTrees                0:00:44          nan    0.6240\n",
      "        35   TruncatedSVDWrapper XGBoostClassifier          0:00:30          nan    0.6240\n",
      "        36                                                  0:00:19          nan    0.6240\n",
      "        37                                                  0:00:23          nan    0.6240\n",
      "        38    VotingEnsemble                                0:01:36       0.6376    0.6376\n",
      "        39    StackEnsemble                                 0:01:30       0.6351    0.6376\n"
     ]
    }
   ],
   "source": [
    "# Submit experiment\n",
    "remote_run = experiment.submit(config=automl_config, show_output=True)"
   ]
  },
  {
   "cell_type": "markdown",
   "metadata": {},
   "source": [
    "## Run Details\n",
    "\n",
    "OPTIONAL: Write about the different models trained and their performance. Why do you think some models did better than others?\n",
    "\n",
    "TODO: In the cell below, use the `RunDetails` widget to show the different experiments."
   ]
  },
  {
   "cell_type": "code",
   "execution_count": 8,
   "metadata": {
    "collapsed": false,
    "gather": {
     "logged": 1598431121770
    },
    "jupyter": {
     "outputs_hidden": false,
     "source_hidden": false
    },
    "nteract": {
     "transient": {
      "deleting": false
     }
    }
   },
   "outputs": [
    {
     "data": {
      "application/vnd.jupyter.widget-view+json": {
       "model_id": "338d39f95a94440fa1b1132ec3321e5e",
       "version_major": 2,
       "version_minor": 0
      },
      "text/plain": [
       "_AutoMLWidget(widget_settings={'childWidgetDisplay': 'popup', 'send_telemetry': False, 'log_level': 'INFO', 's…"
      ]
     },
     "metadata": {},
     "output_type": "display_data"
    },
    {
     "data": {
      "application/aml.mini.widget.v1": "{\"status\": \"Completed\", \"workbench_run_details_uri\": \"https://ml.azure.com/experiments/MS-Malware/runs/AutoML_50201189-2111-4560-956d-146fa247ff16?wsid=/subscriptions/5a4ab2ba-6c51-4805-8155-58759ad589d8/resourcegroups/aml-quickstarts-133708/workspaces/quick-starts-ws-133708\", \"run_id\": \"AutoML_50201189-2111-4560-956d-146fa247ff16\", \"run_properties\": {\"run_id\": \"AutoML_50201189-2111-4560-956d-146fa247ff16\", \"created_utc\": \"2021-01-06T21:07:07.228116Z\", \"properties\": {\"num_iterations\": \"1000\", \"training_type\": \"TrainFull\", \"acquisition_function\": \"EI\", \"primary_metric\": \"accuracy\", \"train_split\": \"0\", \"acquisition_parameter\": \"0\", \"num_cross_validation\": \"5\", \"target\": \"malware-compute\", \"AMLSettingsJsonString\": \"{\\\"path\\\":null,\\\"name\\\":\\\"MS-Malware\\\",\\\"subscription_id\\\":\\\"5a4ab2ba-6c51-4805-8155-58759ad589d8\\\",\\\"resource_group\\\":\\\"aml-quickstarts-133708\\\",\\\"workspace_name\\\":\\\"quick-starts-ws-133708\\\",\\\"region\\\":\\\"southcentralus\\\",\\\"compute_target\\\":\\\"malware-compute\\\",\\\"spark_service\\\":null,\\\"azure_service\\\":\\\"remote\\\",\\\"many_models\\\":false,\\\"pipeline_fetch_max_batch_size\\\":1,\\\"iterations\\\":1000,\\\"primary_metric\\\":\\\"accuracy\\\",\\\"task_type\\\":\\\"classification\\\",\\\"data_script\\\":null,\\\"validation_size\\\":0.0,\\\"n_cross_validations\\\":5,\\\"y_min\\\":null,\\\"y_max\\\":null,\\\"num_classes\\\":null,\\\"featurization\\\":\\\"auto\\\",\\\"_ignore_package_version_incompatibilities\\\":false,\\\"is_timeseries\\\":false,\\\"max_cores_per_iteration\\\":1,\\\"max_concurrent_iterations\\\":5,\\\"iteration_timeout_minutes\\\":null,\\\"mem_in_mb\\\":null,\\\"enforce_time_on_windows\\\":false,\\\"experiment_timeout_minutes\\\":30,\\\"experiment_exit_score\\\":null,\\\"whitelist_models\\\":null,\\\"blacklist_algos\\\":[\\\"TensorFlowLinearClassifier\\\",\\\"TensorFlowDNN\\\"],\\\"supported_models\\\":[\\\"RandomForest\\\",\\\"GradientBoosting\\\",\\\"DecisionTree\\\",\\\"LightGBM\\\",\\\"TensorFlowLinearClassifier\\\",\\\"MultinomialNaiveBayes\\\",\\\"LogisticRegression\\\",\\\"ExtremeRandomTrees\\\",\\\"AveragedPerceptronClassifier\\\",\\\"LinearSVM\\\",\\\"TensorFlowDNN\\\",\\\"XGBoostClassifier\\\",\\\"KNN\\\",\\\"SGD\\\",\\\"SVM\\\",\\\"BernoulliNaiveBayes\\\"],\\\"auto_blacklist\\\":true,\\\"blacklist_samples_reached\\\":false,\\\"exclude_nan_labels\\\":true,\\\"verbosity\\\":20,\\\"_debug_log\\\":\\\"azureml_automl.log\\\",\\\"show_warnings\\\":false,\\\"model_explainability\\\":true,\\\"service_url\\\":null,\\\"sdk_url\\\":null,\\\"sdk_packages\\\":null,\\\"enable_onnx_compatible_models\\\":false,\\\"enable_split_onnx_featurizer_estimator_models\\\":false,\\\"vm_type\\\":\\\"STANDARD_D2_V2\\\",\\\"telemetry_verbosity\\\":20,\\\"send_telemetry\\\":true,\\\"enable_dnn\\\":false,\\\"scenario\\\":\\\"SDK-1.13.0\\\",\\\"environment_label\\\":null,\\\"force_text_dnn\\\":false,\\\"enable_feature_sweeping\\\":true,\\\"enable_early_stopping\\\":true,\\\"early_stopping_n_iters\\\":10,\\\"metrics\\\":null,\\\"enable_ensembling\\\":true,\\\"enable_stack_ensembling\\\":true,\\\"ensemble_iterations\\\":15,\\\"enable_tf\\\":false,\\\"enable_subsampling\\\":null,\\\"subsample_seed\\\":null,\\\"enable_nimbusml\\\":false,\\\"enable_streaming\\\":false,\\\"force_streaming\\\":false,\\\"track_child_runs\\\":true,\\\"allowed_private_models\\\":[],\\\"label_column_name\\\":\\\"HasDetections\\\",\\\"weight_column_name\\\":null,\\\"cv_split_column_names\\\":null,\\\"enable_local_managed\\\":false,\\\"_local_managed_run_id\\\":null,\\\"cost_mode\\\":1,\\\"lag_length\\\":0,\\\"metric_operation\\\":\\\"maximize\\\",\\\"preprocess\\\":true}\", \"DataPrepJsonString\": \"{\\\\\\\"training_data\\\\\\\": \\\\\\\"{\\\\\\\\\\\\\\\"blocks\\\\\\\\\\\\\\\": [{\\\\\\\\\\\\\\\"id\\\\\\\\\\\\\\\": \\\\\\\\\\\\\\\"5779f6fe-d84b-4847-bcc5-9ec1e23c0a3a\\\\\\\\\\\\\\\", \\\\\\\\\\\\\\\"type\\\\\\\\\\\\\\\": \\\\\\\\\\\\\\\"Microsoft.DPrep.GetFilesBlock\\\\\\\\\\\\\\\", \\\\\\\\\\\\\\\"arguments\\\\\\\\\\\\\\\": {\\\\\\\\\\\\\\\"isArchive\\\\\\\\\\\\\\\": false, \\\\\\\\\\\\\\\"path\\\\\\\\\\\\\\\": {\\\\\\\\\\\\\\\"target\\\\\\\\\\\\\\\": 4, \\\\\\\\\\\\\\\"resourceDetails\\\\\\\\\\\\\\\": [{\\\\\\\\\\\\\\\"path\\\\\\\\\\\\\\\": \\\\\\\\\\\\\\\"https://raw.githubusercontent.com/tybyers/AZMLND_projects/capstone/capstone/data/train_1_10k.csv\\\\\\\\\\\\\\\"}]}}, \\\\\\\\\\\\\\\"localData\\\\\\\\\\\\\\\": {}, \\\\\\\\\\\\\\\"isEnabled\\\\\\\\\\\\\\\": true, \\\\\\\\\\\\\\\"name\\\\\\\\\\\\\\\": null, \\\\\\\\\\\\\\\"annotation\\\\\\\\\\\\\\\": null}, {\\\\\\\\\\\\\\\"id\\\\\\\\\\\\\\\": \\\\\\\\\\\\\\\"e2e794f4-80e7-4eb7-937b-c2daceef3079\\\\\\\\\\\\\\\", \\\\\\\\\\\\\\\"type\\\\\\\\\\\\\\\": \\\\\\\\\\\\\\\"Microsoft.DPrep.ParseDelimitedBlock\\\\\\\\\\\\\\\", \\\\\\\\\\\\\\\"arguments\\\\\\\\\\\\\\\": {\\\\\\\\\\\\\\\"columnHeadersMode\\\\\\\\\\\\\\\": 3, \\\\\\\\\\\\\\\"fileEncoding\\\\\\\\\\\\\\\": 0, \\\\\\\\\\\\\\\"handleQuotedLineBreaks\\\\\\\\\\\\\\\": false, \\\\\\\\\\\\\\\"preview\\\\\\\\\\\\\\\": false, \\\\\\\\\\\\\\\"separator\\\\\\\\\\\\\\\": \\\\\\\\\\\\\\\",\\\\\\\\\\\\\\\", \\\\\\\\\\\\\\\"skipRows\\\\\\\\\\\\\\\": 0, \\\\\\\\\\\\\\\"skipRowsMode\\\\\\\\\\\\\\\": 0}, \\\\\\\\\\\\\\\"localData\\\\\\\\\\\\\\\": {}, \\\\\\\\\\\\\\\"isEnabled\\\\\\\\\\\\\\\": true, \\\\\\\\\\\\\\\"name\\\\\\\\\\\\\\\": null, \\\\\\\\\\\\\\\"annotation\\\\\\\\\\\\\\\": null}, {\\\\\\\\\\\\\\\"id\\\\\\\\\\\\\\\": \\\\\\\\\\\\\\\"29aa3f44-5971-47e0-a96d-29bd738efdcf\\\\\\\\\\\\\\\", \\\\\\\\\\\\\\\"type\\\\\\\\\\\\\\\": \\\\\\\\\\\\\\\"Microsoft.DPrep.DropColumnsBlock\\\\\\\\\\\\\\\", \\\\\\\\\\\\\\\"arguments\\\\\\\\\\\\\\\": {\\\\\\\\\\\\\\\"columns\\\\\\\\\\\\\\\": {\\\\\\\\\\\\\\\"type\\\\\\\\\\\\\\\": 0, \\\\\\\\\\\\\\\"details\\\\\\\\\\\\\\\": {\\\\\\\\\\\\\\\"selectedColumns\\\\\\\\\\\\\\\": [\\\\\\\\\\\\\\\"Path\\\\\\\\\\\\\\\"]}}}, \\\\\\\\\\\\\\\"localData\\\\\\\\\\\\\\\": {}, \\\\\\\\\\\\\\\"isEnabled\\\\\\\\\\\\\\\": true, \\\\\\\\\\\\\\\"name\\\\\\\\\\\\\\\": null, \\\\\\\\\\\\\\\"annotation\\\\\\\\\\\\\\\": null}, {\\\\\\\\\\\\\\\"id\\\\\\\\\\\\\\\": \\\\\\\\\\\\\\\"2a04fbe9-2b70-43c1-ad3a-f97377cb158c\\\\\\\\\\\\\\\", \\\\\\\\\\\\\\\"type\\\\\\\\\\\\\\\": \\\\\\\\\\\\\\\"Microsoft.DPrep.SetColumnTypesBlock\\\\\\\\\\\\\\\", \\\\\\\\\\\\\\\"arguments\\\\\\\\\\\\\\\": {\\\\\\\\\\\\\\\"columnConversion\\\\\\\\\\\\\\\": [{\\\\\\\\\\\\\\\"column\\\\\\\\\\\\\\\": {\\\\\\\\\\\\\\\"type\\\\\\\\\\\\\\\": 2, \\\\\\\\\\\\\\\"details\\\\\\\\\\\\\\\": {\\\\\\\\\\\\\\\"selectedColumn\\\\\\\\\\\\\\\": \\\\\\\\\\\\\\\"ProductName\\\\\\\\\\\\\\\"}}, \\\\\\\\\\\\\\\"typeProperty\\\\\\\\\\\\\\\": 0}, {\\\\\\\\\\\\\\\"column\\\\\\\\\\\\\\\": {\\\\\\\\\\\\\\\"type\\\\\\\\\\\\\\\": 2, \\\\\\\\\\\\\\\"details\\\\\\\\\\\\\\\": {\\\\\\\\\\\\\\\"selectedColumn\\\\\\\\\\\\\\\": \\\\\\\\\\\\\\\"EngineVersion\\\\\\\\\\\\\\\"}}, \\\\\\\\\\\\\\\"typeProperty\\\\\\\\\\\\\\\": 0}, {\\\\\\\\\\\\\\\"column\\\\\\\\\\\\\\\": {\\\\\\\\\\\\\\\"type\\\\\\\\\\\\\\\": 2, \\\\\\\\\\\\\\\"details\\\\\\\\\\\\\\\": {\\\\\\\\\\\\\\\"selectedColumn\\\\\\\\\\\\\\\": \\\\\\\\\\\\\\\"AppVersion\\\\\\\\\\\\\\\"}}, \\\\\\\\\\\\\\\"typeProperty\\\\\\\\\\\\\\\": 0}, {\\\\\\\\\\\\\\\"column\\\\\\\\\\\\\\\": {\\\\\\\\\\\\\\\"type\\\\\\\\\\\\\\\": 2, \\\\\\\\\\\\\\\"details\\\\\\\\\\\\\\\": {\\\\\\\\\\\\\\\"selectedColumn\\\\\\\\\\\\\\\": \\\\\\\\\\\\\\\"AvSigVersion\\\\\\\\\\\\\\\"}}, \\\\\\\\\\\\\\\"typeProperty\\\\\\\\\\\\\\\": 0}, {\\\\\\\\\\\\\\\"column\\\\\\\\\\\\\\\": {\\\\\\\\\\\\\\\"type\\\\\\\\\\\\\\\": 2, \\\\\\\\\\\\\\\"details\\\\\\\\\\\\\\\": {\\\\\\\\\\\\\\\"selectedColumn\\\\\\\\\\\\\\\": \\\\\\\\\\\\\\\"IsBeta\\\\\\\\\\\\\\\"}}, \\\\\\\\\\\\\\\"typeProperty\\\\\\\\\\\\\\\": 2}, {\\\\\\\\\\\\\\\"column\\\\\\\\\\\\\\\": {\\\\\\\\\\\\\\\"type\\\\\\\\\\\\\\\": 2, \\\\\\\\\\\\\\\"details\\\\\\\\\\\\\\\": {\\\\\\\\\\\\\\\"selectedColumn\\\\\\\\\\\\\\\": \\\\\\\\\\\\\\\"RtpStateBitfield\\\\\\\\\\\\\\\"}}, \\\\\\\\\\\\\\\"typeProperty\\\\\\\\\\\\\\\": 0}, {\\\\\\\\\\\\\\\"column\\\\\\\\\\\\\\\": {\\\\\\\\\\\\\\\"type\\\\\\\\\\\\\\\": 2, \\\\\\\\\\\\\\\"details\\\\\\\\\\\\\\\": {\\\\\\\\\\\\\\\"selectedColumn\\\\\\\\\\\\\\\": \\\\\\\\\\\\\\\"IsSxsPassiveMode\\\\\\\\\\\\\\\"}}, \\\\\\\\\\\\\\\"typeProperty\\\\\\\\\\\\\\\": 2}, {\\\\\\\\\\\\\\\"column\\\\\\\\\\\\\\\": {\\\\\\\\\\\\\\\"type\\\\\\\\\\\\\\\": 2, \\\\\\\\\\\\\\\"details\\\\\\\\\\\\\\\": {\\\\\\\\\\\\\\\"selectedColumn\\\\\\\\\\\\\\\": \\\\\\\\\\\\\\\"DefaultBrowsersIdentifier\\\\\\\\\\\\\\\"}}, \\\\\\\\\\\\\\\"typeProperty\\\\\\\\\\\\\\\": 0}, {\\\\\\\\\\\\\\\"column\\\\\\\\\\\\\\\": {\\\\\\\\\\\\\\\"type\\\\\\\\\\\\\\\": 2, \\\\\\\\\\\\\\\"details\\\\\\\\\\\\\\\": {\\\\\\\\\\\\\\\"selectedColumn\\\\\\\\\\\\\\\": \\\\\\\\\\\\\\\"AVProductStatesIdentifier\\\\\\\\\\\\\\\"}}, \\\\\\\\\\\\\\\"typeProperty\\\\\\\\\\\\\\\": 2}, {\\\\\\\\\\\\\\\"column\\\\\\\\\\\\\\\": {\\\\\\\\\\\\\\\"type\\\\\\\\\\\\\\\": 2, \\\\\\\\\\\\\\\"details\\\\\\\\\\\\\\\": {\\\\\\\\\\\\\\\"selectedColumn\\\\\\\\\\\\\\\": \\\\\\\\\\\\\\\"AVProductsInstalled\\\\\\\\\\\\\\\"}}, \\\\\\\\\\\\\\\"typeProperty\\\\\\\\\\\\\\\": 2}, {\\\\\\\\\\\\\\\"column\\\\\\\\\\\\\\\": {\\\\\\\\\\\\\\\"type\\\\\\\\\\\\\\\": 2, \\\\\\\\\\\\\\\"details\\\\\\\\\\\\\\\": {\\\\\\\\\\\\\\\"selectedColumn\\\\\\\\\\\\\\\": \\\\\\\\\\\\\\\"AVProductsEnabled\\\\\\\\\\\\\\\"}}, \\\\\\\\\\\\\\\"typeProperty\\\\\\\\\\\\\\\": 2}, {\\\\\\\\\\\\\\\"column\\\\\\\\\\\\\\\": {\\\\\\\\\\\\\\\"type\\\\\\\\\\\\\\\": 2, \\\\\\\\\\\\\\\"details\\\\\\\\\\\\\\\": {\\\\\\\\\\\\\\\"selectedColumn\\\\\\\\\\\\\\\": \\\\\\\\\\\\\\\"HasTpm\\\\\\\\\\\\\\\"}}, \\\\\\\\\\\\\\\"typeProperty\\\\\\\\\\\\\\\": 2}, {\\\\\\\\\\\\\\\"column\\\\\\\\\\\\\\\": {\\\\\\\\\\\\\\\"type\\\\\\\\\\\\\\\": 2, \\\\\\\\\\\\\\\"details\\\\\\\\\\\\\\\": {\\\\\\\\\\\\\\\"selectedColumn\\\\\\\\\\\\\\\": \\\\\\\\\\\\\\\"CountryIdentifier\\\\\\\\\\\\\\\"}}, \\\\\\\\\\\\\\\"typeProperty\\\\\\\\\\\\\\\": 2}, {\\\\\\\\\\\\\\\"column\\\\\\\\\\\\\\\": {\\\\\\\\\\\\\\\"type\\\\\\\\\\\\\\\": 2, \\\\\\\\\\\\\\\"details\\\\\\\\\\\\\\\": {\\\\\\\\\\\\\\\"selectedColumn\\\\\\\\\\\\\\\": \\\\\\\\\\\\\\\"CityIdentifier\\\\\\\\\\\\\\\"}}, \\\\\\\\\\\\\\\"typeProperty\\\\\\\\\\\\\\\": 0}, {\\\\\\\\\\\\\\\"column\\\\\\\\\\\\\\\": {\\\\\\\\\\\\\\\"type\\\\\\\\\\\\\\\": 2, \\\\\\\\\\\\\\\"details\\\\\\\\\\\\\\\": {\\\\\\\\\\\\\\\"selectedColumn\\\\\\\\\\\\\\\": \\\\\\\\\\\\\\\"OrganizationIdentifier\\\\\\\\\\\\\\\"}}, \\\\\\\\\\\\\\\"typeProperty\\\\\\\\\\\\\\\": 0}, {\\\\\\\\\\\\\\\"column\\\\\\\\\\\\\\\": {\\\\\\\\\\\\\\\"type\\\\\\\\\\\\\\\": 2, \\\\\\\\\\\\\\\"details\\\\\\\\\\\\\\\": {\\\\\\\\\\\\\\\"selectedColumn\\\\\\\\\\\\\\\": \\\\\\\\\\\\\\\"GeoNameIdentifier\\\\\\\\\\\\\\\"}}, \\\\\\\\\\\\\\\"typeProperty\\\\\\\\\\\\\\\": 2}, {\\\\\\\\\\\\\\\"column\\\\\\\\\\\\\\\": {\\\\\\\\\\\\\\\"type\\\\\\\\\\\\\\\": 2, \\\\\\\\\\\\\\\"details\\\\\\\\\\\\\\\": {\\\\\\\\\\\\\\\"selectedColumn\\\\\\\\\\\\\\\": \\\\\\\\\\\\\\\"LocaleEnglishNameIdentifier\\\\\\\\\\\\\\\"}}, \\\\\\\\\\\\\\\"typeProperty\\\\\\\\\\\\\\\": 2}, {\\\\\\\\\\\\\\\"column\\\\\\\\\\\\\\\": {\\\\\\\\\\\\\\\"type\\\\\\\\\\\\\\\": 2, \\\\\\\\\\\\\\\"details\\\\\\\\\\\\\\\": {\\\\\\\\\\\\\\\"selectedColumn\\\\\\\\\\\\\\\": \\\\\\\\\\\\\\\"Platform\\\\\\\\\\\\\\\"}}, \\\\\\\\\\\\\\\"typeProperty\\\\\\\\\\\\\\\": 0}, {\\\\\\\\\\\\\\\"column\\\\\\\\\\\\\\\": {\\\\\\\\\\\\\\\"type\\\\\\\\\\\\\\\": 2, \\\\\\\\\\\\\\\"details\\\\\\\\\\\\\\\": {\\\\\\\\\\\\\\\"selectedColumn\\\\\\\\\\\\\\\": \\\\\\\\\\\\\\\"Processor\\\\\\\\\\\\\\\"}}, \\\\\\\\\\\\\\\"typeProperty\\\\\\\\\\\\\\\": 0}, {\\\\\\\\\\\\\\\"column\\\\\\\\\\\\\\\": {\\\\\\\\\\\\\\\"type\\\\\\\\\\\\\\\": 2, \\\\\\\\\\\\\\\"details\\\\\\\\\\\\\\\": {\\\\\\\\\\\\\\\"selectedColumn\\\\\\\\\\\\\\\": \\\\\\\\\\\\\\\"OsVer\\\\\\\\\\\\\\\"}}, \\\\\\\\\\\\\\\"typeProperty\\\\\\\\\\\\\\\": 0}, {\\\\\\\\\\\\\\\"column\\\\\\\\\\\\\\\": {\\\\\\\\\\\\\\\"type\\\\\\\\\\\\\\\": 2, \\\\\\\\\\\\\\\"details\\\\\\\\\\\\\\\": {\\\\\\\\\\\\\\\"selectedColumn\\\\\\\\\\\\\\\": \\\\\\\\\\\\\\\"OsBuild\\\\\\\\\\\\\\\"}}, \\\\\\\\\\\\\\\"typeProperty\\\\\\\\\\\\\\\": 2}, {\\\\\\\\\\\\\\\"column\\\\\\\\\\\\\\\": {\\\\\\\\\\\\\\\"type\\\\\\\\\\\\\\\": 2, \\\\\\\\\\\\\\\"details\\\\\\\\\\\\\\\": {\\\\\\\\\\\\\\\"selectedColumn\\\\\\\\\\\\\\\": \\\\\\\\\\\\\\\"OsSuite\\\\\\\\\\\\\\\"}}, \\\\\\\\\\\\\\\"typeProperty\\\\\\\\\\\\\\\": 2}, {\\\\\\\\\\\\\\\"column\\\\\\\\\\\\\\\": {\\\\\\\\\\\\\\\"type\\\\\\\\\\\\\\\": 2, \\\\\\\\\\\\\\\"details\\\\\\\\\\\\\\\": {\\\\\\\\\\\\\\\"selectedColumn\\\\\\\\\\\\\\\": \\\\\\\\\\\\\\\"OsPlatformSubRelease\\\\\\\\\\\\\\\"}}, \\\\\\\\\\\\\\\"typeProperty\\\\\\\\\\\\\\\": 0}, {\\\\\\\\\\\\\\\"column\\\\\\\\\\\\\\\": {\\\\\\\\\\\\\\\"type\\\\\\\\\\\\\\\": 2, \\\\\\\\\\\\\\\"details\\\\\\\\\\\\\\\": {\\\\\\\\\\\\\\\"selectedColumn\\\\\\\\\\\\\\\": \\\\\\\\\\\\\\\"OsBuildLab\\\\\\\\\\\\\\\"}}, \\\\\\\\\\\\\\\"typeProperty\\\\\\\\\\\\\\\": 0}, {\\\\\\\\\\\\\\\"column\\\\\\\\\\\\\\\": {\\\\\\\\\\\\\\\"type\\\\\\\\\\\\\\\": 2, \\\\\\\\\\\\\\\"details\\\\\\\\\\\\\\\": {\\\\\\\\\\\\\\\"selectedColumn\\\\\\\\\\\\\\\": \\\\\\\\\\\\\\\"SkuEdition\\\\\\\\\\\\\\\"}}, \\\\\\\\\\\\\\\"typeProperty\\\\\\\\\\\\\\\": 0}, {\\\\\\\\\\\\\\\"column\\\\\\\\\\\\\\\": {\\\\\\\\\\\\\\\"type\\\\\\\\\\\\\\\": 2, \\\\\\\\\\\\\\\"details\\\\\\\\\\\\\\\": {\\\\\\\\\\\\\\\"selectedColumn\\\\\\\\\\\\\\\": \\\\\\\\\\\\\\\"IsProtected\\\\\\\\\\\\\\\"}}, \\\\\\\\\\\\\\\"typeProperty\\\\\\\\\\\\\\\": 2}, {\\\\\\\\\\\\\\\"column\\\\\\\\\\\\\\\": {\\\\\\\\\\\\\\\"type\\\\\\\\\\\\\\\": 2, \\\\\\\\\\\\\\\"details\\\\\\\\\\\\\\\": {\\\\\\\\\\\\\\\"selectedColumn\\\\\\\\\\\\\\\": \\\\\\\\\\\\\\\"AutoSampleOptIn\\\\\\\\\\\\\\\"}}, \\\\\\\\\\\\\\\"typeProperty\\\\\\\\\\\\\\\": 2}, {\\\\\\\\\\\\\\\"column\\\\\\\\\\\\\\\": {\\\\\\\\\\\\\\\"type\\\\\\\\\\\\\\\": 2, \\\\\\\\\\\\\\\"details\\\\\\\\\\\\\\\": {\\\\\\\\\\\\\\\"selectedColumn\\\\\\\\\\\\\\\": \\\\\\\\\\\\\\\"PuaMode\\\\\\\\\\\\\\\"}}, \\\\\\\\\\\\\\\"typeProperty\\\\\\\\\\\\\\\": 0}, {\\\\\\\\\\\\\\\"column\\\\\\\\\\\\\\\": {\\\\\\\\\\\\\\\"type\\\\\\\\\\\\\\\": 2, \\\\\\\\\\\\\\\"details\\\\\\\\\\\\\\\": {\\\\\\\\\\\\\\\"selectedColumn\\\\\\\\\\\\\\\": \\\\\\\\\\\\\\\"SMode\\\\\\\\\\\\\\\"}}, \\\\\\\\\\\\\\\"typeProperty\\\\\\\\\\\\\\\": 0}, {\\\\\\\\\\\\\\\"column\\\\\\\\\\\\\\\": {\\\\\\\\\\\\\\\"type\\\\\\\\\\\\\\\": 2, \\\\\\\\\\\\\\\"details\\\\\\\\\\\\\\\": {\\\\\\\\\\\\\\\"selectedColumn\\\\\\\\\\\\\\\": \\\\\\\\\\\\\\\"IeVerIdentifier\\\\\\\\\\\\\\\"}}, \\\\\\\\\\\\\\\"typeProperty\\\\\\\\\\\\\\\": 0}, {\\\\\\\\\\\\\\\"column\\\\\\\\\\\\\\\": {\\\\\\\\\\\\\\\"type\\\\\\\\\\\\\\\": 2, \\\\\\\\\\\\\\\"details\\\\\\\\\\\\\\\": {\\\\\\\\\\\\\\\"selectedColumn\\\\\\\\\\\\\\\": \\\\\\\\\\\\\\\"SmartScreen\\\\\\\\\\\\\\\"}}, \\\\\\\\\\\\\\\"typeProperty\\\\\\\\\\\\\\\": 0}, {\\\\\\\\\\\\\\\"column\\\\\\\\\\\\\\\": {\\\\\\\\\\\\\\\"type\\\\\\\\\\\\\\\": 2, \\\\\\\\\\\\\\\"details\\\\\\\\\\\\\\\": {\\\\\\\\\\\\\\\"selectedColumn\\\\\\\\\\\\\\\": \\\\\\\\\\\\\\\"Firewall\\\\\\\\\\\\\\\"}}, \\\\\\\\\\\\\\\"typeProperty\\\\\\\\\\\\\\\": 2}, {\\\\\\\\\\\\\\\"column\\\\\\\\\\\\\\\": {\\\\\\\\\\\\\\\"type\\\\\\\\\\\\\\\": 2, \\\\\\\\\\\\\\\"details\\\\\\\\\\\\\\\": {\\\\\\\\\\\\\\\"selectedColumn\\\\\\\\\\\\\\\": \\\\\\\\\\\\\\\"UacLuaenable\\\\\\\\\\\\\\\"}}, \\\\\\\\\\\\\\\"typeProperty\\\\\\\\\\\\\\\": 0}, {\\\\\\\\\\\\\\\"column\\\\\\\\\\\\\\\": {\\\\\\\\\\\\\\\"type\\\\\\\\\\\\\\\": 2, \\\\\\\\\\\\\\\"details\\\\\\\\\\\\\\\": {\\\\\\\\\\\\\\\"selectedColumn\\\\\\\\\\\\\\\": \\\\\\\\\\\\\\\"Census_MDC2FormFactor\\\\\\\\\\\\\\\"}}, \\\\\\\\\\\\\\\"typeProperty\\\\\\\\\\\\\\\": 0}, {\\\\\\\\\\\\\\\"column\\\\\\\\\\\\\\\": {\\\\\\\\\\\\\\\"type\\\\\\\\\\\\\\\": 2, \\\\\\\\\\\\\\\"details\\\\\\\\\\\\\\\": {\\\\\\\\\\\\\\\"selectedColumn\\\\\\\\\\\\\\\": \\\\\\\\\\\\\\\"Census_DeviceFamily\\\\\\\\\\\\\\\"}}, \\\\\\\\\\\\\\\"typeProperty\\\\\\\\\\\\\\\": 0}, {\\\\\\\\\\\\\\\"column\\\\\\\\\\\\\\\": {\\\\\\\\\\\\\\\"type\\\\\\\\\\\\\\\": 2, \\\\\\\\\\\\\\\"details\\\\\\\\\\\\\\\": {\\\\\\\\\\\\\\\"selectedColumn\\\\\\\\\\\\\\\": \\\\\\\\\\\\\\\"Census_OEMNameIdentifier\\\\\\\\\\\\\\\"}}, \\\\\\\\\\\\\\\"typeProperty\\\\\\\\\\\\\\\": 0}, {\\\\\\\\\\\\\\\"column\\\\\\\\\\\\\\\": {\\\\\\\\\\\\\\\"type\\\\\\\\\\\\\\\": 2, \\\\\\\\\\\\\\\"details\\\\\\\\\\\\\\\": {\\\\\\\\\\\\\\\"selectedColumn\\\\\\\\\\\\\\\": \\\\\\\\\\\\\\\"Census_OEMModelIdentifier\\\\\\\\\\\\\\\"}}, \\\\\\\\\\\\\\\"typeProperty\\\\\\\\\\\\\\\": 0}, {\\\\\\\\\\\\\\\"column\\\\\\\\\\\\\\\": {\\\\\\\\\\\\\\\"type\\\\\\\\\\\\\\\": 2, \\\\\\\\\\\\\\\"details\\\\\\\\\\\\\\\": {\\\\\\\\\\\\\\\"selectedColumn\\\\\\\\\\\\\\\": \\\\\\\\\\\\\\\"Census_ProcessorCoreCount\\\\\\\\\\\\\\\"}}, \\\\\\\\\\\\\\\"typeProperty\\\\\\\\\\\\\\\": 2}, {\\\\\\\\\\\\\\\"column\\\\\\\\\\\\\\\": {\\\\\\\\\\\\\\\"type\\\\\\\\\\\\\\\": 2, \\\\\\\\\\\\\\\"details\\\\\\\\\\\\\\\": {\\\\\\\\\\\\\\\"selectedColumn\\\\\\\\\\\\\\\": \\\\\\\\\\\\\\\"Census_ProcessorManufacturerIdentifier\\\\\\\\\\\\\\\"}}, \\\\\\\\\\\\\\\"typeProperty\\\\\\\\\\\\\\\": 2}, {\\\\\\\\\\\\\\\"column\\\\\\\\\\\\\\\": {\\\\\\\\\\\\\\\"type\\\\\\\\\\\\\\\": 2, \\\\\\\\\\\\\\\"details\\\\\\\\\\\\\\\": {\\\\\\\\\\\\\\\"selectedColumn\\\\\\\\\\\\\\\": \\\\\\\\\\\\\\\"Census_ProcessorModelIdentifier\\\\\\\\\\\\\\\"}}, \\\\\\\\\\\\\\\"typeProperty\\\\\\\\\\\\\\\": 2}, {\\\\\\\\\\\\\\\"column\\\\\\\\\\\\\\\": {\\\\\\\\\\\\\\\"type\\\\\\\\\\\\\\\": 2, \\\\\\\\\\\\\\\"details\\\\\\\\\\\\\\\": {\\\\\\\\\\\\\\\"selectedColumn\\\\\\\\\\\\\\\": \\\\\\\\\\\\\\\"Census_ProcessorClass\\\\\\\\\\\\\\\"}}, \\\\\\\\\\\\\\\"typeProperty\\\\\\\\\\\\\\\": 0}, {\\\\\\\\\\\\\\\"column\\\\\\\\\\\\\\\": {\\\\\\\\\\\\\\\"type\\\\\\\\\\\\\\\": 2, \\\\\\\\\\\\\\\"details\\\\\\\\\\\\\\\": {\\\\\\\\\\\\\\\"selectedColumn\\\\\\\\\\\\\\\": \\\\\\\\\\\\\\\"Census_PrimaryDiskTotalCapacity\\\\\\\\\\\\\\\"}}, \\\\\\\\\\\\\\\"typeProperty\\\\\\\\\\\\\\\": 2}, {\\\\\\\\\\\\\\\"column\\\\\\\\\\\\\\\": {\\\\\\\\\\\\\\\"type\\\\\\\\\\\\\\\": 2, \\\\\\\\\\\\\\\"details\\\\\\\\\\\\\\\": {\\\\\\\\\\\\\\\"selectedColumn\\\\\\\\\\\\\\\": \\\\\\\\\\\\\\\"Census_PrimaryDiskTypeName\\\\\\\\\\\\\\\"}}, \\\\\\\\\\\\\\\"typeProperty\\\\\\\\\\\\\\\": 0}, {\\\\\\\\\\\\\\\"column\\\\\\\\\\\\\\\": {\\\\\\\\\\\\\\\"type\\\\\\\\\\\\\\\": 2, \\\\\\\\\\\\\\\"details\\\\\\\\\\\\\\\": {\\\\\\\\\\\\\\\"selectedColumn\\\\\\\\\\\\\\\": \\\\\\\\\\\\\\\"Census_SystemVolumeTotalCapacity\\\\\\\\\\\\\\\"}}, \\\\\\\\\\\\\\\"typeProperty\\\\\\\\\\\\\\\": 2}, {\\\\\\\\\\\\\\\"column\\\\\\\\\\\\\\\": {\\\\\\\\\\\\\\\"type\\\\\\\\\\\\\\\": 2, \\\\\\\\\\\\\\\"details\\\\\\\\\\\\\\\": {\\\\\\\\\\\\\\\"selectedColumn\\\\\\\\\\\\\\\": \\\\\\\\\\\\\\\"Census_HasOpticalDiskDrive\\\\\\\\\\\\\\\"}}, \\\\\\\\\\\\\\\"typeProperty\\\\\\\\\\\\\\\": 2}, {\\\\\\\\\\\\\\\"column\\\\\\\\\\\\\\\": {\\\\\\\\\\\\\\\"type\\\\\\\\\\\\\\\": 2, \\\\\\\\\\\\\\\"details\\\\\\\\\\\\\\\": {\\\\\\\\\\\\\\\"selectedColumn\\\\\\\\\\\\\\\": \\\\\\\\\\\\\\\"Census_TotalPhysicalRAM\\\\\\\\\\\\\\\"}}, \\\\\\\\\\\\\\\"typeProperty\\\\\\\\\\\\\\\": 0}, {\\\\\\\\\\\\\\\"column\\\\\\\\\\\\\\\": {\\\\\\\\\\\\\\\"type\\\\\\\\\\\\\\\": 2, \\\\\\\\\\\\\\\"details\\\\\\\\\\\\\\\": {\\\\\\\\\\\\\\\"selectedColumn\\\\\\\\\\\\\\\": \\\\\\\\\\\\\\\"Census_ChassisTypeName\\\\\\\\\\\\\\\"}}, \\\\\\\\\\\\\\\"typeProperty\\\\\\\\\\\\\\\": 0}, {\\\\\\\\\\\\\\\"column\\\\\\\\\\\\\\\": {\\\\\\\\\\\\\\\"type\\\\\\\\\\\\\\\": 2, \\\\\\\\\\\\\\\"details\\\\\\\\\\\\\\\": {\\\\\\\\\\\\\\\"selectedColumn\\\\\\\\\\\\\\\": \\\\\\\\\\\\\\\"Census_InternalPrimaryDiagonalDisplaySizeInInches\\\\\\\\\\\\\\\"}}, \\\\\\\\\\\\\\\"typeProperty\\\\\\\\\\\\\\\": 0}, {\\\\\\\\\\\\\\\"column\\\\\\\\\\\\\\\": {\\\\\\\\\\\\\\\"type\\\\\\\\\\\\\\\": 2, \\\\\\\\\\\\\\\"details\\\\\\\\\\\\\\\": {\\\\\\\\\\\\\\\"selectedColumn\\\\\\\\\\\\\\\": \\\\\\\\\\\\\\\"Census_InternalPrimaryDisplayResolutionHorizontal\\\\\\\\\\\\\\\"}}, \\\\\\\\\\\\\\\"typeProperty\\\\\\\\\\\\\\\": 0}, {\\\\\\\\\\\\\\\"column\\\\\\\\\\\\\\\": {\\\\\\\\\\\\\\\"type\\\\\\\\\\\\\\\": 2, \\\\\\\\\\\\\\\"details\\\\\\\\\\\\\\\": {\\\\\\\\\\\\\\\"selectedColumn\\\\\\\\\\\\\\\": \\\\\\\\\\\\\\\"Census_InternalPrimaryDisplayResolutionVertical\\\\\\\\\\\\\\\"}}, \\\\\\\\\\\\\\\"typeProperty\\\\\\\\\\\\\\\": 0}, {\\\\\\\\\\\\\\\"column\\\\\\\\\\\\\\\": {\\\\\\\\\\\\\\\"type\\\\\\\\\\\\\\\": 2, \\\\\\\\\\\\\\\"details\\\\\\\\\\\\\\\": {\\\\\\\\\\\\\\\"selectedColumn\\\\\\\\\\\\\\\": \\\\\\\\\\\\\\\"Census_PowerPlatformRoleName\\\\\\\\\\\\\\\"}}, \\\\\\\\\\\\\\\"typeProperty\\\\\\\\\\\\\\\": 0}, {\\\\\\\\\\\\\\\"column\\\\\\\\\\\\\\\": {\\\\\\\\\\\\\\\"type\\\\\\\\\\\\\\\": 2, \\\\\\\\\\\\\\\"details\\\\\\\\\\\\\\\": {\\\\\\\\\\\\\\\"selectedColumn\\\\\\\\\\\\\\\": \\\\\\\\\\\\\\\"Census_InternalBatteryType\\\\\\\\\\\\\\\"}}, \\\\\\\\\\\\\\\"typeProperty\\\\\\\\\\\\\\\": 0}, {\\\\\\\\\\\\\\\"column\\\\\\\\\\\\\\\": {\\\\\\\\\\\\\\\"type\\\\\\\\\\\\\\\": 2, \\\\\\\\\\\\\\\"details\\\\\\\\\\\\\\\": {\\\\\\\\\\\\\\\"selectedColumn\\\\\\\\\\\\\\\": \\\\\\\\\\\\\\\"Census_InternalBatteryNumberOfCharges\\\\\\\\\\\\\\\"}}, \\\\\\\\\\\\\\\"typeProperty\\\\\\\\\\\\\\\": 0}, {\\\\\\\\\\\\\\\"column\\\\\\\\\\\\\\\": {\\\\\\\\\\\\\\\"type\\\\\\\\\\\\\\\": 2, \\\\\\\\\\\\\\\"details\\\\\\\\\\\\\\\": {\\\\\\\\\\\\\\\"selectedColumn\\\\\\\\\\\\\\\": \\\\\\\\\\\\\\\"Census_OSVersion\\\\\\\\\\\\\\\"}}, \\\\\\\\\\\\\\\"typeProperty\\\\\\\\\\\\\\\": 0}, {\\\\\\\\\\\\\\\"column\\\\\\\\\\\\\\\": {\\\\\\\\\\\\\\\"type\\\\\\\\\\\\\\\": 2, \\\\\\\\\\\\\\\"details\\\\\\\\\\\\\\\": {\\\\\\\\\\\\\\\"selectedColumn\\\\\\\\\\\\\\\": \\\\\\\\\\\\\\\"Census_OSArchitecture\\\\\\\\\\\\\\\"}}, \\\\\\\\\\\\\\\"typeProperty\\\\\\\\\\\\\\\": 0}, {\\\\\\\\\\\\\\\"column\\\\\\\\\\\\\\\": {\\\\\\\\\\\\\\\"type\\\\\\\\\\\\\\\": 2, \\\\\\\\\\\\\\\"details\\\\\\\\\\\\\\\": {\\\\\\\\\\\\\\\"selectedColumn\\\\\\\\\\\\\\\": \\\\\\\\\\\\\\\"Census_OSBranch\\\\\\\\\\\\\\\"}}, \\\\\\\\\\\\\\\"typeProperty\\\\\\\\\\\\\\\": 0}, {\\\\\\\\\\\\\\\"column\\\\\\\\\\\\\\\": {\\\\\\\\\\\\\\\"type\\\\\\\\\\\\\\\": 2, \\\\\\\\\\\\\\\"details\\\\\\\\\\\\\\\": {\\\\\\\\\\\\\\\"selectedColumn\\\\\\\\\\\\\\\": \\\\\\\\\\\\\\\"Census_OSBuildNumber\\\\\\\\\\\\\\\"}}, \\\\\\\\\\\\\\\"typeProperty\\\\\\\\\\\\\\\": 2}, {\\\\\\\\\\\\\\\"column\\\\\\\\\\\\\\\": {\\\\\\\\\\\\\\\"type\\\\\\\\\\\\\\\": 2, \\\\\\\\\\\\\\\"details\\\\\\\\\\\\\\\": {\\\\\\\\\\\\\\\"selectedColumn\\\\\\\\\\\\\\\": \\\\\\\\\\\\\\\"Census_OSBuildRevision\\\\\\\\\\\\\\\"}}, \\\\\\\\\\\\\\\"typeProperty\\\\\\\\\\\\\\\": 2}, {\\\\\\\\\\\\\\\"column\\\\\\\\\\\\\\\": {\\\\\\\\\\\\\\\"type\\\\\\\\\\\\\\\": 2, \\\\\\\\\\\\\\\"details\\\\\\\\\\\\\\\": {\\\\\\\\\\\\\\\"selectedColumn\\\\\\\\\\\\\\\": \\\\\\\\\\\\\\\"Census_OSEdition\\\\\\\\\\\\\\\"}}, \\\\\\\\\\\\\\\"typeProperty\\\\\\\\\\\\\\\": 0}, {\\\\\\\\\\\\\\\"column\\\\\\\\\\\\\\\": {\\\\\\\\\\\\\\\"type\\\\\\\\\\\\\\\": 2, \\\\\\\\\\\\\\\"details\\\\\\\\\\\\\\\": {\\\\\\\\\\\\\\\"selectedColumn\\\\\\\\\\\\\\\": \\\\\\\\\\\\\\\"Census_OSSkuName\\\\\\\\\\\\\\\"}}, \\\\\\\\\\\\\\\"typeProperty\\\\\\\\\\\\\\\": 0}, {\\\\\\\\\\\\\\\"column\\\\\\\\\\\\\\\": {\\\\\\\\\\\\\\\"type\\\\\\\\\\\\\\\": 2, \\\\\\\\\\\\\\\"details\\\\\\\\\\\\\\\": {\\\\\\\\\\\\\\\"selectedColumn\\\\\\\\\\\\\\\": \\\\\\\\\\\\\\\"Census_OSInstallTypeName\\\\\\\\\\\\\\\"}}, \\\\\\\\\\\\\\\"typeProperty\\\\\\\\\\\\\\\": 0}, {\\\\\\\\\\\\\\\"column\\\\\\\\\\\\\\\": {\\\\\\\\\\\\\\\"type\\\\\\\\\\\\\\\": 2, \\\\\\\\\\\\\\\"details\\\\\\\\\\\\\\\": {\\\\\\\\\\\\\\\"selectedColumn\\\\\\\\\\\\\\\": \\\\\\\\\\\\\\\"Census_OSInstallLanguageIdentifier\\\\\\\\\\\\\\\"}}, \\\\\\\\\\\\\\\"typeProperty\\\\\\\\\\\\\\\": 0}, {\\\\\\\\\\\\\\\"column\\\\\\\\\\\\\\\": {\\\\\\\\\\\\\\\"type\\\\\\\\\\\\\\\": 2, \\\\\\\\\\\\\\\"details\\\\\\\\\\\\\\\": {\\\\\\\\\\\\\\\"selectedColumn\\\\\\\\\\\\\\\": \\\\\\\\\\\\\\\"Census_OSUILocaleIdentifier\\\\\\\\\\\\\\\"}}, \\\\\\\\\\\\\\\"typeProperty\\\\\\\\\\\\\\\": 2}, {\\\\\\\\\\\\\\\"column\\\\\\\\\\\\\\\": {\\\\\\\\\\\\\\\"type\\\\\\\\\\\\\\\": 2, \\\\\\\\\\\\\\\"details\\\\\\\\\\\\\\\": {\\\\\\\\\\\\\\\"selectedColumn\\\\\\\\\\\\\\\": \\\\\\\\\\\\\\\"Census_OSWUAutoUpdateOptionsName\\\\\\\\\\\\\\\"}}, \\\\\\\\\\\\\\\"typeProperty\\\\\\\\\\\\\\\": 0}, {\\\\\\\\\\\\\\\"column\\\\\\\\\\\\\\\": {\\\\\\\\\\\\\\\"type\\\\\\\\\\\\\\\": 2, \\\\\\\\\\\\\\\"details\\\\\\\\\\\\\\\": {\\\\\\\\\\\\\\\"selectedColumn\\\\\\\\\\\\\\\": \\\\\\\\\\\\\\\"Census_IsPortableOperatingSystem\\\\\\\\\\\\\\\"}}, \\\\\\\\\\\\\\\"typeProperty\\\\\\\\\\\\\\\": 2}, {\\\\\\\\\\\\\\\"column\\\\\\\\\\\\\\\": {\\\\\\\\\\\\\\\"type\\\\\\\\\\\\\\\": 2, \\\\\\\\\\\\\\\"details\\\\\\\\\\\\\\\": {\\\\\\\\\\\\\\\"selectedColumn\\\\\\\\\\\\\\\": \\\\\\\\\\\\\\\"Census_GenuineStateName\\\\\\\\\\\\\\\"}}, \\\\\\\\\\\\\\\"typeProperty\\\\\\\\\\\\\\\": 0}, {\\\\\\\\\\\\\\\"column\\\\\\\\\\\\\\\": {\\\\\\\\\\\\\\\"type\\\\\\\\\\\\\\\": 2, \\\\\\\\\\\\\\\"details\\\\\\\\\\\\\\\": {\\\\\\\\\\\\\\\"selectedColumn\\\\\\\\\\\\\\\": \\\\\\\\\\\\\\\"Census_ActivationChannel\\\\\\\\\\\\\\\"}}, \\\\\\\\\\\\\\\"typeProperty\\\\\\\\\\\\\\\": 0}, {\\\\\\\\\\\\\\\"column\\\\\\\\\\\\\\\": {\\\\\\\\\\\\\\\"type\\\\\\\\\\\\\\\": 2, \\\\\\\\\\\\\\\"details\\\\\\\\\\\\\\\": {\\\\\\\\\\\\\\\"selectedColumn\\\\\\\\\\\\\\\": \\\\\\\\\\\\\\\"Census_IsFlightingInternal\\\\\\\\\\\\\\\"}}, \\\\\\\\\\\\\\\"typeProperty\\\\\\\\\\\\\\\": 0}, {\\\\\\\\\\\\\\\"column\\\\\\\\\\\\\\\": {\\\\\\\\\\\\\\\"type\\\\\\\\\\\\\\\": 2, \\\\\\\\\\\\\\\"details\\\\\\\\\\\\\\\": {\\\\\\\\\\\\\\\"selectedColumn\\\\\\\\\\\\\\\": \\\\\\\\\\\\\\\"Census_IsFlightsDisabled\\\\\\\\\\\\\\\"}}, \\\\\\\\\\\\\\\"typeProperty\\\\\\\\\\\\\\\": 0}, {\\\\\\\\\\\\\\\"column\\\\\\\\\\\\\\\": {\\\\\\\\\\\\\\\"type\\\\\\\\\\\\\\\": 2, \\\\\\\\\\\\\\\"details\\\\\\\\\\\\\\\": {\\\\\\\\\\\\\\\"selectedColumn\\\\\\\\\\\\\\\": \\\\\\\\\\\\\\\"Census_FlightRing\\\\\\\\\\\\\\\"}}, \\\\\\\\\\\\\\\"typeProperty\\\\\\\\\\\\\\\": 0}, {\\\\\\\\\\\\\\\"column\\\\\\\\\\\\\\\": {\\\\\\\\\\\\\\\"type\\\\\\\\\\\\\\\": 2, \\\\\\\\\\\\\\\"details\\\\\\\\\\\\\\\": {\\\\\\\\\\\\\\\"selectedColumn\\\\\\\\\\\\\\\": \\\\\\\\\\\\\\\"Census_ThresholdOptIn\\\\\\\\\\\\\\\"}}, \\\\\\\\\\\\\\\"typeProperty\\\\\\\\\\\\\\\": 0}, {\\\\\\\\\\\\\\\"column\\\\\\\\\\\\\\\": {\\\\\\\\\\\\\\\"type\\\\\\\\\\\\\\\": 2, \\\\\\\\\\\\\\\"details\\\\\\\\\\\\\\\": {\\\\\\\\\\\\\\\"selectedColumn\\\\\\\\\\\\\\\": \\\\\\\\\\\\\\\"Census_FirmwareManufacturerIdentifier\\\\\\\\\\\\\\\"}}, \\\\\\\\\\\\\\\"typeProperty\\\\\\\\\\\\\\\": 0}, {\\\\\\\\\\\\\\\"column\\\\\\\\\\\\\\\": {\\\\\\\\\\\\\\\"type\\\\\\\\\\\\\\\": 2, \\\\\\\\\\\\\\\"details\\\\\\\\\\\\\\\": {\\\\\\\\\\\\\\\"selectedColumn\\\\\\\\\\\\\\\": \\\\\\\\\\\\\\\"Census_FirmwareVersionIdentifier\\\\\\\\\\\\\\\"}}, \\\\\\\\\\\\\\\"typeProperty\\\\\\\\\\\\\\\": 0}, {\\\\\\\\\\\\\\\"column\\\\\\\\\\\\\\\": {\\\\\\\\\\\\\\\"type\\\\\\\\\\\\\\\": 2, \\\\\\\\\\\\\\\"details\\\\\\\\\\\\\\\": {\\\\\\\\\\\\\\\"selectedColumn\\\\\\\\\\\\\\\": \\\\\\\\\\\\\\\"Census_IsSecureBootEnabled\\\\\\\\\\\\\\\"}}, \\\\\\\\\\\\\\\"typeProperty\\\\\\\\\\\\\\\": 2}, {\\\\\\\\\\\\\\\"column\\\\\\\\\\\\\\\": {\\\\\\\\\\\\\\\"type\\\\\\\\\\\\\\\": 2, \\\\\\\\\\\\\\\"details\\\\\\\\\\\\\\\": {\\\\\\\\\\\\\\\"selectedColumn\\\\\\\\\\\\\\\": \\\\\\\\\\\\\\\"Census_IsWIMBootEnabled\\\\\\\\\\\\\\\"}}, \\\\\\\\\\\\\\\"typeProperty\\\\\\\\\\\\\\\": 0}, {\\\\\\\\\\\\\\\"column\\\\\\\\\\\\\\\": {\\\\\\\\\\\\\\\"type\\\\\\\\\\\\\\\": 2, \\\\\\\\\\\\\\\"details\\\\\\\\\\\\\\\": {\\\\\\\\\\\\\\\"selectedColumn\\\\\\\\\\\\\\\": \\\\\\\\\\\\\\\"Census_IsVirtualDevice\\\\\\\\\\\\\\\"}}, \\\\\\\\\\\\\\\"typeProperty\\\\\\\\\\\\\\\": 0}, {\\\\\\\\\\\\\\\"column\\\\\\\\\\\\\\\": {\\\\\\\\\\\\\\\"type\\\\\\\\\\\\\\\": 2, \\\\\\\\\\\\\\\"details\\\\\\\\\\\\\\\": {\\\\\\\\\\\\\\\"selectedColumn\\\\\\\\\\\\\\\": \\\\\\\\\\\\\\\"Census_IsTouchEnabled\\\\\\\\\\\\\\\"}}, \\\\\\\\\\\\\\\"typeProperty\\\\\\\\\\\\\\\": 2}, {\\\\\\\\\\\\\\\"column\\\\\\\\\\\\\\\": {\\\\\\\\\\\\\\\"type\\\\\\\\\\\\\\\": 2, \\\\\\\\\\\\\\\"details\\\\\\\\\\\\\\\": {\\\\\\\\\\\\\\\"selectedColumn\\\\\\\\\\\\\\\": \\\\\\\\\\\\\\\"Census_IsPenCapable\\\\\\\\\\\\\\\"}}, \\\\\\\\\\\\\\\"typeProperty\\\\\\\\\\\\\\\": 2}, {\\\\\\\\\\\\\\\"column\\\\\\\\\\\\\\\": {\\\\\\\\\\\\\\\"type\\\\\\\\\\\\\\\": 2, \\\\\\\\\\\\\\\"details\\\\\\\\\\\\\\\": {\\\\\\\\\\\\\\\"selectedColumn\\\\\\\\\\\\\\\": \\\\\\\\\\\\\\\"Census_IsAlwaysOnAlwaysConnectedCapable\\\\\\\\\\\\\\\"}}, \\\\\\\\\\\\\\\"typeProperty\\\\\\\\\\\\\\\": 2}, {\\\\\\\\\\\\\\\"column\\\\\\\\\\\\\\\": {\\\\\\\\\\\\\\\"type\\\\\\\\\\\\\\\": 2, \\\\\\\\\\\\\\\"details\\\\\\\\\\\\\\\": {\\\\\\\\\\\\\\\"selectedColumn\\\\\\\\\\\\\\\": \\\\\\\\\\\\\\\"Wdft_IsGamer\\\\\\\\\\\\\\\"}}, \\\\\\\\\\\\\\\"typeProperty\\\\\\\\\\\\\\\": 0}, {\\\\\\\\\\\\\\\"column\\\\\\\\\\\\\\\": {\\\\\\\\\\\\\\\"type\\\\\\\\\\\\\\\": 2, \\\\\\\\\\\\\\\"details\\\\\\\\\\\\\\\": {\\\\\\\\\\\\\\\"selectedColumn\\\\\\\\\\\\\\\": \\\\\\\\\\\\\\\"Wdft_RegionIdentifier\\\\\\\\\\\\\\\"}}, \\\\\\\\\\\\\\\"typeProperty\\\\\\\\\\\\\\\": 0}, {\\\\\\\\\\\\\\\"column\\\\\\\\\\\\\\\": {\\\\\\\\\\\\\\\"type\\\\\\\\\\\\\\\": 2, \\\\\\\\\\\\\\\"details\\\\\\\\\\\\\\\": {\\\\\\\\\\\\\\\"selectedColumn\\\\\\\\\\\\\\\": \\\\\\\\\\\\\\\"HasDetections\\\\\\\\\\\\\\\"}}, \\\\\\\\\\\\\\\"typeProperty\\\\\\\\\\\\\\\": 2}]}, \\\\\\\\\\\\\\\"localData\\\\\\\\\\\\\\\": {}, \\\\\\\\\\\\\\\"isEnabled\\\\\\\\\\\\\\\": true, \\\\\\\\\\\\\\\"name\\\\\\\\\\\\\\\": null, \\\\\\\\\\\\\\\"annotation\\\\\\\\\\\\\\\": null}], \\\\\\\\\\\\\\\"inspectors\\\\\\\\\\\\\\\": [], \\\\\\\\\\\\\\\"meta\\\\\\\\\\\\\\\": {\\\\\\\\\\\\\\\"savedDatasetId\\\\\\\\\\\\\\\": \\\\\\\\\\\\\\\"7716e48d-e4c1-41ec-9f76-55d07beec89e\\\\\\\\\\\\\\\", \\\\\\\\\\\\\\\"datasetType\\\\\\\\\\\\\\\": \\\\\\\\\\\\\\\"tabular\\\\\\\\\\\\\\\", \\\\\\\\\\\\\\\"subscriptionId\\\\\\\\\\\\\\\": \\\\\\\\\\\\\\\"5a4ab2ba-6c51-4805-8155-58759ad589d8\\\\\\\\\\\\\\\", \\\\\\\\\\\\\\\"workspaceId\\\\\\\\\\\\\\\": \\\\\\\\\\\\\\\"53baa35b-09f4-4e66-8194-f9199aed3a6f\\\\\\\\\\\\\\\", \\\\\\\\\\\\\\\"workspaceLocation\\\\\\\\\\\\\\\": \\\\\\\\\\\\\\\"southcentralus\\\\\\\\\\\\\\\"}}\\\\\\\", \\\\\\\"activities\\\\\\\": 0}\", \"EnableSubsampling\": null, \"runTemplate\": \"AutoML\", \"azureml.runsource\": \"automl\", \"display_task_type\": \"classification\", \"dependencies_versions\": \"{\\\"azureml-widgets\\\": \\\"1.19.0\\\", \\\"azureml-train\\\": \\\"1.19.0\\\", \\\"azureml-train-restclients-hyperdrive\\\": \\\"1.19.0\\\", \\\"azureml-train-core\\\": \\\"1.19.0\\\", \\\"azureml-train-automl\\\": \\\"1.19.0\\\", \\\"azureml-train-automl-runtime\\\": \\\"1.19.0\\\", \\\"azureml-train-automl-client\\\": \\\"1.19.0\\\", \\\"azureml-tensorboard\\\": \\\"1.19.0\\\", \\\"azureml-telemetry\\\": \\\"1.19.0\\\", \\\"azureml-sdk\\\": \\\"1.19.0\\\", \\\"azureml-samples\\\": \\\"0+unknown\\\", \\\"azureml-pipeline\\\": \\\"1.19.0\\\", \\\"azureml-pipeline-steps\\\": \\\"1.19.0\\\", \\\"azureml-pipeline-core\\\": \\\"1.19.0\\\", \\\"azureml-opendatasets\\\": \\\"1.19.0\\\", \\\"azureml-model-management-sdk\\\": \\\"1.0.1b6.post1\\\", \\\"azureml-mlflow\\\": \\\"1.19.0\\\", \\\"azureml-interpret\\\": \\\"1.19.0\\\", \\\"azureml-explain-model\\\": \\\"1.19.0\\\", \\\"azureml-defaults\\\": \\\"1.19.0\\\", \\\"azureml-dataset-runtime\\\": \\\"1.19.0\\\", \\\"azureml-dataprep\\\": \\\"2.6.1\\\", \\\"azureml-dataprep-rslex\\\": \\\"1.4.0\\\", \\\"azureml-dataprep-native\\\": \\\"26.0.0\\\", \\\"azureml-datadrift\\\": \\\"1.19.0\\\", \\\"azureml-core\\\": \\\"1.19.0\\\", \\\"azureml-contrib-services\\\": \\\"1.19.0\\\", \\\"azureml-contrib-server\\\": \\\"1.19.0\\\", \\\"azureml-contrib-reinforcementlearning\\\": \\\"1.19.0\\\", \\\"azureml-contrib-pipeline-steps\\\": \\\"1.19.0\\\", \\\"azureml-contrib-notebook\\\": \\\"1.19.0\\\", \\\"azureml-contrib-interpret\\\": \\\"1.19.0\\\", \\\"azureml-contrib-gbdt\\\": \\\"1.19.0\\\", \\\"azureml-contrib-fairness\\\": \\\"1.19.0\\\", \\\"azureml-contrib-dataset\\\": \\\"1.19.0\\\", \\\"azureml-cli-common\\\": \\\"1.19.0\\\", \\\"azureml-automl-runtime\\\": \\\"1.19.0\\\", \\\"azureml-automl-core\\\": \\\"1.19.0\\\", \\\"azureml-accel-models\\\": \\\"1.19.0\\\"}\", \"_aml_system_scenario_identification\": \"Remote.Parent\", \"ClientType\": \"SDK\", \"environment_cpu_name\": \"AzureML-AutoML\", \"environment_cpu_label\": \"prod\", \"environment_gpu_name\": \"AzureML-AutoML-GPU\", \"environment_gpu_label\": \"prod\", \"root_attribution\": \"automl\", \"attribution\": \"AutoML\", \"Orchestrator\": \"AutoML\", \"CancelUri\": \"https://southcentralus.experiments.azureml.net/jasmine/v1.0/subscriptions/5a4ab2ba-6c51-4805-8155-58759ad589d8/resourceGroups/aml-quickstarts-133708/providers/Microsoft.MachineLearningServices/workspaces/quick-starts-ws-133708/experimentids/bdc8653e-a060-4138-8193-cf1c2e043bc2/cancel/AutoML_50201189-2111-4560-956d-146fa247ff16\", \"ClientSdkVersion\": \"1.19.0\", \"snapshotId\": \"00000000-0000-0000-0000-000000000000\", \"SetupRunId\": \"AutoML_50201189-2111-4560-956d-146fa247ff16_setup\", \"SetupRunContainerId\": \"dcid.AutoML_50201189-2111-4560-956d-146fa247ff16_setup\", \"FeaturizationRunJsonPath\": \"featurizer_container.json\", \"FeaturizationRunId\": \"AutoML_50201189-2111-4560-956d-146fa247ff16_featurize\", \"ProblemInfoJsonString\": \"{\\\"dataset_num_categorical\\\": 0, \\\"is_sparse\\\": true, \\\"subsampling\\\": false, \\\"dataset_classes\\\": 2, \\\"dataset_features\\\": 9066, \\\"dataset_samples\\\": 10000, \\\"single_frequency_class_detected\\\": false}\", \"ModelExplainRunId\": \"AutoML_50201189-2111-4560-956d-146fa247ff16_ModelExplain\"}, \"tags\": {\"model_explain_run\": \"best_run\", \"_aml_system_azureml.automlComponent\": \"AutoML\", \"pipeline_id\": \"\", \"score\": \"\", \"predicted_cost\": \"\", \"fit_time\": \"\", \"training_percent\": \"\", \"iteration\": \"\", \"run_preprocessor\": \"\", \"run_algorithm\": \"\", \"dynamic_whitelisting_iterations\": \"<25>;<30>;<35>;\", \"automl_best_child_run_id\": \"AutoML_50201189-2111-4560-956d-146fa247ff16_38\"}, \"end_time_utc\": \"2021-01-06T21:37:32.99264Z\", \"status\": \"Completed\", \"log_files\": {}, \"log_groups\": [], \"run_duration\": \"0:30:25\"}, \"child_runs\": [{\"run_id\": \"AutoML_50201189-2111-4560-956d-146fa247ff16_0\", \"run_number\": 5, \"metric\": null, \"status\": \"Completed\", \"run_type\": \"azureml.scriptrun\", \"training_percent\": \"100\", \"start_time\": \"2021-01-06T21:23:30.690286Z\", \"end_time\": \"2021-01-06T21:24:24.14318Z\", \"created_time\": \"2021-01-06T21:21:20.194522Z\", \"created_time_dt\": \"2021-01-06T21:21:20.194522Z\", \"duration\": \"0:03:03\", \"iteration\": \"0\", \"goal\": \"accuracy_max\", \"run_name\": \"MaxAbsScaler, LightGBM\", \"run_properties\": \"copy=True\", \"primary_metric\": 0.6178, \"best_metric\": 0.6178}, {\"run_id\": \"AutoML_50201189-2111-4560-956d-146fa247ff16_3\", \"run_number\": 6, \"metric\": null, \"status\": \"Completed\", \"run_type\": \"azureml.scriptrun\", \"training_percent\": \"100\", \"start_time\": \"2021-01-06T21:24:24.358767Z\", \"end_time\": \"2021-01-06T21:25:11.146743Z\", \"created_time\": \"2021-01-06T21:21:20.225127Z\", \"created_time_dt\": \"2021-01-06T21:21:20.225127Z\", \"duration\": \"0:03:50\", \"iteration\": \"3\", \"goal\": \"accuracy_max\", \"run_name\": \"MaxAbsScaler, RandomForest\", \"run_properties\": \"copy=True\", \"primary_metric\": 0.5497, \"best_metric\": 0.624}, {\"run_id\": \"AutoML_50201189-2111-4560-956d-146fa247ff16_2\", \"run_number\": 7, \"metric\": null, \"status\": \"Completed\", \"run_type\": \"azureml.scriptrun\", \"training_percent\": \"100\", \"start_time\": \"2021-01-06T21:24:49.082181Z\", \"end_time\": \"2021-01-06T21:28:17.180865Z\", \"created_time\": \"2021-01-06T21:21:20.236613Z\", \"created_time_dt\": \"2021-01-06T21:21:20.236613Z\", \"duration\": \"0:06:56\", \"iteration\": \"2\", \"goal\": \"accuracy_max\", \"run_name\": \"MaxAbsScaler, RandomForest\", \"run_properties\": \"copy=True\", \"primary_metric\": 0.5955, \"best_metric\": 0.624}, {\"run_id\": \"AutoML_50201189-2111-4560-956d-146fa247ff16_4\", \"run_number\": 8, \"metric\": null, \"status\": \"Completed\", \"run_type\": \"azureml.scriptrun\", \"training_percent\": \"100\", \"start_time\": \"2021-01-06T21:22:37.393262Z\", \"end_time\": \"2021-01-06T21:23:27.410328Z\", \"created_time\": \"2021-01-06T21:21:20.418594Z\", \"created_time_dt\": \"2021-01-06T21:21:20.418594Z\", \"duration\": \"0:02:06\", \"iteration\": \"4\", \"goal\": \"accuracy_max\", \"run_name\": \"MaxAbsScaler, RandomForest\", \"run_properties\": \"copy=True\", \"primary_metric\": 0.5467, \"best_metric\": 0.624}, {\"run_id\": \"AutoML_50201189-2111-4560-956d-146fa247ff16_1\", \"run_number\": 9, \"metric\": null, \"status\": \"Completed\", \"run_type\": \"azureml.scriptrun\", \"training_percent\": \"100\", \"start_time\": \"2021-01-06T21:21:32.14064Z\", \"end_time\": \"2021-01-06T21:22:36.112778Z\", \"created_time\": \"2021-01-06T21:21:20.221869Z\", \"created_time_dt\": \"2021-01-06T21:21:20.221869Z\", \"duration\": \"0:01:15\", \"iteration\": \"1\", \"goal\": \"accuracy_max\", \"run_name\": \"MaxAbsScaler, XGBoostClassifier\", \"run_properties\": \"copy=True\", \"primary_metric\": 0.624, \"best_metric\": 0.624}, {\"run_id\": \"AutoML_50201189-2111-4560-956d-146fa247ff16_5\", \"run_number\": 10, \"metric\": null, \"status\": \"Completed\", \"run_type\": \"azureml.scriptrun\", \"training_percent\": \"100\", \"start_time\": \"2021-01-06T21:24:47.056173Z\", \"end_time\": \"2021-01-06T21:28:14.86646Z\", \"created_time\": \"2021-01-06T21:22:37.766835Z\", \"created_time_dt\": \"2021-01-06T21:22:37.766835Z\", \"duration\": \"0:05:37\", \"iteration\": \"5\", \"goal\": \"accuracy_max\", \"run_name\": \"MaxAbsScaler, RandomForest\", \"run_properties\": \"copy=True\", \"primary_metric\": 0.5827, \"best_metric\": 0.624}, {\"run_id\": \"AutoML_50201189-2111-4560-956d-146fa247ff16_6\", \"run_number\": 11, \"metric\": null, \"status\": \"Completed\", \"run_type\": \"azureml.scriptrun\", \"training_percent\": \"100\", \"start_time\": \"2021-01-06T21:24:52.926206Z\", \"end_time\": \"2021-01-06T21:28:20.288588Z\", \"created_time\": \"2021-01-06T21:23:30.546455Z\", \"created_time_dt\": \"2021-01-06T21:23:30.546455Z\", \"duration\": \"0:04:49\", \"iteration\": \"6\", \"goal\": \"accuracy_max\", \"run_name\": \"SparseNormalizer, LightGBM\", \"run_properties\": \"<azureml.automl.runtime.shared.model_wrappers.SparseNormalizer object at 0x7fc51c3a2d68\", \"primary_metric\": 0.6194, \"best_metric\": 0.624}, {\"run_id\": \"AutoML_50201189-2111-4560-956d-146fa247ff16_7\", \"run_number\": 12, \"metric\": null, \"status\": \"Completed\", \"run_type\": \"azureml.scriptrun\", \"training_percent\": \"100\", \"start_time\": \"2021-01-06T21:25:12.273212Z\", \"end_time\": \"2021-01-06T21:26:08.10881Z\", \"created_time\": \"2021-01-06T21:24:27.810897Z\", \"created_time_dt\": \"2021-01-06T21:24:27.810897Z\", \"duration\": \"0:01:40\", \"iteration\": \"7\", \"goal\": \"accuracy_max\", \"run_name\": \"SparseNormalizer, LightGBM\", \"run_properties\": \"<azureml.automl.runtime.shared.model_wrappers.SparseNormalizer object at 0x7f999367fe10\", \"primary_metric\": 0.6166, \"best_metric\": 0.624}, {\"run_id\": \"AutoML_50201189-2111-4560-956d-146fa247ff16_8\", \"run_number\": 13, \"metric\": null, \"status\": \"Completed\", \"run_type\": \"azureml.scriptrun\", \"training_percent\": \"100\", \"start_time\": \"2021-01-06T21:26:10.15609Z\", \"end_time\": \"2021-01-06T21:27:49.015752Z\", \"created_time\": \"2021-01-06T21:25:13.914778Z\", \"created_time_dt\": \"2021-01-06T21:25:13.914778Z\", \"duration\": \"0:02:35\", \"iteration\": \"8\", \"goal\": \"accuracy_max\", \"run_name\": \"SparseNormalizer, XGBoostClassifier\", \"run_properties\": \"<azureml.automl.runtime.shared.model_wrappers.SparseNormalizer object at 0x7f22d8ea10b8\", \"primary_metric\": 0.6126, \"best_metric\": 0.624}, {\"run_id\": \"AutoML_50201189-2111-4560-956d-146fa247ff16_9\", \"run_number\": 14, \"metric\": null, \"status\": \"Completed\", \"run_type\": \"azureml.scriptrun\", \"training_percent\": \"100\", \"start_time\": \"2021-01-06T21:27:49.294864Z\", \"end_time\": \"2021-01-06T21:29:17.091335Z\", \"created_time\": \"2021-01-06T21:26:10.684424Z\", \"created_time_dt\": \"2021-01-06T21:26:10.684424Z\", \"duration\": \"0:03:06\", \"iteration\": \"9\", \"goal\": \"accuracy_max\", \"run_name\": \"SparseNormalizer, XGBoostClassifier\", \"run_properties\": \"<azureml.automl.runtime.shared.model_wrappers.SparseNormalizer object at 0x7fda80b78748\", \"primary_metric\": 0.6033, \"best_metric\": 0.624}, {\"run_id\": \"AutoML_50201189-2111-4560-956d-146fa247ff16_10\", \"run_number\": 15, \"metric\": null, \"status\": \"Completed\", \"run_type\": \"azureml.scriptrun\", \"training_percent\": \"100\", \"start_time\": \"2021-01-06T21:28:13.738616Z\", \"end_time\": \"2021-01-06T21:29:05.169309Z\", \"created_time\": \"2021-01-06T21:27:51.649527Z\", \"created_time_dt\": \"2021-01-06T21:27:51.649527Z\", \"duration\": \"0:01:13\", \"iteration\": \"10\", \"goal\": \"accuracy_max\", \"run_name\": \"MaxAbsScaler, LightGBM\", \"run_properties\": \"copy=True\", \"primary_metric\": 0.6157, \"best_metric\": 0.624}, {\"run_id\": \"AutoML_50201189-2111-4560-956d-146fa247ff16_11\", \"run_number\": 16, \"metric\": null, \"status\": \"Completed\", \"run_type\": \"azureml.scriptrun\", \"training_percent\": \"100\", \"start_time\": \"2021-01-06T21:28:31.824047Z\", \"end_time\": \"2021-01-06T21:29:17.503239Z\", \"created_time\": \"2021-01-06T21:28:17.654402Z\", \"created_time_dt\": \"2021-01-06T21:28:17.654402Z\", \"duration\": \"0:00:59\", \"iteration\": \"11\", \"goal\": \"accuracy_max\", \"run_name\": \"StandardScalerWrapper, GradientBoosting\", \"run_properties\": \"<azureml.automl.runtime.shared.model_wrappers.StandardScalerWrapper object at 0x7f21bf1efcf8\", \"primary_metric\": 0.5595, \"best_metric\": 0.624}, {\"run_id\": \"AutoML_50201189-2111-4560-956d-146fa247ff16_13\", \"run_number\": 17, \"metric\": null, \"status\": \"Completed\", \"run_type\": \"azureml.scriptrun\", \"training_percent\": \"100\", \"start_time\": \"2021-01-06T21:29:06.621957Z\", \"end_time\": \"2021-01-06T21:30:03.57494Z\", \"created_time\": \"2021-01-06T21:28:23.844549Z\", \"created_time_dt\": \"2021-01-06T21:28:23.844549Z\", \"duration\": \"0:01:39\", \"iteration\": \"13\", \"goal\": \"accuracy_max\", \"run_name\": \"MaxAbsScaler, RandomForest\", \"run_properties\": \"copy=True\", \"primary_metric\": 0.604, \"best_metric\": 0.624}, {\"run_id\": \"AutoML_50201189-2111-4560-956d-146fa247ff16_12\", \"run_number\": 18, \"metric\": null, \"status\": \"Completed\", \"run_type\": \"azureml.scriptrun\", \"training_percent\": \"100\", \"start_time\": \"2021-01-06T21:28:39.240323Z\", \"end_time\": \"2021-01-06T21:29:28.116555Z\", \"created_time\": \"2021-01-06T21:28:23.866486Z\", \"created_time_dt\": \"2021-01-06T21:28:23.866486Z\", \"duration\": \"0:01:04\", \"iteration\": \"12\", \"goal\": \"accuracy_max\", \"run_name\": \"SparseNormalizer, XGBoostClassifier\", \"run_properties\": \"<azureml.automl.runtime.shared.model_wrappers.SparseNormalizer object at 0x7f921d365320\", \"primary_metric\": 0.5958, \"best_metric\": 0.624}, {\"run_id\": \"AutoML_50201189-2111-4560-956d-146fa247ff16_14\", \"run_number\": 19, \"metric\": null, \"status\": \"Completed\", \"run_type\": \"azureml.scriptrun\", \"training_percent\": \"100\", \"start_time\": \"2021-01-06T21:29:18.399183Z\", \"end_time\": \"2021-01-06T21:30:03.851801Z\", \"created_time\": \"2021-01-06T21:29:07.70827Z\", \"created_time_dt\": \"2021-01-06T21:29:07.70827Z\", \"duration\": \"0:00:56\", \"iteration\": \"14\", \"goal\": \"accuracy_max\", \"run_name\": \"MaxAbsScaler, LightGBM\", \"run_properties\": \"copy=True\", \"primary_metric\": 0.6163, \"best_metric\": 0.624}, {\"run_id\": \"AutoML_50201189-2111-4560-956d-146fa247ff16_15\", \"run_number\": 20, \"metric\": null, \"status\": \"Completed\", \"run_type\": \"azureml.scriptrun\", \"training_percent\": \"100\", \"start_time\": \"2021-01-06T21:29:30.973037Z\", \"end_time\": \"2021-01-06T21:30:19.401003Z\", \"created_time\": \"2021-01-06T21:29:19.045646Z\", \"created_time_dt\": \"2021-01-06T21:29:19.045646Z\", \"duration\": \"0:01:00\", \"iteration\": \"15\", \"goal\": \"accuracy_max\", \"run_name\": \"MaxAbsScaler, LogisticRegression\", \"run_properties\": \"copy=True\", \"primary_metric\": 0.5922, \"best_metric\": 0.624}, {\"run_id\": \"AutoML_50201189-2111-4560-956d-146fa247ff16_16\", \"run_number\": 21, \"metric\": null, \"status\": \"Completed\", \"run_type\": \"azureml.scriptrun\", \"training_percent\": \"100\", \"start_time\": \"2021-01-06T21:29:35.083812Z\", \"end_time\": \"2021-01-06T21:30:29.907207Z\", \"created_time\": \"2021-01-06T21:29:23.156495Z\", \"created_time_dt\": \"2021-01-06T21:29:23.156495Z\", \"duration\": \"0:01:06\", \"iteration\": \"16\", \"goal\": \"accuracy_max\", \"run_name\": \"SparseNormalizer, XGBoostClassifier\", \"run_properties\": \"<azureml.automl.runtime.shared.model_wrappers.SparseNormalizer object at 0x7fc86397c898\", \"primary_metric\": 0.6154, \"best_metric\": 0.624}, {\"run_id\": \"AutoML_50201189-2111-4560-956d-146fa247ff16_17\", \"run_number\": 22, \"metric\": null, \"status\": \"Completed\", \"run_type\": \"azureml.scriptrun\", \"training_percent\": \"100\", \"start_time\": \"2021-01-06T21:30:06.129162Z\", \"end_time\": \"2021-01-06T21:30:59.404236Z\", \"created_time\": \"2021-01-06T21:29:30.097637Z\", \"created_time_dt\": \"2021-01-06T21:29:30.097637Z\", \"duration\": \"0:01:29\", \"iteration\": \"17\", \"goal\": \"accuracy_max\", \"run_name\": \"SparseNormalizer, LightGBM\", \"run_properties\": \"<azureml.automl.runtime.shared.model_wrappers.SparseNormalizer object at 0x7f9987512f28\", \"primary_metric\": 0.6129, \"best_metric\": 0.624}, {\"run_id\": \"AutoML_50201189-2111-4560-956d-146fa247ff16_19\", \"run_number\": 23, \"metric\": null, \"status\": \"Completed\", \"run_type\": \"azureml.scriptrun\", \"training_percent\": \"100\", \"start_time\": \"2021-01-06T21:30:16.845672Z\", \"end_time\": \"2021-01-06T21:31:38.830613Z\", \"created_time\": \"2021-01-06T21:30:06.2504Z\", \"created_time_dt\": \"2021-01-06T21:30:06.2504Z\", \"duration\": \"0:01:32\", \"iteration\": \"19\", \"goal\": \"accuracy_max\", \"run_name\": \"SparseNormalizer, XGBoostClassifier\", \"run_properties\": \"<azureml.automl.runtime.shared.model_wrappers.SparseNormalizer object at 0x7fe6c64c1e80\", \"primary_metric\": 0.6146, \"best_metric\": 0.624}, {\"run_id\": \"AutoML_50201189-2111-4560-956d-146fa247ff16_18\", \"run_number\": 24, \"metric\": null, \"status\": \"Completed\", \"run_type\": \"azureml.scriptrun\", \"training_percent\": \"100\", \"start_time\": \"2021-01-06T21:30:21.49078Z\", \"end_time\": \"2021-01-06T21:31:13.774064Z\", \"created_time\": \"2021-01-06T21:30:06.255625Z\", \"created_time_dt\": \"2021-01-06T21:30:06.255625Z\", \"duration\": \"0:01:07\", \"iteration\": \"18\", \"goal\": \"accuracy_max\", \"run_name\": \"MaxAbsScaler, LogisticRegression\", \"run_properties\": \"copy=True\", \"primary_metric\": 0.5869, \"best_metric\": 0.624}, {\"run_id\": \"AutoML_50201189-2111-4560-956d-146fa247ff16_20\", \"run_number\": 25, \"metric\": null, \"status\": \"Completed\", \"run_type\": \"azureml.scriptrun\", \"training_percent\": \"100\", \"start_time\": \"2021-01-06T21:30:34.895689Z\", \"end_time\": \"2021-01-06T21:31:26.550227Z\", \"created_time\": \"2021-01-06T21:30:22.18041Z\", \"created_time_dt\": \"2021-01-06T21:30:22.18041Z\", \"duration\": \"0:01:04\", \"iteration\": \"20\", \"goal\": \"accuracy_max\", \"run_name\": \"MaxAbsScaler, LightGBM\", \"run_properties\": \"copy=True\", \"primary_metric\": 0.6016, \"best_metric\": 0.624}, {\"run_id\": \"AutoML_50201189-2111-4560-956d-146fa247ff16_21\", \"run_number\": 26, \"metric\": null, \"status\": \"Completed\", \"run_type\": \"azureml.scriptrun\", \"training_percent\": \"100\", \"start_time\": \"2021-01-06T21:31:03.004286Z\", \"end_time\": \"2021-01-06T21:31:50.639691Z\", \"created_time\": \"2021-01-06T21:30:33.0334Z\", \"created_time_dt\": \"2021-01-06T21:30:33.0334Z\", \"duration\": \"0:01:17\", \"iteration\": \"21\", \"goal\": \"accuracy_max\", \"run_name\": \"StandardScalerWrapper, XGBoostClassifier\", \"run_properties\": \"<azureml.automl.runtime.shared.model_wrappers.StandardScalerWrapper object at 0x7fcfc1d135f8\", \"primary_metric\": 0.6074, \"best_metric\": 0.624}, {\"run_id\": \"AutoML_50201189-2111-4560-956d-146fa247ff16_22\", \"run_number\": 27, \"metric\": null, \"status\": \"Completed\", \"run_type\": \"azureml.scriptrun\", \"training_percent\": \"100\", \"start_time\": \"2021-01-06T21:31:19.662952Z\", \"end_time\": \"2021-01-06T21:32:36.064143Z\", \"created_time\": \"2021-01-06T21:31:01.856755Z\", \"created_time_dt\": \"2021-01-06T21:31:01.856755Z\", \"duration\": \"0:01:34\", \"iteration\": \"22\", \"goal\": \"accuracy_max\", \"run_name\": \"MaxAbsScaler, LogisticRegression\", \"run_properties\": \"copy=True\", \"primary_metric\": 0.6026, \"best_metric\": 0.624}, {\"run_id\": \"AutoML_50201189-2111-4560-956d-146fa247ff16_23\", \"run_number\": 28, \"metric\": null, \"status\": \"Completed\", \"run_type\": \"azureml.scriptrun\", \"training_percent\": \"100\", \"start_time\": \"2021-01-06T21:31:32.19206Z\", \"end_time\": \"2021-01-06T21:32:43.747747Z\", \"created_time\": \"2021-01-06T21:31:16.388881Z\", \"created_time_dt\": \"2021-01-06T21:31:16.388881Z\", \"duration\": \"0:01:27\", \"iteration\": \"23\", \"goal\": \"accuracy_max\", \"run_name\": \"SparseNormalizer, XGBoostClassifier\", \"run_properties\": \"<azureml.automl.runtime.shared.model_wrappers.SparseNormalizer object at 0x7fea5004f208\", \"primary_metric\": 0.6159, \"best_metric\": 0.624}, {\"run_id\": \"AutoML_50201189-2111-4560-956d-146fa247ff16_24\", \"run_number\": 29, \"metric\": null, \"status\": \"Completed\", \"run_type\": \"azureml.scriptrun\", \"training_percent\": \"100\", \"start_time\": \"2021-01-06T21:31:43.215848Z\", \"end_time\": \"2021-01-06T21:32:41.831903Z\", \"created_time\": \"2021-01-06T21:31:29.005273Z\", \"created_time_dt\": \"2021-01-06T21:31:29.005273Z\", \"duration\": \"0:01:12\", \"iteration\": \"24\", \"goal\": \"accuracy_max\", \"run_name\": \"MaxAbsScaler, LightGBM\", \"run_properties\": \"copy=True\", \"primary_metric\": 0.6123, \"best_metric\": 0.624}, {\"run_id\": \"AutoML_50201189-2111-4560-956d-146fa247ff16_25\", \"run_number\": 30, \"metric\": null, \"status\": \"Completed\", \"run_type\": \"azureml.scriptrun\", \"training_percent\": \"100\", \"start_time\": \"2021-01-06T21:31:54.04214Z\", \"end_time\": \"2021-01-06T21:32:53.42787Z\", \"created_time\": \"2021-01-06T21:31:42.230146Z\", \"created_time_dt\": \"2021-01-06T21:31:42.230146Z\", \"duration\": \"0:01:11\", \"iteration\": \"25\", \"goal\": \"accuracy_max\", \"run_name\": \"StandardScalerWrapper, XGBoostClassifier\", \"run_properties\": \"<azureml.automl.runtime.shared.model_wrappers.StandardScalerWrapper object at 0x7f110b9bd160\", \"primary_metric\": 0.505, \"best_metric\": 0.624}, {\"run_id\": \"AutoML_50201189-2111-4560-956d-146fa247ff16_26\", \"run_number\": 31, \"metric\": null, \"status\": \"Completed\", \"run_type\": \"azureml.scriptrun\", \"training_percent\": \"100\", \"start_time\": \"2021-01-06T21:32:40.073309Z\", \"end_time\": \"2021-01-06T21:33:31.904622Z\", \"created_time\": \"2021-01-06T21:31:53.6787Z\", \"created_time_dt\": \"2021-01-06T21:31:53.6787Z\", \"duration\": \"0:01:38\", \"iteration\": \"26\", \"goal\": \"accuracy_max\", \"run_name\": \"MaxAbsScaler, LightGBM\", \"run_properties\": \"copy=True\", \"primary_metric\": 0.6161, \"best_metric\": 0.624}, {\"run_id\": \"AutoML_50201189-2111-4560-956d-146fa247ff16_27\", \"run_number\": 32, \"metric\": null, \"status\": \"Completed\", \"run_type\": \"azureml.scriptrun\", \"training_percent\": \"100\", \"start_time\": \"2021-01-06T21:32:49.95438Z\", \"end_time\": \"2021-01-06T21:33:37.327007Z\", \"created_time\": \"2021-01-06T21:32:38.595958Z\", \"created_time_dt\": \"2021-01-06T21:32:38.595958Z\", \"duration\": \"0:00:58\", \"iteration\": \"27\", \"goal\": \"accuracy_max\", \"run_name\": \"StandardScalerWrapper, XGBoostClassifier\", \"run_properties\": \"<azureml.automl.runtime.shared.model_wrappers.StandardScalerWrapper object at 0x7f28cd39eb00\", \"primary_metric\": 0.6082, \"best_metric\": 0.624}, {\"run_id\": \"AutoML_50201189-2111-4560-956d-146fa247ff16_28\", \"run_number\": 33, \"metric\": null, \"status\": \"Completed\", \"run_type\": \"azureml.scriptrun\", \"training_percent\": \"100\", \"start_time\": \"2021-01-06T21:32:58.107798Z\", \"end_time\": \"2021-01-06T21:33:46.715438Z\", \"created_time\": \"2021-01-06T21:32:44.915614Z\", \"created_time_dt\": \"2021-01-06T21:32:44.915614Z\", \"duration\": \"0:01:01\", \"iteration\": \"28\", \"goal\": \"accuracy_max\", \"run_name\": \"StandardScalerWrapper, XGBoostClassifier\", \"run_properties\": \"<azureml.automl.runtime.shared.model_wrappers.StandardScalerWrapper object at 0x7fa58afce898\", \"primary_metric\": 0.6202, \"best_metric\": 0.624}, {\"run_id\": \"AutoML_50201189-2111-4560-956d-146fa247ff16_29\", \"run_number\": 34, \"metric\": null, \"status\": \"Completed\", \"run_type\": \"azureml.scriptrun\", \"training_percent\": \"100\", \"start_time\": \"2021-01-06T21:33:05.876016Z\", \"end_time\": \"2021-01-06T21:33:58.787889Z\", \"created_time\": \"2021-01-06T21:32:50.367366Z\", \"created_time_dt\": \"2021-01-06T21:32:50.367366Z\", \"duration\": \"0:01:08\", \"iteration\": \"29\", \"goal\": \"accuracy_max\", \"run_name\": \"StandardScalerWrapper, XGBoostClassifier\", \"run_properties\": \"<azureml.automl.runtime.shared.model_wrappers.StandardScalerWrapper object at 0x7f69343c2ac8\", \"primary_metric\": 0.6118, \"best_metric\": 0.624}, {\"run_id\": \"AutoML_50201189-2111-4560-956d-146fa247ff16_30\", \"run_number\": 35, \"metric\": null, \"status\": \"Completed\", \"run_type\": \"azureml.scriptrun\", \"training_percent\": \"100\", \"start_time\": \"2021-01-06T21:33:34.965075Z\", \"end_time\": \"2021-01-06T21:34:41.709402Z\", \"created_time\": \"2021-01-06T21:32:58.601169Z\", \"created_time_dt\": \"2021-01-06T21:32:58.601169Z\", \"duration\": \"0:01:43\", \"iteration\": \"30\", \"goal\": \"accuracy_max\", \"run_name\": \"TruncatedSVDWrapper, XGBoostClassifier\", \"run_properties\": \"n_components=0.9005263157894737, random_state=None\", \"primary_metric\": 0.5755, \"best_metric\": 0.624}, {\"run_id\": \"AutoML_50201189-2111-4560-956d-146fa247ff16_31\", \"run_number\": 36, \"metric\": null, \"status\": \"Completed\", \"run_type\": \"azureml.scriptrun\", \"training_percent\": \"100\", \"start_time\": \"2021-01-06T21:33:47.632787Z\", \"end_time\": \"2021-01-06T21:35:22.332431Z\", \"created_time\": \"2021-01-06T21:33:34.451864Z\", \"created_time_dt\": \"2021-01-06T21:33:34.451864Z\", \"duration\": \"0:01:47\", \"iteration\": \"31\", \"goal\": \"accuracy_max\", \"run_name\": \"TruncatedSVDWrapper, XGBoostClassifier\", \"run_properties\": \"n_components=0.7521052631578947, random_state=None\", \"primary_metric\": 0.6103, \"best_metric\": 0.624}, {\"run_id\": \"AutoML_50201189-2111-4560-956d-146fa247ff16_32\", \"run_number\": 37, \"metric\": null, \"status\": \"Completed\", \"run_type\": \"azureml.scriptrun\", \"training_percent\": \"100\", \"start_time\": \"2021-01-06T21:33:53.026331Z\", \"end_time\": \"2021-01-06T21:35:03.305234Z\", \"created_time\": \"2021-01-06T21:33:40.129792Z\", \"created_time_dt\": \"2021-01-06T21:33:40.129792Z\", \"duration\": \"0:01:23\", \"iteration\": \"32\", \"goal\": \"accuracy_max\", \"run_name\": \"MaxAbsScaler, RandomForest\", \"run_properties\": \"copy=True\", \"primary_metric\": 0.6143, \"best_metric\": 0.624}, {\"run_id\": \"AutoML_50201189-2111-4560-956d-146fa247ff16_33\", \"run_number\": 38, \"metric\": null, \"status\": \"Completed\", \"run_type\": \"azureml.scriptrun\", \"training_percent\": \"100\", \"start_time\": \"2021-01-06T21:34:02.113193Z\", \"end_time\": \"2021-01-06T21:34:57.03028Z\", \"created_time\": \"2021-01-06T21:33:49.128107Z\", \"created_time_dt\": \"2021-01-06T21:33:49.128107Z\", \"duration\": \"0:01:07\", \"iteration\": \"33\", \"goal\": \"accuracy_max\", \"run_name\": \"MaxAbsScaler, LightGBM\", \"run_properties\": \"copy=True\", \"primary_metric\": 0.6089, \"best_metric\": 0.624}, {\"run_id\": \"AutoML_50201189-2111-4560-956d-146fa247ff16_34\", \"run_number\": 39, \"metric\": null, \"status\": \"Canceled\", \"run_type\": \"azureml.scriptrun\", \"training_percent\": \"100\", \"start_time\": \"2021-01-06T21:34:46.137368Z\", \"end_time\": \"2021-01-06T21:35:30.097303Z\", \"created_time\": \"2021-01-06T21:34:01.697042Z\", \"created_time_dt\": \"2021-01-06T21:34:01.697042Z\", \"duration\": \"0:01:28\", \"iteration\": \"34\", \"goal\": null, \"run_name\": \"MaxAbsScaler, ExtremeRandomTrees\", \"run_properties\": null}, {\"run_id\": \"AutoML_50201189-2111-4560-956d-146fa247ff16_35\", \"run_number\": 40, \"metric\": null, \"status\": \"Canceled\", \"run_type\": \"azureml.scriptrun\", \"training_percent\": \"100\", \"start_time\": \"2021-01-06T21:35:01.382079Z\", \"end_time\": \"2021-01-06T21:35:31.014417Z\", \"created_time\": \"2021-01-06T21:34:45.30981Z\", \"created_time_dt\": \"2021-01-06T21:34:45.30981Z\", \"duration\": \"0:00:45\", \"iteration\": \"35\", \"goal\": null, \"run_name\": \"TruncatedSVDWrapper, XGBoostClassifier\", \"run_properties\": null}, {\"run_id\": \"AutoML_50201189-2111-4560-956d-146fa247ff16_36\", \"run_number\": 41, \"metric\": null, \"status\": \"Canceled\", \"run_type\": \"azureml.scriptrun\", \"training_percent\": \"100\", \"start_time\": \"2021-01-06T21:35:12.249452Z\", \"end_time\": \"2021-01-06T21:35:30.872918Z\", \"created_time\": \"2021-01-06T21:34:59.675779Z\", \"created_time_dt\": \"2021-01-06T21:34:59.675779Z\", \"duration\": \"0:00:31\", \"iteration\": \"36\", \"goal\": null, \"run_name\": \"Canceled\", \"run_properties\": null}, {\"run_id\": \"AutoML_50201189-2111-4560-956d-146fa247ff16_37\", \"run_number\": 42, \"metric\": null, \"status\": \"Canceled\", \"run_type\": \"azureml.scriptrun\", \"training_percent\": \"100\", \"start_time\": \"2021-01-06T21:35:05.779677Z\", \"end_time\": \"2021-01-06T21:35:28.975908Z\", \"created_time\": \"2021-01-06T21:35:05.779677Z\", \"created_time_dt\": \"2021-01-06T21:35:05.779677Z\", \"duration\": \"0:00:23\", \"iteration\": \"37\", \"goal\": null, \"run_name\": \"Canceled\", \"run_properties\": null}, {\"run_id\": \"AutoML_50201189-2111-4560-956d-146fa247ff16_38\", \"run_number\": 43, \"metric\": null, \"status\": \"Completed\", \"run_type\": \"azureml.scriptrun\", \"training_percent\": \"100\", \"start_time\": \"2021-01-06T21:35:43.541553Z\", \"end_time\": \"2021-01-06T21:37:19.980475Z\", \"created_time\": \"2021-01-06T21:35:32.786191Z\", \"created_time_dt\": \"2021-01-06T21:35:32.786191Z\", \"duration\": \"0:01:47\", \"iteration\": \"38\", \"goal\": \"accuracy_max\", \"run_name\": \"VotingEnsemble\", \"run_properties\": \"classification_labels=None,\\n                              estimators=[('1',\\n                                           Pipeline(memory=None,\\n                                                    steps=[('maxabsscaler',\\n                                                            MaxAbsScaler(copy=True\", \"primary_metric\": 0.6376, \"best_metric\": 0.6376}, {\"run_id\": \"AutoML_50201189-2111-4560-956d-146fa247ff16_39\", \"run_number\": 44, \"metric\": null, \"status\": \"Completed\", \"run_type\": \"azureml.scriptrun\", \"training_percent\": \"100\", \"start_time\": \"2021-01-06T21:35:43.858798Z\", \"end_time\": \"2021-01-06T21:37:13.913325Z\", \"created_time\": \"2021-01-06T21:35:33.108035Z\", \"created_time_dt\": \"2021-01-06T21:35:33.108035Z\", \"duration\": \"0:01:40\", \"iteration\": \"39\", \"goal\": \"accuracy_max\", \"run_name\": \"StackEnsemble\", \"run_properties\": \"base_learners=[('1',\\n                                        Pipeline(memory=None,\\n                                                 steps=[('maxabsscaler',\\n                                                         MaxAbsScaler(copy=True\", \"primary_metric\": 0.6351, \"best_metric\": 0.6376}], \"children_metrics\": {\"categories\": [0], \"series\": {\"f1_score_weighted\": [{\"categories\": [\"0\", \"1\", \"2\", \"3\", \"4\", \"5\", \"6\", \"7\", \"8\", \"9\", \"10\", \"11\", \"12\", \"13\", \"14\", \"15\", \"16\", \"17\", \"18\", \"19\", \"20\", \"21\", \"22\", \"23\", \"24\", \"25\", \"26\", \"27\", \"28\", \"29\", \"30\", \"31\", \"32\", \"33\", \"38\", \"39\"], \"mode\": \"markers\", \"name\": \"f1_score_weighted\", \"stepped\": false, \"type\": \"scatter\", \"data\": [0.6178080229645694, 0.623879917010697, 0.5946807811871958, 0.5407430556526973, 0.513217369784373, 0.5798092186604482, 0.6188372795059344, 0.6163592210576584, 0.612579414756784, 0.6031516932947609, 0.6156081950495611, 0.5505248314190201, 0.587448434390691, 0.6038134105317644, 0.6156376869249108, 0.5921766602234665, 0.6147813650889737, 0.6129121336149875, 0.58688444958912, 0.614439064806232, 0.6014828714408851, 0.6052192425869933, 0.6025769172535249, 0.6153857831317743, 0.6122428681602553, 0.33893272759654197, 0.6160605584769667, 0.6079377253792139, 0.6201290271621462, 0.6117875647185116, 0.5753431059479726, 0.6101502007475461, 0.6141506330804873, 0.6086667327566813, 0.6376053376830375, 0.6350331483391397]}, {\"categories\": [\"0\", \"1\", \"2\", \"3\", \"4\", \"5\", \"6\", \"7\", \"8\", \"9\", \"10\", \"11\", \"12\", \"13\", \"14\", \"15\", \"16\", \"17\", \"18\", \"19\", \"20\", \"21\", \"22\", \"23\", \"24\", \"25\", \"26\", \"27\", \"28\", \"29\", \"30\", \"31\", \"32\", \"33\", \"38\", \"39\"], \"mode\": \"lines\", \"name\": \"f1_score_weighted_max\", \"stepped\": true, \"type\": \"scatter\", \"data\": [0.6178080229645694, 0.623879917010697, 0.623879917010697, 0.623879917010697, 0.623879917010697, 0.623879917010697, 0.623879917010697, 0.623879917010697, 0.623879917010697, 0.623879917010697, 0.623879917010697, 0.623879917010697, 0.623879917010697, 0.623879917010697, 0.623879917010697, 0.623879917010697, 0.623879917010697, 0.623879917010697, 0.623879917010697, 0.623879917010697, 0.623879917010697, 0.623879917010697, 0.623879917010697, 0.623879917010697, 0.623879917010697, 0.623879917010697, 0.623879917010697, 0.623879917010697, 0.623879917010697, 0.623879917010697, 0.623879917010697, 0.623879917010697, 0.623879917010697, 0.623879917010697, 0.6376053376830375, 0.6376053376830375]}], \"weighted_accuracy\": [{\"categories\": [\"0\", \"1\", \"2\", \"3\", \"4\", \"5\", \"6\", \"7\", \"8\", \"9\", \"10\", \"11\", \"12\", \"13\", \"14\", \"15\", \"16\", \"17\", \"18\", \"19\", \"20\", \"21\", \"22\", \"23\", \"24\", \"25\", \"26\", \"27\", \"28\", \"29\", \"30\", \"31\", \"32\", \"33\", \"38\", \"39\"], \"mode\": \"markers\", \"name\": \"weighted_accuracy\", \"stepped\": false, \"type\": \"scatter\", \"data\": [0.6177902675452612, 0.6241750119928604, 0.5959251455156831, 0.5511343442204847, 0.5473454912604588, 0.5821890176550144, 0.6189065325063693, 0.6162836211959732, 0.6124524928496518, 0.6031179715704029, 0.6156433885613702, 0.5600581770182224, 0.5945312032158876, 0.6038524176560072, 0.6167259191234912, 0.5920943894398123, 0.6148527671338095, 0.6129256236885564, 0.5868036131532132, 0.6143808092572712, 0.6016920811577864, 0.6080499232797287, 0.602560182440428, 0.6154641233123223, 0.6123312731057469, 0.5099936822733903, 0.6160980464822357, 0.6084618161184149, 0.6203565902828098, 0.6117440900982517, 0.5756353131309857, 0.6105594733432865, 0.6140188466360502, 0.6085557477908051, 0.6374797383273583, 0.6349199776841681]}, {\"categories\": [\"0\", \"1\", \"2\", \"3\", \"4\", \"5\", \"6\", \"7\", \"8\", \"9\", \"10\", \"11\", \"12\", \"13\", \"14\", \"15\", \"16\", \"17\", \"18\", \"19\", \"20\", \"21\", \"22\", \"23\", \"24\", \"25\", \"26\", \"27\", \"28\", \"29\", \"30\", \"31\", \"32\", \"33\", \"38\", \"39\"], \"mode\": \"lines\", \"name\": \"weighted_accuracy_max\", \"stepped\": true, \"type\": \"scatter\", \"data\": [0.6177902675452612, 0.6241750119928604, 0.6241750119928604, 0.6241750119928604, 0.6241750119928604, 0.6241750119928604, 0.6241750119928604, 0.6241750119928604, 0.6241750119928604, 0.6241750119928604, 0.6241750119928604, 0.6241750119928604, 0.6241750119928604, 0.6241750119928604, 0.6241750119928604, 0.6241750119928604, 0.6241750119928604, 0.6241750119928604, 0.6241750119928604, 0.6241750119928604, 0.6241750119928604, 0.6241750119928604, 0.6241750119928604, 0.6241750119928604, 0.6241750119928604, 0.6241750119928604, 0.6241750119928604, 0.6241750119928604, 0.6241750119928604, 0.6241750119928604, 0.6241750119928604, 0.6241750119928604, 0.6241750119928604, 0.6241750119928604, 0.6374797383273583, 0.6374797383273583]}], \"balanced_accuracy\": [{\"categories\": [\"0\", \"1\", \"2\", \"3\", \"4\", \"5\", \"6\", \"7\", \"8\", \"9\", \"10\", \"11\", \"12\", \"13\", \"14\", \"15\", \"16\", \"17\", \"18\", \"19\", \"20\", \"21\", \"22\", \"23\", \"24\", \"25\", \"26\", \"27\", \"28\", \"29\", \"30\", \"31\", \"32\", \"33\", \"38\", \"39\"], \"mode\": \"markers\", \"name\": \"balanced_accuracy\", \"stepped\": false, \"type\": \"scatter\", \"data\": [0.6178096895057201, 0.623824766248154, 0.5950742612951291, 0.5482635182396898, 0.5460529696716384, 0.5832112521094867, 0.6198940739267588, 0.6169167578462519, 0.6127477065885909, 0.6034822965578905, 0.6157567054562662, 0.5589410837385765, 0.5970706794916278, 0.6041478128430026, 0.6158734799044001, 0.5923057015082313, 0.6159479003812586, 0.6128743768955893, 0.5869965042501378, 0.6148194690561869, 0.6015077498414081, 0.6067489808536713, 0.6026398344601356, 0.6163364020636084, 0.6122686272215228, 0.5, 0.616101942076029, 0.607937923582384, 0.6200432668037038, 0.6118559617450381, 0.5753644701663044, 0.6100402251458965, 0.6145814756521681, 0.6092445822171815, 0.637720370997679, 0.6352801539670765]}, {\"categories\": [\"0\", \"1\", \"2\", \"3\", \"4\", \"5\", \"6\", \"7\", \"8\", \"9\", \"10\", \"11\", \"12\", \"13\", \"14\", \"15\", \"16\", \"17\", \"18\", \"19\", \"20\", \"21\", \"22\", \"23\", \"24\", \"25\", \"26\", \"27\", \"28\", \"29\", \"30\", \"31\", \"32\", \"33\", \"38\", \"39\"], \"mode\": \"lines\", \"name\": \"balanced_accuracy_max\", \"stepped\": true, \"type\": \"scatter\", \"data\": [0.6178096895057201, 0.623824766248154, 0.623824766248154, 0.623824766248154, 0.623824766248154, 0.623824766248154, 0.623824766248154, 0.623824766248154, 0.623824766248154, 0.623824766248154, 0.623824766248154, 0.623824766248154, 0.623824766248154, 0.623824766248154, 0.623824766248154, 0.623824766248154, 0.623824766248154, 0.623824766248154, 0.623824766248154, 0.623824766248154, 0.623824766248154, 0.623824766248154, 0.623824766248154, 0.623824766248154, 0.623824766248154, 0.623824766248154, 0.623824766248154, 0.623824766248154, 0.623824766248154, 0.623824766248154, 0.623824766248154, 0.623824766248154, 0.623824766248154, 0.623824766248154, 0.637720370997679, 0.637720370997679]}], \"norm_macro_recall\": [{\"categories\": [\"0\", \"1\", \"2\", \"3\", \"4\", \"5\", \"6\", \"7\", \"8\", \"9\", \"10\", \"11\", \"12\", \"13\", \"14\", \"15\", \"16\", \"17\", \"18\", \"19\", \"20\", \"21\", \"22\", \"23\", \"24\", \"25\", \"26\", \"27\", \"28\", \"29\", \"30\", \"31\", \"32\", \"33\", \"38\", \"39\"], \"mode\": \"markers\", \"name\": \"norm_macro_recall\", \"stepped\": false, \"type\": \"scatter\", \"data\": [0.23561937901144042, 0.2476495324963079, 0.19014852259025822, 0.09652703647937959, 0.092105939343277, 0.16642250421897337, 0.23978814785351746, 0.23383351569250369, 0.22549541317718175, 0.20696459311578125, 0.23151341091253239, 0.1178821674771529, 0.19414135898325582, 0.20829562568600504, 0.23174695980880022, 0.18461140301646242, 0.23189580076251706, 0.2257487537911787, 0.17399300850027558, 0.22963893811237393, 0.2030154996828161, 0.2134979617073427, 0.2052796689202711, 0.2326728041272168, 0.22453725444304573, 0.0, 0.2322038841520579, 0.215875847164768, 0.24008653360740775, 0.22371192349007626, 0.15072894033260903, 0.22008045029179293, 0.22916295130433628, 0.2184891644343628, 0.27544074199535784, 0.27056030793415287]}, {\"categories\": [\"0\", \"1\", \"2\", \"3\", \"4\", \"5\", \"6\", \"7\", \"8\", \"9\", \"10\", \"11\", \"12\", \"13\", \"14\", \"15\", \"16\", \"17\", \"18\", \"19\", \"20\", \"21\", \"22\", \"23\", \"24\", \"25\", \"26\", \"27\", \"28\", \"29\", \"30\", \"31\", \"32\", \"33\", \"38\", \"39\"], \"mode\": \"lines\", \"name\": \"norm_macro_recall_max\", \"stepped\": true, \"type\": \"scatter\", \"data\": [0.23561937901144042, 0.2476495324963079, 0.2476495324963079, 0.2476495324963079, 0.2476495324963079, 0.2476495324963079, 0.2476495324963079, 0.2476495324963079, 0.2476495324963079, 0.2476495324963079, 0.2476495324963079, 0.2476495324963079, 0.2476495324963079, 0.2476495324963079, 0.2476495324963079, 0.2476495324963079, 0.2476495324963079, 0.2476495324963079, 0.2476495324963079, 0.2476495324963079, 0.2476495324963079, 0.2476495324963079, 0.2476495324963079, 0.2476495324963079, 0.2476495324963079, 0.2476495324963079, 0.2476495324963079, 0.2476495324963079, 0.2476495324963079, 0.2476495324963079, 0.2476495324963079, 0.2476495324963079, 0.2476495324963079, 0.2476495324963079, 0.27544074199535784, 0.27544074199535784]}], \"f1_score_micro\": [{\"categories\": [\"0\", \"1\", \"2\", \"3\", \"4\", \"5\", \"6\", \"7\", \"8\", \"9\", \"10\", \"11\", \"12\", \"13\", \"14\", \"15\", \"16\", \"17\", \"18\", \"19\", \"20\", \"21\", \"22\", \"23\", \"24\", \"25\", \"26\", \"27\", \"28\", \"29\", \"30\", \"31\", \"32\", \"33\", \"38\", \"39\"], \"mode\": \"markers\", \"name\": \"f1_score_micro\", \"stepped\": false, \"type\": \"scatter\", \"data\": [0.6178, 0.624, 0.5955, 0.5496999999999999, 0.5467000000000001, 0.5827, 0.6194000000000001, 0.6166, 0.6125999999999999, 0.6033000000000001, 0.6157, 0.5595000000000001, 0.5958, 0.6039999999999999, 0.6163000000000001, 0.5922, 0.6154, 0.6129, 0.5869, 0.6146, 0.6016, 0.6073999999999999, 0.6026, 0.6159000000000001, 0.6123000000000001, 0.505, 0.6161000000000001, 0.6082, 0.6202, 0.6118, 0.5755, 0.6103, 0.6143, 0.6089, 0.6376, 0.6351]}, {\"categories\": [\"0\", \"1\", \"2\", \"3\", \"4\", \"5\", \"6\", \"7\", \"8\", \"9\", \"10\", \"11\", \"12\", \"13\", \"14\", \"15\", \"16\", \"17\", \"18\", \"19\", \"20\", \"21\", \"22\", \"23\", \"24\", \"25\", \"26\", \"27\", \"28\", \"29\", \"30\", \"31\", \"32\", \"33\", \"38\", \"39\"], \"mode\": \"lines\", \"name\": \"f1_score_micro_max\", \"stepped\": true, \"type\": \"scatter\", \"data\": [0.6178, 0.624, 0.624, 0.624, 0.624, 0.624, 0.624, 0.624, 0.624, 0.624, 0.624, 0.624, 0.624, 0.624, 0.624, 0.624, 0.624, 0.624, 0.624, 0.624, 0.624, 0.624, 0.624, 0.624, 0.624, 0.624, 0.624, 0.624, 0.624, 0.624, 0.624, 0.624, 0.624, 0.624, 0.6376, 0.6376]}], \"matthews_correlation\": [{\"categories\": [\"0\", \"1\", \"2\", \"3\", \"4\", \"5\", \"6\", \"7\", \"8\", \"9\", \"10\", \"11\", \"12\", \"13\", \"14\", \"15\", \"16\", \"17\", \"18\", \"19\", \"20\", \"21\", \"22\", \"23\", \"24\", \"25\", \"26\", \"27\", \"28\", \"29\", \"30\", \"31\", \"32\", \"33\", \"38\", \"39\"], \"mode\": \"markers\", \"name\": \"matthews_correlation\", \"stepped\": false, \"type\": \"scatter\", \"data\": [0.23561167259285037, 0.24780579302308164, 0.19085638942483915, 0.09881468630299006, 0.10979171232021087, 0.16876142720405551, 0.2404715027208248, 0.23412461430836026, 0.22552049561318407, 0.2071188122196225, 0.23162558912558487, 0.12194208470030535, 0.202302219069259, 0.20849148624050953, 0.23256088770528072, 0.1846325026947089, 0.23261901432152662, 0.22573636469888295, 0.17400612728324907, 0.22981897396155904, 0.2031439436743661, 0.21578273922283073, 0.20530299346478414, 0.2332923550910339, 0.22460467067798834, 0.0, 0.23225437106268956, 0.2162118505667389, 0.24017539981120115, 0.22372797405902772, 0.1508354943725992, 0.22023688759652624, 0.22933909334113314, 0.21876717467144066, 0.2754367100696848, 0.27067874176852263]}, {\"categories\": [\"0\", \"1\", \"2\", \"3\", \"4\", \"5\", \"6\", \"7\", \"8\", \"9\", \"10\", \"11\", \"12\", \"13\", \"14\", \"15\", \"16\", \"17\", \"18\", \"19\", \"20\", \"21\", \"22\", \"23\", \"24\", \"25\", \"26\", \"27\", \"28\", \"29\", \"30\", \"31\", \"32\", \"33\", \"38\", \"39\"], \"mode\": \"lines\", \"name\": \"matthews_correlation_max\", \"stepped\": true, \"type\": \"scatter\", \"data\": [0.23561167259285037, 0.24780579302308164, 0.24780579302308164, 0.24780579302308164, 0.24780579302308164, 0.24780579302308164, 0.24780579302308164, 0.24780579302308164, 0.24780579302308164, 0.24780579302308164, 0.24780579302308164, 0.24780579302308164, 0.24780579302308164, 0.24780579302308164, 0.24780579302308164, 0.24780579302308164, 0.24780579302308164, 0.24780579302308164, 0.24780579302308164, 0.24780579302308164, 0.24780579302308164, 0.24780579302308164, 0.24780579302308164, 0.24780579302308164, 0.24780579302308164, 0.24780579302308164, 0.24780579302308164, 0.24780579302308164, 0.24780579302308164, 0.24780579302308164, 0.24780579302308164, 0.24780579302308164, 0.24780579302308164, 0.24780579302308164, 0.2754367100696848, 0.2754367100696848]}], \"log_loss\": [{\"categories\": [\"0\", \"1\", \"2\", \"3\", \"4\", \"5\", \"6\", \"7\", \"8\", \"9\", \"10\", \"11\", \"12\", \"13\", \"14\", \"15\", \"16\", \"17\", \"18\", \"19\", \"20\", \"21\", \"22\", \"23\", \"24\", \"25\", \"26\", \"27\", \"28\", \"29\", \"30\", \"31\", \"32\", \"33\", \"38\", \"39\"], \"mode\": \"markers\", \"name\": \"log_loss\", \"stepped\": false, \"type\": \"scatter\", \"data\": [0.6455401438756957, 0.6376559026921522, 0.6791695920934273, 0.6899569174669345, 0.6921082936598711, 0.6838701887873812, 0.6432959070131119, 0.6505609525897134, 0.6458597600878043, 0.6481754121100223, 0.6517774162482158, 0.6883148362437901, 0.6646813802801034, 0.6496011091082174, 0.6591889544858658, 0.7910715389747821, 0.6426376965874931, 0.6612194102861962, 0.8751887721776193, 0.6439206664059177, 0.656448517711356, 0.6622088116945559, 0.7024071320314917, 0.6440681276310483, 0.6550907917098278, 0.6931468303522108, 0.6446443692759203, 0.6508285250191662, 0.6407175494659102, 0.6488239919193971, 0.674870099868963, 0.6543057677678968, 0.6426576718410458, 0.6575664904855579, 0.6423229108840638, 0.6366958878752247]}, {\"categories\": [\"0\", \"1\", \"2\", \"3\", \"4\", \"5\", \"6\", \"7\", \"8\", \"9\", \"10\", \"11\", \"12\", \"13\", \"14\", \"15\", \"16\", \"17\", \"18\", \"19\", \"20\", \"21\", \"22\", \"23\", \"24\", \"25\", \"26\", \"27\", \"28\", \"29\", \"30\", \"31\", \"32\", \"33\", \"38\", \"39\"], \"mode\": \"lines\", \"name\": \"log_loss_min\", \"stepped\": true, \"type\": \"scatter\", \"data\": [0.6455401438756957, 0.6376559026921522, 0.6376559026921522, 0.6376559026921522, 0.6376559026921522, 0.6376559026921522, 0.6376559026921522, 0.6376559026921522, 0.6376559026921522, 0.6376559026921522, 0.6376559026921522, 0.6376559026921522, 0.6376559026921522, 0.6376559026921522, 0.6376559026921522, 0.6376559026921522, 0.6376559026921522, 0.6376559026921522, 0.6376559026921522, 0.6376559026921522, 0.6376559026921522, 0.6376559026921522, 0.6376559026921522, 0.6376559026921522, 0.6376559026921522, 0.6376559026921522, 0.6376559026921522, 0.6376559026921522, 0.6376559026921522, 0.6376559026921522, 0.6376559026921522, 0.6376559026921522, 0.6376559026921522, 0.6376559026921522, 0.6376559026921522, 0.6366958878752247]}], \"AUC_weighted\": [{\"categories\": [\"0\", \"1\", \"2\", \"3\", \"4\", \"5\", \"6\", \"7\", \"8\", \"9\", \"10\", \"11\", \"12\", \"13\", \"14\", \"15\", \"16\", \"17\", \"18\", \"19\", \"20\", \"21\", \"22\", \"23\", \"24\", \"25\", \"26\", \"27\", \"28\", \"29\", \"30\", \"31\", \"32\", \"33\", \"38\", \"39\"], \"mode\": \"markers\", \"name\": \"AUC_weighted\", \"stepped\": false, \"type\": \"scatter\", \"data\": [0.6727645050971365, 0.6790850708500741, 0.6391040877383325, 0.5724263711985292, 0.5676811562971996, 0.6214287905752662, 0.6747903854472914, 0.6629525085192396, 0.6648402049497731, 0.6566795464206672, 0.6698472288550958, 0.5864718217115913, 0.6495988116251248, 0.6580026587834702, 0.6677908746151109, 0.6342189377615168, 0.6700977805964312, 0.6614807255058984, 0.625973795725798, 0.6668390092926199, 0.6542518878431469, 0.6603425088760185, 0.6506362555784249, 0.6690985264717837, 0.6568000213624607, 0.5, 0.670724182574175, 0.6648243009502803, 0.6781338769543226, 0.665898947526136, 0.6129672597855039, 0.6561048942581363, 0.6699268303620478, 0.6612483008357948, 0.6886930580815438, 0.68809582188719]}, {\"categories\": [\"0\", \"1\", \"2\", \"3\", \"4\", \"5\", \"6\", \"7\", \"8\", \"9\", \"10\", \"11\", \"12\", \"13\", \"14\", \"15\", \"16\", \"17\", \"18\", \"19\", \"20\", \"21\", \"22\", \"23\", \"24\", \"25\", \"26\", \"27\", \"28\", \"29\", \"30\", \"31\", \"32\", \"33\", \"38\", \"39\"], \"mode\": \"lines\", \"name\": \"AUC_weighted_max\", \"stepped\": true, \"type\": \"scatter\", \"data\": [0.6727645050971365, 0.6790850708500741, 0.6790850708500741, 0.6790850708500741, 0.6790850708500741, 0.6790850708500741, 0.6790850708500741, 0.6790850708500741, 0.6790850708500741, 0.6790850708500741, 0.6790850708500741, 0.6790850708500741, 0.6790850708500741, 0.6790850708500741, 0.6790850708500741, 0.6790850708500741, 0.6790850708500741, 0.6790850708500741, 0.6790850708500741, 0.6790850708500741, 0.6790850708500741, 0.6790850708500741, 0.6790850708500741, 0.6790850708500741, 0.6790850708500741, 0.6790850708500741, 0.6790850708500741, 0.6790850708500741, 0.6790850708500741, 0.6790850708500741, 0.6790850708500741, 0.6790850708500741, 0.6790850708500741, 0.6790850708500741, 0.6886930580815438, 0.6886930580815438]}], \"precision_score_weighted\": [{\"categories\": [\"0\", \"1\", \"2\", \"3\", \"4\", \"5\", \"6\", \"7\", \"8\", \"9\", \"10\", \"11\", \"12\", \"13\", \"14\", \"15\", \"16\", \"17\", \"18\", \"19\", \"20\", \"21\", \"22\", \"23\", \"24\", \"25\", \"26\", \"27\", \"28\", \"29\", \"30\", \"31\", \"32\", \"33\", \"38\", \"39\"], \"mode\": \"markers\", \"name\": \"precision_score_weighted\", \"stepped\": false, \"type\": \"scatter\", \"data\": [0.6179470670456151, 0.6240819156407258, 0.5958568570516338, 0.5506746013731797, 0.5675023025912238, 0.5858187480619153, 0.620833693583539, 0.6174236072585012, 0.6129462882395764, 0.6038151543795711, 0.6160206752186214, 0.5632518540807113, 0.6058760716418254, 0.6045156072925495, 0.6167419629093716, 0.592489206608956, 0.616932486384347, 0.6129972399501644, 0.5871707125453748, 0.6151901707561467, 0.6017613543804436, 0.6090622902464974, 0.6028143600763078, 0.6171919674872937, 0.612472482868211, 0.2550745, 0.6162940954383144, 0.6083528785085384, 0.620235340194058, 0.612027484908001, 0.5755997036321645, 0.6102837988073638, 0.6149603429935876, 0.6097389857749813, 0.6378870319208483, 0.6355871318336999]}, {\"categories\": [\"0\", \"1\", \"2\", \"3\", \"4\", \"5\", \"6\", \"7\", \"8\", \"9\", \"10\", \"11\", \"12\", \"13\", \"14\", \"15\", \"16\", \"17\", \"18\", \"19\", \"20\", \"21\", \"22\", \"23\", \"24\", \"25\", \"26\", \"27\", \"28\", \"29\", \"30\", \"31\", \"32\", \"33\", \"38\", \"39\"], \"mode\": \"lines\", \"name\": \"precision_score_weighted_max\", \"stepped\": true, \"type\": \"scatter\", \"data\": [0.6179470670456151, 0.6240819156407258, 0.6240819156407258, 0.6240819156407258, 0.6240819156407258, 0.6240819156407258, 0.6240819156407258, 0.6240819156407258, 0.6240819156407258, 0.6240819156407258, 0.6240819156407258, 0.6240819156407258, 0.6240819156407258, 0.6240819156407258, 0.6240819156407258, 0.6240819156407258, 0.6240819156407258, 0.6240819156407258, 0.6240819156407258, 0.6240819156407258, 0.6240819156407258, 0.6240819156407258, 0.6240819156407258, 0.6240819156407258, 0.6240819156407258, 0.6240819156407258, 0.6240819156407258, 0.6240819156407258, 0.6240819156407258, 0.6240819156407258, 0.6240819156407258, 0.6240819156407258, 0.6240819156407258, 0.6240819156407258, 0.6378870319208483, 0.6378870319208483]}], \"accuracy\": [{\"categories\": [\"0\", \"1\", \"2\", \"3\", \"4\", \"5\", \"6\", \"7\", \"8\", \"9\", \"10\", \"11\", \"12\", \"13\", \"14\", \"15\", \"16\", \"17\", \"18\", \"19\", \"20\", \"21\", \"22\", \"23\", \"24\", \"25\", \"26\", \"27\", \"28\", \"29\", \"30\", \"31\", \"32\", \"33\", \"38\", \"39\"], \"mode\": \"markers\", \"name\": \"accuracy\", \"stepped\": false, \"type\": \"scatter\", \"data\": [0.6178, 0.624, 0.5955, 0.5496999999999999, 0.5467000000000001, 0.5827, 0.6194000000000001, 0.6166, 0.6125999999999999, 0.6033000000000001, 0.6157, 0.5595000000000001, 0.5958, 0.6039999999999999, 0.6163000000000001, 0.5922, 0.6154, 0.6129, 0.5869, 0.6146, 0.6016, 0.6073999999999999, 0.6026, 0.6159000000000001, 0.6123000000000001, 0.505, 0.6161000000000001, 0.6082, 0.6202, 0.6118, 0.5755, 0.6103, 0.6143, 0.6089, 0.6376, 0.6351]}, {\"categories\": [\"0\", \"1\", \"2\", \"3\", \"4\", \"5\", \"6\", \"7\", \"8\", \"9\", \"10\", \"11\", \"12\", \"13\", \"14\", \"15\", \"16\", \"17\", \"18\", \"19\", \"20\", \"21\", \"22\", \"23\", \"24\", \"25\", \"26\", \"27\", \"28\", \"29\", \"30\", \"31\", \"32\", \"33\", \"38\", \"39\"], \"mode\": \"lines\", \"name\": \"accuracy_max\", \"stepped\": true, \"type\": \"scatter\", \"data\": [0.6178, 0.624, 0.624, 0.624, 0.624, 0.624, 0.624, 0.624, 0.624, 0.624, 0.624, 0.624, 0.624, 0.624, 0.624, 0.624, 0.624, 0.624, 0.624, 0.624, 0.624, 0.624, 0.624, 0.624, 0.624, 0.624, 0.624, 0.624, 0.624, 0.624, 0.624, 0.624, 0.624, 0.624, 0.6376, 0.6376]}], \"recall_score_micro\": [{\"categories\": [\"0\", \"1\", \"2\", \"3\", \"4\", \"5\", \"6\", \"7\", \"8\", \"9\", \"10\", \"11\", \"12\", \"13\", \"14\", \"15\", \"16\", \"17\", \"18\", \"19\", \"20\", \"21\", \"22\", \"23\", \"24\", \"25\", \"26\", \"27\", \"28\", \"29\", \"30\", \"31\", \"32\", \"33\", \"38\", \"39\"], \"mode\": \"markers\", \"name\": \"recall_score_micro\", \"stepped\": false, \"type\": \"scatter\", \"data\": [0.6178, 0.624, 0.5955, 0.5496999999999999, 0.5467000000000001, 0.5827, 0.6194000000000001, 0.6166, 0.6125999999999999, 0.6033000000000001, 0.6157, 0.5595000000000001, 0.5958, 0.6039999999999999, 0.6163000000000001, 0.5922, 0.6154, 0.6129, 0.5869, 0.6146, 0.6016, 0.6073999999999999, 0.6026, 0.6159000000000001, 0.6123000000000001, 0.505, 0.6161000000000001, 0.6082, 0.6202, 0.6118, 0.5755, 0.6103, 0.6143, 0.6089, 0.6376, 0.6351]}, {\"categories\": [\"0\", \"1\", \"2\", \"3\", \"4\", \"5\", \"6\", \"7\", \"8\", \"9\", \"10\", \"11\", \"12\", \"13\", \"14\", \"15\", \"16\", \"17\", \"18\", \"19\", \"20\", \"21\", \"22\", \"23\", \"24\", \"25\", \"26\", \"27\", \"28\", \"29\", \"30\", \"31\", \"32\", \"33\", \"38\", \"39\"], \"mode\": \"lines\", \"name\": \"recall_score_micro_max\", \"stepped\": true, \"type\": \"scatter\", \"data\": [0.6178, 0.624, 0.624, 0.624, 0.624, 0.624, 0.624, 0.624, 0.624, 0.624, 0.624, 0.624, 0.624, 0.624, 0.624, 0.624, 0.624, 0.624, 0.624, 0.624, 0.624, 0.624, 0.624, 0.624, 0.624, 0.624, 0.624, 0.624, 0.624, 0.624, 0.624, 0.624, 0.624, 0.624, 0.6376, 0.6376]}], \"AUC_micro\": [{\"categories\": [\"0\", \"1\", \"2\", \"3\", \"4\", \"5\", \"6\", \"7\", \"8\", \"9\", \"10\", \"11\", \"12\", \"13\", \"14\", \"15\", \"16\", \"17\", \"18\", \"19\", \"20\", \"21\", \"22\", \"23\", \"24\", \"25\", \"26\", \"27\", \"28\", \"29\", \"30\", \"31\", \"32\", \"33\", \"38\", \"39\"], \"mode\": \"markers\", \"name\": \"AUC_micro\", \"stepped\": false, \"type\": \"scatter\", \"data\": [0.6729170000000001, 0.6803468, 0.63767975, 0.5710594, 0.5686247, 0.61900055, 0.67464025, 0.66410035, 0.6656443750000001, 0.6573413, 0.6703861000000002, 0.5826786, 0.6493714500000001, 0.6590619999999999, 0.66733775, 0.6342376, 0.6705704750000001, 0.66219985, 0.62604805, 0.6675144, 0.6544993, 0.66064065, 0.6506565, 0.6694004250000001, 0.6565122499999999, 0.505, 0.6714023499999999, 0.6659135500000001, 0.679162425, 0.6664061, 0.6126151, 0.6558883499999999, 0.6705154500000001, 0.66195845, 0.6892478, 0.68849855]}, {\"categories\": [\"0\", \"1\", \"2\", \"3\", \"4\", \"5\", \"6\", \"7\", \"8\", \"9\", \"10\", \"11\", \"12\", \"13\", \"14\", \"15\", \"16\", \"17\", \"18\", \"19\", \"20\", \"21\", \"22\", \"23\", \"24\", \"25\", \"26\", \"27\", \"28\", \"29\", \"30\", \"31\", \"32\", \"33\", \"38\", \"39\"], \"mode\": \"lines\", \"name\": \"AUC_micro_max\", \"stepped\": true, \"type\": \"scatter\", \"data\": [0.6729170000000001, 0.6803468, 0.6803468, 0.6803468, 0.6803468, 0.6803468, 0.6803468, 0.6803468, 0.6803468, 0.6803468, 0.6803468, 0.6803468, 0.6803468, 0.6803468, 0.6803468, 0.6803468, 0.6803468, 0.6803468, 0.6803468, 0.6803468, 0.6803468, 0.6803468, 0.6803468, 0.6803468, 0.6803468, 0.6803468, 0.6803468, 0.6803468, 0.6803468, 0.6803468, 0.6803468, 0.6803468, 0.6803468, 0.6803468, 0.6892478, 0.6892478]}], \"precision_score_micro\": [{\"categories\": [\"0\", \"1\", \"2\", \"3\", \"4\", \"5\", \"6\", \"7\", \"8\", \"9\", \"10\", \"11\", \"12\", \"13\", \"14\", \"15\", \"16\", \"17\", \"18\", \"19\", \"20\", \"21\", \"22\", \"23\", \"24\", \"25\", \"26\", \"27\", \"28\", \"29\", \"30\", \"31\", \"32\", \"33\", \"38\", \"39\"], \"mode\": \"markers\", \"name\": \"precision_score_micro\", \"stepped\": false, \"type\": \"scatter\", \"data\": [0.6178, 0.624, 0.5955, 0.5496999999999999, 0.5467000000000001, 0.5827, 0.6194000000000001, 0.6166, 0.6125999999999999, 0.6033000000000001, 0.6157, 0.5595000000000001, 0.5958, 0.6039999999999999, 0.6163000000000001, 0.5922, 0.6154, 0.6129, 0.5869, 0.6146, 0.6016, 0.6073999999999999, 0.6026, 0.6159000000000001, 0.6123000000000001, 0.505, 0.6161000000000001, 0.6082, 0.6202, 0.6118, 0.5755, 0.6103, 0.6143, 0.6089, 0.6376, 0.6351]}, {\"categories\": [\"0\", \"1\", \"2\", \"3\", \"4\", \"5\", \"6\", \"7\", \"8\", \"9\", \"10\", \"11\", \"12\", \"13\", \"14\", \"15\", \"16\", \"17\", \"18\", \"19\", \"20\", \"21\", \"22\", \"23\", \"24\", \"25\", \"26\", \"27\", \"28\", \"29\", \"30\", \"31\", \"32\", \"33\", \"38\", \"39\"], \"mode\": \"lines\", \"name\": \"precision_score_micro_max\", \"stepped\": true, \"type\": \"scatter\", \"data\": [0.6178, 0.624, 0.624, 0.624, 0.624, 0.624, 0.624, 0.624, 0.624, 0.624, 0.624, 0.624, 0.624, 0.624, 0.624, 0.624, 0.624, 0.624, 0.624, 0.624, 0.624, 0.624, 0.624, 0.624, 0.624, 0.624, 0.624, 0.624, 0.624, 0.624, 0.624, 0.624, 0.624, 0.624, 0.6376, 0.6376]}], \"average_precision_score_macro\": [{\"categories\": [\"0\", \"1\", \"2\", \"3\", \"4\", \"5\", \"6\", \"7\", \"8\", \"9\", \"10\", \"11\", \"12\", \"13\", \"14\", \"15\", \"16\", \"17\", \"18\", \"19\", \"20\", \"21\", \"22\", \"23\", \"24\", \"25\", \"26\", \"27\", \"28\", \"29\", \"30\", \"31\", \"32\", \"33\", \"38\", \"39\"], \"mode\": \"markers\", \"name\": \"average_precision_score_macro\", \"stepped\": false, \"type\": \"scatter\", \"data\": [0.6675600216195003, 0.6729397484523596, 0.6289914526152918, 0.5633701182640454, 0.5562321597093722, 0.6129650283454712, 0.6689523767723845, 0.652457887526517, 0.6589152889224642, 0.6527265709663993, 0.6639742832148354, 0.5718138405674159, 0.6437275195007082, 0.6464588323904876, 0.6612724235855942, 0.6259696910291295, 0.66447378772128, 0.65539376671566, 0.6173884280946957, 0.6607356949384128, 0.647232795852485, 0.6544732258169834, 0.6430645083309983, 0.6630027260695224, 0.6478985869770485, 0.5, 0.6656439908749029, 0.6589635756227998, 0.6717408331410605, 0.6617384432405052, 0.6072357739947777, 0.6491183824434488, 0.6635657293601052, 0.6540704507699078, 0.6806861365980412, 0.6802533554610173]}, {\"categories\": [\"0\", \"1\", \"2\", \"3\", \"4\", \"5\", \"6\", \"7\", \"8\", \"9\", \"10\", \"11\", \"12\", \"13\", \"14\", \"15\", \"16\", \"17\", \"18\", \"19\", \"20\", \"21\", \"22\", \"23\", \"24\", \"25\", \"26\", \"27\", \"28\", \"29\", \"30\", \"31\", \"32\", \"33\", \"38\", \"39\"], \"mode\": \"lines\", \"name\": \"average_precision_score_macro_max\", \"stepped\": true, \"type\": \"scatter\", \"data\": [0.6675600216195003, 0.6729397484523596, 0.6729397484523596, 0.6729397484523596, 0.6729397484523596, 0.6729397484523596, 0.6729397484523596, 0.6729397484523596, 0.6729397484523596, 0.6729397484523596, 0.6729397484523596, 0.6729397484523596, 0.6729397484523596, 0.6729397484523596, 0.6729397484523596, 0.6729397484523596, 0.6729397484523596, 0.6729397484523596, 0.6729397484523596, 0.6729397484523596, 0.6729397484523596, 0.6729397484523596, 0.6729397484523596, 0.6729397484523596, 0.6729397484523596, 0.6729397484523596, 0.6729397484523596, 0.6729397484523596, 0.6729397484523596, 0.6729397484523596, 0.6729397484523596, 0.6729397484523596, 0.6729397484523596, 0.6729397484523596, 0.6806861365980412, 0.6806861365980412]}], \"precision_score_macro\": [{\"categories\": [\"0\", \"1\", \"2\", \"3\", \"4\", \"5\", \"6\", \"7\", \"8\", \"9\", \"10\", \"11\", \"12\", \"13\", \"14\", \"15\", \"16\", \"17\", \"18\", \"19\", \"20\", \"21\", \"22\", \"23\", \"24\", \"25\", \"26\", \"27\", \"28\", \"29\", \"30\", \"31\", \"32\", \"33\", \"38\", \"39\"], \"mode\": \"markers\", \"name\": \"precision_score_macro\", \"stepped\": false, \"type\": \"scatter\", \"data\": [0.6178019858826597, 0.6239810995132394, 0.595784510939291, 0.5506100665944408, 0.5670425235122185, 0.5855796819075556, 0.620578593445336, 0.6172080578908964, 0.6127727923317494, 0.6036366311719258, 0.6158689305489714, 0.563159864505134, 0.6054955325073017, 0.6043437919084187, 0.6166892336964775, 0.5923268079297561, 0.6166724608569822, 0.6128619934044142, 0.5870096239176649, 0.6149997108896722, 0.6016362646274676, 0.6090555142066119, 0.6026631696246854, 0.6169568233447096, 0.61233607466894, 0.2525, 0.6161524525370181, 0.6082748214351567, 0.6201321713656622, 0.6118720166583433, 0.5754711185457468, 0.6101967646673921, 0.6147577413968255, 0.6095230895678779, 0.6377163492742485, 0.6353986954673794]}, {\"categories\": [\"0\", \"1\", \"2\", \"3\", \"4\", \"5\", \"6\", \"7\", \"8\", \"9\", \"10\", \"11\", \"12\", \"13\", \"14\", \"15\", \"16\", \"17\", \"18\", \"19\", \"20\", \"21\", \"22\", \"23\", \"24\", \"25\", \"26\", \"27\", \"28\", \"29\", \"30\", \"31\", \"32\", \"33\", \"38\", \"39\"], \"mode\": \"lines\", \"name\": \"precision_score_macro_max\", \"stepped\": true, \"type\": \"scatter\", \"data\": [0.6178019858826597, 0.6239810995132394, 0.6239810995132394, 0.6239810995132394, 0.6239810995132394, 0.6239810995132394, 0.6239810995132394, 0.6239810995132394, 0.6239810995132394, 0.6239810995132394, 0.6239810995132394, 0.6239810995132394, 0.6239810995132394, 0.6239810995132394, 0.6239810995132394, 0.6239810995132394, 0.6239810995132394, 0.6239810995132394, 0.6239810995132394, 0.6239810995132394, 0.6239810995132394, 0.6239810995132394, 0.6239810995132394, 0.6239810995132394, 0.6239810995132394, 0.6239810995132394, 0.6239810995132394, 0.6239810995132394, 0.6239810995132394, 0.6239810995132394, 0.6239810995132394, 0.6239810995132394, 0.6239810995132394, 0.6239810995132394, 0.6377163492742485, 0.6377163492742485]}], \"AUC_macro\": [{\"categories\": [\"0\", \"1\", \"2\", \"3\", \"4\", \"5\", \"6\", \"7\", \"8\", \"9\", \"10\", \"11\", \"12\", \"13\", \"14\", \"15\", \"16\", \"17\", \"18\", \"19\", \"20\", \"21\", \"22\", \"23\", \"24\", \"25\", \"26\", \"27\", \"28\", \"29\", \"30\", \"31\", \"32\", \"33\", \"38\", \"39\"], \"mode\": \"markers\", \"name\": \"AUC_macro\", \"stepped\": false, \"type\": \"scatter\", \"data\": [0.6727645050971365, 0.6790850708500742, 0.6391040877383325, 0.5724263711985292, 0.5676811562971995, 0.6214287905752662, 0.6747903854472914, 0.6629525085192396, 0.6648402049497731, 0.6566795464206671, 0.6698472288550958, 0.5864718217115913, 0.6495988116251248, 0.6580026587834702, 0.6677908746151109, 0.6342189377615168, 0.6700977795459679, 0.6614807255058984, 0.625973795725798, 0.6668390106937184, 0.6542518878431469, 0.6603425088760184, 0.650636255578425, 0.6690985270218502, 0.6568000213624606, 0.5, 0.670724182574175, 0.6648243009502803, 0.6781338775544089, 0.6658989475261361, 0.6129672597855039, 0.6561048942581363, 0.6699268303620478, 0.6612483008357948, 0.6886930580815438, 0.68809582188719]}, {\"categories\": [\"0\", \"1\", \"2\", \"3\", \"4\", \"5\", \"6\", \"7\", \"8\", \"9\", \"10\", \"11\", \"12\", \"13\", \"14\", \"15\", \"16\", \"17\", \"18\", \"19\", \"20\", \"21\", \"22\", \"23\", \"24\", \"25\", \"26\", \"27\", \"28\", \"29\", \"30\", \"31\", \"32\", \"33\", \"38\", \"39\"], \"mode\": \"lines\", \"name\": \"AUC_macro_max\", \"stepped\": true, \"type\": \"scatter\", \"data\": [0.6727645050971365, 0.6790850708500742, 0.6790850708500742, 0.6790850708500742, 0.6790850708500742, 0.6790850708500742, 0.6790850708500742, 0.6790850708500742, 0.6790850708500742, 0.6790850708500742, 0.6790850708500742, 0.6790850708500742, 0.6790850708500742, 0.6790850708500742, 0.6790850708500742, 0.6790850708500742, 0.6790850708500742, 0.6790850708500742, 0.6790850708500742, 0.6790850708500742, 0.6790850708500742, 0.6790850708500742, 0.6790850708500742, 0.6790850708500742, 0.6790850708500742, 0.6790850708500742, 0.6790850708500742, 0.6790850708500742, 0.6790850708500742, 0.6790850708500742, 0.6790850708500742, 0.6790850708500742, 0.6790850708500742, 0.6790850708500742, 0.6886930580815438, 0.6886930580815438]}], \"recall_score_macro\": [{\"categories\": [\"0\", \"1\", \"2\", \"3\", \"4\", \"5\", \"6\", \"7\", \"8\", \"9\", \"10\", \"11\", \"12\", \"13\", \"14\", \"15\", \"16\", \"17\", \"18\", \"19\", \"20\", \"21\", \"22\", \"23\", \"24\", \"25\", \"26\", \"27\", \"28\", \"29\", \"30\", \"31\", \"32\", \"33\", \"38\", \"39\"], \"mode\": \"markers\", \"name\": \"recall_score_macro\", \"stepped\": false, \"type\": \"scatter\", \"data\": [0.6178096895057201, 0.623824766248154, 0.5950742612951291, 0.5482635182396898, 0.5460529696716384, 0.5832112521094867, 0.6198940739267588, 0.6169167578462519, 0.6127477065885909, 0.6034822965578905, 0.6157567054562662, 0.5589410837385765, 0.5970706794916278, 0.6041478128430026, 0.6158734799044001, 0.5923057015082313, 0.6159479003812586, 0.6128743768955893, 0.5869965042501378, 0.6148194690561869, 0.6015077498414081, 0.6067489808536713, 0.6026398344601356, 0.6163364020636084, 0.6122686272215228, 0.5, 0.616101942076029, 0.607937923582384, 0.6200432668037038, 0.6118559617450381, 0.5753644701663044, 0.6100402251458965, 0.6145814756521681, 0.6092445822171815, 0.637720370997679, 0.6352801539670765]}, {\"categories\": [\"0\", \"1\", \"2\", \"3\", \"4\", \"5\", \"6\", \"7\", \"8\", \"9\", \"10\", \"11\", \"12\", \"13\", \"14\", \"15\", \"16\", \"17\", \"18\", \"19\", \"20\", \"21\", \"22\", \"23\", \"24\", \"25\", \"26\", \"27\", \"28\", \"29\", \"30\", \"31\", \"32\", \"33\", \"38\", \"39\"], \"mode\": \"lines\", \"name\": \"recall_score_macro_max\", \"stepped\": true, \"type\": \"scatter\", \"data\": [0.6178096895057201, 0.623824766248154, 0.623824766248154, 0.623824766248154, 0.623824766248154, 0.623824766248154, 0.623824766248154, 0.623824766248154, 0.623824766248154, 0.623824766248154, 0.623824766248154, 0.623824766248154, 0.623824766248154, 0.623824766248154, 0.623824766248154, 0.623824766248154, 0.623824766248154, 0.623824766248154, 0.623824766248154, 0.623824766248154, 0.623824766248154, 0.623824766248154, 0.623824766248154, 0.623824766248154, 0.623824766248154, 0.623824766248154, 0.623824766248154, 0.623824766248154, 0.623824766248154, 0.623824766248154, 0.623824766248154, 0.623824766248154, 0.623824766248154, 0.623824766248154, 0.637720370997679, 0.637720370997679]}], \"average_precision_score_weighted\": [{\"categories\": [\"0\", \"1\", \"2\", \"3\", \"4\", \"5\", \"6\", \"7\", \"8\", \"9\", \"10\", \"11\", \"12\", \"13\", \"14\", \"15\", \"16\", \"17\", \"18\", \"19\", \"20\", \"21\", \"22\", \"23\", \"24\", \"25\", \"26\", \"27\", \"28\", \"29\", \"30\", \"31\", \"32\", \"33\", \"38\", \"39\"], \"mode\": \"markers\", \"name\": \"average_precision_score_weighted\", \"stepped\": false, \"type\": \"scatter\", \"data\": [0.6678019831241044, 0.6732308059433608, 0.6293349986472035, 0.5634378547360746, 0.5564494186052056, 0.6133857375201743, 0.6692127226665118, 0.6527984543961576, 0.6592288693913052, 0.6530025949992463, 0.6642815576858891, 0.5718936419603567, 0.6440445727194639, 0.6467223106941861, 0.6615494339091014, 0.6262835666630409, 0.6647681702702133, 0.6557070077342437, 0.6176894713500035, 0.6610126836983007, 0.6475281081272757, 0.6547593546376727, 0.6433946560671138, 0.6633045655769049, 0.64815086684197, 0.500149, 0.6659406141108762, 0.6592556600897502, 0.6720446942422086, 0.6620212556050038, 0.6074850824946841, 0.6494420414310346, 0.6638674500026727, 0.6543866739728416, 0.6809787187121011, 0.6805342703150934]}, {\"categories\": [\"0\", \"1\", \"2\", \"3\", \"4\", \"5\", \"6\", \"7\", \"8\", \"9\", \"10\", \"11\", \"12\", \"13\", \"14\", \"15\", \"16\", \"17\", \"18\", \"19\", \"20\", \"21\", \"22\", \"23\", \"24\", \"25\", \"26\", \"27\", \"28\", \"29\", \"30\", \"31\", \"32\", \"33\", \"38\", \"39\"], \"mode\": \"lines\", \"name\": \"average_precision_score_weighted_max\", \"stepped\": true, \"type\": \"scatter\", \"data\": [0.6678019831241044, 0.6732308059433608, 0.6732308059433608, 0.6732308059433608, 0.6732308059433608, 0.6732308059433608, 0.6732308059433608, 0.6732308059433608, 0.6732308059433608, 0.6732308059433608, 0.6732308059433608, 0.6732308059433608, 0.6732308059433608, 0.6732308059433608, 0.6732308059433608, 0.6732308059433608, 0.6732308059433608, 0.6732308059433608, 0.6732308059433608, 0.6732308059433608, 0.6732308059433608, 0.6732308059433608, 0.6732308059433608, 0.6732308059433608, 0.6732308059433608, 0.6732308059433608, 0.6732308059433608, 0.6732308059433608, 0.6732308059433608, 0.6732308059433608, 0.6732308059433608, 0.6732308059433608, 0.6732308059433608, 0.6732308059433608, 0.6809787187121011, 0.6809787187121011]}], \"f1_score_macro\": [{\"categories\": [\"0\", \"1\", \"2\", \"3\", \"4\", \"5\", \"6\", \"7\", \"8\", \"9\", \"10\", \"11\", \"12\", \"13\", \"14\", \"15\", \"16\", \"17\", \"18\", \"19\", \"20\", \"21\", \"22\", \"23\", \"24\", \"25\", \"26\", \"27\", \"28\", \"29\", \"30\", \"31\", \"32\", \"33\", \"38\", \"39\"], \"mode\": \"markers\", \"name\": \"f1_score_macro\", \"stepped\": false, \"type\": \"scatter\", \"data\": [0.6177403253601101, 0.6237418606415122, 0.5944311630937227, 0.5399635457098336, 0.5127533134733461, 0.5799528341669379, 0.6189577371588465, 0.6164100540146445, 0.6125665198469251, 0.6031536269142499, 0.6155606671678836, 0.5502004801484944, 0.5879286574083401, 0.6038015346188947, 0.6153975441605083, 0.5921483152788645, 0.614926580738085, 0.6128316838608836, 0.5868521609509079, 0.6144536349911994, 0.6013742248523366, 0.6048847551720942, 0.6025212344172176, 0.615487046480962, 0.6121589912179427, 0.335533636201729, 0.6159907124967186, 0.6077671673662435, 0.6199990429334682, 0.6117378006977828, 0.5752110387125832, 0.609976721657699, 0.614190228357682, 0.6087314346051539, 0.6375801727294474, 0.6350290687178125]}, {\"categories\": [\"0\", \"1\", \"2\", \"3\", \"4\", \"5\", \"6\", \"7\", \"8\", \"9\", \"10\", \"11\", \"12\", \"13\", \"14\", \"15\", \"16\", \"17\", \"18\", \"19\", \"20\", \"21\", \"22\", \"23\", \"24\", \"25\", \"26\", \"27\", \"28\", \"29\", \"30\", \"31\", \"32\", \"33\", \"38\", \"39\"], \"mode\": \"lines\", \"name\": \"f1_score_macro_max\", \"stepped\": true, \"type\": \"scatter\", \"data\": [0.6177403253601101, 0.6237418606415122, 0.6237418606415122, 0.6237418606415122, 0.6237418606415122, 0.6237418606415122, 0.6237418606415122, 0.6237418606415122, 0.6237418606415122, 0.6237418606415122, 0.6237418606415122, 0.6237418606415122, 0.6237418606415122, 0.6237418606415122, 0.6237418606415122, 0.6237418606415122, 0.6237418606415122, 0.6237418606415122, 0.6237418606415122, 0.6237418606415122, 0.6237418606415122, 0.6237418606415122, 0.6237418606415122, 0.6237418606415122, 0.6237418606415122, 0.6237418606415122, 0.6237418606415122, 0.6237418606415122, 0.6237418606415122, 0.6237418606415122, 0.6237418606415122, 0.6237418606415122, 0.6237418606415122, 0.6237418606415122, 0.6375801727294474, 0.6375801727294474]}], \"recall_score_weighted\": [{\"categories\": [\"0\", \"1\", \"2\", \"3\", \"4\", \"5\", \"6\", \"7\", \"8\", \"9\", \"10\", \"11\", \"12\", \"13\", \"14\", \"15\", \"16\", \"17\", \"18\", \"19\", \"20\", \"21\", \"22\", \"23\", \"24\", \"25\", \"26\", \"27\", \"28\", \"29\", \"30\", \"31\", \"32\", \"33\", \"38\", \"39\"], \"mode\": \"markers\", \"name\": \"recall_score_weighted\", \"stepped\": false, \"type\": \"scatter\", \"data\": [0.6178, 0.624, 0.5955, 0.5496999999999999, 0.5467000000000001, 0.5827, 0.6194000000000001, 0.6166, 0.6125999999999999, 0.6033000000000001, 0.6157, 0.5595000000000001, 0.5958, 0.6039999999999999, 0.6163000000000001, 0.5922, 0.6154, 0.6129, 0.5869, 0.6146, 0.6016, 0.6073999999999999, 0.6026, 0.6159000000000001, 0.6123000000000001, 0.505, 0.6161000000000001, 0.6082, 0.6202, 0.6118, 0.5755, 0.6103, 0.6143, 0.6089, 0.6376, 0.6351]}, {\"categories\": [\"0\", \"1\", \"2\", \"3\", \"4\", \"5\", \"6\", \"7\", \"8\", \"9\", \"10\", \"11\", \"12\", \"13\", \"14\", \"15\", \"16\", \"17\", \"18\", \"19\", \"20\", \"21\", \"22\", \"23\", \"24\", \"25\", \"26\", \"27\", \"28\", \"29\", \"30\", \"31\", \"32\", \"33\", \"38\", \"39\"], \"mode\": \"lines\", \"name\": \"recall_score_weighted_max\", \"stepped\": true, \"type\": \"scatter\", \"data\": [0.6178, 0.624, 0.624, 0.624, 0.624, 0.624, 0.624, 0.624, 0.624, 0.624, 0.624, 0.624, 0.624, 0.624, 0.624, 0.624, 0.624, 0.624, 0.624, 0.624, 0.624, 0.624, 0.624, 0.624, 0.624, 0.624, 0.624, 0.624, 0.624, 0.624, 0.624, 0.624, 0.624, 0.624, 0.6376, 0.6376]}], \"average_precision_score_micro\": [{\"categories\": [\"0\", \"1\", \"2\", \"3\", \"4\", \"5\", \"6\", \"7\", \"8\", \"9\", \"10\", \"11\", \"12\", \"13\", \"14\", \"15\", \"16\", \"17\", \"18\", \"19\", \"20\", \"21\", \"22\", \"23\", \"24\", \"25\", \"26\", \"27\", \"28\", \"29\", \"30\", \"31\", \"32\", \"33\", \"38\", \"39\"], \"mode\": \"markers\", \"name\": \"average_precision_score_micro\", \"stepped\": false, \"type\": \"scatter\", \"data\": [0.6701107739298199, 0.6777162630175676, 0.6309049393107052, 0.5622000895394377, 0.5600609134147595, 0.6117275877077119, 0.6715502948226071, 0.6588903132000316, 0.6630310512271962, 0.6569048244045383, 0.6685603426242932, 0.5691686550569841, 0.6495052551201279, 0.6521346008988887, 0.6638084086401154, 0.6258837557742473, 0.668611727087214, 0.6593663629057084, 0.6172122220887244, 0.6650617712276903, 0.6502292957570978, 0.6594810999156712, 0.6433807510553438, 0.6671555900288023, 0.6484574437143175, 0.5025744999999999, 0.6701985214238253, 0.6655034282112682, 0.6770560609611104, 0.6647014914796097, 0.6081865408126583, 0.6498990938555835, 0.6683671880665699, 0.6597525375701887, 0.6851466935936822, 0.6843005709234067]}, {\"categories\": [\"0\", \"1\", \"2\", \"3\", \"4\", \"5\", \"6\", \"7\", \"8\", \"9\", \"10\", \"11\", \"12\", \"13\", \"14\", \"15\", \"16\", \"17\", \"18\", \"19\", \"20\", \"21\", \"22\", \"23\", \"24\", \"25\", \"26\", \"27\", \"28\", \"29\", \"30\", \"31\", \"32\", \"33\", \"38\", \"39\"], \"mode\": \"lines\", \"name\": \"average_precision_score_micro_max\", \"stepped\": true, \"type\": \"scatter\", \"data\": [0.6701107739298199, 0.6777162630175676, 0.6777162630175676, 0.6777162630175676, 0.6777162630175676, 0.6777162630175676, 0.6777162630175676, 0.6777162630175676, 0.6777162630175676, 0.6777162630175676, 0.6777162630175676, 0.6777162630175676, 0.6777162630175676, 0.6777162630175676, 0.6777162630175676, 0.6777162630175676, 0.6777162630175676, 0.6777162630175676, 0.6777162630175676, 0.6777162630175676, 0.6777162630175676, 0.6777162630175676, 0.6777162630175676, 0.6777162630175676, 0.6777162630175676, 0.6777162630175676, 0.6777162630175676, 0.6777162630175676, 0.6777162630175676, 0.6777162630175676, 0.6777162630175676, 0.6777162630175676, 0.6777162630175676, 0.6777162630175676, 0.6851466935936822, 0.6851466935936822]}]}, \"metricName\": null, \"primaryMetricName\": \"accuracy\", \"showLegend\": false}, \"run_metrics\": [{\"name\": \"experiment_status\", \"run_id\": \"AutoML_50201189-2111-4560-956d-146fa247ff16\", \"categories\": [0, 1, 2, 3, 4, 5], \"series\": [{\"data\": [\"DatasetEvaluation\", \"FeaturesGeneration\", \"DatasetFeaturization\", \"DatasetFeaturizationCompleted\", \"DatasetCrossValidationSplit\", \"ModelSelection\"]}]}, {\"name\": \"experiment_status_description\", \"run_id\": \"AutoML_50201189-2111-4560-956d-146fa247ff16\", \"categories\": [0, 1, 2, 3, 4, 5], \"series\": [{\"data\": [\"Gathering dataset statistics.\", \"Generating features for the dataset.\", \"Beginning to fit featurizers and featurize the dataset.\", \"Completed fit featurizers and featurizing the dataset.\", \"Generating individually featurized CV splits.\", \"Beginning model selection.\"]}]}, {\"name\": \"log_loss\", \"run_id\": \"AutoML_50201189-2111-4560-956d-146fa247ff16\", \"categories\": [0], \"series\": [{\"data\": [0.6423229108840638]}]}, {\"name\": \"matthews_correlation\", \"run_id\": \"AutoML_50201189-2111-4560-956d-146fa247ff16\", \"categories\": [0], \"series\": [{\"data\": [0.2754367100696848]}]}, {\"name\": \"recall_score_weighted\", \"run_id\": \"AutoML_50201189-2111-4560-956d-146fa247ff16\", \"categories\": [0], \"series\": [{\"data\": [0.6376]}]}, {\"name\": \"average_precision_score_macro\", \"run_id\": \"AutoML_50201189-2111-4560-956d-146fa247ff16\", \"categories\": [0], \"series\": [{\"data\": [0.6806861365980412]}]}, {\"name\": \"AUC_micro\", \"run_id\": \"AutoML_50201189-2111-4560-956d-146fa247ff16\", \"categories\": [0], \"series\": [{\"data\": [0.6892478]}]}, {\"name\": \"precision_score_weighted\", \"run_id\": \"AutoML_50201189-2111-4560-956d-146fa247ff16\", \"categories\": [0], \"series\": [{\"data\": [0.6378870319208483]}]}, {\"name\": \"average_precision_score_weighted\", \"run_id\": \"AutoML_50201189-2111-4560-956d-146fa247ff16\", \"categories\": [0], \"series\": [{\"data\": [0.6809787187121011]}]}, {\"name\": \"accuracy\", \"run_id\": \"AutoML_50201189-2111-4560-956d-146fa247ff16\", \"categories\": [0], \"series\": [{\"data\": [0.6376]}]}, {\"name\": \"precision_score_macro\", \"run_id\": \"AutoML_50201189-2111-4560-956d-146fa247ff16\", \"categories\": [0], \"series\": [{\"data\": [0.6377163492742485]}]}, {\"name\": \"norm_macro_recall\", \"run_id\": \"AutoML_50201189-2111-4560-956d-146fa247ff16\", \"categories\": [0], \"series\": [{\"data\": [0.27544074199535784]}]}, {\"name\": \"f1_score_weighted\", \"run_id\": \"AutoML_50201189-2111-4560-956d-146fa247ff16\", \"categories\": [0], \"series\": [{\"data\": [0.6376053376830375]}]}, {\"name\": \"AUC_macro\", \"run_id\": \"AutoML_50201189-2111-4560-956d-146fa247ff16\", \"categories\": [0], \"series\": [{\"data\": [0.6886930580815438]}]}, {\"name\": \"average_precision_score_micro\", \"run_id\": \"AutoML_50201189-2111-4560-956d-146fa247ff16\", \"categories\": [0], \"series\": [{\"data\": [0.6851466935936822]}]}, {\"name\": \"weighted_accuracy\", \"run_id\": \"AutoML_50201189-2111-4560-956d-146fa247ff16\", \"categories\": [0], \"series\": [{\"data\": [0.6374797383273583]}]}, {\"name\": \"recall_score_micro\", \"run_id\": \"AutoML_50201189-2111-4560-956d-146fa247ff16\", \"categories\": [0], \"series\": [{\"data\": [0.6376]}]}, {\"name\": \"precision_score_micro\", \"run_id\": \"AutoML_50201189-2111-4560-956d-146fa247ff16\", \"categories\": [0], \"series\": [{\"data\": [0.6376]}]}, {\"name\": \"AUC_weighted\", \"run_id\": \"AutoML_50201189-2111-4560-956d-146fa247ff16\", \"categories\": [0], \"series\": [{\"data\": [0.6886930580815438]}]}, {\"name\": \"f1_score_macro\", \"run_id\": \"AutoML_50201189-2111-4560-956d-146fa247ff16\", \"categories\": [0], \"series\": [{\"data\": [0.6375801727294474]}]}, {\"name\": \"f1_score_micro\", \"run_id\": \"AutoML_50201189-2111-4560-956d-146fa247ff16\", \"categories\": [0], \"series\": [{\"data\": [0.6376]}]}, {\"name\": \"balanced_accuracy\", \"run_id\": \"AutoML_50201189-2111-4560-956d-146fa247ff16\", \"categories\": [0], \"series\": [{\"data\": [0.637720370997679]}]}, {\"name\": \"recall_score_macro\", \"run_id\": \"AutoML_50201189-2111-4560-956d-146fa247ff16\", \"categories\": [0], \"series\": [{\"data\": [0.637720370997679]}]}], \"run_logs\": \"\\nRun is completed.\", \"graph\": {}, \"widget_settings\": {\"childWidgetDisplay\": \"popup\", \"send_telemetry\": false, \"log_level\": \"INFO\", \"sdk_version\": \"1.19.0\"}, \"loading\": false}"
     },
     "metadata": {},
     "output_type": "display_data"
    }
   ],
   "source": [
    "RunDetails(remote_run).show()"
   ]
  },
  {
   "cell_type": "markdown",
   "metadata": {},
   "source": [
    "## Best Model\n"
   ]
  },
  {
   "cell_type": "code",
   "execution_count": 9,
   "metadata": {},
   "outputs": [
    {
     "data": {
      "text/plain": [
       "{'AUC_weighted': 0.6886930580815438,\n",
       " 'recall_score_macro': 0.637720370997679,\n",
       " 'recall_score_micro': 0.6376,\n",
       " 'average_precision_score_macro': 0.6806861365980412,\n",
       " 'norm_macro_recall': 0.27544074199535784,\n",
       " 'precision_score_micro': 0.6376,\n",
       " 'average_precision_score_weighted': 0.6809787187121011,\n",
       " 'precision_score_weighted': 0.6378870319208483,\n",
       " 'matthews_correlation': 0.2754367100696848,\n",
       " 'accuracy': 0.6376,\n",
       " 'f1_score_weighted': 0.6376053376830375,\n",
       " 'f1_score_micro': 0.6376,\n",
       " 'AUC_macro': 0.6886930580815438,\n",
       " 'f1_score_macro': 0.6375801727294474,\n",
       " 'AUC_micro': 0.6892478,\n",
       " 'weighted_accuracy': 0.6374797383273583,\n",
       " 'average_precision_score_micro': 0.6851466935936822,\n",
       " 'recall_score_weighted': 0.6376,\n",
       " 'precision_score_macro': 0.6377163492742485,\n",
       " 'balanced_accuracy': 0.637720370997679,\n",
       " 'log_loss': 0.6423229108840638,\n",
       " 'confusion_matrix': 'aml://artifactId/ExperimentRun/dcid.AutoML_50201189-2111-4560-956d-146fa247ff16_38/confusion_matrix',\n",
       " 'accuracy_table': 'aml://artifactId/ExperimentRun/dcid.AutoML_50201189-2111-4560-956d-146fa247ff16_38/accuracy_table'}"
      ]
     },
     "execution_count": 9,
     "metadata": {},
     "output_type": "execute_result"
    }
   ],
   "source": [
    "best_run = remote_run.get_best_child()\n",
    "best_run.get_metrics()"
   ]
  },
  {
   "cell_type": "code",
   "execution_count": 10,
   "metadata": {},
   "outputs": [
    {
     "data": {
      "text/plain": [
       "{'runTemplate': 'automl_child',\n",
       " 'pipeline_id': '__AutoML_Ensemble__',\n",
       " 'pipeline_spec': '{\"pipeline_id\":\"__AutoML_Ensemble__\",\"objects\":[{\"module\":\"azureml.train.automl.ensemble\",\"class_name\":\"Ensemble\",\"spec_class\":\"sklearn\",\"param_args\":[],\"param_kwargs\":{\"automl_settings\":\"{\\'task_type\\':\\'classification\\',\\'primary_metric\\':\\'accuracy\\',\\'verbosity\\':20,\\'ensemble_iterations\\':15,\\'is_timeseries\\':False,\\'name\\':\\'MS-Malware\\',\\'compute_target\\':\\'malware-compute\\',\\'subscription_id\\':\\'5a4ab2ba-6c51-4805-8155-58759ad589d8\\',\\'region\\':\\'southcentralus\\',\\'spark_service\\':None}\",\"ensemble_run_id\":\"AutoML_50201189-2111-4560-956d-146fa247ff16_38\",\"experiment_name\":\"MS-Malware\",\"workspace_name\":\"quick-starts-ws-133708\",\"subscription_id\":\"5a4ab2ba-6c51-4805-8155-58759ad589d8\",\"resource_group_name\":\"aml-quickstarts-133708\"}}]}',\n",
       " 'training_percent': '100',\n",
       " 'predicted_cost': None,\n",
       " 'iteration': '38',\n",
       " '_aml_system_scenario_identification': 'Remote.Child',\n",
       " '_azureml.ComputeTargetType': 'amlcompute',\n",
       " 'ContentSnapshotId': '9aab5f62-7715-4414-a383-e6046b9acc1d',\n",
       " 'ProcessInfoFile': 'azureml-logs/process_info.json',\n",
       " 'ProcessStatusFile': 'azureml-logs/process_status.json',\n",
       " 'run_template': 'automl_child',\n",
       " 'run_preprocessor': '',\n",
       " 'run_algorithm': 'VotingEnsemble',\n",
       " 'conda_env_data_location': 'aml://artifact/ExperimentRun/dcid.AutoML_50201189-2111-4560-956d-146fa247ff16_38/outputs/conda_env_v_1_0_0.yml',\n",
       " 'model_data_location': 'aml://artifact/ExperimentRun/dcid.AutoML_50201189-2111-4560-956d-146fa247ff16_38/outputs/model.pkl',\n",
       " 'model_size_on_disk': '3419406',\n",
       " 'scoring_data_location': 'aml://artifact/ExperimentRun/dcid.AutoML_50201189-2111-4560-956d-146fa247ff16_38/outputs/scoring_file_v_1_0_0.py',\n",
       " 'model_exp_support': 'True',\n",
       " 'pipeline_graph_version': '1.0.0',\n",
       " 'model_name': 'AutoML50201189238',\n",
       " 'staticProperties': '{}',\n",
       " 'score': '0.6376',\n",
       " 'run_properties': \"classification_labels=None,\\n                              estimators=[('1',\\n                                           Pipeline(memory=None,\\n                                                    steps=[('maxabsscaler',\\n                                                            MaxAbsScaler(copy=True\",\n",
       " 'pipeline_script': '{\"pipeline_id\":\"__AutoML_Ensemble__\",\"objects\":[{\"module\":\"azureml.train.automl.ensemble\",\"class_name\":\"Ensemble\",\"spec_class\":\"sklearn\",\"param_args\":[],\"param_kwargs\":{\"automl_settings\":\"{\\'task_type\\':\\'classification\\',\\'primary_metric\\':\\'accuracy\\',\\'verbosity\\':20,\\'ensemble_iterations\\':15,\\'is_timeseries\\':False,\\'name\\':\\'MS-Malware\\',\\'compute_target\\':\\'malware-compute\\',\\'subscription_id\\':\\'5a4ab2ba-6c51-4805-8155-58759ad589d8\\',\\'region\\':\\'southcentralus\\',\\'spark_service\\':None}\",\"ensemble_run_id\":\"AutoML_50201189-2111-4560-956d-146fa247ff16_38\",\"experiment_name\":\"MS-Malware\",\"workspace_name\":\"quick-starts-ws-133708\",\"subscription_id\":\"5a4ab2ba-6c51-4805-8155-58759ad589d8\",\"resource_group_name\":\"aml-quickstarts-133708\"}}]}',\n",
       " 'training_type': 'MeanCrossValidation',\n",
       " 'num_classes': '',\n",
       " 'framework': 'sklearn',\n",
       " 'fit_time': '46',\n",
       " 'goal': 'accuracy_max',\n",
       " 'class_labels': '',\n",
       " 'primary_metric': 'accuracy',\n",
       " 'errors': '{}',\n",
       " 'fitted_pipeline': \"Pipeline(memory=None,\\n         steps=[('datatransformer',\\n                 DataTransformer(enable_dnn=None, enable_feature_sweeping=None,\\n                                 feature_sweeping_config=None,\\n                                 feature_sweeping_timeout=None,\\n                                 featurization_config=None, force_text_dnn=None,\\n                                 is_cross_validation=None,\\n                                 is_onnx_compatible=None, logger=None,\\n                                 observer=None, task=None, working_dir=None)),\\n                ('prefittedsoftvotingclassifier',...\\n                                                                                                        random_state=None,\\n                                                                                                        subsample=0.8105263157894737,\\n                                                                                                        tol=0.0001,\\n                                                                                                        validation_fraction=0.1,\\n                                                                                                        verbose=0,\\n                                                                                                        warm_start=False))],\\n                                                                     verbose=False))],\\n                                               flatten_transform=None,\\n                                               weights=[0.1111111111111111,\\n                                                        0.1111111111111111,\\n                                                        0.1111111111111111,\\n                                                        0.1111111111111111,\\n                                                        0.1111111111111111,\\n                                                        0.1111111111111111,\\n                                                        0.1111111111111111,\\n                                                        0.1111111111111111,\\n                                                        0.1111111111111111]))],\\n         verbose=False)\",\n",
       " 'friendly_errors': '{}',\n",
       " 'onnx_model_resource': '{}',\n",
       " 'error_code': '',\n",
       " 'failure_reason': '',\n",
       " 'feature_skus': 'automatedml_sdk_guardrails',\n",
       " 'dependencies_versions': '{\"azureml-train-automl-runtime\": \"1.19.0\", \"azureml-train-automl-client\": \"1.19.0\", \"azureml-telemetry\": \"1.19.0\", \"azureml-pipeline-core\": \"1.19.0\", \"azureml-model-management-sdk\": \"1.0.1b6.post1\", \"azureml-interpret\": \"1.19.0\", \"azureml-defaults\": \"1.19.0\", \"azureml-dataset-runtime\": \"1.19.0\", \"azureml-dataprep\": \"2.6.1\", \"azureml-dataprep-rslex\": \"1.4.0\", \"azureml-dataprep-native\": \"26.0.0\", \"azureml-core\": \"1.19.0\", \"azureml-automl-runtime\": \"1.19.0\", \"azureml-automl-core\": \"1.19.0\"}',\n",
       " 'num_cores': '2',\n",
       " 'num_logical_cores': '2',\n",
       " 'peak_memory_usage': '915256',\n",
       " 'vm_configuration': 'Intel(R) Xeon(R) Platinum 8171M CPU @ 2.60GHz',\n",
       " 'core_hours': '0.012998253888888889'}"
      ]
     },
     "execution_count": 10,
     "metadata": {},
     "output_type": "execute_result"
    }
   ],
   "source": [
    "best_run.properties"
   ]
  },
  {
   "cell_type": "markdown",
   "metadata": {},
   "source": [
    "## Model Deployment\n",
    "\n",
    "Below we register the model, create an inference config and deploy the model as a web service."
   ]
  },
  {
   "cell_type": "markdown",
   "metadata": {},
   "source": [
    "### Register Model"
   ]
  },
  {
   "cell_type": "code",
   "execution_count": 11,
   "metadata": {
    "collapsed": false,
    "gather": {
     "logged": 1598431435189
    },
    "jupyter": {
     "outputs_hidden": false,
     "source_hidden": false
    },
    "nteract": {
     "transient": {
      "deleting": false
     }
    }
   },
   "outputs": [
    {
     "name": "stdout",
     "output_type": "stream",
     "text": [
      "best_automl\tbest_automl:1\t1\n"
     ]
    }
   ],
   "source": [
    "model = best_run.register_model(model_name = 'best_automl', model_path='outputs/model.pkl')\n",
    "print(model.name, model.id, model.version, sep='\\t')"
   ]
  },
  {
   "cell_type": "markdown",
   "metadata": {},
   "source": [
    "### Create Inference and Deployment Config"
   ]
  },
  {
   "cell_type": "code",
   "execution_count": 14,
   "metadata": {},
   "outputs": [],
   "source": [
    "azml_env = Environment.get(workspace=ws, name=\"AzureML-AutoML\")\n",
    "inference_config = InferenceConfig(entry_script='automl_scoring.py', environment=azml_env)\n",
    "deployment_config = LocalWebservice.deploy_configuration()\n",
    "model = Model(ws, name='best_automl')"
   ]
  },
  {
   "cell_type": "markdown",
   "metadata": {},
   "source": [
    "### Deploy as Web Service"
   ]
  },
  {
   "cell_type": "code",
   "execution_count": 15,
   "metadata": {},
   "outputs": [
    {
     "name": "stdout",
     "output_type": "stream",
     "text": [
      "Downloading model best_automl:1 to /tmp/azureml_cel0zkf4/best_automl/1\n",
      "Generating Docker build context.\n",
      "Package creation Succeeded\n",
      "Logging into Docker registry viennaglobal.azurecr.io\n",
      "Logging into Docker registry viennaglobal.azurecr.io\n",
      "Building Docker image from Dockerfile...\n",
      "Step 1/5 : FROM viennaglobal.azurecr.io/azureml/azureml_4f3cee89203e005745d1830c04fe722a\n",
      " ---> c354c32ff2d1\n",
      "Step 2/5 : COPY azureml-app /var/azureml-app\n",
      " ---> 213015e7b8ad\n",
      "Step 3/5 : RUN mkdir -p '/var/azureml-app' && echo eyJhY2NvdW50Q29udGV4dCI6eyJzdWJzY3JpcHRpb25JZCI6IjVhNGFiMmJhLTZjNTEtNDgwNS04MTU1LTU4NzU5YWQ1ODlkOCIsInJlc291cmNlR3JvdXBOYW1lIjoiYW1sLXF1aWNrc3RhcnRzLTEzMzcwOCIsImFjY291bnROYW1lIjoicXVpY2stc3RhcnRzLXdzLTEzMzcwOCIsIndvcmtzcGFjZUlkIjoiNTNiYWEzNWItMDlmNC00ZTY2LTgxOTQtZjkxOTlhZWQzYTZmIn0sIm1vZGVscyI6e30sIm1vZGVsc0luZm8iOnt9fQ== | base64 --decode > /var/azureml-app/model_config_map.json\n",
      " ---> Running in 9b140d8f79f8\n",
      " ---> 80eeb4156c78\n",
      "Step 4/5 : RUN mv '/var/azureml-app/tmprr2_tj5j.py' /var/azureml-app/main.py\n",
      " ---> Running in 8011110578f5\n",
      " ---> 4b4286beac8a\n",
      "Step 5/5 : CMD [\"runsvdir\",\"/var/runit\"]\n",
      " ---> Running in 0d3c8c8c3215\n",
      " ---> b221fd909d3b\n",
      "Successfully built b221fd909d3b\n",
      "Successfully tagged myservice:latest\n",
      "Starting Docker container...\n",
      "Docker container running.\n",
      "Checking container health...\n",
      "Local webservice is running at http://localhost:32769\n"
     ]
    }
   ],
   "source": [
    "service = Model.deploy(ws, 'myservice', [model], inference_config, deployment_config)\n",
    "service.wait_for_deployment(show_output=True)"
   ]
  },
  {
   "cell_type": "markdown",
   "metadata": {},
   "source": [
    "### Test Web Service"
   ]
  },
  {
   "cell_type": "code",
   "execution_count": 16,
   "metadata": {},
   "outputs": [
    {
     "name": "stdout",
     "output_type": "stream",
     "text": [
      "Service state: running\n",
      "Scoring URI: http://localhost:32769/score\n"
     ]
    }
   ],
   "source": [
    "print(\"Service state: {}\".format(service.state))\n",
    "print(\"Scoring URI: {}\".format( service.scoring_uri))"
   ]
  },
  {
   "cell_type": "code",
   "execution_count": 17,
   "metadata": {
    "collapsed": false,
    "gather": {
     "logged": 1598432707604
    },
    "jupyter": {
     "outputs_hidden": false,
     "source_hidden": false
    },
    "nteract": {
     "transient": {
      "deleting": false
     }
    }
   },
   "outputs": [],
   "source": [
    "import json\n",
    "test_data_path = 'https://raw.githubusercontent.com/tybyers/AZMLND_projects/capstone/capstone/data/test_data.json'\n",
    "\n",
    "r = requests.get(test_data_path)\n",
    "input_data = r.text"
   ]
  },
  {
   "cell_type": "code",
   "execution_count": 18,
   "metadata": {},
   "outputs": [
    {
     "data": {
      "text/plain": [
       "[0, 1, 0, 1, 0]"
      ]
     },
     "execution_count": 18,
     "metadata": {},
     "output_type": "execute_result"
    }
   ],
   "source": [
    "# Set the content type\n",
    "headers = {'Content-Type': 'application/json'}\n",
    "# If authentication is enabled, set the authorization header\n",
    "\n",
    "# Make the request and display the response\n",
    "resp = requests.post(service.scoring_uri, input_data, headers=headers)\n",
    "resp.json()"
   ]
  },
  {
   "cell_type": "code",
   "execution_count": 19,
   "metadata": {},
   "outputs": [
    {
     "data": {
      "text/plain": [
       "[0, 0, 1, 1, 0]"
      ]
     },
     "execution_count": 19,
     "metadata": {},
     "output_type": "execute_result"
    }
   ],
   "source": [
    "# compare to actual:\n",
    "[obs['HasDetections'] for obs in json.loads(input_data)['data']]"
   ]
  },
  {
   "cell_type": "markdown",
   "metadata": {},
   "source": [
    "Accuracy on this small subset is 60% (3/5). "
   ]
  },
  {
   "cell_type": "markdown",
   "metadata": {},
   "source": [
    "### Web Service Logs"
   ]
  },
  {
   "cell_type": "code",
   "execution_count": 20,
   "metadata": {},
   "outputs": [
    {
     "data": {
      "text/plain": [
       "'2021-01-06T21:40:50,960847218+00:00 - rsyslog/run \\n2021-01-06T21:40:50,961426325+00:00 - nginx/run \\n2021-01-06T21:40:50,961984032+00:00 - iot-server/run \\n2021-01-06T21:40:50,962677740+00:00 - gunicorn/run \\n/usr/sbin/nginx: /azureml-envs/azureml_8eff28b157f42edcd2424a5aae6c8074/lib/libcrypto.so.1.0.0: no version information available (required by /usr/sbin/nginx)\\n/usr/sbin/nginx: /azureml-envs/azureml_8eff28b157f42edcd2424a5aae6c8074/lib/libcrypto.so.1.0.0: no version information available (required by /usr/sbin/nginx)\\n/usr/sbin/nginx: /azureml-envs/azureml_8eff28b157f42edcd2424a5aae6c8074/lib/libssl.so.1.0.0: no version information available (required by /usr/sbin/nginx)\\n/usr/sbin/nginx: /azureml-envs/azureml_8eff28b157f42edcd2424a5aae6c8074/lib/libssl.so.1.0.0: no version information available (required by /usr/sbin/nginx)\\n/usr/sbin/nginx: /azureml-envs/azureml_8eff28b157f42edcd2424a5aae6c8074/lib/libssl.so.1.0.0: no version information available (required by /usr/sbin/nginx)\\nrsyslogd: /azureml-envs/azureml_8eff28b157f42edcd2424a5aae6c8074/lib/libuuid.so.1: no version information available (required by rsyslogd)\\nEdgeHubConnectionString and IOTEDGE_IOTHUBHOSTNAME are not set. Exiting...\\n2021-01-06T21:40:51,024645053+00:00 - iot-server/finish 1 0\\n2021-01-06T21:40:51,025792066+00:00 - Exit code 1 is normal. Not restarting iot-server.\\nStarting gunicorn 19.9.0\\nListening at: http://127.0.0.1:31311 (12)\\nUsing worker: sync\\nworker timeout is set to 300\\nBooting worker with pid: 41\\nSPARK_HOME not set. Skipping PySpark Initialization.\\nGenerating new fontManager, this may take some time...\\nInitializing logger\\n2021-01-06 21:40:52,778 | root | INFO | Starting up app insights client\\nStarting up app insights client\\n2021-01-06 21:40:52,779 | root | INFO | Starting up request id generator\\nStarting up request id generator\\n2021-01-06 21:40:52,779 | root | INFO | Starting up app insight hooks\\nStarting up app insight hooks\\n2021-01-06 21:40:52,779 | root | INFO | Invoking user\\'s init function\\nInvoking user\\'s init function\\n2021-01-06 21:40:53,615 | root | INFO | Users\\'s init has completed successfully\\nUsers\\'s init has completed successfully\\n2021-01-06 21:40:53,617 | root | INFO | Skipping middleware: dbg_model_info as it\\'s not enabled.\\nSkipping middleware: dbg_model_info as it\\'s not enabled.\\n2021-01-06 21:40:53,618 | root | INFO | Skipping middleware: dbg_resource_usage as it\\'s not enabled.\\nSkipping middleware: dbg_resource_usage as it\\'s not enabled.\\n2021-01-06 21:40:53,618 | root | INFO | Scoring timeout setting is not found. Use default timeout: 3600000 ms\\nScoring timeout setting is not found. Use default timeout: 3600000 ms\\n2021-01-06 21:42:10,791 | root | INFO | Validation Request Content-Type\\nValidation Request Content-Type\\n2021-01-06 21:42:10,791 | root | INFO | \\tHost: localhost:32769\\n\\tHost: localhost:32769\\n2021-01-06 21:42:10,791 | root | INFO | \\tX-Real-Ip: 172.17.0.1\\n\\tX-Real-Ip: 172.17.0.1\\n2021-01-06 21:42:10,791 | root | INFO | \\tX-Forwarded-For: 172.17.0.1\\n\\tX-Forwarded-For: 172.17.0.1\\n2021-01-06 21:42:10,791 | root | INFO | \\tX-Forwarded-Proto: http\\n\\tX-Forwarded-Proto: http\\n2021-01-06 21:42:10,791 | root | INFO | \\tConnection: close\\n\\tConnection: close\\n2021-01-06 21:42:10,791 | root | INFO | \\tContent-Length: 12770\\n\\tContent-Length: 12770\\n2021-01-06 21:42:10,791 | root | INFO | \\tUser-Agent: python-requests/2.25.0\\n\\tUser-Agent: python-requests/2.25.0\\n2021-01-06 21:42:10,791 | root | INFO | \\tAccept-Encoding: gzip, deflate\\n\\tAccept-Encoding: gzip, deflate\\n2021-01-06 21:42:10,792 | root | INFO | \\tAccept: */*\\n\\tAccept: */*\\n2021-01-06 21:42:10,792 | root | INFO | \\tContent-Type: application/json\\n\\tContent-Type: application/json\\n2021-01-06 21:42:10,792 | root | INFO | Scoring Timer is set to 3600.0 seconds\\nScoring Timer is set to 3600.0 seconds\\n2021-01-06 21:42:10,973 | root | INFO | 200\\n200\\n127.0.0.1 - - [06/Jan/2021:21:42:10 +0000] \"POST /score HTTP/1.0\" 200 15 \"-\" \"python-requests/2.25.0\"\\n'"
      ]
     },
     "execution_count": 20,
     "metadata": {},
     "output_type": "execute_result"
    }
   ],
   "source": [
    "service.get_logs()"
   ]
  },
  {
   "cell_type": "markdown",
   "metadata": {},
   "source": [
    "### Delete Service"
   ]
  },
  {
   "cell_type": "code",
   "execution_count": 21,
   "metadata": {},
   "outputs": [
    {
     "name": "stdout",
     "output_type": "stream",
     "text": [
      "Container has been successfully cleaned up.\n"
     ]
    }
   ],
   "source": [
    "service.delete()"
   ]
  },
  {
   "cell_type": "code",
   "execution_count": null,
   "metadata": {},
   "outputs": [],
   "source": []
  }
 ],
 "metadata": {
  "kernel_info": {
   "name": "python3-azureml"
  },
  "kernelspec": {
   "display_name": "Python 3",
   "language": "python",
   "name": "python3"
  },
  "language_info": {
   "codemirror_mode": {
    "name": "ipython",
    "version": 3
   },
   "file_extension": ".py",
   "mimetype": "text/x-python",
   "name": "python",
   "nbconvert_exporter": "python",
   "pygments_lexer": "ipython3",
   "version": "3.6.9"
  },
  "nteract": {
   "version": "nteract-front-end@1.0.0"
  }
 },
 "nbformat": 4,
 "nbformat_minor": 4
}
