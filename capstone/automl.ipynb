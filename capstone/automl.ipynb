{
 "cells": [
  {
   "cell_type": "markdown",
   "metadata": {},
   "source": [
    "# Automated ML\n",
    "\n",
    "This is the notebook for the AutoML run process."
   ]
  },
  {
   "cell_type": "markdown",
   "metadata": {},
   "source": [
    "## Import Dependencies"
   ]
  },
  {
   "cell_type": "code",
   "execution_count": 145,
   "metadata": {
    "collapsed": false,
    "gather": {
     "logged": 1598423888013
    },
    "jupyter": {
     "outputs_hidden": false,
     "source_hidden": false
    },
    "nteract": {
     "transient": {
      "deleting": false
     }
    }
   },
   "outputs": [],
   "source": [
    "from azureml.core import Workspace, Experiment, Dataset\n",
    "from azureml.data.dataset_factory import TabularDatasetFactory as tdf\n",
    "from azureml.core.compute import ComputeTarget, AmlCompute\n",
    "from azureml.core.compute_target import ComputeTargetException\n",
    "from azureml.widgets import RunDetails\n",
    "from azureml.train.automl import AutoMLConfig\n",
    "from azureml.core.model import InferenceConfig\n",
    "from azureml.core.webservice import LocalWebservice\n",
    "from azureml.core.model import Model\n",
    "import requests\n",
    "import json"
   ]
  },
  {
   "cell_type": "markdown",
   "metadata": {},
   "source": [
    "## Set Up\n",
    "\n",
    "### Load Workspace Elements"
   ]
  },
  {
   "cell_type": "code",
   "execution_count": 3,
   "metadata": {
    "collapsed": false,
    "gather": {
     "logged": 1598423890461
    },
    "jupyter": {
     "outputs_hidden": false,
     "source_hidden": false
    },
    "nteract": {
     "transient": {
      "deleting": false
     }
    }
   },
   "outputs": [
    {
     "name": "stdout",
     "output_type": "stream",
     "text": [
      "Workspace name: quick-starts-ws-133553\n",
      "Azure region: southcentralus\n",
      "Subscription id: 610d6e37-4747-4a20-80eb-3aad70a55f43\n",
      "Resource group: aml-quickstarts-133553\n"
     ]
    }
   ],
   "source": [
    "ws = Workspace.from_config()\n",
    "\n",
    "print('Workspace name: ' + ws.name, \n",
    "      'Azure region: ' + ws.location, \n",
    "      'Subscription id: ' + ws.subscription_id, \n",
    "      'Resource group: ' + ws.resource_group, sep = '\\n')"
   ]
  },
  {
   "cell_type": "markdown",
   "metadata": {},
   "source": [
    "### Create Experiment"
   ]
  },
  {
   "cell_type": "code",
   "execution_count": 4,
   "metadata": {},
   "outputs": [],
   "source": [
    "# choose a name for experiment\n",
    "experiment_name = 'MS-Malware'\n",
    "project_folder = './automl'\n",
    "\n",
    "experiment=Experiment(ws, experiment_name)"
   ]
  },
  {
   "cell_type": "markdown",
   "metadata": {},
   "source": [
    "## Create/Get Compute Cluster"
   ]
  },
  {
   "cell_type": "code",
   "execution_count": 7,
   "metadata": {},
   "outputs": [
    {
     "name": "stdout",
     "output_type": "stream",
     "text": [
      "Cluster malware-compute exists. Will use this cluster.\n"
     ]
    }
   ],
   "source": [
    "cpu_cluster_name = \"malware-compute\"\n",
    "\n",
    "# if cluster already exists, use it\n",
    "try:\n",
    "    cpu_cluster = ComputeTarget(workspace=ws, name=cpu_cluster_name)\n",
    "    print('Cluster {} exists. Will use this cluster.'.format(cpu_cluster_name))\n",
    "except ComputeTargetException:\n",
    "    compute_config = AmlCompute.provisioning_configuration(vm_size='STANDARD_D2_V2', max_nodes=4)\n",
    "    cpu_cluster = ComputeTarget.create(ws, cpu_cluster_name, compute_config)\n",
    "    \n",
    "    cpu_cluster.wait_for_completion(show_output=True)"
   ]
  },
  {
   "cell_type": "markdown",
   "metadata": {},
   "source": [
    "## Dataset\n",
    "\n",
    "### Overview\n",
    "\n",
    "This data set was taken from the [Microsoft Malware Prediction](https://www.kaggle.com/c/microsoft-malware-prediction) competition run in 2019. \"Microsoft is challenging the data science community to develop techniques to predict if a machine will soon be hit with malware. As with their previous, Malware Challenge (2015), Microsoft is providing Kagglers with an unprecedented malware dataset to encourage open-source progress on effective techniques for predicting malware occurrences.\"  \n",
    "\n",
    "The raw training data set for the competition is very large: 8,921,483 observations (rows), and 83 features (variables), taking up 4.1 GB of space! \n",
    "\n",
    "In order to allow us to complete the tasks for this assignment in a reasonable amount of time, we took a very small subset of the entire train.csv data set -- just 10,000 rows (or about 0.1% of the entire training set). We skimmed off the top 10,000 rows from the data set for use in this project, and put it on our GitHub at https://raw.githubusercontent.com/tybyers/AZMLND_projects/capstone/capstone/data/train_1_10k.csv.\n",
    "\n",
    "### Goal\n",
    "\n",
    "The goal for this project is to predict whether a Windows machine is infected by various families of malware, based on different properties of that machine. Each row in this dataset corresponds to a machine, and has observations from telemetry data generated by WindowsDefender. The `HasDetections` column indicates that Malware was detected on the machine. \n",
    "\n",
    "For our 10,000 row data set, 4,950 machines have no malware detections, and 5,050 machines have malware detections. This is a nice, balanced data set.\n"
   ]
  },
  {
   "cell_type": "code",
   "execution_count": 8,
   "metadata": {},
   "outputs": [
    {
     "data": {
      "text/html": [
       "<div>\n",
       "<style scoped>\n",
       "    .dataframe tbody tr th:only-of-type {\n",
       "        vertical-align: middle;\n",
       "    }\n",
       "\n",
       "    .dataframe tbody tr th {\n",
       "        vertical-align: top;\n",
       "    }\n",
       "\n",
       "    .dataframe thead th {\n",
       "        text-align: right;\n",
       "    }\n",
       "</style>\n",
       "<table border=\"1\" class=\"dataframe\">\n",
       "  <thead>\n",
       "    <tr style=\"text-align: right;\">\n",
       "      <th></th>\n",
       "      <th>ProductName</th>\n",
       "      <th>EngineVersion</th>\n",
       "      <th>AppVersion</th>\n",
       "      <th>AvSigVersion</th>\n",
       "      <th>IsBeta</th>\n",
       "      <th>RtpStateBitfield</th>\n",
       "      <th>IsSxsPassiveMode</th>\n",
       "      <th>DefaultBrowsersIdentifier</th>\n",
       "      <th>AVProductStatesIdentifier</th>\n",
       "      <th>AVProductsInstalled</th>\n",
       "      <th>...</th>\n",
       "      <th>Census_FirmwareVersionIdentifier</th>\n",
       "      <th>Census_IsSecureBootEnabled</th>\n",
       "      <th>Census_IsWIMBootEnabled</th>\n",
       "      <th>Census_IsVirtualDevice</th>\n",
       "      <th>Census_IsTouchEnabled</th>\n",
       "      <th>Census_IsPenCapable</th>\n",
       "      <th>Census_IsAlwaysOnAlwaysConnectedCapable</th>\n",
       "      <th>Wdft_IsGamer</th>\n",
       "      <th>Wdft_RegionIdentifier</th>\n",
       "      <th>HasDetections</th>\n",
       "    </tr>\n",
       "  </thead>\n",
       "  <tbody>\n",
       "    <tr>\n",
       "      <th>0</th>\n",
       "      <td>win8defender</td>\n",
       "      <td>1.1.15100.1</td>\n",
       "      <td>4.18.1807.18075</td>\n",
       "      <td>1.273.1735.0</td>\n",
       "      <td>0</td>\n",
       "      <td>7</td>\n",
       "      <td>0</td>\n",
       "      <td>NA</td>\n",
       "      <td>53447.0</td>\n",
       "      <td>1.0</td>\n",
       "      <td>...</td>\n",
       "      <td>36144</td>\n",
       "      <td>0</td>\n",
       "      <td>NA</td>\n",
       "      <td>0</td>\n",
       "      <td>0</td>\n",
       "      <td>0</td>\n",
       "      <td>0.0</td>\n",
       "      <td>0</td>\n",
       "      <td>10</td>\n",
       "      <td>0</td>\n",
       "    </tr>\n",
       "    <tr>\n",
       "      <th>1</th>\n",
       "      <td>win8defender</td>\n",
       "      <td>1.1.14600.4</td>\n",
       "      <td>4.13.17134.1</td>\n",
       "      <td>1.263.48.0</td>\n",
       "      <td>0</td>\n",
       "      <td>7</td>\n",
       "      <td>0</td>\n",
       "      <td>NA</td>\n",
       "      <td>53447.0</td>\n",
       "      <td>1.0</td>\n",
       "      <td>...</td>\n",
       "      <td>57858</td>\n",
       "      <td>0</td>\n",
       "      <td>NA</td>\n",
       "      <td>0</td>\n",
       "      <td>0</td>\n",
       "      <td>0</td>\n",
       "      <td>0.0</td>\n",
       "      <td>0</td>\n",
       "      <td>8</td>\n",
       "      <td>0</td>\n",
       "    </tr>\n",
       "    <tr>\n",
       "      <th>2</th>\n",
       "      <td>win8defender</td>\n",
       "      <td>1.1.15100.1</td>\n",
       "      <td>4.18.1807.18075</td>\n",
       "      <td>1.273.1341.0</td>\n",
       "      <td>0</td>\n",
       "      <td>7</td>\n",
       "      <td>0</td>\n",
       "      <td>NA</td>\n",
       "      <td>53447.0</td>\n",
       "      <td>1.0</td>\n",
       "      <td>...</td>\n",
       "      <td>52682</td>\n",
       "      <td>0</td>\n",
       "      <td>NA</td>\n",
       "      <td>0</td>\n",
       "      <td>0</td>\n",
       "      <td>0</td>\n",
       "      <td>0.0</td>\n",
       "      <td>0</td>\n",
       "      <td>3</td>\n",
       "      <td>0</td>\n",
       "    </tr>\n",
       "    <tr>\n",
       "      <th>3</th>\n",
       "      <td>win8defender</td>\n",
       "      <td>1.1.15100.1</td>\n",
       "      <td>4.18.1807.18075</td>\n",
       "      <td>1.273.1527.0</td>\n",
       "      <td>0</td>\n",
       "      <td>7</td>\n",
       "      <td>0</td>\n",
       "      <td>NA</td>\n",
       "      <td>53447.0</td>\n",
       "      <td>1.0</td>\n",
       "      <td>...</td>\n",
       "      <td>20050</td>\n",
       "      <td>0</td>\n",
       "      <td>NA</td>\n",
       "      <td>0</td>\n",
       "      <td>0</td>\n",
       "      <td>0</td>\n",
       "      <td>0.0</td>\n",
       "      <td>0</td>\n",
       "      <td>3</td>\n",
       "      <td>1</td>\n",
       "    </tr>\n",
       "    <tr>\n",
       "      <th>4</th>\n",
       "      <td>win8defender</td>\n",
       "      <td>1.1.15100.1</td>\n",
       "      <td>4.18.1807.18075</td>\n",
       "      <td>1.273.1379.0</td>\n",
       "      <td>0</td>\n",
       "      <td>7</td>\n",
       "      <td>0</td>\n",
       "      <td>NA</td>\n",
       "      <td>53447.0</td>\n",
       "      <td>1.0</td>\n",
       "      <td>...</td>\n",
       "      <td>19844</td>\n",
       "      <td>0</td>\n",
       "      <td>0</td>\n",
       "      <td>0</td>\n",
       "      <td>0</td>\n",
       "      <td>0</td>\n",
       "      <td>0.0</td>\n",
       "      <td>0</td>\n",
       "      <td>1</td>\n",
       "      <td>1</td>\n",
       "    </tr>\n",
       "  </tbody>\n",
       "</table>\n",
       "<p>5 rows × 82 columns</p>\n",
       "</div>"
      ],
      "text/plain": [
       "    ProductName EngineVersion       AppVersion  AvSigVersion  IsBeta  \\\n",
       "0  win8defender   1.1.15100.1  4.18.1807.18075  1.273.1735.0       0   \n",
       "1  win8defender   1.1.14600.4     4.13.17134.1    1.263.48.0       0   \n",
       "2  win8defender   1.1.15100.1  4.18.1807.18075  1.273.1341.0       0   \n",
       "3  win8defender   1.1.15100.1  4.18.1807.18075  1.273.1527.0       0   \n",
       "4  win8defender   1.1.15100.1  4.18.1807.18075  1.273.1379.0       0   \n",
       "\n",
       "  RtpStateBitfield  IsSxsPassiveMode DefaultBrowsersIdentifier  \\\n",
       "0                7                 0                        NA   \n",
       "1                7                 0                        NA   \n",
       "2                7                 0                        NA   \n",
       "3                7                 0                        NA   \n",
       "4                7                 0                        NA   \n",
       "\n",
       "   AVProductStatesIdentifier  AVProductsInstalled  ...  \\\n",
       "0                    53447.0                  1.0  ...   \n",
       "1                    53447.0                  1.0  ...   \n",
       "2                    53447.0                  1.0  ...   \n",
       "3                    53447.0                  1.0  ...   \n",
       "4                    53447.0                  1.0  ...   \n",
       "\n",
       "   Census_FirmwareVersionIdentifier  Census_IsSecureBootEnabled  \\\n",
       "0                             36144                           0   \n",
       "1                             57858                           0   \n",
       "2                             52682                           0   \n",
       "3                             20050                           0   \n",
       "4                             19844                           0   \n",
       "\n",
       "   Census_IsWIMBootEnabled Census_IsVirtualDevice Census_IsTouchEnabled  \\\n",
       "0                       NA                      0                     0   \n",
       "1                       NA                      0                     0   \n",
       "2                       NA                      0                     0   \n",
       "3                       NA                      0                     0   \n",
       "4                        0                      0                     0   \n",
       "\n",
       "   Census_IsPenCapable  Census_IsAlwaysOnAlwaysConnectedCapable Wdft_IsGamer  \\\n",
       "0                    0                                      0.0            0   \n",
       "1                    0                                      0.0            0   \n",
       "2                    0                                      0.0            0   \n",
       "3                    0                                      0.0            0   \n",
       "4                    0                                      0.0            0   \n",
       "\n",
       "  Wdft_RegionIdentifier HasDetections  \n",
       "0                    10             0  \n",
       "1                     8             0  \n",
       "2                     3             0  \n",
       "3                     3             1  \n",
       "4                     1             1  \n",
       "\n",
       "[5 rows x 82 columns]"
      ]
     },
     "execution_count": 8,
     "metadata": {},
     "output_type": "execute_result"
    }
   ],
   "source": [
    "# Load Data set\n",
    "data_path = 'https://raw.githubusercontent.com/tybyers/AZMLND_projects/capstone/capstone/data/train_1_10k.csv'\n",
    "dataset = tdf.from_delimited_files(path=data_path)\n",
    "dataset.to_pandas_dataframe().head()"
   ]
  },
  {
   "cell_type": "markdown",
   "metadata": {},
   "source": [
    "## AutoML Configuration\n",
    "\n",
    "Below are the settings and configuration for the AutoML run. Some of the config and settings are straightforward, but we chose other configurations for the following reasons:  \n",
    "\n",
    "  * `experiment_timeout_minutes = 30` -- Opted for 30 minutes so our Udacity-provided labs wouldn't time out, and this seemed to be sufficient to get through the training.  \n",
    "  * `max_concurrent_iterations = 5` -- Runs some iterations in parallel to speed up processing.  \n",
    "  * `primary_metric = 'accuracy'` -- We opted for accuracy here, although AUC would have been a good choice too. Mostly opted for this for simplicity to compare it to the Hyperdrive run.  \n",
    "  * `task = 'classification'` -- Since we're classifying whether a machine is infected or not, this is a natural choice.  \n",
    "  * `label_column_name = 'HasDetections'` - This is the \"target\" column.  \n",
    "  * `enable_early_stopping = True` - No need to keep going if models are doing well enough.  \n",
    "  * `n_cross_validations = 5` - Wanted to do some cross validation. Especially important with a small data set with high cardinality.  "
   ]
  },
  {
   "cell_type": "code",
   "execution_count": 9,
   "metadata": {
    "collapsed": false,
    "gather": {
     "logged": 1598429217746
    },
    "jupyter": {
     "outputs_hidden": false,
     "source_hidden": false
    },
    "nteract": {
     "transient": {
      "deleting": false
     }
    }
   },
   "outputs": [],
   "source": [
    "# TODO: Put your automl settings here\n",
    "automl_settings = {\n",
    "    \"experiment_timeout_minutes\": 30,\n",
    "    \"max_concurrent_iterations\": 5,\n",
    "    \"primary_metric\" : 'accuracy'\n",
    "}\n",
    "\n",
    "# TODO: Put your automl config here\n",
    "automl_config = AutoMLConfig(\n",
    "    compute_target=cpu_cluster,\n",
    "    task=\"classification\",\n",
    "    training_data=dataset,\n",
    "    label_column_name='HasDetections',\n",
    "    enable_early_stopping=True,\n",
    "    path=project_folder,\n",
    "    debug_log='automl_errors.log',\n",
    "    n_cross_validations=5,\n",
    "    **automl_settings\n",
    ")"
   ]
  },
  {
   "cell_type": "code",
   "execution_count": 10,
   "metadata": {
    "collapsed": false,
    "gather": {
     "logged": 1598431107951
    },
    "jupyter": {
     "outputs_hidden": false,
     "source_hidden": false
    },
    "nteract": {
     "transient": {
      "deleting": false
     }
    }
   },
   "outputs": [
    {
     "name": "stdout",
     "output_type": "stream",
     "text": [
      "Running on remote.\n",
      "No run_configuration provided, running on malware-compute with default configuration\n",
      "Running on remote compute: malware-compute\n",
      "Parent Run ID: AutoML_b41a0d8e-8a07-4e82-ac68-cae8152970b4\n",
      "\n",
      "Current status: FeaturesGeneration. Generating features for the dataset.\n",
      "Current status: DatasetFeaturization. Beginning to fit featurizers and featurize the dataset.\n",
      "Current status: DatasetCrossValidationSplit. Generating individually featurized CV splits.\n",
      "Current status: ModelSelection. Beginning model selection.\n",
      "\n",
      "****************************************************************************************************\n",
      "DATA GUARDRAILS: \n",
      "\n",
      "TYPE:         Class balancing detection\n",
      "STATUS:       PASSED\n",
      "DESCRIPTION:  Your inputs were analyzed, and all classes are balanced in your training data.\n",
      "              Learn more about imbalanced data: https://aka.ms/AutomatedMLImbalancedData\n",
      "\n",
      "****************************************************************************************************\n",
      "\n",
      "TYPE:         Missing feature values imputation\n",
      "STATUS:       DONE\n",
      "DESCRIPTION:  If the missing values are expected, let the run complete. Otherwise cancel the current run and use a script to customize the handling of missing feature values that may be more appropriate based on the data type and business requirement.\n",
      "              Learn more about missing value imputation: https://aka.ms/AutomatedMLFeaturization\n",
      "DETAILS:      \n",
      "+---------------------------------+---------------------------------+---------------------------------+\n",
      "|Column name                      |Missing value count              |Imputation type                  |\n",
      "+=================================+=================================+=================================+\n",
      "|AVProductStatesIdentifier        |30                               |mean                             |\n",
      "|AVProductsInstalled              |30                               |mean                             |\n",
      "|AVProductsEnabled                |30                               |mean                             |\n",
      "|IsProtected                      |30                               |mean                             |\n",
      "|Firewall                         |96                               |mean                             |\n",
      "|Census_ProcessorCoreCount        |44                               |mean                             |\n",
      "|Census_ProcessorManufacturerId...|44                               |mean                             |\n",
      "|Census_ProcessorModelIdentifier  |44                               |mean                             |\n",
      "|Census_PrimaryDiskTotalCapacity  |56                               |mean                             |\n",
      "|Census_SystemVolumeTotalCapacity |56                               |mean                             |\n",
      "|Census_IsAlwaysOnAlwaysConnect...|78                               |mean                             |\n",
      "+---------------------------------+---------------------------------+---------------------------------+\n",
      "\n",
      "****************************************************************************************************\n",
      "\n",
      "TYPE:         High cardinality feature detection\n",
      "STATUS:       DONE\n",
      "DESCRIPTION:  High cardinality features were detected in your inputs and handled.\n",
      "              Learn more about high cardinality feature handling: https://aka.ms/AutomatedMLFeaturization\n",
      "DETAILS:      High cardinality features refer to columns that contain a large percentage of unique values.\n",
      "+---------------------------------+---------------------------------+\n",
      "|Column name                      |Column Content Type              |\n",
      "+=================================+=================================+\n",
      "|AvSigVersion                     |categorical_hash                 |\n",
      "|CityIdentifier                   |categorical_hash                 |\n",
      "|OsBuildLab                       |categorical_hash                 |\n",
      "|Census_OEMNameIdentifier         |categorical_hash                 |\n",
      "|Census_OEMModelIdentifier        |categorical_hash                 |\n",
      "|Census_InternalBatteryNumberOf...|categorical_hash                 |\n",
      "|Census_FirmwareVersionIdentifier |categorical_hash                 |\n",
      "+---------------------------------+---------------------------------+\n",
      "\n",
      "****************************************************************************************************\n",
      "\n",
      "****************************************************************************************************\n",
      "ITERATION: The iteration being evaluated.\n",
      "PIPELINE: A summary description of the pipeline being evaluated.\n",
      "DURATION: Time taken for the current iteration.\n",
      "METRIC: The result of computing score on the fitted pipeline.\n",
      "BEST: The best observed score thus far.\n",
      "****************************************************************************************************\n",
      "\n",
      " ITERATION   PIPELINE                                       DURATION      METRIC      BEST\n",
      "         2   MaxAbsScaler RandomForest                      0:00:50       0.5819    0.5819\n",
      "         1   MaxAbsScaler XGBoostClassifier                 0:01:08       0.6240    0.6240\n",
      "         0   MaxAbsScaler LightGBM                          0:00:49       0.6178    0.6240\n",
      "         4   MaxAbsScaler RandomForest                      0:01:00       0.5314    0.6240\n",
      "         7   StandardScalerWrapper XGBoostClassifier        0:00:58       0.6094    0.6240\n",
      "         8   SparseNormalizer XGBoostClassifier             0:01:38       0.6126    0.6240\n",
      "         5   MaxAbsScaler RandomForest                      0:03:18       0.5739    0.6240\n",
      "         3   MaxAbsScaler RandomForest                      0:03:24       0.5545    0.6240\n",
      "         6   StandardScalerWrapper LightGBM                 0:03:34       0.6272    0.6272\n",
      "        12   SparseNormalizer XGBoostClassifier             0:00:45       0.5958    0.6272\n",
      "        10   StandardScalerWrapper RandomForest             0:01:11       0.6140    0.6272\n",
      "        11   MaxAbsScaler RandomForest                      0:00:59       0.6062    0.6272\n",
      "        13   MaxAbsScaler LightGBM                          0:00:57       0.6178    0.6272\n",
      "        15   MaxAbsScaler ExtremeRandomTrees                0:01:21       0.6084    0.6272\n",
      "        14   MaxAbsScaler RandomForest                      0:01:51       0.6110    0.6272\n",
      "        17   MaxAbsScaler LightGBM                          0:00:52       0.6163    0.6272\n",
      "        16   SparseNormalizer XGBoostClassifier             0:01:37       0.6146    0.6272\n",
      "        18   StandardScalerWrapper LightGBM                 0:01:00       0.6078    0.6272\n",
      "         9   MaxAbsScaler LogisticRegression                0:05:20       0.5819    0.6272\n",
      "        19   SparseNormalizer XGBoostClassifier             0:01:14       0.6165    0.6272\n",
      "        20   SparseNormalizer LightGBM                      0:00:56       0.6197    0.6272\n",
      "        23   MaxAbsScaler LightGBM                          0:00:52       0.6085    0.6272\n",
      "        24   MaxAbsScaler LightGBM                          0:00:47       0.6187    0.6272\n",
      "        22   TruncatedSVDWrapper XGBoostClassifier          0:02:05       0.6002    0.6272\n",
      "        25   StandardScalerWrapper LightGBM                 0:00:51       0.5306    0.6272\n",
      "        27   MaxAbsScaler ExtremeRandomTrees                0:01:00       0.6150    0.6272\n",
      "        28   StandardScalerWrapper LightGBM                 0:00:48       0.6100    0.6272\n",
      "        30   MaxAbsScaler LightGBM                          0:00:51       0.6069    0.6272\n",
      "        29   SparseNormalizer XGBoostClassifier             0:01:27       0.6088    0.6272\n",
      "        31   MaxAbsScaler ExtremeRandomTrees                0:01:07       0.5878    0.6272\n",
      "        32   MaxAbsScaler LightGBM                          0:00:49       0.6113    0.6272\n",
      "        26   MaxAbsScaler ExtremeRandomTrees                0:04:10       0.6123    0.6272\n",
      "        33   StandardScalerWrapper LightGBM                 0:00:54       0.6174    0.6272\n",
      "        21   MaxAbsScaler LogisticRegression                0:07:15          nan    0.6272\n",
      "        34   MaxAbsScaler RandomForest                      0:00:57       0.5841    0.6272\n",
      "        35   StandardScalerWrapper LightGBM                 0:00:43       0.5973    0.6272\n",
      "        36                                                  0:00:16          nan    0.6272\n",
      "        37                                                  0:00:19          nan    0.6272\n",
      "        38    VotingEnsemble                                0:01:36       0.6376    0.6376\n",
      "        39    StackEnsemble                                 0:01:52       0.6363    0.6376\n"
     ]
    }
   ],
   "source": [
    "# Submit experiment\n",
    "remote_run = experiment.submit(config=automl_config, show_output=True)"
   ]
  },
  {
   "cell_type": "markdown",
   "metadata": {},
   "source": [
    "## Run Details\n",
    "\n",
    "OPTIONAL: Write about the different models trained and their performance. Why do you think some models did better than others?\n",
    "\n",
    "TODO: In the cell below, use the `RunDetails` widget to show the different experiments."
   ]
  },
  {
   "cell_type": "code",
   "execution_count": 11,
   "metadata": {
    "collapsed": false,
    "gather": {
     "logged": 1598431121770
    },
    "jupyter": {
     "outputs_hidden": false,
     "source_hidden": false
    },
    "nteract": {
     "transient": {
      "deleting": false
     }
    }
   },
   "outputs": [
    {
     "data": {
      "application/vnd.jupyter.widget-view+json": {
       "model_id": "9507fa09b0df48039c938e9e97882a23",
       "version_major": 2,
       "version_minor": 0
      },
      "text/plain": [
       "_AutoMLWidget(widget_settings={'childWidgetDisplay': 'popup', 'send_telemetry': False, 'log_level': 'INFO', 's…"
      ]
     },
     "metadata": {},
     "output_type": "display_data"
    },
    {
     "data": {
      "application/aml.mini.widget.v1": "{\"status\": \"Completed\", \"workbench_run_details_uri\": \"https://ml.azure.com/experiments/MS-Malware/runs/AutoML_b41a0d8e-8a07-4e82-ac68-cae8152970b4?wsid=/subscriptions/610d6e37-4747-4a20-80eb-3aad70a55f43/resourcegroups/aml-quickstarts-133553/workspaces/quick-starts-ws-133553\", \"run_id\": \"AutoML_b41a0d8e-8a07-4e82-ac68-cae8152970b4\", \"run_properties\": {\"run_id\": \"AutoML_b41a0d8e-8a07-4e82-ac68-cae8152970b4\", \"created_utc\": \"2021-01-05T20:35:01.228727Z\", \"properties\": {\"num_iterations\": \"1000\", \"training_type\": \"TrainFull\", \"acquisition_function\": \"EI\", \"primary_metric\": \"accuracy\", \"train_split\": \"0\", \"acquisition_parameter\": \"0\", \"num_cross_validation\": \"5\", \"target\": \"malware-compute\", \"AMLSettingsJsonString\": \"{\\\"path\\\":null,\\\"name\\\":\\\"MS-Malware\\\",\\\"subscription_id\\\":\\\"610d6e37-4747-4a20-80eb-3aad70a55f43\\\",\\\"resource_group\\\":\\\"aml-quickstarts-133553\\\",\\\"workspace_name\\\":\\\"quick-starts-ws-133553\\\",\\\"region\\\":\\\"southcentralus\\\",\\\"compute_target\\\":\\\"malware-compute\\\",\\\"spark_service\\\":null,\\\"azure_service\\\":\\\"remote\\\",\\\"many_models\\\":false,\\\"pipeline_fetch_max_batch_size\\\":1,\\\"iterations\\\":1000,\\\"primary_metric\\\":\\\"accuracy\\\",\\\"task_type\\\":\\\"classification\\\",\\\"data_script\\\":null,\\\"validation_size\\\":0.0,\\\"n_cross_validations\\\":5,\\\"y_min\\\":null,\\\"y_max\\\":null,\\\"num_classes\\\":null,\\\"featurization\\\":\\\"auto\\\",\\\"_ignore_package_version_incompatibilities\\\":false,\\\"is_timeseries\\\":false,\\\"max_cores_per_iteration\\\":1,\\\"max_concurrent_iterations\\\":5,\\\"iteration_timeout_minutes\\\":null,\\\"mem_in_mb\\\":null,\\\"enforce_time_on_windows\\\":false,\\\"experiment_timeout_minutes\\\":30,\\\"experiment_exit_score\\\":null,\\\"whitelist_models\\\":null,\\\"blacklist_algos\\\":[\\\"TensorFlowLinearClassifier\\\",\\\"TensorFlowDNN\\\"],\\\"supported_models\\\":[\\\"MultinomialNaiveBayes\\\",\\\"LightGBM\\\",\\\"TensorFlowLinearClassifier\\\",\\\"ExtremeRandomTrees\\\",\\\"XGBoostClassifier\\\",\\\"DecisionTree\\\",\\\"LinearSVM\\\",\\\"TensorFlowDNN\\\",\\\"BernoulliNaiveBayes\\\",\\\"SGD\\\",\\\"RandomForest\\\",\\\"AveragedPerceptronClassifier\\\",\\\"GradientBoosting\\\",\\\"SVM\\\",\\\"KNN\\\",\\\"LogisticRegression\\\"],\\\"auto_blacklist\\\":true,\\\"blacklist_samples_reached\\\":false,\\\"exclude_nan_labels\\\":true,\\\"verbosity\\\":20,\\\"_debug_log\\\":\\\"azureml_automl.log\\\",\\\"show_warnings\\\":false,\\\"model_explainability\\\":true,\\\"service_url\\\":null,\\\"sdk_url\\\":null,\\\"sdk_packages\\\":null,\\\"enable_onnx_compatible_models\\\":false,\\\"enable_split_onnx_featurizer_estimator_models\\\":false,\\\"vm_type\\\":\\\"STANDARD_D2_V2\\\",\\\"telemetry_verbosity\\\":20,\\\"send_telemetry\\\":true,\\\"enable_dnn\\\":false,\\\"scenario\\\":\\\"SDK-1.13.0\\\",\\\"environment_label\\\":null,\\\"force_text_dnn\\\":false,\\\"enable_feature_sweeping\\\":true,\\\"enable_early_stopping\\\":true,\\\"early_stopping_n_iters\\\":10,\\\"metrics\\\":null,\\\"enable_ensembling\\\":true,\\\"enable_stack_ensembling\\\":true,\\\"ensemble_iterations\\\":15,\\\"enable_tf\\\":false,\\\"enable_subsampling\\\":null,\\\"subsample_seed\\\":null,\\\"enable_nimbusml\\\":false,\\\"enable_streaming\\\":false,\\\"force_streaming\\\":false,\\\"track_child_runs\\\":true,\\\"allowed_private_models\\\":[],\\\"label_column_name\\\":\\\"HasDetections\\\",\\\"weight_column_name\\\":null,\\\"cv_split_column_names\\\":null,\\\"enable_local_managed\\\":false,\\\"_local_managed_run_id\\\":null,\\\"cost_mode\\\":1,\\\"lag_length\\\":0,\\\"metric_operation\\\":\\\"maximize\\\",\\\"preprocess\\\":true}\", \"DataPrepJsonString\": \"{\\\\\\\"training_data\\\\\\\": \\\\\\\"{\\\\\\\\\\\\\\\"blocks\\\\\\\\\\\\\\\": [{\\\\\\\\\\\\\\\"id\\\\\\\\\\\\\\\": \\\\\\\\\\\\\\\"4db8456e-2e05-4ae9-86b5-36fa3124ea04\\\\\\\\\\\\\\\", \\\\\\\\\\\\\\\"type\\\\\\\\\\\\\\\": \\\\\\\\\\\\\\\"Microsoft.DPrep.GetFilesBlock\\\\\\\\\\\\\\\", \\\\\\\\\\\\\\\"arguments\\\\\\\\\\\\\\\": {\\\\\\\\\\\\\\\"isArchive\\\\\\\\\\\\\\\": false, \\\\\\\\\\\\\\\"path\\\\\\\\\\\\\\\": {\\\\\\\\\\\\\\\"target\\\\\\\\\\\\\\\": 4, \\\\\\\\\\\\\\\"resourceDetails\\\\\\\\\\\\\\\": [{\\\\\\\\\\\\\\\"path\\\\\\\\\\\\\\\": \\\\\\\\\\\\\\\"https://raw.githubusercontent.com/tybyers/AZMLND_projects/capstone/capstone/data/train_1_10k.csv\\\\\\\\\\\\\\\"}]}}, \\\\\\\\\\\\\\\"localData\\\\\\\\\\\\\\\": {}, \\\\\\\\\\\\\\\"isEnabled\\\\\\\\\\\\\\\": true, \\\\\\\\\\\\\\\"name\\\\\\\\\\\\\\\": null, \\\\\\\\\\\\\\\"annotation\\\\\\\\\\\\\\\": null}, {\\\\\\\\\\\\\\\"id\\\\\\\\\\\\\\\": \\\\\\\\\\\\\\\"f92b4235-58ea-4571-aa84-4aa630226667\\\\\\\\\\\\\\\", \\\\\\\\\\\\\\\"type\\\\\\\\\\\\\\\": \\\\\\\\\\\\\\\"Microsoft.DPrep.ParseDelimitedBlock\\\\\\\\\\\\\\\", \\\\\\\\\\\\\\\"arguments\\\\\\\\\\\\\\\": {\\\\\\\\\\\\\\\"columnHeadersMode\\\\\\\\\\\\\\\": 3, \\\\\\\\\\\\\\\"fileEncoding\\\\\\\\\\\\\\\": 0, \\\\\\\\\\\\\\\"handleQuotedLineBreaks\\\\\\\\\\\\\\\": false, \\\\\\\\\\\\\\\"preview\\\\\\\\\\\\\\\": false, \\\\\\\\\\\\\\\"separator\\\\\\\\\\\\\\\": \\\\\\\\\\\\\\\",\\\\\\\\\\\\\\\", \\\\\\\\\\\\\\\"skipRows\\\\\\\\\\\\\\\": 0, \\\\\\\\\\\\\\\"skipRowsMode\\\\\\\\\\\\\\\": 0}, \\\\\\\\\\\\\\\"localData\\\\\\\\\\\\\\\": {}, \\\\\\\\\\\\\\\"isEnabled\\\\\\\\\\\\\\\": true, \\\\\\\\\\\\\\\"name\\\\\\\\\\\\\\\": null, \\\\\\\\\\\\\\\"annotation\\\\\\\\\\\\\\\": null}, {\\\\\\\\\\\\\\\"id\\\\\\\\\\\\\\\": \\\\\\\\\\\\\\\"0d1250e7-e8ae-41a9-b344-4f4ad7bf1d56\\\\\\\\\\\\\\\", \\\\\\\\\\\\\\\"type\\\\\\\\\\\\\\\": \\\\\\\\\\\\\\\"Microsoft.DPrep.DropColumnsBlock\\\\\\\\\\\\\\\", \\\\\\\\\\\\\\\"arguments\\\\\\\\\\\\\\\": {\\\\\\\\\\\\\\\"columns\\\\\\\\\\\\\\\": {\\\\\\\\\\\\\\\"type\\\\\\\\\\\\\\\": 0, \\\\\\\\\\\\\\\"details\\\\\\\\\\\\\\\": {\\\\\\\\\\\\\\\"selectedColumns\\\\\\\\\\\\\\\": [\\\\\\\\\\\\\\\"Path\\\\\\\\\\\\\\\"]}}}, \\\\\\\\\\\\\\\"localData\\\\\\\\\\\\\\\": {}, \\\\\\\\\\\\\\\"isEnabled\\\\\\\\\\\\\\\": true, \\\\\\\\\\\\\\\"name\\\\\\\\\\\\\\\": null, \\\\\\\\\\\\\\\"annotation\\\\\\\\\\\\\\\": null}, {\\\\\\\\\\\\\\\"id\\\\\\\\\\\\\\\": \\\\\\\\\\\\\\\"930e5018-863b-49b2-b84b-055e1b34751a\\\\\\\\\\\\\\\", \\\\\\\\\\\\\\\"type\\\\\\\\\\\\\\\": \\\\\\\\\\\\\\\"Microsoft.DPrep.SetColumnTypesBlock\\\\\\\\\\\\\\\", \\\\\\\\\\\\\\\"arguments\\\\\\\\\\\\\\\": {\\\\\\\\\\\\\\\"columnConversion\\\\\\\\\\\\\\\": [{\\\\\\\\\\\\\\\"column\\\\\\\\\\\\\\\": {\\\\\\\\\\\\\\\"type\\\\\\\\\\\\\\\": 2, \\\\\\\\\\\\\\\"details\\\\\\\\\\\\\\\": {\\\\\\\\\\\\\\\"selectedColumn\\\\\\\\\\\\\\\": \\\\\\\\\\\\\\\"ProductName\\\\\\\\\\\\\\\"}}, \\\\\\\\\\\\\\\"typeProperty\\\\\\\\\\\\\\\": 0}, {\\\\\\\\\\\\\\\"column\\\\\\\\\\\\\\\": {\\\\\\\\\\\\\\\"type\\\\\\\\\\\\\\\": 2, \\\\\\\\\\\\\\\"details\\\\\\\\\\\\\\\": {\\\\\\\\\\\\\\\"selectedColumn\\\\\\\\\\\\\\\": \\\\\\\\\\\\\\\"EngineVersion\\\\\\\\\\\\\\\"}}, \\\\\\\\\\\\\\\"typeProperty\\\\\\\\\\\\\\\": 0}, {\\\\\\\\\\\\\\\"column\\\\\\\\\\\\\\\": {\\\\\\\\\\\\\\\"type\\\\\\\\\\\\\\\": 2, \\\\\\\\\\\\\\\"details\\\\\\\\\\\\\\\": {\\\\\\\\\\\\\\\"selectedColumn\\\\\\\\\\\\\\\": \\\\\\\\\\\\\\\"AppVersion\\\\\\\\\\\\\\\"}}, \\\\\\\\\\\\\\\"typeProperty\\\\\\\\\\\\\\\": 0}, {\\\\\\\\\\\\\\\"column\\\\\\\\\\\\\\\": {\\\\\\\\\\\\\\\"type\\\\\\\\\\\\\\\": 2, \\\\\\\\\\\\\\\"details\\\\\\\\\\\\\\\": {\\\\\\\\\\\\\\\"selectedColumn\\\\\\\\\\\\\\\": \\\\\\\\\\\\\\\"AvSigVersion\\\\\\\\\\\\\\\"}}, \\\\\\\\\\\\\\\"typeProperty\\\\\\\\\\\\\\\": 0}, {\\\\\\\\\\\\\\\"column\\\\\\\\\\\\\\\": {\\\\\\\\\\\\\\\"type\\\\\\\\\\\\\\\": 2, \\\\\\\\\\\\\\\"details\\\\\\\\\\\\\\\": {\\\\\\\\\\\\\\\"selectedColumn\\\\\\\\\\\\\\\": \\\\\\\\\\\\\\\"IsBeta\\\\\\\\\\\\\\\"}}, \\\\\\\\\\\\\\\"typeProperty\\\\\\\\\\\\\\\": 2}, {\\\\\\\\\\\\\\\"column\\\\\\\\\\\\\\\": {\\\\\\\\\\\\\\\"type\\\\\\\\\\\\\\\": 2, \\\\\\\\\\\\\\\"details\\\\\\\\\\\\\\\": {\\\\\\\\\\\\\\\"selectedColumn\\\\\\\\\\\\\\\": \\\\\\\\\\\\\\\"RtpStateBitfield\\\\\\\\\\\\\\\"}}, \\\\\\\\\\\\\\\"typeProperty\\\\\\\\\\\\\\\": 0}, {\\\\\\\\\\\\\\\"column\\\\\\\\\\\\\\\": {\\\\\\\\\\\\\\\"type\\\\\\\\\\\\\\\": 2, \\\\\\\\\\\\\\\"details\\\\\\\\\\\\\\\": {\\\\\\\\\\\\\\\"selectedColumn\\\\\\\\\\\\\\\": \\\\\\\\\\\\\\\"IsSxsPassiveMode\\\\\\\\\\\\\\\"}}, \\\\\\\\\\\\\\\"typeProperty\\\\\\\\\\\\\\\": 2}, {\\\\\\\\\\\\\\\"column\\\\\\\\\\\\\\\": {\\\\\\\\\\\\\\\"type\\\\\\\\\\\\\\\": 2, \\\\\\\\\\\\\\\"details\\\\\\\\\\\\\\\": {\\\\\\\\\\\\\\\"selectedColumn\\\\\\\\\\\\\\\": \\\\\\\\\\\\\\\"DefaultBrowsersIdentifier\\\\\\\\\\\\\\\"}}, \\\\\\\\\\\\\\\"typeProperty\\\\\\\\\\\\\\\": 0}, {\\\\\\\\\\\\\\\"column\\\\\\\\\\\\\\\": {\\\\\\\\\\\\\\\"type\\\\\\\\\\\\\\\": 2, \\\\\\\\\\\\\\\"details\\\\\\\\\\\\\\\": {\\\\\\\\\\\\\\\"selectedColumn\\\\\\\\\\\\\\\": \\\\\\\\\\\\\\\"AVProductStatesIdentifier\\\\\\\\\\\\\\\"}}, \\\\\\\\\\\\\\\"typeProperty\\\\\\\\\\\\\\\": 2}, {\\\\\\\\\\\\\\\"column\\\\\\\\\\\\\\\": {\\\\\\\\\\\\\\\"type\\\\\\\\\\\\\\\": 2, \\\\\\\\\\\\\\\"details\\\\\\\\\\\\\\\": {\\\\\\\\\\\\\\\"selectedColumn\\\\\\\\\\\\\\\": \\\\\\\\\\\\\\\"AVProductsInstalled\\\\\\\\\\\\\\\"}}, \\\\\\\\\\\\\\\"typeProperty\\\\\\\\\\\\\\\": 2}, {\\\\\\\\\\\\\\\"column\\\\\\\\\\\\\\\": {\\\\\\\\\\\\\\\"type\\\\\\\\\\\\\\\": 2, \\\\\\\\\\\\\\\"details\\\\\\\\\\\\\\\": {\\\\\\\\\\\\\\\"selectedColumn\\\\\\\\\\\\\\\": \\\\\\\\\\\\\\\"AVProductsEnabled\\\\\\\\\\\\\\\"}}, \\\\\\\\\\\\\\\"typeProperty\\\\\\\\\\\\\\\": 2}, {\\\\\\\\\\\\\\\"column\\\\\\\\\\\\\\\": {\\\\\\\\\\\\\\\"type\\\\\\\\\\\\\\\": 2, \\\\\\\\\\\\\\\"details\\\\\\\\\\\\\\\": {\\\\\\\\\\\\\\\"selectedColumn\\\\\\\\\\\\\\\": \\\\\\\\\\\\\\\"HasTpm\\\\\\\\\\\\\\\"}}, \\\\\\\\\\\\\\\"typeProperty\\\\\\\\\\\\\\\": 2}, {\\\\\\\\\\\\\\\"column\\\\\\\\\\\\\\\": {\\\\\\\\\\\\\\\"type\\\\\\\\\\\\\\\": 2, \\\\\\\\\\\\\\\"details\\\\\\\\\\\\\\\": {\\\\\\\\\\\\\\\"selectedColumn\\\\\\\\\\\\\\\": \\\\\\\\\\\\\\\"CountryIdentifier\\\\\\\\\\\\\\\"}}, \\\\\\\\\\\\\\\"typeProperty\\\\\\\\\\\\\\\": 2}, {\\\\\\\\\\\\\\\"column\\\\\\\\\\\\\\\": {\\\\\\\\\\\\\\\"type\\\\\\\\\\\\\\\": 2, \\\\\\\\\\\\\\\"details\\\\\\\\\\\\\\\": {\\\\\\\\\\\\\\\"selectedColumn\\\\\\\\\\\\\\\": \\\\\\\\\\\\\\\"CityIdentifier\\\\\\\\\\\\\\\"}}, \\\\\\\\\\\\\\\"typeProperty\\\\\\\\\\\\\\\": 0}, {\\\\\\\\\\\\\\\"column\\\\\\\\\\\\\\\": {\\\\\\\\\\\\\\\"type\\\\\\\\\\\\\\\": 2, \\\\\\\\\\\\\\\"details\\\\\\\\\\\\\\\": {\\\\\\\\\\\\\\\"selectedColumn\\\\\\\\\\\\\\\": \\\\\\\\\\\\\\\"OrganizationIdentifier\\\\\\\\\\\\\\\"}}, \\\\\\\\\\\\\\\"typeProperty\\\\\\\\\\\\\\\": 0}, {\\\\\\\\\\\\\\\"column\\\\\\\\\\\\\\\": {\\\\\\\\\\\\\\\"type\\\\\\\\\\\\\\\": 2, \\\\\\\\\\\\\\\"details\\\\\\\\\\\\\\\": {\\\\\\\\\\\\\\\"selectedColumn\\\\\\\\\\\\\\\": \\\\\\\\\\\\\\\"GeoNameIdentifier\\\\\\\\\\\\\\\"}}, \\\\\\\\\\\\\\\"typeProperty\\\\\\\\\\\\\\\": 2}, {\\\\\\\\\\\\\\\"column\\\\\\\\\\\\\\\": {\\\\\\\\\\\\\\\"type\\\\\\\\\\\\\\\": 2, \\\\\\\\\\\\\\\"details\\\\\\\\\\\\\\\": {\\\\\\\\\\\\\\\"selectedColumn\\\\\\\\\\\\\\\": \\\\\\\\\\\\\\\"LocaleEnglishNameIdentifier\\\\\\\\\\\\\\\"}}, \\\\\\\\\\\\\\\"typeProperty\\\\\\\\\\\\\\\": 2}, {\\\\\\\\\\\\\\\"column\\\\\\\\\\\\\\\": {\\\\\\\\\\\\\\\"type\\\\\\\\\\\\\\\": 2, \\\\\\\\\\\\\\\"details\\\\\\\\\\\\\\\": {\\\\\\\\\\\\\\\"selectedColumn\\\\\\\\\\\\\\\": \\\\\\\\\\\\\\\"Platform\\\\\\\\\\\\\\\"}}, \\\\\\\\\\\\\\\"typeProperty\\\\\\\\\\\\\\\": 0}, {\\\\\\\\\\\\\\\"column\\\\\\\\\\\\\\\": {\\\\\\\\\\\\\\\"type\\\\\\\\\\\\\\\": 2, \\\\\\\\\\\\\\\"details\\\\\\\\\\\\\\\": {\\\\\\\\\\\\\\\"selectedColumn\\\\\\\\\\\\\\\": \\\\\\\\\\\\\\\"Processor\\\\\\\\\\\\\\\"}}, \\\\\\\\\\\\\\\"typeProperty\\\\\\\\\\\\\\\": 0}, {\\\\\\\\\\\\\\\"column\\\\\\\\\\\\\\\": {\\\\\\\\\\\\\\\"type\\\\\\\\\\\\\\\": 2, \\\\\\\\\\\\\\\"details\\\\\\\\\\\\\\\": {\\\\\\\\\\\\\\\"selectedColumn\\\\\\\\\\\\\\\": \\\\\\\\\\\\\\\"OsVer\\\\\\\\\\\\\\\"}}, \\\\\\\\\\\\\\\"typeProperty\\\\\\\\\\\\\\\": 0}, {\\\\\\\\\\\\\\\"column\\\\\\\\\\\\\\\": {\\\\\\\\\\\\\\\"type\\\\\\\\\\\\\\\": 2, \\\\\\\\\\\\\\\"details\\\\\\\\\\\\\\\": {\\\\\\\\\\\\\\\"selectedColumn\\\\\\\\\\\\\\\": \\\\\\\\\\\\\\\"OsBuild\\\\\\\\\\\\\\\"}}, \\\\\\\\\\\\\\\"typeProperty\\\\\\\\\\\\\\\": 2}, {\\\\\\\\\\\\\\\"column\\\\\\\\\\\\\\\": {\\\\\\\\\\\\\\\"type\\\\\\\\\\\\\\\": 2, \\\\\\\\\\\\\\\"details\\\\\\\\\\\\\\\": {\\\\\\\\\\\\\\\"selectedColumn\\\\\\\\\\\\\\\": \\\\\\\\\\\\\\\"OsSuite\\\\\\\\\\\\\\\"}}, \\\\\\\\\\\\\\\"typeProperty\\\\\\\\\\\\\\\": 2}, {\\\\\\\\\\\\\\\"column\\\\\\\\\\\\\\\": {\\\\\\\\\\\\\\\"type\\\\\\\\\\\\\\\": 2, \\\\\\\\\\\\\\\"details\\\\\\\\\\\\\\\": {\\\\\\\\\\\\\\\"selectedColumn\\\\\\\\\\\\\\\": \\\\\\\\\\\\\\\"OsPlatformSubRelease\\\\\\\\\\\\\\\"}}, \\\\\\\\\\\\\\\"typeProperty\\\\\\\\\\\\\\\": 0}, {\\\\\\\\\\\\\\\"column\\\\\\\\\\\\\\\": {\\\\\\\\\\\\\\\"type\\\\\\\\\\\\\\\": 2, \\\\\\\\\\\\\\\"details\\\\\\\\\\\\\\\": {\\\\\\\\\\\\\\\"selectedColumn\\\\\\\\\\\\\\\": \\\\\\\\\\\\\\\"OsBuildLab\\\\\\\\\\\\\\\"}}, \\\\\\\\\\\\\\\"typeProperty\\\\\\\\\\\\\\\": 0}, {\\\\\\\\\\\\\\\"column\\\\\\\\\\\\\\\": {\\\\\\\\\\\\\\\"type\\\\\\\\\\\\\\\": 2, \\\\\\\\\\\\\\\"details\\\\\\\\\\\\\\\": {\\\\\\\\\\\\\\\"selectedColumn\\\\\\\\\\\\\\\": \\\\\\\\\\\\\\\"SkuEdition\\\\\\\\\\\\\\\"}}, \\\\\\\\\\\\\\\"typeProperty\\\\\\\\\\\\\\\": 0}, {\\\\\\\\\\\\\\\"column\\\\\\\\\\\\\\\": {\\\\\\\\\\\\\\\"type\\\\\\\\\\\\\\\": 2, \\\\\\\\\\\\\\\"details\\\\\\\\\\\\\\\": {\\\\\\\\\\\\\\\"selectedColumn\\\\\\\\\\\\\\\": \\\\\\\\\\\\\\\"IsProtected\\\\\\\\\\\\\\\"}}, \\\\\\\\\\\\\\\"typeProperty\\\\\\\\\\\\\\\": 2}, {\\\\\\\\\\\\\\\"column\\\\\\\\\\\\\\\": {\\\\\\\\\\\\\\\"type\\\\\\\\\\\\\\\": 2, \\\\\\\\\\\\\\\"details\\\\\\\\\\\\\\\": {\\\\\\\\\\\\\\\"selectedColumn\\\\\\\\\\\\\\\": \\\\\\\\\\\\\\\"AutoSampleOptIn\\\\\\\\\\\\\\\"}}, \\\\\\\\\\\\\\\"typeProperty\\\\\\\\\\\\\\\": 2}, {\\\\\\\\\\\\\\\"column\\\\\\\\\\\\\\\": {\\\\\\\\\\\\\\\"type\\\\\\\\\\\\\\\": 2, \\\\\\\\\\\\\\\"details\\\\\\\\\\\\\\\": {\\\\\\\\\\\\\\\"selectedColumn\\\\\\\\\\\\\\\": \\\\\\\\\\\\\\\"PuaMode\\\\\\\\\\\\\\\"}}, \\\\\\\\\\\\\\\"typeProperty\\\\\\\\\\\\\\\": 0}, {\\\\\\\\\\\\\\\"column\\\\\\\\\\\\\\\": {\\\\\\\\\\\\\\\"type\\\\\\\\\\\\\\\": 2, \\\\\\\\\\\\\\\"details\\\\\\\\\\\\\\\": {\\\\\\\\\\\\\\\"selectedColumn\\\\\\\\\\\\\\\": \\\\\\\\\\\\\\\"SMode\\\\\\\\\\\\\\\"}}, \\\\\\\\\\\\\\\"typeProperty\\\\\\\\\\\\\\\": 0}, {\\\\\\\\\\\\\\\"column\\\\\\\\\\\\\\\": {\\\\\\\\\\\\\\\"type\\\\\\\\\\\\\\\": 2, \\\\\\\\\\\\\\\"details\\\\\\\\\\\\\\\": {\\\\\\\\\\\\\\\"selectedColumn\\\\\\\\\\\\\\\": \\\\\\\\\\\\\\\"IeVerIdentifier\\\\\\\\\\\\\\\"}}, \\\\\\\\\\\\\\\"typeProperty\\\\\\\\\\\\\\\": 0}, {\\\\\\\\\\\\\\\"column\\\\\\\\\\\\\\\": {\\\\\\\\\\\\\\\"type\\\\\\\\\\\\\\\": 2, \\\\\\\\\\\\\\\"details\\\\\\\\\\\\\\\": {\\\\\\\\\\\\\\\"selectedColumn\\\\\\\\\\\\\\\": \\\\\\\\\\\\\\\"SmartScreen\\\\\\\\\\\\\\\"}}, \\\\\\\\\\\\\\\"typeProperty\\\\\\\\\\\\\\\": 0}, {\\\\\\\\\\\\\\\"column\\\\\\\\\\\\\\\": {\\\\\\\\\\\\\\\"type\\\\\\\\\\\\\\\": 2, \\\\\\\\\\\\\\\"details\\\\\\\\\\\\\\\": {\\\\\\\\\\\\\\\"selectedColumn\\\\\\\\\\\\\\\": \\\\\\\\\\\\\\\"Firewall\\\\\\\\\\\\\\\"}}, \\\\\\\\\\\\\\\"typeProperty\\\\\\\\\\\\\\\": 2}, {\\\\\\\\\\\\\\\"column\\\\\\\\\\\\\\\": {\\\\\\\\\\\\\\\"type\\\\\\\\\\\\\\\": 2, \\\\\\\\\\\\\\\"details\\\\\\\\\\\\\\\": {\\\\\\\\\\\\\\\"selectedColumn\\\\\\\\\\\\\\\": \\\\\\\\\\\\\\\"UacLuaenable\\\\\\\\\\\\\\\"}}, \\\\\\\\\\\\\\\"typeProperty\\\\\\\\\\\\\\\": 0}, {\\\\\\\\\\\\\\\"column\\\\\\\\\\\\\\\": {\\\\\\\\\\\\\\\"type\\\\\\\\\\\\\\\": 2, \\\\\\\\\\\\\\\"details\\\\\\\\\\\\\\\": {\\\\\\\\\\\\\\\"selectedColumn\\\\\\\\\\\\\\\": \\\\\\\\\\\\\\\"Census_MDC2FormFactor\\\\\\\\\\\\\\\"}}, \\\\\\\\\\\\\\\"typeProperty\\\\\\\\\\\\\\\": 0}, {\\\\\\\\\\\\\\\"column\\\\\\\\\\\\\\\": {\\\\\\\\\\\\\\\"type\\\\\\\\\\\\\\\": 2, \\\\\\\\\\\\\\\"details\\\\\\\\\\\\\\\": {\\\\\\\\\\\\\\\"selectedColumn\\\\\\\\\\\\\\\": \\\\\\\\\\\\\\\"Census_DeviceFamily\\\\\\\\\\\\\\\"}}, \\\\\\\\\\\\\\\"typeProperty\\\\\\\\\\\\\\\": 0}, {\\\\\\\\\\\\\\\"column\\\\\\\\\\\\\\\": {\\\\\\\\\\\\\\\"type\\\\\\\\\\\\\\\": 2, \\\\\\\\\\\\\\\"details\\\\\\\\\\\\\\\": {\\\\\\\\\\\\\\\"selectedColumn\\\\\\\\\\\\\\\": \\\\\\\\\\\\\\\"Census_OEMNameIdentifier\\\\\\\\\\\\\\\"}}, \\\\\\\\\\\\\\\"typeProperty\\\\\\\\\\\\\\\": 0}, {\\\\\\\\\\\\\\\"column\\\\\\\\\\\\\\\": {\\\\\\\\\\\\\\\"type\\\\\\\\\\\\\\\": 2, \\\\\\\\\\\\\\\"details\\\\\\\\\\\\\\\": {\\\\\\\\\\\\\\\"selectedColumn\\\\\\\\\\\\\\\": \\\\\\\\\\\\\\\"Census_OEMModelIdentifier\\\\\\\\\\\\\\\"}}, \\\\\\\\\\\\\\\"typeProperty\\\\\\\\\\\\\\\": 0}, {\\\\\\\\\\\\\\\"column\\\\\\\\\\\\\\\": {\\\\\\\\\\\\\\\"type\\\\\\\\\\\\\\\": 2, \\\\\\\\\\\\\\\"details\\\\\\\\\\\\\\\": {\\\\\\\\\\\\\\\"selectedColumn\\\\\\\\\\\\\\\": \\\\\\\\\\\\\\\"Census_ProcessorCoreCount\\\\\\\\\\\\\\\"}}, \\\\\\\\\\\\\\\"typeProperty\\\\\\\\\\\\\\\": 2}, {\\\\\\\\\\\\\\\"column\\\\\\\\\\\\\\\": {\\\\\\\\\\\\\\\"type\\\\\\\\\\\\\\\": 2, \\\\\\\\\\\\\\\"details\\\\\\\\\\\\\\\": {\\\\\\\\\\\\\\\"selectedColumn\\\\\\\\\\\\\\\": \\\\\\\\\\\\\\\"Census_ProcessorManufacturerIdentifier\\\\\\\\\\\\\\\"}}, \\\\\\\\\\\\\\\"typeProperty\\\\\\\\\\\\\\\": 2}, {\\\\\\\\\\\\\\\"column\\\\\\\\\\\\\\\": {\\\\\\\\\\\\\\\"type\\\\\\\\\\\\\\\": 2, \\\\\\\\\\\\\\\"details\\\\\\\\\\\\\\\": {\\\\\\\\\\\\\\\"selectedColumn\\\\\\\\\\\\\\\": \\\\\\\\\\\\\\\"Census_ProcessorModelIdentifier\\\\\\\\\\\\\\\"}}, \\\\\\\\\\\\\\\"typeProperty\\\\\\\\\\\\\\\": 2}, {\\\\\\\\\\\\\\\"column\\\\\\\\\\\\\\\": {\\\\\\\\\\\\\\\"type\\\\\\\\\\\\\\\": 2, \\\\\\\\\\\\\\\"details\\\\\\\\\\\\\\\": {\\\\\\\\\\\\\\\"selectedColumn\\\\\\\\\\\\\\\": \\\\\\\\\\\\\\\"Census_ProcessorClass\\\\\\\\\\\\\\\"}}, \\\\\\\\\\\\\\\"typeProperty\\\\\\\\\\\\\\\": 0}, {\\\\\\\\\\\\\\\"column\\\\\\\\\\\\\\\": {\\\\\\\\\\\\\\\"type\\\\\\\\\\\\\\\": 2, \\\\\\\\\\\\\\\"details\\\\\\\\\\\\\\\": {\\\\\\\\\\\\\\\"selectedColumn\\\\\\\\\\\\\\\": \\\\\\\\\\\\\\\"Census_PrimaryDiskTotalCapacity\\\\\\\\\\\\\\\"}}, \\\\\\\\\\\\\\\"typeProperty\\\\\\\\\\\\\\\": 2}, {\\\\\\\\\\\\\\\"column\\\\\\\\\\\\\\\": {\\\\\\\\\\\\\\\"type\\\\\\\\\\\\\\\": 2, \\\\\\\\\\\\\\\"details\\\\\\\\\\\\\\\": {\\\\\\\\\\\\\\\"selectedColumn\\\\\\\\\\\\\\\": \\\\\\\\\\\\\\\"Census_PrimaryDiskTypeName\\\\\\\\\\\\\\\"}}, \\\\\\\\\\\\\\\"typeProperty\\\\\\\\\\\\\\\": 0}, {\\\\\\\\\\\\\\\"column\\\\\\\\\\\\\\\": {\\\\\\\\\\\\\\\"type\\\\\\\\\\\\\\\": 2, \\\\\\\\\\\\\\\"details\\\\\\\\\\\\\\\": {\\\\\\\\\\\\\\\"selectedColumn\\\\\\\\\\\\\\\": \\\\\\\\\\\\\\\"Census_SystemVolumeTotalCapacity\\\\\\\\\\\\\\\"}}, \\\\\\\\\\\\\\\"typeProperty\\\\\\\\\\\\\\\": 2}, {\\\\\\\\\\\\\\\"column\\\\\\\\\\\\\\\": {\\\\\\\\\\\\\\\"type\\\\\\\\\\\\\\\": 2, \\\\\\\\\\\\\\\"details\\\\\\\\\\\\\\\": {\\\\\\\\\\\\\\\"selectedColumn\\\\\\\\\\\\\\\": \\\\\\\\\\\\\\\"Census_HasOpticalDiskDrive\\\\\\\\\\\\\\\"}}, \\\\\\\\\\\\\\\"typeProperty\\\\\\\\\\\\\\\": 2}, {\\\\\\\\\\\\\\\"column\\\\\\\\\\\\\\\": {\\\\\\\\\\\\\\\"type\\\\\\\\\\\\\\\": 2, \\\\\\\\\\\\\\\"details\\\\\\\\\\\\\\\": {\\\\\\\\\\\\\\\"selectedColumn\\\\\\\\\\\\\\\": \\\\\\\\\\\\\\\"Census_TotalPhysicalRAM\\\\\\\\\\\\\\\"}}, \\\\\\\\\\\\\\\"typeProperty\\\\\\\\\\\\\\\": 0}, {\\\\\\\\\\\\\\\"column\\\\\\\\\\\\\\\": {\\\\\\\\\\\\\\\"type\\\\\\\\\\\\\\\": 2, \\\\\\\\\\\\\\\"details\\\\\\\\\\\\\\\": {\\\\\\\\\\\\\\\"selectedColumn\\\\\\\\\\\\\\\": \\\\\\\\\\\\\\\"Census_ChassisTypeName\\\\\\\\\\\\\\\"}}, \\\\\\\\\\\\\\\"typeProperty\\\\\\\\\\\\\\\": 0}, {\\\\\\\\\\\\\\\"column\\\\\\\\\\\\\\\": {\\\\\\\\\\\\\\\"type\\\\\\\\\\\\\\\": 2, \\\\\\\\\\\\\\\"details\\\\\\\\\\\\\\\": {\\\\\\\\\\\\\\\"selectedColumn\\\\\\\\\\\\\\\": \\\\\\\\\\\\\\\"Census_InternalPrimaryDiagonalDisplaySizeInInches\\\\\\\\\\\\\\\"}}, \\\\\\\\\\\\\\\"typeProperty\\\\\\\\\\\\\\\": 0}, {\\\\\\\\\\\\\\\"column\\\\\\\\\\\\\\\": {\\\\\\\\\\\\\\\"type\\\\\\\\\\\\\\\": 2, \\\\\\\\\\\\\\\"details\\\\\\\\\\\\\\\": {\\\\\\\\\\\\\\\"selectedColumn\\\\\\\\\\\\\\\": \\\\\\\\\\\\\\\"Census_InternalPrimaryDisplayResolutionHorizontal\\\\\\\\\\\\\\\"}}, \\\\\\\\\\\\\\\"typeProperty\\\\\\\\\\\\\\\": 0}, {\\\\\\\\\\\\\\\"column\\\\\\\\\\\\\\\": {\\\\\\\\\\\\\\\"type\\\\\\\\\\\\\\\": 2, \\\\\\\\\\\\\\\"details\\\\\\\\\\\\\\\": {\\\\\\\\\\\\\\\"selectedColumn\\\\\\\\\\\\\\\": \\\\\\\\\\\\\\\"Census_InternalPrimaryDisplayResolutionVertical\\\\\\\\\\\\\\\"}}, \\\\\\\\\\\\\\\"typeProperty\\\\\\\\\\\\\\\": 0}, {\\\\\\\\\\\\\\\"column\\\\\\\\\\\\\\\": {\\\\\\\\\\\\\\\"type\\\\\\\\\\\\\\\": 2, \\\\\\\\\\\\\\\"details\\\\\\\\\\\\\\\": {\\\\\\\\\\\\\\\"selectedColumn\\\\\\\\\\\\\\\": \\\\\\\\\\\\\\\"Census_PowerPlatformRoleName\\\\\\\\\\\\\\\"}}, \\\\\\\\\\\\\\\"typeProperty\\\\\\\\\\\\\\\": 0}, {\\\\\\\\\\\\\\\"column\\\\\\\\\\\\\\\": {\\\\\\\\\\\\\\\"type\\\\\\\\\\\\\\\": 2, \\\\\\\\\\\\\\\"details\\\\\\\\\\\\\\\": {\\\\\\\\\\\\\\\"selectedColumn\\\\\\\\\\\\\\\": \\\\\\\\\\\\\\\"Census_InternalBatteryType\\\\\\\\\\\\\\\"}}, \\\\\\\\\\\\\\\"typeProperty\\\\\\\\\\\\\\\": 0}, {\\\\\\\\\\\\\\\"column\\\\\\\\\\\\\\\": {\\\\\\\\\\\\\\\"type\\\\\\\\\\\\\\\": 2, \\\\\\\\\\\\\\\"details\\\\\\\\\\\\\\\": {\\\\\\\\\\\\\\\"selectedColumn\\\\\\\\\\\\\\\": \\\\\\\\\\\\\\\"Census_InternalBatteryNumberOfCharges\\\\\\\\\\\\\\\"}}, \\\\\\\\\\\\\\\"typeProperty\\\\\\\\\\\\\\\": 0}, {\\\\\\\\\\\\\\\"column\\\\\\\\\\\\\\\": {\\\\\\\\\\\\\\\"type\\\\\\\\\\\\\\\": 2, \\\\\\\\\\\\\\\"details\\\\\\\\\\\\\\\": {\\\\\\\\\\\\\\\"selectedColumn\\\\\\\\\\\\\\\": \\\\\\\\\\\\\\\"Census_OSVersion\\\\\\\\\\\\\\\"}}, \\\\\\\\\\\\\\\"typeProperty\\\\\\\\\\\\\\\": 0}, {\\\\\\\\\\\\\\\"column\\\\\\\\\\\\\\\": {\\\\\\\\\\\\\\\"type\\\\\\\\\\\\\\\": 2, \\\\\\\\\\\\\\\"details\\\\\\\\\\\\\\\": {\\\\\\\\\\\\\\\"selectedColumn\\\\\\\\\\\\\\\": \\\\\\\\\\\\\\\"Census_OSArchitecture\\\\\\\\\\\\\\\"}}, \\\\\\\\\\\\\\\"typeProperty\\\\\\\\\\\\\\\": 0}, {\\\\\\\\\\\\\\\"column\\\\\\\\\\\\\\\": {\\\\\\\\\\\\\\\"type\\\\\\\\\\\\\\\": 2, \\\\\\\\\\\\\\\"details\\\\\\\\\\\\\\\": {\\\\\\\\\\\\\\\"selectedColumn\\\\\\\\\\\\\\\": \\\\\\\\\\\\\\\"Census_OSBranch\\\\\\\\\\\\\\\"}}, \\\\\\\\\\\\\\\"typeProperty\\\\\\\\\\\\\\\": 0}, {\\\\\\\\\\\\\\\"column\\\\\\\\\\\\\\\": {\\\\\\\\\\\\\\\"type\\\\\\\\\\\\\\\": 2, \\\\\\\\\\\\\\\"details\\\\\\\\\\\\\\\": {\\\\\\\\\\\\\\\"selectedColumn\\\\\\\\\\\\\\\": \\\\\\\\\\\\\\\"Census_OSBuildNumber\\\\\\\\\\\\\\\"}}, \\\\\\\\\\\\\\\"typeProperty\\\\\\\\\\\\\\\": 2}, {\\\\\\\\\\\\\\\"column\\\\\\\\\\\\\\\": {\\\\\\\\\\\\\\\"type\\\\\\\\\\\\\\\": 2, \\\\\\\\\\\\\\\"details\\\\\\\\\\\\\\\": {\\\\\\\\\\\\\\\"selectedColumn\\\\\\\\\\\\\\\": \\\\\\\\\\\\\\\"Census_OSBuildRevision\\\\\\\\\\\\\\\"}}, \\\\\\\\\\\\\\\"typeProperty\\\\\\\\\\\\\\\": 2}, {\\\\\\\\\\\\\\\"column\\\\\\\\\\\\\\\": {\\\\\\\\\\\\\\\"type\\\\\\\\\\\\\\\": 2, \\\\\\\\\\\\\\\"details\\\\\\\\\\\\\\\": {\\\\\\\\\\\\\\\"selectedColumn\\\\\\\\\\\\\\\": \\\\\\\\\\\\\\\"Census_OSEdition\\\\\\\\\\\\\\\"}}, \\\\\\\\\\\\\\\"typeProperty\\\\\\\\\\\\\\\": 0}, {\\\\\\\\\\\\\\\"column\\\\\\\\\\\\\\\": {\\\\\\\\\\\\\\\"type\\\\\\\\\\\\\\\": 2, \\\\\\\\\\\\\\\"details\\\\\\\\\\\\\\\": {\\\\\\\\\\\\\\\"selectedColumn\\\\\\\\\\\\\\\": \\\\\\\\\\\\\\\"Census_OSSkuName\\\\\\\\\\\\\\\"}}, \\\\\\\\\\\\\\\"typeProperty\\\\\\\\\\\\\\\": 0}, {\\\\\\\\\\\\\\\"column\\\\\\\\\\\\\\\": {\\\\\\\\\\\\\\\"type\\\\\\\\\\\\\\\": 2, \\\\\\\\\\\\\\\"details\\\\\\\\\\\\\\\": {\\\\\\\\\\\\\\\"selectedColumn\\\\\\\\\\\\\\\": \\\\\\\\\\\\\\\"Census_OSInstallTypeName\\\\\\\\\\\\\\\"}}, \\\\\\\\\\\\\\\"typeProperty\\\\\\\\\\\\\\\": 0}, {\\\\\\\\\\\\\\\"column\\\\\\\\\\\\\\\": {\\\\\\\\\\\\\\\"type\\\\\\\\\\\\\\\": 2, \\\\\\\\\\\\\\\"details\\\\\\\\\\\\\\\": {\\\\\\\\\\\\\\\"selectedColumn\\\\\\\\\\\\\\\": \\\\\\\\\\\\\\\"Census_OSInstallLanguageIdentifier\\\\\\\\\\\\\\\"}}, \\\\\\\\\\\\\\\"typeProperty\\\\\\\\\\\\\\\": 0}, {\\\\\\\\\\\\\\\"column\\\\\\\\\\\\\\\": {\\\\\\\\\\\\\\\"type\\\\\\\\\\\\\\\": 2, \\\\\\\\\\\\\\\"details\\\\\\\\\\\\\\\": {\\\\\\\\\\\\\\\"selectedColumn\\\\\\\\\\\\\\\": \\\\\\\\\\\\\\\"Census_OSUILocaleIdentifier\\\\\\\\\\\\\\\"}}, \\\\\\\\\\\\\\\"typeProperty\\\\\\\\\\\\\\\": 2}, {\\\\\\\\\\\\\\\"column\\\\\\\\\\\\\\\": {\\\\\\\\\\\\\\\"type\\\\\\\\\\\\\\\": 2, \\\\\\\\\\\\\\\"details\\\\\\\\\\\\\\\": {\\\\\\\\\\\\\\\"selectedColumn\\\\\\\\\\\\\\\": \\\\\\\\\\\\\\\"Census_OSWUAutoUpdateOptionsName\\\\\\\\\\\\\\\"}}, \\\\\\\\\\\\\\\"typeProperty\\\\\\\\\\\\\\\": 0}, {\\\\\\\\\\\\\\\"column\\\\\\\\\\\\\\\": {\\\\\\\\\\\\\\\"type\\\\\\\\\\\\\\\": 2, \\\\\\\\\\\\\\\"details\\\\\\\\\\\\\\\": {\\\\\\\\\\\\\\\"selectedColumn\\\\\\\\\\\\\\\": \\\\\\\\\\\\\\\"Census_IsPortableOperatingSystem\\\\\\\\\\\\\\\"}}, \\\\\\\\\\\\\\\"typeProperty\\\\\\\\\\\\\\\": 2}, {\\\\\\\\\\\\\\\"column\\\\\\\\\\\\\\\": {\\\\\\\\\\\\\\\"type\\\\\\\\\\\\\\\": 2, \\\\\\\\\\\\\\\"details\\\\\\\\\\\\\\\": {\\\\\\\\\\\\\\\"selectedColumn\\\\\\\\\\\\\\\": \\\\\\\\\\\\\\\"Census_GenuineStateName\\\\\\\\\\\\\\\"}}, \\\\\\\\\\\\\\\"typeProperty\\\\\\\\\\\\\\\": 0}, {\\\\\\\\\\\\\\\"column\\\\\\\\\\\\\\\": {\\\\\\\\\\\\\\\"type\\\\\\\\\\\\\\\": 2, \\\\\\\\\\\\\\\"details\\\\\\\\\\\\\\\": {\\\\\\\\\\\\\\\"selectedColumn\\\\\\\\\\\\\\\": \\\\\\\\\\\\\\\"Census_ActivationChannel\\\\\\\\\\\\\\\"}}, \\\\\\\\\\\\\\\"typeProperty\\\\\\\\\\\\\\\": 0}, {\\\\\\\\\\\\\\\"column\\\\\\\\\\\\\\\": {\\\\\\\\\\\\\\\"type\\\\\\\\\\\\\\\": 2, \\\\\\\\\\\\\\\"details\\\\\\\\\\\\\\\": {\\\\\\\\\\\\\\\"selectedColumn\\\\\\\\\\\\\\\": \\\\\\\\\\\\\\\"Census_IsFlightingInternal\\\\\\\\\\\\\\\"}}, \\\\\\\\\\\\\\\"typeProperty\\\\\\\\\\\\\\\": 0}, {\\\\\\\\\\\\\\\"column\\\\\\\\\\\\\\\": {\\\\\\\\\\\\\\\"type\\\\\\\\\\\\\\\": 2, \\\\\\\\\\\\\\\"details\\\\\\\\\\\\\\\": {\\\\\\\\\\\\\\\"selectedColumn\\\\\\\\\\\\\\\": \\\\\\\\\\\\\\\"Census_IsFlightsDisabled\\\\\\\\\\\\\\\"}}, \\\\\\\\\\\\\\\"typeProperty\\\\\\\\\\\\\\\": 0}, {\\\\\\\\\\\\\\\"column\\\\\\\\\\\\\\\": {\\\\\\\\\\\\\\\"type\\\\\\\\\\\\\\\": 2, \\\\\\\\\\\\\\\"details\\\\\\\\\\\\\\\": {\\\\\\\\\\\\\\\"selectedColumn\\\\\\\\\\\\\\\": \\\\\\\\\\\\\\\"Census_FlightRing\\\\\\\\\\\\\\\"}}, \\\\\\\\\\\\\\\"typeProperty\\\\\\\\\\\\\\\": 0}, {\\\\\\\\\\\\\\\"column\\\\\\\\\\\\\\\": {\\\\\\\\\\\\\\\"type\\\\\\\\\\\\\\\": 2, \\\\\\\\\\\\\\\"details\\\\\\\\\\\\\\\": {\\\\\\\\\\\\\\\"selectedColumn\\\\\\\\\\\\\\\": \\\\\\\\\\\\\\\"Census_ThresholdOptIn\\\\\\\\\\\\\\\"}}, \\\\\\\\\\\\\\\"typeProperty\\\\\\\\\\\\\\\": 0}, {\\\\\\\\\\\\\\\"column\\\\\\\\\\\\\\\": {\\\\\\\\\\\\\\\"type\\\\\\\\\\\\\\\": 2, \\\\\\\\\\\\\\\"details\\\\\\\\\\\\\\\": {\\\\\\\\\\\\\\\"selectedColumn\\\\\\\\\\\\\\\": \\\\\\\\\\\\\\\"Census_FirmwareManufacturerIdentifier\\\\\\\\\\\\\\\"}}, \\\\\\\\\\\\\\\"typeProperty\\\\\\\\\\\\\\\": 0}, {\\\\\\\\\\\\\\\"column\\\\\\\\\\\\\\\": {\\\\\\\\\\\\\\\"type\\\\\\\\\\\\\\\": 2, \\\\\\\\\\\\\\\"details\\\\\\\\\\\\\\\": {\\\\\\\\\\\\\\\"selectedColumn\\\\\\\\\\\\\\\": \\\\\\\\\\\\\\\"Census_FirmwareVersionIdentifier\\\\\\\\\\\\\\\"}}, \\\\\\\\\\\\\\\"typeProperty\\\\\\\\\\\\\\\": 0}, {\\\\\\\\\\\\\\\"column\\\\\\\\\\\\\\\": {\\\\\\\\\\\\\\\"type\\\\\\\\\\\\\\\": 2, \\\\\\\\\\\\\\\"details\\\\\\\\\\\\\\\": {\\\\\\\\\\\\\\\"selectedColumn\\\\\\\\\\\\\\\": \\\\\\\\\\\\\\\"Census_IsSecureBootEnabled\\\\\\\\\\\\\\\"}}, \\\\\\\\\\\\\\\"typeProperty\\\\\\\\\\\\\\\": 2}, {\\\\\\\\\\\\\\\"column\\\\\\\\\\\\\\\": {\\\\\\\\\\\\\\\"type\\\\\\\\\\\\\\\": 2, \\\\\\\\\\\\\\\"details\\\\\\\\\\\\\\\": {\\\\\\\\\\\\\\\"selectedColumn\\\\\\\\\\\\\\\": \\\\\\\\\\\\\\\"Census_IsWIMBootEnabled\\\\\\\\\\\\\\\"}}, \\\\\\\\\\\\\\\"typeProperty\\\\\\\\\\\\\\\": 0}, {\\\\\\\\\\\\\\\"column\\\\\\\\\\\\\\\": {\\\\\\\\\\\\\\\"type\\\\\\\\\\\\\\\": 2, \\\\\\\\\\\\\\\"details\\\\\\\\\\\\\\\": {\\\\\\\\\\\\\\\"selectedColumn\\\\\\\\\\\\\\\": \\\\\\\\\\\\\\\"Census_IsVirtualDevice\\\\\\\\\\\\\\\"}}, \\\\\\\\\\\\\\\"typeProperty\\\\\\\\\\\\\\\": 0}, {\\\\\\\\\\\\\\\"column\\\\\\\\\\\\\\\": {\\\\\\\\\\\\\\\"type\\\\\\\\\\\\\\\": 2, \\\\\\\\\\\\\\\"details\\\\\\\\\\\\\\\": {\\\\\\\\\\\\\\\"selectedColumn\\\\\\\\\\\\\\\": \\\\\\\\\\\\\\\"Census_IsTouchEnabled\\\\\\\\\\\\\\\"}}, \\\\\\\\\\\\\\\"typeProperty\\\\\\\\\\\\\\\": 2}, {\\\\\\\\\\\\\\\"column\\\\\\\\\\\\\\\": {\\\\\\\\\\\\\\\"type\\\\\\\\\\\\\\\": 2, \\\\\\\\\\\\\\\"details\\\\\\\\\\\\\\\": {\\\\\\\\\\\\\\\"selectedColumn\\\\\\\\\\\\\\\": \\\\\\\\\\\\\\\"Census_IsPenCapable\\\\\\\\\\\\\\\"}}, \\\\\\\\\\\\\\\"typeProperty\\\\\\\\\\\\\\\": 2}, {\\\\\\\\\\\\\\\"column\\\\\\\\\\\\\\\": {\\\\\\\\\\\\\\\"type\\\\\\\\\\\\\\\": 2, \\\\\\\\\\\\\\\"details\\\\\\\\\\\\\\\": {\\\\\\\\\\\\\\\"selectedColumn\\\\\\\\\\\\\\\": \\\\\\\\\\\\\\\"Census_IsAlwaysOnAlwaysConnectedCapable\\\\\\\\\\\\\\\"}}, \\\\\\\\\\\\\\\"typeProperty\\\\\\\\\\\\\\\": 2}, {\\\\\\\\\\\\\\\"column\\\\\\\\\\\\\\\": {\\\\\\\\\\\\\\\"type\\\\\\\\\\\\\\\": 2, \\\\\\\\\\\\\\\"details\\\\\\\\\\\\\\\": {\\\\\\\\\\\\\\\"selectedColumn\\\\\\\\\\\\\\\": \\\\\\\\\\\\\\\"Wdft_IsGamer\\\\\\\\\\\\\\\"}}, \\\\\\\\\\\\\\\"typeProperty\\\\\\\\\\\\\\\": 0}, {\\\\\\\\\\\\\\\"column\\\\\\\\\\\\\\\": {\\\\\\\\\\\\\\\"type\\\\\\\\\\\\\\\": 2, \\\\\\\\\\\\\\\"details\\\\\\\\\\\\\\\": {\\\\\\\\\\\\\\\"selectedColumn\\\\\\\\\\\\\\\": \\\\\\\\\\\\\\\"Wdft_RegionIdentifier\\\\\\\\\\\\\\\"}}, \\\\\\\\\\\\\\\"typeProperty\\\\\\\\\\\\\\\": 0}, {\\\\\\\\\\\\\\\"column\\\\\\\\\\\\\\\": {\\\\\\\\\\\\\\\"type\\\\\\\\\\\\\\\": 2, \\\\\\\\\\\\\\\"details\\\\\\\\\\\\\\\": {\\\\\\\\\\\\\\\"selectedColumn\\\\\\\\\\\\\\\": \\\\\\\\\\\\\\\"HasDetections\\\\\\\\\\\\\\\"}}, \\\\\\\\\\\\\\\"typeProperty\\\\\\\\\\\\\\\": 2}]}, \\\\\\\\\\\\\\\"localData\\\\\\\\\\\\\\\": {}, \\\\\\\\\\\\\\\"isEnabled\\\\\\\\\\\\\\\": true, \\\\\\\\\\\\\\\"name\\\\\\\\\\\\\\\": null, \\\\\\\\\\\\\\\"annotation\\\\\\\\\\\\\\\": null}], \\\\\\\\\\\\\\\"inspectors\\\\\\\\\\\\\\\": [], \\\\\\\\\\\\\\\"meta\\\\\\\\\\\\\\\": {\\\\\\\\\\\\\\\"savedDatasetId\\\\\\\\\\\\\\\": \\\\\\\\\\\\\\\"da188b62-2e59-4455-979a-1f550d341e46\\\\\\\\\\\\\\\", \\\\\\\\\\\\\\\"datasetType\\\\\\\\\\\\\\\": \\\\\\\\\\\\\\\"tabular\\\\\\\\\\\\\\\", \\\\\\\\\\\\\\\"subscriptionId\\\\\\\\\\\\\\\": \\\\\\\\\\\\\\\"610d6e37-4747-4a20-80eb-3aad70a55f43\\\\\\\\\\\\\\\", \\\\\\\\\\\\\\\"workspaceId\\\\\\\\\\\\\\\": \\\\\\\\\\\\\\\"c3d5fe77-879a-4028-b956-5b67ead59c84\\\\\\\\\\\\\\\", \\\\\\\\\\\\\\\"workspaceLocation\\\\\\\\\\\\\\\": \\\\\\\\\\\\\\\"southcentralus\\\\\\\\\\\\\\\"}}\\\\\\\", \\\\\\\"activities\\\\\\\": 0}\", \"EnableSubsampling\": null, \"runTemplate\": \"AutoML\", \"azureml.runsource\": \"automl\", \"display_task_type\": \"classification\", \"dependencies_versions\": \"{\\\"azureml-widgets\\\": \\\"1.19.0\\\", \\\"azureml-train\\\": \\\"1.19.0\\\", \\\"azureml-train-restclients-hyperdrive\\\": \\\"1.19.0\\\", \\\"azureml-train-core\\\": \\\"1.19.0\\\", \\\"azureml-train-automl\\\": \\\"1.19.0\\\", \\\"azureml-train-automl-runtime\\\": \\\"1.19.0\\\", \\\"azureml-train-automl-client\\\": \\\"1.19.0\\\", \\\"azureml-tensorboard\\\": \\\"1.19.0\\\", \\\"azureml-telemetry\\\": \\\"1.19.0\\\", \\\"azureml-sdk\\\": \\\"1.19.0\\\", \\\"azureml-samples\\\": \\\"0+unknown\\\", \\\"azureml-pipeline\\\": \\\"1.19.0\\\", \\\"azureml-pipeline-steps\\\": \\\"1.19.0\\\", \\\"azureml-pipeline-core\\\": \\\"1.19.0\\\", \\\"azureml-opendatasets\\\": \\\"1.19.0\\\", \\\"azureml-model-management-sdk\\\": \\\"1.0.1b6.post1\\\", \\\"azureml-mlflow\\\": \\\"1.19.0\\\", \\\"azureml-interpret\\\": \\\"1.19.0\\\", \\\"azureml-explain-model\\\": \\\"1.19.0\\\", \\\"azureml-defaults\\\": \\\"1.19.0\\\", \\\"azureml-dataset-runtime\\\": \\\"1.19.0\\\", \\\"azureml-dataprep\\\": \\\"2.6.1\\\", \\\"azureml-dataprep-rslex\\\": \\\"1.4.0\\\", \\\"azureml-dataprep-native\\\": \\\"26.0.0\\\", \\\"azureml-datadrift\\\": \\\"1.19.0\\\", \\\"azureml-core\\\": \\\"1.19.0\\\", \\\"azureml-contrib-services\\\": \\\"1.19.0\\\", \\\"azureml-contrib-server\\\": \\\"1.19.0\\\", \\\"azureml-contrib-reinforcementlearning\\\": \\\"1.19.0\\\", \\\"azureml-contrib-pipeline-steps\\\": \\\"1.19.0\\\", \\\"azureml-contrib-notebook\\\": \\\"1.19.0\\\", \\\"azureml-contrib-interpret\\\": \\\"1.19.0\\\", \\\"azureml-contrib-gbdt\\\": \\\"1.19.0\\\", \\\"azureml-contrib-fairness\\\": \\\"1.19.0\\\", \\\"azureml-contrib-dataset\\\": \\\"1.19.0\\\", \\\"azureml-cli-common\\\": \\\"1.19.0\\\", \\\"azureml-automl-runtime\\\": \\\"1.19.0\\\", \\\"azureml-automl-core\\\": \\\"1.19.0\\\", \\\"azureml-accel-models\\\": \\\"1.19.0\\\"}\", \"_aml_system_scenario_identification\": \"Remote.Parent\", \"ClientType\": \"SDK\", \"environment_cpu_name\": \"AzureML-AutoML\", \"environment_cpu_label\": \"prod\", \"environment_gpu_name\": \"AzureML-AutoML-GPU\", \"environment_gpu_label\": \"prod\", \"root_attribution\": \"automl\", \"attribution\": \"AutoML\", \"Orchestrator\": \"AutoML\", \"CancelUri\": \"https://southcentralus.experiments.azureml.net/jasmine/v1.0/subscriptions/610d6e37-4747-4a20-80eb-3aad70a55f43/resourceGroups/aml-quickstarts-133553/providers/Microsoft.MachineLearningServices/workspaces/quick-starts-ws-133553/experimentids/59b20a5b-0788-4ae2-8080-718329fd695d/cancel/AutoML_b41a0d8e-8a07-4e82-ac68-cae8152970b4\", \"ClientSdkVersion\": \"1.19.0\", \"snapshotId\": \"00000000-0000-0000-0000-000000000000\", \"SetupRunId\": \"AutoML_b41a0d8e-8a07-4e82-ac68-cae8152970b4_setup\", \"SetupRunContainerId\": \"dcid.AutoML_b41a0d8e-8a07-4e82-ac68-cae8152970b4_setup\", \"FeaturizationRunJsonPath\": \"featurizer_container.json\", \"FeaturizationRunId\": \"AutoML_b41a0d8e-8a07-4e82-ac68-cae8152970b4_featurize\", \"ProblemInfoJsonString\": \"{\\\"dataset_num_categorical\\\": 0, \\\"is_sparse\\\": true, \\\"subsampling\\\": false, \\\"dataset_classes\\\": 2, \\\"dataset_features\\\": 9066, \\\"dataset_samples\\\": 10000, \\\"single_frequency_class_detected\\\": false}\", \"ModelExplainRunId\": \"AutoML_b41a0d8e-8a07-4e82-ac68-cae8152970b4_ModelExplain\"}, \"tags\": {\"model_explain_run\": \"best_run\", \"_aml_system_azureml.automlComponent\": \"AutoML\", \"pipeline_id\": \"\", \"score\": \"\", \"predicted_cost\": \"\", \"fit_time\": \"\", \"training_percent\": \"\", \"iteration\": \"\", \"run_preprocessor\": \"\", \"run_algorithm\": \"\", \"dynamic_whitelisting_iterations\": \"<25>;<30>;<35>;\", \"automl_best_child_run_id\": \"AutoML_b41a0d8e-8a07-4e82-ac68-cae8152970b4_38\", \"model_explain_best_run_child_id\": \"AutoML_b41a0d8e-8a07-4e82-ac68-cae8152970b4_38\"}, \"end_time_utc\": \"2021-01-05T21:02:59.430578Z\", \"status\": \"Completed\", \"log_files\": {}, \"log_groups\": [], \"run_duration\": \"0:27:58\"}, \"child_runs\": [{\"run_id\": \"AutoML_b41a0d8e-8a07-4e82-ac68-cae8152970b4_0\", \"run_number\": 17, \"metric\": null, \"status\": \"Completed\", \"run_type\": \"azureml.scriptrun\", \"training_percent\": \"100\", \"start_time\": \"2021-01-05T20:44:08.984522Z\", \"end_time\": \"2021-01-05T20:44:58.241666Z\", \"created_time\": \"2021-01-05T20:41:50.318799Z\", \"created_time_dt\": \"2021-01-05T20:41:50.318799Z\", \"duration\": \"0:03:07\", \"iteration\": \"0\", \"goal\": \"accuracy_max\", \"run_name\": \"MaxAbsScaler, LightGBM\", \"run_properties\": \"copy=True\", \"primary_metric\": 0.6178, \"best_metric\": 0.6178}, {\"run_id\": \"AutoML_b41a0d8e-8a07-4e82-ac68-cae8152970b4_4\", \"run_number\": 18, \"metric\": null, \"status\": \"Completed\", \"run_type\": \"azureml.scriptrun\", \"training_percent\": \"100\", \"start_time\": \"2021-01-05T20:45:03.114128Z\", \"end_time\": \"2021-01-05T20:46:02.854989Z\", \"created_time\": \"2021-01-05T20:41:50.340284Z\", \"created_time_dt\": \"2021-01-05T20:41:50.340284Z\", \"duration\": \"0:04:12\", \"iteration\": \"4\", \"goal\": \"accuracy_max\", \"run_name\": \"MaxAbsScaler, RandomForest\", \"run_properties\": \"copy=True\", \"primary_metric\": 0.5314, \"best_metric\": 0.624}, {\"run_id\": \"AutoML_b41a0d8e-8a07-4e82-ac68-cae8152970b4_2\", \"run_number\": 19, \"metric\": null, \"status\": \"Completed\", \"run_type\": \"azureml.scriptrun\", \"training_percent\": \"100\", \"start_time\": \"2021-01-05T20:42:01.639477Z\", \"end_time\": \"2021-01-05T20:42:51.991732Z\", \"created_time\": \"2021-01-05T20:41:50.339738Z\", \"created_time_dt\": \"2021-01-05T20:41:50.339738Z\", \"duration\": \"0:01:01\", \"iteration\": \"2\", \"goal\": \"accuracy_max\", \"run_name\": \"MaxAbsScaler, RandomForest\", \"run_properties\": \"copy=True\", \"primary_metric\": 0.5819, \"best_metric\": 0.624}, {\"run_id\": \"AutoML_b41a0d8e-8a07-4e82-ac68-cae8152970b4_3\", \"run_number\": 20, \"metric\": null, \"status\": \"Completed\", \"run_type\": \"azureml.scriptrun\", \"training_percent\": \"100\", \"start_time\": \"2021-01-05T20:45:57.53129Z\", \"end_time\": \"2021-01-05T20:49:21.437741Z\", \"created_time\": \"2021-01-05T20:41:50.339891Z\", \"created_time_dt\": \"2021-01-05T20:41:50.339891Z\", \"duration\": \"0:07:31\", \"iteration\": \"3\", \"goal\": \"accuracy_max\", \"run_name\": \"MaxAbsScaler, RandomForest\", \"run_properties\": \"copy=True\", \"primary_metric\": 0.5545, \"best_metric\": 0.624}, {\"run_id\": \"AutoML_b41a0d8e-8a07-4e82-ac68-cae8152970b4_1\", \"run_number\": 21, \"metric\": null, \"status\": \"Completed\", \"run_type\": \"azureml.scriptrun\", \"training_percent\": \"100\", \"start_time\": \"2021-01-05T20:42:55.566539Z\", \"end_time\": \"2021-01-05T20:44:03.27392Z\", \"created_time\": \"2021-01-05T20:41:50.339844Z\", \"created_time_dt\": \"2021-01-05T20:41:50.339844Z\", \"duration\": \"0:02:12\", \"iteration\": \"1\", \"goal\": \"accuracy_max\", \"run_name\": \"MaxAbsScaler, XGBoostClassifier\", \"run_properties\": \"copy=True\", \"primary_metric\": 0.624, \"best_metric\": 0.624}, {\"run_id\": \"AutoML_b41a0d8e-8a07-4e82-ac68-cae8152970b4_5\", \"run_number\": 22, \"metric\": null, \"status\": \"Completed\", \"run_type\": \"azureml.scriptrun\", \"training_percent\": \"100\", \"start_time\": \"2021-01-05T20:45:54.12023Z\", \"end_time\": \"2021-01-05T20:49:11.94426Z\", \"created_time\": \"2021-01-05T20:42:55.376959Z\", \"created_time_dt\": \"2021-01-05T20:42:55.376959Z\", \"duration\": \"0:06:16\", \"iteration\": \"5\", \"goal\": \"accuracy_max\", \"run_name\": \"MaxAbsScaler, RandomForest\", \"run_properties\": \"copy=True\", \"primary_metric\": 0.5739, \"best_metric\": 0.624}, {\"run_id\": \"AutoML_b41a0d8e-8a07-4e82-ac68-cae8152970b4_6\", \"run_number\": 23, \"metric\": null, \"status\": \"Completed\", \"run_type\": \"azureml.scriptrun\", \"training_percent\": \"100\", \"start_time\": \"2021-01-05T20:45:56.398979Z\", \"end_time\": \"2021-01-05T20:49:30.61114Z\", \"created_time\": \"2021-01-05T20:44:06.788146Z\", \"created_time_dt\": \"2021-01-05T20:44:06.788146Z\", \"duration\": \"0:05:23\", \"iteration\": \"6\", \"goal\": \"accuracy_max\", \"run_name\": \"StandardScalerWrapper, LightGBM\", \"run_properties\": \"<azureml.automl.runtime.shared.model_wrappers.StandardScalerWrapper object at 0x7fd4f09be2b0\", \"primary_metric\": 0.6272, \"best_metric\": 0.6272}, {\"run_id\": \"AutoML_b41a0d8e-8a07-4e82-ac68-cae8152970b4_7\", \"run_number\": 24, \"metric\": null, \"status\": \"Completed\", \"run_type\": \"azureml.scriptrun\", \"training_percent\": \"100\", \"start_time\": \"2021-01-05T20:46:03.900078Z\", \"end_time\": \"2021-01-05T20:47:01.741312Z\", \"created_time\": \"2021-01-05T20:45:01.269961Z\", \"created_time_dt\": \"2021-01-05T20:45:01.269961Z\", \"duration\": \"0:02:00\", \"iteration\": \"7\", \"goal\": \"accuracy_max\", \"run_name\": \"StandardScalerWrapper, XGBoostClassifier\", \"run_properties\": \"<azureml.automl.runtime.shared.model_wrappers.StandardScalerWrapper object at 0x7fab0c3a6080\", \"primary_metric\": 0.6094, \"best_metric\": 0.6272}, {\"run_id\": \"AutoML_b41a0d8e-8a07-4e82-ac68-cae8152970b4_8\", \"run_number\": 25, \"metric\": null, \"status\": \"Completed\", \"run_type\": \"azureml.scriptrun\", \"training_percent\": \"100\", \"start_time\": \"2021-01-05T20:47:03.336636Z\", \"end_time\": \"2021-01-05T20:48:41.797012Z\", \"created_time\": \"2021-01-05T20:46:05.685289Z\", \"created_time_dt\": \"2021-01-05T20:46:05.685289Z\", \"duration\": \"0:02:36\", \"iteration\": \"8\", \"goal\": \"accuracy_max\", \"run_name\": \"SparseNormalizer, XGBoostClassifier\", \"run_properties\": \"<azureml.automl.runtime.shared.model_wrappers.SparseNormalizer object at 0x7fd0724549b0\", \"primary_metric\": 0.6126, \"best_metric\": 0.6272}, {\"run_id\": \"AutoML_b41a0d8e-8a07-4e82-ac68-cae8152970b4_9\", \"run_number\": 26, \"metric\": null, \"status\": \"Completed\", \"run_type\": \"azureml.scriptrun\", \"training_percent\": \"100\", \"start_time\": \"2021-01-05T20:48:44.26184Z\", \"end_time\": \"2021-01-05T20:54:04.407311Z\", \"created_time\": \"2021-01-05T20:47:04.126001Z\", \"created_time_dt\": \"2021-01-05T20:47:04.126001Z\", \"duration\": \"0:07:00\", \"iteration\": \"9\", \"goal\": \"accuracy_max\", \"run_name\": \"MaxAbsScaler, LogisticRegression\", \"run_properties\": \"copy=True\", \"primary_metric\": 0.5819, \"best_metric\": 0.6272}, {\"run_id\": \"AutoML_b41a0d8e-8a07-4e82-ac68-cae8152970b4_10\", \"run_number\": 27, \"metric\": null, \"status\": \"Completed\", \"run_type\": \"azureml.scriptrun\", \"training_percent\": \"100\", \"start_time\": \"2021-01-05T20:49:15.777054Z\", \"end_time\": \"2021-01-05T20:50:26.280465Z\", \"created_time\": \"2021-01-05T20:48:45.777952Z\", \"created_time_dt\": \"2021-01-05T20:48:45.777952Z\", \"duration\": \"0:01:40\", \"iteration\": \"10\", \"goal\": \"accuracy_max\", \"run_name\": \"StandardScalerWrapper, RandomForest\", \"run_properties\": \"<azureml.automl.runtime.shared.model_wrappers.StandardScalerWrapper object at 0x7f1584399a90\", \"primary_metric\": 0.614, \"best_metric\": 0.6272}, {\"run_id\": \"AutoML_b41a0d8e-8a07-4e82-ac68-cae8152970b4_11\", \"run_number\": 28, \"metric\": null, \"status\": \"Completed\", \"run_type\": \"azureml.scriptrun\", \"training_percent\": \"100\", \"start_time\": \"2021-01-05T20:49:27.71679Z\", \"end_time\": \"2021-01-05T20:50:26.923308Z\", \"created_time\": \"2021-01-05T20:49:15.618018Z\", \"created_time_dt\": \"2021-01-05T20:49:15.618018Z\", \"duration\": \"0:01:11\", \"iteration\": \"11\", \"goal\": \"accuracy_max\", \"run_name\": \"MaxAbsScaler, RandomForest\", \"run_properties\": \"copy=True\", \"primary_metric\": 0.6062, \"best_metric\": 0.6272}, {\"run_id\": \"AutoML_b41a0d8e-8a07-4e82-ac68-cae8152970b4_12\", \"run_number\": 29, \"metric\": null, \"status\": \"Completed\", \"run_type\": \"azureml.scriptrun\", \"training_percent\": \"100\", \"start_time\": \"2021-01-05T20:49:35.121811Z\", \"end_time\": \"2021-01-05T20:50:19.708627Z\", \"created_time\": \"2021-01-05T20:49:23.952343Z\", \"created_time_dt\": \"2021-01-05T20:49:23.952343Z\", \"duration\": \"0:00:55\", \"iteration\": \"12\", \"goal\": \"accuracy_max\", \"run_name\": \"SparseNormalizer, XGBoostClassifier\", \"run_properties\": \"<azureml.automl.runtime.shared.model_wrappers.SparseNormalizer object at 0x7ff776bba5c0\", \"primary_metric\": 0.5958, \"best_metric\": 0.6272}, {\"run_id\": \"AutoML_b41a0d8e-8a07-4e82-ac68-cae8152970b4_13\", \"run_number\": 30, \"metric\": null, \"status\": \"Completed\", \"run_type\": \"azureml.scriptrun\", \"training_percent\": \"100\", \"start_time\": \"2021-01-05T20:50:24.254863Z\", \"end_time\": \"2021-01-05T20:51:21.266755Z\", \"created_time\": \"2021-01-05T20:49:33.61761Z\", \"created_time_dt\": \"2021-01-05T20:49:33.61761Z\", \"duration\": \"0:01:47\", \"iteration\": \"13\", \"goal\": \"accuracy_max\", \"run_name\": \"MaxAbsScaler, LightGBM\", \"run_properties\": \"copy=True\", \"primary_metric\": 0.6178, \"best_metric\": 0.6272}, {\"run_id\": \"AutoML_b41a0d8e-8a07-4e82-ac68-cae8152970b4_14\", \"run_number\": 31, \"metric\": null, \"status\": \"Completed\", \"run_type\": \"azureml.scriptrun\", \"training_percent\": \"100\", \"start_time\": \"2021-01-05T20:50:34.436554Z\", \"end_time\": \"2021-01-05T20:52:25.535941Z\", \"created_time\": \"2021-01-05T20:50:22.349789Z\", \"created_time_dt\": \"2021-01-05T20:50:22.349789Z\", \"duration\": \"0:02:03\", \"iteration\": \"14\", \"goal\": \"accuracy_max\", \"run_name\": \"MaxAbsScaler, RandomForest\", \"run_properties\": \"copy=True\", \"primary_metric\": 0.611, \"best_metric\": 0.6272}, {\"run_id\": \"AutoML_b41a0d8e-8a07-4e82-ac68-cae8152970b4_15\", \"run_number\": 32, \"metric\": null, \"status\": \"Completed\", \"run_type\": \"azureml.scriptrun\", \"training_percent\": \"100\", \"start_time\": \"2021-01-05T20:50:42.044896Z\", \"end_time\": \"2021-01-05T20:52:02.688743Z\", \"created_time\": \"2021-01-05T20:50:29.081437Z\", \"created_time_dt\": \"2021-01-05T20:50:29.081437Z\", \"duration\": \"0:01:33\", \"iteration\": \"15\", \"goal\": \"accuracy_max\", \"run_name\": \"MaxAbsScaler, ExtremeRandomTrees\", \"run_properties\": \"copy=True\", \"primary_metric\": 0.6084, \"best_metric\": 0.6272}, {\"run_id\": \"AutoML_b41a0d8e-8a07-4e82-ac68-cae8152970b4_16\", \"run_number\": 33, \"metric\": null, \"status\": \"Completed\", \"run_type\": \"azureml.scriptrun\", \"training_percent\": \"100\", \"start_time\": \"2021-01-05T20:51:23.467629Z\", \"end_time\": \"2021-01-05T20:53:00.177753Z\", \"created_time\": \"2021-01-05T20:50:34.815276Z\", \"created_time_dt\": \"2021-01-05T20:50:34.815276Z\", \"duration\": \"0:02:25\", \"iteration\": \"16\", \"goal\": \"accuracy_max\", \"run_name\": \"SparseNormalizer, XGBoostClassifier\", \"run_properties\": \"<azureml.automl.runtime.shared.model_wrappers.SparseNormalizer object at 0x7ffafd911f98\", \"primary_metric\": 0.6146, \"best_metric\": 0.6272}, {\"run_id\": \"AutoML_b41a0d8e-8a07-4e82-ac68-cae8152970b4_17\", \"run_number\": 34, \"metric\": null, \"status\": \"Completed\", \"run_type\": \"azureml.scriptrun\", \"training_percent\": \"100\", \"start_time\": \"2021-01-05T20:52:04.908208Z\", \"end_time\": \"2021-01-05T20:52:56.472067Z\", \"created_time\": \"2021-01-05T20:51:25.169507Z\", \"created_time_dt\": \"2021-01-05T20:51:25.169507Z\", \"duration\": \"0:01:31\", \"iteration\": \"17\", \"goal\": \"accuracy_max\", \"run_name\": \"MaxAbsScaler, LightGBM\", \"run_properties\": \"copy=True\", \"primary_metric\": 0.6163, \"best_metric\": 0.6272}, {\"run_id\": \"AutoML_b41a0d8e-8a07-4e82-ac68-cae8152970b4_18\", \"run_number\": 35, \"metric\": null, \"status\": \"Completed\", \"run_type\": \"azureml.scriptrun\", \"training_percent\": \"100\", \"start_time\": \"2021-01-05T20:52:25.646738Z\", \"end_time\": \"2021-01-05T20:53:25.498405Z\", \"created_time\": \"2021-01-05T20:52:05.526758Z\", \"created_time_dt\": \"2021-01-05T20:52:05.526758Z\", \"duration\": \"0:01:19\", \"iteration\": \"18\", \"goal\": \"accuracy_max\", \"run_name\": \"StandardScalerWrapper, LightGBM\", \"run_properties\": \"<azureml.automl.runtime.shared.model_wrappers.StandardScalerWrapper object at 0x7fc324d3eeb8\", \"primary_metric\": 0.6078, \"best_metric\": 0.6272}, {\"run_id\": \"AutoML_b41a0d8e-8a07-4e82-ac68-cae8152970b4_19\", \"run_number\": 36, \"metric\": null, \"status\": \"Completed\", \"run_type\": \"azureml.scriptrun\", \"training_percent\": \"100\", \"start_time\": \"2021-01-05T20:52:59.197408Z\", \"end_time\": \"2021-01-05T20:54:13.659943Z\", \"created_time\": \"2021-01-05T20:52:28.17182Z\", \"created_time_dt\": \"2021-01-05T20:52:28.17182Z\", \"duration\": \"0:01:45\", \"iteration\": \"19\", \"goal\": \"accuracy_max\", \"run_name\": \"SparseNormalizer, XGBoostClassifier\", \"run_properties\": \"<azureml.automl.runtime.shared.model_wrappers.SparseNormalizer object at 0x7f754ed23d30\", \"primary_metric\": 0.6165, \"best_metric\": 0.6272}, {\"run_id\": \"AutoML_b41a0d8e-8a07-4e82-ac68-cae8152970b4_20\", \"run_number\": 37, \"metric\": null, \"status\": \"Completed\", \"run_type\": \"azureml.scriptrun\", \"training_percent\": \"100\", \"start_time\": \"2021-01-05T20:53:11.782768Z\", \"end_time\": \"2021-01-05T20:54:08.116239Z\", \"created_time\": \"2021-01-05T20:52:59.371318Z\", \"created_time_dt\": \"2021-01-05T20:52:59.371318Z\", \"duration\": \"0:01:08\", \"iteration\": \"20\", \"goal\": \"accuracy_max\", \"run_name\": \"SparseNormalizer, LightGBM\", \"run_properties\": \"<azureml.automl.runtime.shared.model_wrappers.SparseNormalizer object at 0x7f8f1f56a470\", \"primary_metric\": 0.6197, \"best_metric\": 0.6272}, {\"run_id\": \"AutoML_b41a0d8e-8a07-4e82-ac68-cae8152970b4_21\", \"run_number\": 38, \"metric\": null, \"status\": \"Canceled\", \"run_type\": \"azureml.scriptrun\", \"training_percent\": \"100\", \"start_time\": \"2021-01-05T20:53:27.368797Z\", \"end_time\": \"2021-01-05T21:00:42.476231Z\", \"created_time\": \"2021-01-05T20:53:05.666587Z\", \"created_time_dt\": \"2021-01-05T20:53:05.666587Z\", \"duration\": \"0:07:36\", \"iteration\": \"21\", \"goal\": null, \"run_name\": \"MaxAbsScaler, LogisticRegression\", \"run_properties\": null}, {\"run_id\": \"AutoML_b41a0d8e-8a07-4e82-ac68-cae8152970b4_22\", \"run_number\": 39, \"metric\": null, \"status\": \"Completed\", \"run_type\": \"azureml.scriptrun\", \"training_percent\": \"100\", \"start_time\": \"2021-01-05T20:54:06.839432Z\", \"end_time\": \"2021-01-05T20:56:11.843285Z\", \"created_time\": \"2021-01-05T20:53:28.68206Z\", \"created_time_dt\": \"2021-01-05T20:53:28.68206Z\", \"duration\": \"0:02:43\", \"iteration\": \"22\", \"goal\": \"accuracy_max\", \"run_name\": \"TruncatedSVDWrapper, XGBoostClassifier\", \"run_properties\": \"n_components=0.3068421052631579, random_state=None\", \"primary_metric\": 0.6002, \"best_metric\": 0.6272}, {\"run_id\": \"AutoML_b41a0d8e-8a07-4e82-ac68-cae8152970b4_23\", \"run_number\": 40, \"metric\": null, \"status\": \"Completed\", \"run_type\": \"azureml.scriptrun\", \"training_percent\": \"100\", \"start_time\": \"2021-01-05T20:54:20.819559Z\", \"end_time\": \"2021-01-05T20:55:12.692795Z\", \"created_time\": \"2021-01-05T20:54:07.203769Z\", \"created_time_dt\": \"2021-01-05T20:54:07.203769Z\", \"duration\": \"0:01:05\", \"iteration\": \"23\", \"goal\": \"accuracy_max\", \"run_name\": \"MaxAbsScaler, LightGBM\", \"run_properties\": \"copy=True\", \"primary_metric\": 0.6085, \"best_metric\": 0.6272}, {\"run_id\": \"AutoML_b41a0d8e-8a07-4e82-ac68-cae8152970b4_24\", \"run_number\": 41, \"metric\": null, \"status\": \"Completed\", \"run_type\": \"azureml.scriptrun\", \"training_percent\": \"100\", \"start_time\": \"2021-01-05T20:54:24.339128Z\", \"end_time\": \"2021-01-05T20:55:11.72974Z\", \"created_time\": \"2021-01-05T20:54:13.259131Z\", \"created_time_dt\": \"2021-01-05T20:54:13.259131Z\", \"duration\": \"0:00:58\", \"iteration\": \"24\", \"goal\": \"accuracy_max\", \"run_name\": \"MaxAbsScaler, LightGBM\", \"run_properties\": \"copy=True\", \"primary_metric\": 0.6187, \"best_metric\": 0.6272}, {\"run_id\": \"AutoML_b41a0d8e-8a07-4e82-ac68-cae8152970b4_25\", \"run_number\": 42, \"metric\": null, \"status\": \"Completed\", \"run_type\": \"azureml.scriptrun\", \"training_percent\": \"100\", \"start_time\": \"2021-01-05T20:55:13.217659Z\", \"end_time\": \"2021-01-05T20:56:03.813622Z\", \"created_time\": \"2021-01-05T20:54:20.327718Z\", \"created_time_dt\": \"2021-01-05T20:54:20.327718Z\", \"duration\": \"0:01:43\", \"iteration\": \"25\", \"goal\": \"accuracy_max\", \"run_name\": \"StandardScalerWrapper, LightGBM\", \"run_properties\": \"<azureml.automl.runtime.shared.model_wrappers.StandardScalerWrapper object at 0x7f22b1594278\", \"primary_metric\": 0.5306, \"best_metric\": 0.6272}, {\"run_id\": \"AutoML_b41a0d8e-8a07-4e82-ac68-cae8152970b4_26\", \"run_number\": 43, \"metric\": null, \"status\": \"Completed\", \"run_type\": \"azureml.scriptrun\", \"training_percent\": \"100\", \"start_time\": \"2021-01-05T20:55:27.117919Z\", \"end_time\": \"2021-01-05T20:59:37.568455Z\", \"created_time\": \"2021-01-05T20:55:14.4543Z\", \"created_time_dt\": \"2021-01-05T20:55:14.4543Z\", \"duration\": \"0:04:23\", \"iteration\": \"26\", \"goal\": \"accuracy_max\", \"run_name\": \"MaxAbsScaler, ExtremeRandomTrees\", \"run_properties\": \"copy=True\", \"primary_metric\": 0.6123, \"best_metric\": 0.6272}, {\"run_id\": \"AutoML_b41a0d8e-8a07-4e82-ac68-cae8152970b4_27\", \"run_number\": 44, \"metric\": null, \"status\": \"Completed\", \"run_type\": \"azureml.scriptrun\", \"training_percent\": \"100\", \"start_time\": \"2021-01-05T20:56:06.002435Z\", \"end_time\": \"2021-01-05T20:57:05.802244Z\", \"created_time\": \"2021-01-05T20:55:21.079381Z\", \"created_time_dt\": \"2021-01-05T20:55:21.079381Z\", \"duration\": \"0:01:44\", \"iteration\": \"27\", \"goal\": \"accuracy_max\", \"run_name\": \"MaxAbsScaler, ExtremeRandomTrees\", \"run_properties\": \"copy=True\", \"primary_metric\": 0.615, \"best_metric\": 0.6272}, {\"run_id\": \"AutoML_b41a0d8e-8a07-4e82-ac68-cae8152970b4_28\", \"run_number\": 45, \"metric\": null, \"status\": \"Completed\", \"run_type\": \"azureml.scriptrun\", \"training_percent\": \"100\", \"start_time\": \"2021-01-05T20:56:19.399283Z\", \"end_time\": \"2021-01-05T20:57:07.875628Z\", \"created_time\": \"2021-01-05T20:56:06.853317Z\", \"created_time_dt\": \"2021-01-05T20:56:06.853317Z\", \"duration\": \"0:01:01\", \"iteration\": \"28\", \"goal\": \"accuracy_max\", \"run_name\": \"StandardScalerWrapper, LightGBM\", \"run_properties\": \"<azureml.automl.runtime.shared.model_wrappers.StandardScalerWrapper object at 0x7fed5fad8a58\", \"primary_metric\": 0.61, \"best_metric\": 0.6272}, {\"run_id\": \"AutoML_b41a0d8e-8a07-4e82-ac68-cae8152970b4_29\", \"run_number\": 46, \"metric\": null, \"status\": \"Completed\", \"run_type\": \"azureml.scriptrun\", \"training_percent\": \"100\", \"start_time\": \"2021-01-05T20:57:09.883977Z\", \"end_time\": \"2021-01-05T20:58:36.614808Z\", \"created_time\": \"2021-01-05T20:56:14.449436Z\", \"created_time_dt\": \"2021-01-05T20:56:14.449436Z\", \"duration\": \"0:02:22\", \"iteration\": \"29\", \"goal\": \"accuracy_max\", \"run_name\": \"SparseNormalizer, XGBoostClassifier\", \"run_properties\": \"<azureml.automl.runtime.shared.model_wrappers.SparseNormalizer object at 0x7fc239b611d0\", \"primary_metric\": 0.6088, \"best_metric\": 0.6272}, {\"run_id\": \"AutoML_b41a0d8e-8a07-4e82-ac68-cae8152970b4_30\", \"run_number\": 47, \"metric\": null, \"status\": \"Completed\", \"run_type\": \"azureml.scriptrun\", \"training_percent\": \"100\", \"start_time\": \"2021-01-05T20:57:29.162948Z\", \"end_time\": \"2021-01-05T20:58:19.985435Z\", \"created_time\": \"2021-01-05T20:57:10.569365Z\", \"created_time_dt\": \"2021-01-05T20:57:10.569365Z\", \"duration\": \"0:01:09\", \"iteration\": \"30\", \"goal\": \"accuracy_max\", \"run_name\": \"MaxAbsScaler, LightGBM\", \"run_properties\": \"copy=True\", \"primary_metric\": 0.6069, \"best_metric\": 0.6272}, {\"run_id\": \"AutoML_b41a0d8e-8a07-4e82-ac68-cae8152970b4_31\", \"run_number\": 48, \"metric\": null, \"status\": \"Completed\", \"run_type\": \"azureml.scriptrun\", \"training_percent\": \"100\", \"start_time\": \"2021-01-05T20:58:23.330746Z\", \"end_time\": \"2021-01-05T20:59:30.313115Z\", \"created_time\": \"2021-01-05T20:57:22.52578Z\", \"created_time_dt\": \"2021-01-05T20:57:22.52578Z\", \"duration\": \"0:02:07\", \"iteration\": \"31\", \"goal\": \"accuracy_max\", \"run_name\": \"MaxAbsScaler, ExtremeRandomTrees\", \"run_properties\": \"copy=True\", \"primary_metric\": 0.5878, \"best_metric\": 0.6272}, {\"run_id\": \"AutoML_b41a0d8e-8a07-4e82-ac68-cae8152970b4_32\", \"run_number\": 49, \"metric\": null, \"status\": \"Completed\", \"run_type\": \"azureml.scriptrun\", \"training_percent\": \"100\", \"start_time\": \"2021-01-05T20:58:36.390569Z\", \"end_time\": \"2021-01-05T20:59:24.936058Z\", \"created_time\": \"2021-01-05T20:58:22.660282Z\", \"created_time_dt\": \"2021-01-05T20:58:22.660282Z\", \"duration\": \"0:01:02\", \"iteration\": \"32\", \"goal\": \"accuracy_max\", \"run_name\": \"MaxAbsScaler, LightGBM\", \"run_properties\": \"copy=True\", \"primary_metric\": 0.6113, \"best_metric\": 0.6272}, {\"run_id\": \"AutoML_b41a0d8e-8a07-4e82-ac68-cae8152970b4_33\", \"run_number\": 50, \"metric\": null, \"status\": \"Completed\", \"run_type\": \"azureml.scriptrun\", \"training_percent\": \"100\", \"start_time\": \"2021-01-05T20:59:29.410246Z\", \"end_time\": \"2021-01-05T21:00:23.195889Z\", \"created_time\": \"2021-01-05T20:58:39.31852Z\", \"created_time_dt\": \"2021-01-05T20:58:39.31852Z\", \"duration\": \"0:01:43\", \"iteration\": \"33\", \"goal\": \"accuracy_max\", \"run_name\": \"StandardScalerWrapper, LightGBM\", \"run_properties\": \"<azureml.automl.runtime.shared.model_wrappers.StandardScalerWrapper object at 0x7f6fd8ee8eb8\", \"primary_metric\": 0.6174, \"best_metric\": 0.6272}, {\"run_id\": \"AutoML_b41a0d8e-8a07-4e82-ac68-cae8152970b4_34\", \"run_number\": 51, \"metric\": null, \"status\": \"Canceled\", \"run_type\": \"azureml.scriptrun\", \"training_percent\": \"100\", \"start_time\": \"2021-01-05T20:59:42.02488Z\", \"end_time\": \"2021-01-05T21:00:38.977818Z\", \"created_time\": \"2021-01-05T20:59:27.900623Z\", \"created_time_dt\": \"2021-01-05T20:59:27.900623Z\", \"duration\": \"0:01:11\", \"iteration\": \"34\", \"goal\": \"accuracy_max\", \"run_name\": \"MaxAbsScaler, RandomForest\", \"run_properties\": \"copy=True\", \"primary_metric\": 0.5841, \"best_metric\": 0.6272}, {\"run_id\": \"AutoML_b41a0d8e-8a07-4e82-ac68-cae8152970b4_35\", \"run_number\": 52, \"metric\": null, \"status\": \"Completed\", \"run_type\": \"azureml.scriptrun\", \"training_percent\": \"100\", \"start_time\": \"2021-01-05T20:59:51.087479Z\", \"end_time\": \"2021-01-05T21:00:34.223511Z\", \"created_time\": \"2021-01-05T20:59:36.436999Z\", \"created_time_dt\": \"2021-01-05T20:59:36.436999Z\", \"duration\": \"0:00:57\", \"iteration\": \"35\", \"goal\": \"accuracy_max\", \"run_name\": \"StandardScalerWrapper, LightGBM\", \"run_properties\": \"<azureml.automl.runtime.shared.model_wrappers.StandardScalerWrapper object at 0x7fe3573d0860\", \"primary_metric\": 0.5973, \"best_metric\": 0.6272}, {\"run_id\": \"AutoML_b41a0d8e-8a07-4e82-ac68-cae8152970b4_36\", \"run_number\": 53, \"metric\": null, \"status\": \"Canceled\", \"run_type\": \"azureml.scriptrun\", \"training_percent\": \"100\", \"start_time\": \"2021-01-05T21:00:25.791683Z\", \"end_time\": \"2021-01-05T21:00:41.809242Z\", \"created_time\": \"2021-01-05T20:59:43.777322Z\", \"created_time_dt\": \"2021-01-05T20:59:43.777322Z\", \"duration\": \"0:00:58\", \"iteration\": \"36\", \"goal\": null, \"run_name\": \"Canceled\", \"run_properties\": null}, {\"run_id\": \"AutoML_b41a0d8e-8a07-4e82-ac68-cae8152970b4_37\", \"run_number\": 54, \"metric\": null, \"status\": \"Canceled\", \"run_type\": \"azureml.scriptrun\", \"training_percent\": \"100\", \"start_time\": \"2021-01-05T21:00:25.956344Z\", \"end_time\": \"2021-01-05T21:00:44.508582Z\", \"created_time\": \"2021-01-05T21:00:25.956344Z\", \"created_time_dt\": \"2021-01-05T21:00:25.956344Z\", \"duration\": \"0:00:18\", \"iteration\": \"37\", \"goal\": null, \"run_name\": \"Canceled\", \"run_properties\": null}, {\"run_id\": \"AutoML_b41a0d8e-8a07-4e82-ac68-cae8152970b4_38\", \"run_number\": 55, \"metric\": null, \"status\": \"Completed\", \"run_type\": \"azureml.scriptrun\", \"training_percent\": \"100\", \"start_time\": \"2021-01-05T21:01:00.0043Z\", \"end_time\": \"2021-01-05T21:02:35.81611Z\", \"created_time\": \"2021-01-05T21:00:46.643142Z\", \"created_time_dt\": \"2021-01-05T21:00:46.643142Z\", \"duration\": \"0:01:49\", \"iteration\": \"38\", \"goal\": \"accuracy_max\", \"run_name\": \"VotingEnsemble\", \"run_properties\": \"classification_labels=None,\\n                              estimators=[('6',\\n                                           Pipeline(memory=None,\\n                                                    steps=[('standardscalerwrapper',\\n                                                            <azureml.automl.runtime.shared.model_wrappers.StandardScalerWrapper object at 0x7fccd8271198>\", \"primary_metric\": 0.6376, \"best_metric\": 0.6376}, {\"run_id\": \"AutoML_b41a0d8e-8a07-4e82-ac68-cae8152970b4_39\", \"run_number\": 56, \"metric\": null, \"status\": \"Completed\", \"run_type\": \"azureml.scriptrun\", \"training_percent\": \"100\", \"start_time\": \"2021-01-05T21:00:59.428902Z\", \"end_time\": \"2021-01-05T21:02:51.732878Z\", \"created_time\": \"2021-01-05T21:00:46.7827Z\", \"created_time_dt\": \"2021-01-05T21:00:46.7827Z\", \"duration\": \"0:02:04\", \"iteration\": \"39\", \"goal\": \"accuracy_max\", \"run_name\": \"StackEnsemble\", \"run_properties\": \"base_learners=[('6',\\n                                        Pipeline(memory=None,\\n                                                 steps=[('standardscalerwrapper',\\n                                                         <azureml.automl.runtime.shared.model_wrappers.StandardScalerWrapper object at 0x7f597286f438>\", \"primary_metric\": 0.6363, \"best_metric\": 0.6376}], \"children_metrics\": {\"categories\": [0], \"series\": {\"f1_score_weighted\": [{\"categories\": [\"0\", \"1\", \"2\", \"3\", \"4\", \"5\", \"6\", \"7\", \"8\", \"9\", \"10\", \"11\", \"12\", \"13\", \"14\", \"15\", \"16\", \"17\", \"18\", \"19\", \"20\", \"22\", \"23\", \"24\", \"25\", \"26\", \"27\", \"28\", \"29\", \"30\", \"31\", \"32\", \"33\", \"34\", \"35\", \"38\", \"39\"], \"mode\": \"markers\", \"name\": \"f1_score_weighted\", \"stepped\": false, \"type\": \"scatter\", \"data\": [0.6178080229645694, 0.623879917010697, 0.5790604060589828, 0.5435486966728701, 0.5198451265546197, 0.5728790583853696, 0.6271213099833257, 0.608388962093924, 0.612579414756784, 0.5818702458142946, 0.6138584153223668, 0.6061220439164655, 0.587448434390691, 0.6177723677816541, 0.6108878377197537, 0.6035627089857982, 0.614439064806232, 0.6156376869249108, 0.6064635290904783, 0.6161022411087441, 0.6195927834669235, 0.6001155064476288, 0.6084463366612752, 0.6186976328750715, 0.440532774608241, 0.6084727121102168, 0.6142190623243398, 0.6093433180642406, 0.608677814297495, 0.6064320882623563, 0.5878099364455743, 0.6112928755378091, 0.6172349706625357, 0.584076597144431, 0.5938492045417039, 0.6376129954389803, 0.6362420184441573]}, {\"categories\": [\"0\", \"1\", \"2\", \"3\", \"4\", \"5\", \"6\", \"7\", \"8\", \"9\", \"10\", \"11\", \"12\", \"13\", \"14\", \"15\", \"16\", \"17\", \"18\", \"19\", \"20\", \"22\", \"23\", \"24\", \"25\", \"26\", \"27\", \"28\", \"29\", \"30\", \"31\", \"32\", \"33\", \"34\", \"35\", \"38\", \"39\"], \"mode\": \"lines\", \"name\": \"f1_score_weighted_max\", \"stepped\": true, \"type\": \"scatter\", \"data\": [0.6178080229645694, 0.623879917010697, 0.623879917010697, 0.623879917010697, 0.623879917010697, 0.623879917010697, 0.6271213099833257, 0.6271213099833257, 0.6271213099833257, 0.6271213099833257, 0.6271213099833257, 0.6271213099833257, 0.6271213099833257, 0.6271213099833257, 0.6271213099833257, 0.6271213099833257, 0.6271213099833257, 0.6271213099833257, 0.6271213099833257, 0.6271213099833257, 0.6271213099833257, 0.6271213099833257, 0.6271213099833257, 0.6271213099833257, 0.6271213099833257, 0.6271213099833257, 0.6271213099833257, 0.6271213099833257, 0.6271213099833257, 0.6271213099833257, 0.6271213099833257, 0.6271213099833257, 0.6271213099833257, 0.6271213099833257, 0.6271213099833257, 0.6376129954389803, 0.6376129954389803]}], \"balanced_accuracy\": [{\"categories\": [\"0\", \"1\", \"2\", \"3\", \"4\", \"5\", \"6\", \"7\", \"8\", \"9\", \"10\", \"11\", \"12\", \"13\", \"14\", \"15\", \"16\", \"17\", \"18\", \"19\", \"20\", \"22\", \"23\", \"24\", \"25\", \"26\", \"27\", \"28\", \"29\", \"30\", \"31\", \"32\", \"33\", \"34\", \"35\", \"38\", \"39\"], \"mode\": \"markers\", \"name\": \"balanced_accuracy\", \"stepped\": false, \"type\": \"scatter\", \"data\": [0.6178096895057201, 0.623824766248154, 0.5812998826171141, 0.5539202169863808, 0.5298664756102951, 0.5741652664686882, 0.627046260891673, 0.6087673286986437, 0.6127477065885909, 0.581987612774644, 0.6141969101853346, 0.6064100503670282, 0.5970706794916278, 0.6180272813080899, 0.6109913125149307, 0.6095197053961154, 0.6148194690561869, 0.6158734799044001, 0.6070346410557783, 0.616881792131291, 0.6199452010489699, 0.6001503592079526, 0.6087057697296011, 0.6188385490405924, 0.5279279793308245, 0.6133881071357342, 0.6156697672712138, 0.6098495428592393, 0.6091039541400194, 0.607291904894464, 0.5878349444074248, 0.6113217671064195, 0.6177128501953432, 0.5841072635402556, 0.5972293581880855, 0.6376637619117124, 0.6364909394437638]}, {\"categories\": [\"0\", \"1\", \"2\", \"3\", \"4\", \"5\", \"6\", \"7\", \"8\", \"9\", \"10\", \"11\", \"12\", \"13\", \"14\", \"15\", \"16\", \"17\", \"18\", \"19\", \"20\", \"22\", \"23\", \"24\", \"25\", \"26\", \"27\", \"28\", \"29\", \"30\", \"31\", \"32\", \"33\", \"34\", \"35\", \"38\", \"39\"], \"mode\": \"lines\", \"name\": \"balanced_accuracy_max\", \"stepped\": true, \"type\": \"scatter\", \"data\": [0.6178096895057201, 0.623824766248154, 0.623824766248154, 0.623824766248154, 0.623824766248154, 0.623824766248154, 0.627046260891673, 0.627046260891673, 0.627046260891673, 0.627046260891673, 0.627046260891673, 0.627046260891673, 0.627046260891673, 0.627046260891673, 0.627046260891673, 0.627046260891673, 0.627046260891673, 0.627046260891673, 0.627046260891673, 0.627046260891673, 0.627046260891673, 0.627046260891673, 0.627046260891673, 0.627046260891673, 0.627046260891673, 0.627046260891673, 0.627046260891673, 0.627046260891673, 0.627046260891673, 0.627046260891673, 0.627046260891673, 0.627046260891673, 0.627046260891673, 0.627046260891673, 0.627046260891673, 0.6376637619117124, 0.6376637619117124]}], \"f1_score_macro\": [{\"categories\": [\"0\", \"1\", \"2\", \"3\", \"4\", \"5\", \"6\", \"7\", \"8\", \"9\", \"10\", \"11\", \"12\", \"13\", \"14\", \"15\", \"16\", \"17\", \"18\", \"19\", \"20\", \"22\", \"23\", \"24\", \"25\", \"26\", \"27\", \"28\", \"29\", \"30\", \"31\", \"32\", \"33\", \"34\", \"35\", \"38\", \"39\"], \"mode\": \"markers\", \"name\": \"f1_score_macro\", \"stepped\": false, \"type\": \"scatter\", \"data\": [0.6177403253601101, 0.6237418606415122, 0.5787313822153991, 0.5432409248806638, 0.5189783603778523, 0.5729162946563586, 0.6269937768786862, 0.6080689783301381, 0.6125665198469251, 0.5818343280860586, 0.6138648402565335, 0.6061361824727267, 0.5879286574083401, 0.6177888920042569, 0.610813118587719, 0.6039433409989516, 0.6144536349911994, 0.6153975441605083, 0.6060845938659175, 0.6161798733358874, 0.6196163120035919, 0.6000240368805934, 0.6084563677865774, 0.6186799659695903, 0.439258848585198, 0.6088361987962764, 0.6144082661853341, 0.6092141540916819, 0.60872705765057, 0.6065150121322528, 0.5877496973456686, 0.611230233872858, 0.6172867446794553, 0.5840069874887167, 0.5937547909359128, 0.6375678259506241, 0.6362433397130121]}, {\"categories\": [\"0\", \"1\", \"2\", \"3\", \"4\", \"5\", \"6\", \"7\", \"8\", \"9\", \"10\", \"11\", \"12\", \"13\", \"14\", \"15\", \"16\", \"17\", \"18\", \"19\", \"20\", \"22\", \"23\", \"24\", \"25\", \"26\", \"27\", \"28\", \"29\", \"30\", \"31\", \"32\", \"33\", \"34\", \"35\", \"38\", \"39\"], \"mode\": \"lines\", \"name\": \"f1_score_macro_max\", \"stepped\": true, \"type\": \"scatter\", \"data\": [0.6177403253601101, 0.6237418606415122, 0.6237418606415122, 0.6237418606415122, 0.6237418606415122, 0.6237418606415122, 0.6269937768786862, 0.6269937768786862, 0.6269937768786862, 0.6269937768786862, 0.6269937768786862, 0.6269937768786862, 0.6269937768786862, 0.6269937768786862, 0.6269937768786862, 0.6269937768786862, 0.6269937768786862, 0.6269937768786862, 0.6269937768786862, 0.6269937768786862, 0.6269937768786862, 0.6269937768786862, 0.6269937768786862, 0.6269937768786862, 0.6269937768786862, 0.6269937768786862, 0.6269937768786862, 0.6269937768786862, 0.6269937768786862, 0.6269937768786862, 0.6269937768786862, 0.6269937768786862, 0.6269937768786862, 0.6269937768786862, 0.6269937768786862, 0.6375678259506241, 0.6375678259506241]}], \"recall_score_macro\": [{\"categories\": [\"0\", \"1\", \"2\", \"3\", \"4\", \"5\", \"6\", \"7\", \"8\", \"9\", \"10\", \"11\", \"12\", \"13\", \"14\", \"15\", \"16\", \"17\", \"18\", \"19\", \"20\", \"22\", \"23\", \"24\", \"25\", \"26\", \"27\", \"28\", \"29\", \"30\", \"31\", \"32\", \"33\", \"34\", \"35\", \"38\", \"39\"], \"mode\": \"markers\", \"name\": \"recall_score_macro\", \"stepped\": false, \"type\": \"scatter\", \"data\": [0.6178096895057201, 0.623824766248154, 0.5812998826171141, 0.5539202169863808, 0.5298664756102951, 0.5741652664686882, 0.627046260891673, 0.6087673286986437, 0.6127477065885909, 0.581987612774644, 0.6141969101853346, 0.6064100503670282, 0.5970706794916278, 0.6180272813080899, 0.6109913125149307, 0.6095197053961154, 0.6148194690561869, 0.6158734799044001, 0.6070346410557783, 0.616881792131291, 0.6199452010489699, 0.6001503592079526, 0.6087057697296011, 0.6188385490405924, 0.5279279793308245, 0.6133881071357342, 0.6156697672712138, 0.6098495428592393, 0.6091039541400194, 0.607291904894464, 0.5878349444074248, 0.6113217671064195, 0.6177128501953432, 0.5841072635402556, 0.5972293581880855, 0.6376637619117124, 0.6364909394437638]}, {\"categories\": [\"0\", \"1\", \"2\", \"3\", \"4\", \"5\", \"6\", \"7\", \"8\", \"9\", \"10\", \"11\", \"12\", \"13\", \"14\", \"15\", \"16\", \"17\", \"18\", \"19\", \"20\", \"22\", \"23\", \"24\", \"25\", \"26\", \"27\", \"28\", \"29\", \"30\", \"31\", \"32\", \"33\", \"34\", \"35\", \"38\", \"39\"], \"mode\": \"lines\", \"name\": \"recall_score_macro_max\", \"stepped\": true, \"type\": \"scatter\", \"data\": [0.6178096895057201, 0.623824766248154, 0.623824766248154, 0.623824766248154, 0.623824766248154, 0.623824766248154, 0.627046260891673, 0.627046260891673, 0.627046260891673, 0.627046260891673, 0.627046260891673, 0.627046260891673, 0.627046260891673, 0.627046260891673, 0.627046260891673, 0.627046260891673, 0.627046260891673, 0.627046260891673, 0.627046260891673, 0.627046260891673, 0.627046260891673, 0.627046260891673, 0.627046260891673, 0.627046260891673, 0.627046260891673, 0.627046260891673, 0.627046260891673, 0.627046260891673, 0.627046260891673, 0.627046260891673, 0.627046260891673, 0.627046260891673, 0.627046260891673, 0.627046260891673, 0.627046260891673, 0.6376637619117124, 0.6376637619117124]}], \"matthews_correlation\": [{\"categories\": [\"0\", \"1\", \"2\", \"3\", \"4\", \"5\", \"6\", \"7\", \"8\", \"9\", \"10\", \"11\", \"12\", \"13\", \"14\", \"15\", \"16\", \"17\", \"18\", \"19\", \"20\", \"22\", \"23\", \"24\", \"25\", \"26\", \"27\", \"28\", \"29\", \"30\", \"31\", \"32\", \"33\", \"34\", \"35\", \"38\", \"39\"], \"mode\": \"markers\", \"name\": \"matthews_correlation\", \"stepped\": false, \"type\": \"scatter\", \"data\": [0.23561167259285037, 0.24780579302308164, 0.16477330155994885, 0.11322236890339643, 0.06269491474692357, 0.14916053361923293, 0.2541980446974211, 0.2186915314503494, 0.22552049561318407, 0.16399914905473126, 0.22855637480698462, 0.21289505253773808, 0.202302219069259, 0.23608776708929408, 0.22212024213901574, 0.22458848953629174, 0.22981897396155904, 0.23256088770528072, 0.21548524110018502, 0.23423884659845937, 0.24002910985079287, 0.20039100817947034, 0.2174723141915794, 0.23768254948016102, 0.08934977062816521, 0.23131023816892538, 0.2322951490306182, 0.22047667265640375, 0.21833981298845034, 0.215106374930519, 0.17566322276669571, 0.22265532687387307, 0.23562393580433097, 0.16823304267246159, 0.19799695994884836, 0.2753086631258564, 0.2730714184450228]}, {\"categories\": [\"0\", \"1\", \"2\", \"3\", \"4\", \"5\", \"6\", \"7\", \"8\", \"9\", \"10\", \"11\", \"12\", \"13\", \"14\", \"15\", \"16\", \"17\", \"18\", \"19\", \"20\", \"22\", \"23\", \"24\", \"25\", \"26\", \"27\", \"28\", \"29\", \"30\", \"31\", \"32\", \"33\", \"34\", \"35\", \"38\", \"39\"], \"mode\": \"lines\", \"name\": \"matthews_correlation_max\", \"stepped\": true, \"type\": \"scatter\", \"data\": [0.23561167259285037, 0.24780579302308164, 0.24780579302308164, 0.24780579302308164, 0.24780579302308164, 0.24780579302308164, 0.2541980446974211, 0.2541980446974211, 0.2541980446974211, 0.2541980446974211, 0.2541980446974211, 0.2541980446974211, 0.2541980446974211, 0.2541980446974211, 0.2541980446974211, 0.2541980446974211, 0.2541980446974211, 0.2541980446974211, 0.2541980446974211, 0.2541980446974211, 0.2541980446974211, 0.2541980446974211, 0.2541980446974211, 0.2541980446974211, 0.2541980446974211, 0.2541980446974211, 0.2541980446974211, 0.2541980446974211, 0.2541980446974211, 0.2541980446974211, 0.2541980446974211, 0.2541980446974211, 0.2541980446974211, 0.2541980446974211, 0.2541980446974211, 0.2753086631258564, 0.2753086631258564]}], \"average_precision_score_micro\": [{\"categories\": [\"0\", \"1\", \"2\", \"3\", \"4\", \"5\", \"6\", \"7\", \"8\", \"9\", \"10\", \"11\", \"12\", \"13\", \"14\", \"15\", \"16\", \"17\", \"18\", \"19\", \"20\", \"22\", \"23\", \"24\", \"25\", \"26\", \"27\", \"28\", \"29\", \"30\", \"31\", \"32\", \"33\", \"34\", \"35\", \"38\", \"39\"], \"mode\": \"markers\", \"name\": \"average_precision_score_micro\", \"stepped\": false, \"type\": \"scatter\", \"data\": [0.6701107739298199, 0.6777162630175676, 0.6177460322790739, 0.5698924412220462, 0.5398720056010986, 0.6022692625317002, 0.6823186808465738, 0.6637188317272439, 0.6630310512271962, 0.6129186550606939, 0.6698332109820843, 0.6538936988050279, 0.6495052551201279, 0.6637377555279456, 0.659015136953729, 0.6489659564487965, 0.6650617712276903, 0.6638084086401154, 0.6400836780932158, 0.6641331361018377, 0.658720935745748, 0.6376584355128081, 0.6620804925212634, 0.6653127387878408, 0.5864885045035313, 0.660559261284077, 0.6623363204841481, 0.6657983704535616, 0.6603605322213395, 0.6547783965838743, 0.6130059350390787, 0.6605035897472835, 0.6610682720990296, 0.6065750195331417, 0.6466574286950237, 0.6850607643945976, 0.6847931392542617]}, {\"categories\": [\"0\", \"1\", \"2\", \"3\", \"4\", \"5\", \"6\", \"7\", \"8\", \"9\", \"10\", \"11\", \"12\", \"13\", \"14\", \"15\", \"16\", \"17\", \"18\", \"19\", \"20\", \"22\", \"23\", \"24\", \"25\", \"26\", \"27\", \"28\", \"29\", \"30\", \"31\", \"32\", \"33\", \"34\", \"35\", \"38\", \"39\"], \"mode\": \"lines\", \"name\": \"average_precision_score_micro_max\", \"stepped\": true, \"type\": \"scatter\", \"data\": [0.6701107739298199, 0.6777162630175676, 0.6777162630175676, 0.6777162630175676, 0.6777162630175676, 0.6777162630175676, 0.6823186808465738, 0.6823186808465738, 0.6823186808465738, 0.6823186808465738, 0.6823186808465738, 0.6823186808465738, 0.6823186808465738, 0.6823186808465738, 0.6823186808465738, 0.6823186808465738, 0.6823186808465738, 0.6823186808465738, 0.6823186808465738, 0.6823186808465738, 0.6823186808465738, 0.6823186808465738, 0.6823186808465738, 0.6823186808465738, 0.6823186808465738, 0.6823186808465738, 0.6823186808465738, 0.6823186808465738, 0.6823186808465738, 0.6823186808465738, 0.6823186808465738, 0.6823186808465738, 0.6823186808465738, 0.6823186808465738, 0.6823186808465738, 0.6850607643945976, 0.6850607643945976]}], \"precision_score_micro\": [{\"categories\": [\"0\", \"1\", \"2\", \"3\", \"4\", \"5\", \"6\", \"7\", \"8\", \"9\", \"10\", \"11\", \"12\", \"13\", \"14\", \"15\", \"16\", \"17\", \"18\", \"19\", \"20\", \"22\", \"23\", \"24\", \"25\", \"26\", \"27\", \"28\", \"29\", \"30\", \"31\", \"32\", \"33\", \"34\", \"35\", \"38\", \"39\"], \"mode\": \"markers\", \"name\": \"precision_score_micro\", \"stepped\": false, \"type\": \"scatter\", \"data\": [0.6178, 0.624, 0.5819, 0.5545, 0.5314, 0.5739, 0.6272, 0.6094000000000002, 0.6125999999999999, 0.5819000000000001, 0.6140000000000001, 0.6062, 0.5958, 0.6178000000000001, 0.611, 0.6083999999999999, 0.6146, 0.6163000000000001, 0.6078, 0.6165, 0.6197, 0.6002, 0.6085, 0.6187000000000001, 0.5306, 0.6123, 0.615, 0.6100000000000001, 0.6088, 0.6069, 0.5878000000000001, 0.6113, 0.6174000000000001, 0.5841, 0.5973, 0.6376000000000001, 0.6363000000000001]}, {\"categories\": [\"0\", \"1\", \"2\", \"3\", \"4\", \"5\", \"6\", \"7\", \"8\", \"9\", \"10\", \"11\", \"12\", \"13\", \"14\", \"15\", \"16\", \"17\", \"18\", \"19\", \"20\", \"22\", \"23\", \"24\", \"25\", \"26\", \"27\", \"28\", \"29\", \"30\", \"31\", \"32\", \"33\", \"34\", \"35\", \"38\", \"39\"], \"mode\": \"lines\", \"name\": \"precision_score_micro_max\", \"stepped\": true, \"type\": \"scatter\", \"data\": [0.6178, 0.624, 0.624, 0.624, 0.624, 0.624, 0.6272, 0.6272, 0.6272, 0.6272, 0.6272, 0.6272, 0.6272, 0.6272, 0.6272, 0.6272, 0.6272, 0.6272, 0.6272, 0.6272, 0.6272, 0.6272, 0.6272, 0.6272, 0.6272, 0.6272, 0.6272, 0.6272, 0.6272, 0.6272, 0.6272, 0.6272, 0.6272, 0.6272, 0.6272, 0.6376000000000001, 0.6376000000000001]}], \"log_loss\": [{\"categories\": [\"0\", \"1\", \"2\", \"3\", \"4\", \"5\", \"6\", \"7\", \"8\", \"9\", \"10\", \"11\", \"12\", \"13\", \"14\", \"15\", \"16\", \"17\", \"18\", \"19\", \"20\", \"22\", \"23\", \"24\", \"25\", \"26\", \"27\", \"28\", \"29\", \"30\", \"31\", \"32\", \"33\", \"34\", \"35\", \"38\", \"39\"], \"mode\": \"markers\", \"name\": \"log_loss\", \"stepped\": false, \"type\": \"scatter\", \"data\": [0.6455401438756957, 0.6376559026921522, 0.6804215368204561, 0.6890708968663228, 0.69272318208483, 0.6854391425423232, 0.6350348203361296, 0.6496789876190286, 0.6458597600878043, 0.937293923696547, 0.6457566445290397, 0.6488605761040013, 0.6646813802801034, 0.6456881609319801, 0.6649308666537613, 0.652696196105145, 0.6439206664059177, 0.6591889544858658, 0.6680392513320289, 0.6471369679360004, 0.6516776072825621, 0.6580402611154436, 0.6469236478799141, 0.6449905122775103, 0.6915872301176662, 0.6498392782566725, 0.645416254911541, 0.6658229231121698, 0.6467318942731645, 0.6513184575633341, 0.690169438734787, 0.6580761679578003, 0.6466350864506681, 0.6908961662993441, 0.6835066962889317, 0.6404037431875012, 0.6371780047165544]}, {\"categories\": [\"0\", \"1\", \"2\", \"3\", \"4\", \"5\", \"6\", \"7\", \"8\", \"9\", \"10\", \"11\", \"12\", \"13\", \"14\", \"15\", \"16\", \"17\", \"18\", \"19\", \"20\", \"22\", \"23\", \"24\", \"25\", \"26\", \"27\", \"28\", \"29\", \"30\", \"31\", \"32\", \"33\", \"34\", \"35\", \"38\", \"39\"], \"mode\": \"lines\", \"name\": \"log_loss_min\", \"stepped\": true, \"type\": \"scatter\", \"data\": [0.6455401438756957, 0.6376559026921522, 0.6376559026921522, 0.6376559026921522, 0.6376559026921522, 0.6376559026921522, 0.6350348203361296, 0.6350348203361296, 0.6350348203361296, 0.6350348203361296, 0.6350348203361296, 0.6350348203361296, 0.6350348203361296, 0.6350348203361296, 0.6350348203361296, 0.6350348203361296, 0.6350348203361296, 0.6350348203361296, 0.6350348203361296, 0.6350348203361296, 0.6350348203361296, 0.6350348203361296, 0.6350348203361296, 0.6350348203361296, 0.6350348203361296, 0.6350348203361296, 0.6350348203361296, 0.6350348203361296, 0.6350348203361296, 0.6350348203361296, 0.6350348203361296, 0.6350348203361296, 0.6350348203361296, 0.6350348203361296, 0.6350348203361296, 0.6350348203361296, 0.6350348203361296]}], \"average_precision_score_weighted\": [{\"categories\": [\"0\", \"1\", \"2\", \"3\", \"4\", \"5\", \"6\", \"7\", \"8\", \"9\", \"10\", \"11\", \"12\", \"13\", \"14\", \"15\", \"16\", \"17\", \"18\", \"19\", \"20\", \"22\", \"23\", \"24\", \"25\", \"26\", \"27\", \"28\", \"29\", \"30\", \"31\", \"32\", \"33\", \"34\", \"35\", \"38\", \"39\"], \"mode\": \"markers\", \"name\": \"average_precision_score_weighted\", \"stepped\": false, \"type\": \"scatter\", \"data\": [0.6678019831241044, 0.6732308059433608, 0.619670460486985, 0.5747214463308639, 0.5373274867454252, 0.6040789366777887, 0.6793742277029258, 0.6574746916799568, 0.6592288693913052, 0.6134059944178918, 0.6650183152475099, 0.6482298908738556, 0.6440445727194639, 0.6615156572413389, 0.6548977998727692, 0.6438324416792397, 0.6610126836983007, 0.6615494339091014, 0.6423481710083966, 0.6603880119160906, 0.653096881363142, 0.6370176372030858, 0.6584454794739119, 0.6619410825771757, 0.6178878854569876, 0.6574100865076415, 0.6583688854753984, 0.6613495535510114, 0.6583244548230355, 0.6486326171873367, 0.6141092713469529, 0.655699906106405, 0.6576915510039176, 0.6075323531588328, 0.6478530200807565, 0.6814373682936801, 0.6813850081754541]}, {\"categories\": [\"0\", \"1\", \"2\", \"3\", \"4\", \"5\", \"6\", \"7\", \"8\", \"9\", \"10\", \"11\", \"12\", \"13\", \"14\", \"15\", \"16\", \"17\", \"18\", \"19\", \"20\", \"22\", \"23\", \"24\", \"25\", \"26\", \"27\", \"28\", \"29\", \"30\", \"31\", \"32\", \"33\", \"34\", \"35\", \"38\", \"39\"], \"mode\": \"lines\", \"name\": \"average_precision_score_weighted_max\", \"stepped\": true, \"type\": \"scatter\", \"data\": [0.6678019831241044, 0.6732308059433608, 0.6732308059433608, 0.6732308059433608, 0.6732308059433608, 0.6732308059433608, 0.6793742277029258, 0.6793742277029258, 0.6793742277029258, 0.6793742277029258, 0.6793742277029258, 0.6793742277029258, 0.6793742277029258, 0.6793742277029258, 0.6793742277029258, 0.6793742277029258, 0.6793742277029258, 0.6793742277029258, 0.6793742277029258, 0.6793742277029258, 0.6793742277029258, 0.6793742277029258, 0.6793742277029258, 0.6793742277029258, 0.6793742277029258, 0.6793742277029258, 0.6793742277029258, 0.6793742277029258, 0.6793742277029258, 0.6793742277029258, 0.6793742277029258, 0.6793742277029258, 0.6793742277029258, 0.6793742277029258, 0.6793742277029258, 0.6814373682936801, 0.6814373682936801]}], \"f1_score_micro\": [{\"categories\": [\"0\", \"1\", \"2\", \"3\", \"4\", \"5\", \"6\", \"7\", \"8\", \"9\", \"10\", \"11\", \"12\", \"13\", \"14\", \"15\", \"16\", \"17\", \"18\", \"19\", \"20\", \"22\", \"23\", \"24\", \"25\", \"26\", \"27\", \"28\", \"29\", \"30\", \"31\", \"32\", \"33\", \"34\", \"35\", \"38\", \"39\"], \"mode\": \"markers\", \"name\": \"f1_score_micro\", \"stepped\": false, \"type\": \"scatter\", \"data\": [0.6178, 0.624, 0.5819, 0.5545, 0.5314, 0.5739, 0.6272, 0.6094000000000002, 0.6125999999999999, 0.5819000000000001, 0.6140000000000001, 0.6062, 0.5958, 0.6178000000000001, 0.611, 0.6083999999999999, 0.6146, 0.6163000000000001, 0.6078, 0.6165, 0.6197, 0.6002, 0.6085, 0.6187000000000001, 0.5306, 0.6123, 0.615, 0.6100000000000001, 0.6088, 0.6069, 0.5878000000000001, 0.6113, 0.6174000000000001, 0.5841, 0.5973, 0.6376000000000001, 0.6363000000000001]}, {\"categories\": [\"0\", \"1\", \"2\", \"3\", \"4\", \"5\", \"6\", \"7\", \"8\", \"9\", \"10\", \"11\", \"12\", \"13\", \"14\", \"15\", \"16\", \"17\", \"18\", \"19\", \"20\", \"22\", \"23\", \"24\", \"25\", \"26\", \"27\", \"28\", \"29\", \"30\", \"31\", \"32\", \"33\", \"34\", \"35\", \"38\", \"39\"], \"mode\": \"lines\", \"name\": \"f1_score_micro_max\", \"stepped\": true, \"type\": \"scatter\", \"data\": [0.6178, 0.624, 0.624, 0.624, 0.624, 0.624, 0.6272, 0.6272, 0.6272, 0.6272, 0.6272, 0.6272, 0.6272, 0.6272, 0.6272, 0.6272, 0.6272, 0.6272, 0.6272, 0.6272, 0.6272, 0.6272, 0.6272, 0.6272, 0.6272, 0.6272, 0.6272, 0.6272, 0.6272, 0.6272, 0.6272, 0.6272, 0.6272, 0.6272, 0.6272, 0.6376000000000001, 0.6376000000000001]}], \"precision_score_weighted\": [{\"categories\": [\"0\", \"1\", \"2\", \"3\", \"4\", \"5\", \"6\", \"7\", \"8\", \"9\", \"10\", \"11\", \"12\", \"13\", \"14\", \"15\", \"16\", \"17\", \"18\", \"19\", \"20\", \"22\", \"23\", \"24\", \"25\", \"26\", \"27\", \"28\", \"29\", \"30\", \"31\", \"32\", \"33\", \"34\", \"35\", \"38\", \"39\"], \"mode\": \"markers\", \"name\": \"precision_score_weighted\", \"stepped\": false, \"type\": \"scatter\", \"data\": [0.6179470670456151, 0.6240819156407258, 0.5835467086348812, 0.5596808039116719, 0.5332432029826268, 0.5751930991561836, 0.6272531334916598, 0.6099340408549002, 0.6129462882395764, 0.5821709945729954, 0.6145437118078081, 0.6066670968954352, 0.6058760716418254, 0.6182547792552534, 0.6112699013376384, 0.6155245741329725, 0.6151901707561467, 0.6167419629093716, 0.6084439797903096, 0.6175852159757313, 0.6202823261317484, 0.6003740746696972, 0.6089523487797786, 0.6190178801042565, 0.6079386315279505, 0.6183525629265736, 0.6169238406715549, 0.6107370753299429, 0.6094417632494007, 0.6080423913813251, 0.5879836920644808, 0.6114805850765223, 0.6181209130907097, 0.5842722558954823, 0.6009717771164288, 0.6377989744319355, 0.6367689344286983]}, {\"categories\": [\"0\", \"1\", \"2\", \"3\", \"4\", \"5\", \"6\", \"7\", \"8\", \"9\", \"10\", \"11\", \"12\", \"13\", \"14\", \"15\", \"16\", \"17\", \"18\", \"19\", \"20\", \"22\", \"23\", \"24\", \"25\", \"26\", \"27\", \"28\", \"29\", \"30\", \"31\", \"32\", \"33\", \"34\", \"35\", \"38\", \"39\"], \"mode\": \"lines\", \"name\": \"precision_score_weighted_max\", \"stepped\": true, \"type\": \"scatter\", \"data\": [0.6179470670456151, 0.6240819156407258, 0.6240819156407258, 0.6240819156407258, 0.6240819156407258, 0.6240819156407258, 0.6272531334916598, 0.6272531334916598, 0.6272531334916598, 0.6272531334916598, 0.6272531334916598, 0.6272531334916598, 0.6272531334916598, 0.6272531334916598, 0.6272531334916598, 0.6272531334916598, 0.6272531334916598, 0.6272531334916598, 0.6272531334916598, 0.6272531334916598, 0.6272531334916598, 0.6272531334916598, 0.6272531334916598, 0.6272531334916598, 0.6272531334916598, 0.6272531334916598, 0.6272531334916598, 0.6272531334916598, 0.6272531334916598, 0.6272531334916598, 0.6272531334916598, 0.6272531334916598, 0.6272531334916598, 0.6272531334916598, 0.6272531334916598, 0.6377989744319355, 0.6377989744319355]}], \"precision_score_macro\": [{\"categories\": [\"0\", \"1\", \"2\", \"3\", \"4\", \"5\", \"6\", \"7\", \"8\", \"9\", \"10\", \"11\", \"12\", \"13\", \"14\", \"15\", \"16\", \"17\", \"18\", \"19\", \"20\", \"22\", \"23\", \"24\", \"25\", \"26\", \"27\", \"28\", \"29\", \"30\", \"31\", \"32\", \"33\", \"34\", \"35\", \"38\", \"39\"], \"mode\": \"markers\", \"name\": \"precision_score_macro\", \"stepped\": false, \"type\": \"scatter\", \"data\": [0.6178019858826597, 0.6239810995132394, 0.5834933781418932, 0.559603710560235, 0.5332152787614295, 0.5749997899416183, 0.6271518364081516, 0.6099329949789124, 0.6127727923317494, 0.5820115393870997, 0.6143595814299677, 0.6064850454585823, 0.6054955325073017, 0.6180604929032376, 0.6111290413426171, 0.615141542141812, 0.6149997108896722, 0.6166892336964775, 0.6084576964777932, 0.6173576863045875, 0.6200839579430932, 0.6002406996485236, 0.608766580512221, 0.6188440078191979, 0.6078215626560489, 0.6179693875852487, 0.6166282543807382, 0.610629268732799, 0.609235923094355, 0.6078152777832232, 0.587828279551228, 0.6113335656561356, 0.6179111887964689, 0.5841257836697582, 0.6008397419450537, 0.6376449033869295, 0.6365805085077668]}, {\"categories\": [\"0\", \"1\", \"2\", \"3\", \"4\", \"5\", \"6\", \"7\", \"8\", \"9\", \"10\", \"11\", \"12\", \"13\", \"14\", \"15\", \"16\", \"17\", \"18\", \"19\", \"20\", \"22\", \"23\", \"24\", \"25\", \"26\", \"27\", \"28\", \"29\", \"30\", \"31\", \"32\", \"33\", \"34\", \"35\", \"38\", \"39\"], \"mode\": \"lines\", \"name\": \"precision_score_macro_max\", \"stepped\": true, \"type\": \"scatter\", \"data\": [0.6178019858826597, 0.6239810995132394, 0.6239810995132394, 0.6239810995132394, 0.6239810995132394, 0.6239810995132394, 0.6271518364081516, 0.6271518364081516, 0.6271518364081516, 0.6271518364081516, 0.6271518364081516, 0.6271518364081516, 0.6271518364081516, 0.6271518364081516, 0.6271518364081516, 0.6271518364081516, 0.6271518364081516, 0.6271518364081516, 0.6271518364081516, 0.6271518364081516, 0.6271518364081516, 0.6271518364081516, 0.6271518364081516, 0.6271518364081516, 0.6271518364081516, 0.6271518364081516, 0.6271518364081516, 0.6271518364081516, 0.6271518364081516, 0.6271518364081516, 0.6271518364081516, 0.6271518364081516, 0.6271518364081516, 0.6271518364081516, 0.6271518364081516, 0.6376449033869295, 0.6376449033869295]}], \"accuracy\": [{\"categories\": [\"0\", \"1\", \"2\", \"3\", \"4\", \"5\", \"6\", \"7\", \"8\", \"9\", \"10\", \"11\", \"12\", \"13\", \"14\", \"15\", \"16\", \"17\", \"18\", \"19\", \"20\", \"22\", \"23\", \"24\", \"25\", \"26\", \"27\", \"28\", \"29\", \"30\", \"31\", \"32\", \"33\", \"34\", \"35\", \"38\", \"39\"], \"mode\": \"markers\", \"name\": \"accuracy\", \"stepped\": false, \"type\": \"scatter\", \"data\": [0.6178, 0.624, 0.5819, 0.5545, 0.5314, 0.5739, 0.6272, 0.6094000000000002, 0.6125999999999999, 0.5819000000000001, 0.6140000000000001, 0.6062, 0.5958, 0.6178000000000001, 0.611, 0.6083999999999999, 0.6146, 0.6163000000000001, 0.6078, 0.6165, 0.6197, 0.6002, 0.6085, 0.6187000000000001, 0.5306, 0.6123, 0.615, 0.6100000000000001, 0.6088, 0.6069, 0.5878000000000001, 0.6113, 0.6174000000000001, 0.5841, 0.5973, 0.6376000000000001, 0.6363000000000001]}, {\"categories\": [\"0\", \"1\", \"2\", \"3\", \"4\", \"5\", \"6\", \"7\", \"8\", \"9\", \"10\", \"11\", \"12\", \"13\", \"14\", \"15\", \"16\", \"17\", \"18\", \"19\", \"20\", \"22\", \"23\", \"24\", \"25\", \"26\", \"27\", \"28\", \"29\", \"30\", \"31\", \"32\", \"33\", \"34\", \"35\", \"38\", \"39\"], \"mode\": \"lines\", \"name\": \"accuracy_max\", \"stepped\": true, \"type\": \"scatter\", \"data\": [0.6178, 0.624, 0.624, 0.624, 0.624, 0.624, 0.6272, 0.6272, 0.6272, 0.6272, 0.6272, 0.6272, 0.6272, 0.6272, 0.6272, 0.6272, 0.6272, 0.6272, 0.6272, 0.6272, 0.6272, 0.6272, 0.6272, 0.6272, 0.6272, 0.6272, 0.6272, 0.6272, 0.6272, 0.6272, 0.6272, 0.6272, 0.6272, 0.6272, 0.6272, 0.6376000000000001, 0.6376000000000001]}], \"recall_score_weighted\": [{\"categories\": [\"0\", \"1\", \"2\", \"3\", \"4\", \"5\", \"6\", \"7\", \"8\", \"9\", \"10\", \"11\", \"12\", \"13\", \"14\", \"15\", \"16\", \"17\", \"18\", \"19\", \"20\", \"22\", \"23\", \"24\", \"25\", \"26\", \"27\", \"28\", \"29\", \"30\", \"31\", \"32\", \"33\", \"34\", \"35\", \"38\", \"39\"], \"mode\": \"markers\", \"name\": \"recall_score_weighted\", \"stepped\": false, \"type\": \"scatter\", \"data\": [0.6178, 0.624, 0.5819, 0.5545, 0.5314, 0.5739, 0.6272, 0.6094000000000002, 0.6125999999999999, 0.5819000000000001, 0.6140000000000001, 0.6062, 0.5958, 0.6178000000000001, 0.611, 0.6083999999999999, 0.6146, 0.6163000000000001, 0.6078, 0.6165, 0.6197, 0.6002, 0.6085, 0.6187000000000001, 0.5306, 0.6123, 0.615, 0.6100000000000001, 0.6088, 0.6069, 0.5878000000000001, 0.6113, 0.6174000000000001, 0.5841, 0.5973, 0.6376000000000001, 0.6363000000000001]}, {\"categories\": [\"0\", \"1\", \"2\", \"3\", \"4\", \"5\", \"6\", \"7\", \"8\", \"9\", \"10\", \"11\", \"12\", \"13\", \"14\", \"15\", \"16\", \"17\", \"18\", \"19\", \"20\", \"22\", \"23\", \"24\", \"25\", \"26\", \"27\", \"28\", \"29\", \"30\", \"31\", \"32\", \"33\", \"34\", \"35\", \"38\", \"39\"], \"mode\": \"lines\", \"name\": \"recall_score_weighted_max\", \"stepped\": true, \"type\": \"scatter\", \"data\": [0.6178, 0.624, 0.624, 0.624, 0.624, 0.624, 0.6272, 0.6272, 0.6272, 0.6272, 0.6272, 0.6272, 0.6272, 0.6272, 0.6272, 0.6272, 0.6272, 0.6272, 0.6272, 0.6272, 0.6272, 0.6272, 0.6272, 0.6272, 0.6272, 0.6272, 0.6272, 0.6272, 0.6272, 0.6272, 0.6272, 0.6272, 0.6272, 0.6272, 0.6272, 0.6376000000000001, 0.6376000000000001]}], \"AUC_macro\": [{\"categories\": [\"0\", \"1\", \"2\", \"3\", \"4\", \"5\", \"6\", \"7\", \"8\", \"9\", \"10\", \"11\", \"12\", \"13\", \"14\", \"15\", \"16\", \"17\", \"18\", \"19\", \"20\", \"22\", \"23\", \"24\", \"25\", \"26\", \"27\", \"28\", \"29\", \"30\", \"31\", \"32\", \"33\", \"34\", \"35\", \"38\", \"39\"], \"mode\": \"markers\", \"name\": \"AUC_macro\", \"stepped\": false, \"type\": \"scatter\", \"data\": [0.6727645050971365, 0.6790850708500742, 0.6265053358904495, 0.583380483535973, 0.5413699644442782, 0.6086029647083149, 0.6859690133888046, 0.663139532161332, 0.6648402049497731, 0.6220046538639246, 0.6702819227595282, 0.6596917114173004, 0.6495988116251248, 0.6687819739164063, 0.6624002478963407, 0.655263739706452, 0.6668390106937184, 0.6677908746151109, 0.6527180403607357, 0.6664253897205131, 0.6638593896130827, 0.6466927398562741, 0.6642595569996066, 0.6703931916803113, 0.6255958722918527, 0.6623501855176216, 0.6645425849999882, 0.66572210269944, 0.6618862005975377, 0.6606145638023938, 0.6228622661168186, 0.6620925836449784, 0.6657753043382553, 0.6196345059485597, 0.6518613044936398, 0.6891508554649647, 0.6889902335120807]}, {\"categories\": [\"0\", \"1\", \"2\", \"3\", \"4\", \"5\", \"6\", \"7\", \"8\", \"9\", \"10\", \"11\", \"12\", \"13\", \"14\", \"15\", \"16\", \"17\", \"18\", \"19\", \"20\", \"22\", \"23\", \"24\", \"25\", \"26\", \"27\", \"28\", \"29\", \"30\", \"31\", \"32\", \"33\", \"34\", \"35\", \"38\", \"39\"], \"mode\": \"lines\", \"name\": \"AUC_macro_max\", \"stepped\": true, \"type\": \"scatter\", \"data\": [0.6727645050971365, 0.6790850708500742, 0.6790850708500742, 0.6790850708500742, 0.6790850708500742, 0.6790850708500742, 0.6859690133888046, 0.6859690133888046, 0.6859690133888046, 0.6859690133888046, 0.6859690133888046, 0.6859690133888046, 0.6859690133888046, 0.6859690133888046, 0.6859690133888046, 0.6859690133888046, 0.6859690133888046, 0.6859690133888046, 0.6859690133888046, 0.6859690133888046, 0.6859690133888046, 0.6859690133888046, 0.6859690133888046, 0.6859690133888046, 0.6859690133888046, 0.6859690133888046, 0.6859690133888046, 0.6859690133888046, 0.6859690133888046, 0.6859690133888046, 0.6859690133888046, 0.6859690133888046, 0.6859690133888046, 0.6859690133888046, 0.6859690133888046, 0.6891508554649647, 0.6891508554649647]}], \"average_precision_score_macro\": [{\"categories\": [\"0\", \"1\", \"2\", \"3\", \"4\", \"5\", \"6\", \"7\", \"8\", \"9\", \"10\", \"11\", \"12\", \"13\", \"14\", \"15\", \"16\", \"17\", \"18\", \"19\", \"20\", \"22\", \"23\", \"24\", \"25\", \"26\", \"27\", \"28\", \"29\", \"30\", \"31\", \"32\", \"33\", \"34\", \"35\", \"38\", \"39\"], \"mode\": \"markers\", \"name\": \"average_precision_score_macro\", \"stepped\": false, \"type\": \"scatter\", \"data\": [0.6675600216195003, 0.6729397484523596, 0.6194248217387135, 0.5745816607463995, 0.5372363702170356, 0.6038391834910557, 0.6790624379169607, 0.6571517379471261, 0.6589152889224642, 0.6131134668761098, 0.664722566117665, 0.6479608802500685, 0.6437275195007082, 0.6612051861926946, 0.6545592057013921, 0.6435215073973423, 0.6607356949384128, 0.6612724235855942, 0.6420870025725762, 0.6601074046868035, 0.6527555534502609, 0.636752725325404, 0.6581300817155966, 0.6616328284410663, 0.6176406686753383, 0.6570866811826027, 0.6580628632263587, 0.6610451187047278, 0.6580604039395761, 0.6483307077622996, 0.6137824843123336, 0.6553664407919326, 0.6573709888126669, 0.6072424619131371, 0.6475110808122302, 0.6811340727295183, 0.681083454973402]}, {\"categories\": [\"0\", \"1\", \"2\", \"3\", \"4\", \"5\", \"6\", \"7\", \"8\", \"9\", \"10\", \"11\", \"12\", \"13\", \"14\", \"15\", \"16\", \"17\", \"18\", \"19\", \"20\", \"22\", \"23\", \"24\", \"25\", \"26\", \"27\", \"28\", \"29\", \"30\", \"31\", \"32\", \"33\", \"34\", \"35\", \"38\", \"39\"], \"mode\": \"lines\", \"name\": \"average_precision_score_macro_max\", \"stepped\": true, \"type\": \"scatter\", \"data\": [0.6675600216195003, 0.6729397484523596, 0.6729397484523596, 0.6729397484523596, 0.6729397484523596, 0.6729397484523596, 0.6790624379169607, 0.6790624379169607, 0.6790624379169607, 0.6790624379169607, 0.6790624379169607, 0.6790624379169607, 0.6790624379169607, 0.6790624379169607, 0.6790624379169607, 0.6790624379169607, 0.6790624379169607, 0.6790624379169607, 0.6790624379169607, 0.6790624379169607, 0.6790624379169607, 0.6790624379169607, 0.6790624379169607, 0.6790624379169607, 0.6790624379169607, 0.6790624379169607, 0.6790624379169607, 0.6790624379169607, 0.6790624379169607, 0.6790624379169607, 0.6790624379169607, 0.6790624379169607, 0.6790624379169607, 0.6790624379169607, 0.6790624379169607, 0.6811340727295183, 0.6811340727295183]}], \"recall_score_micro\": [{\"categories\": [\"0\", \"1\", \"2\", \"3\", \"4\", \"5\", \"6\", \"7\", \"8\", \"9\", \"10\", \"11\", \"12\", \"13\", \"14\", \"15\", \"16\", \"17\", \"18\", \"19\", \"20\", \"22\", \"23\", \"24\", \"25\", \"26\", \"27\", \"28\", \"29\", \"30\", \"31\", \"32\", \"33\", \"34\", \"35\", \"38\", \"39\"], \"mode\": \"markers\", \"name\": \"recall_score_micro\", \"stepped\": false, \"type\": \"scatter\", \"data\": [0.6178, 0.624, 0.5819, 0.5545, 0.5314, 0.5739, 0.6272, 0.6094000000000002, 0.6125999999999999, 0.5819000000000001, 0.6140000000000001, 0.6062, 0.5958, 0.6178000000000001, 0.611, 0.6083999999999999, 0.6146, 0.6163000000000001, 0.6078, 0.6165, 0.6197, 0.6002, 0.6085, 0.6187000000000001, 0.5306, 0.6123, 0.615, 0.6100000000000001, 0.6088, 0.6069, 0.5878000000000001, 0.6113, 0.6174000000000001, 0.5841, 0.5973, 0.6376000000000001, 0.6363000000000001]}, {\"categories\": [\"0\", \"1\", \"2\", \"3\", \"4\", \"5\", \"6\", \"7\", \"8\", \"9\", \"10\", \"11\", \"12\", \"13\", \"14\", \"15\", \"16\", \"17\", \"18\", \"19\", \"20\", \"22\", \"23\", \"24\", \"25\", \"26\", \"27\", \"28\", \"29\", \"30\", \"31\", \"32\", \"33\", \"34\", \"35\", \"38\", \"39\"], \"mode\": \"lines\", \"name\": \"recall_score_micro_max\", \"stepped\": true, \"type\": \"scatter\", \"data\": [0.6178, 0.624, 0.624, 0.624, 0.624, 0.624, 0.6272, 0.6272, 0.6272, 0.6272, 0.6272, 0.6272, 0.6272, 0.6272, 0.6272, 0.6272, 0.6272, 0.6272, 0.6272, 0.6272, 0.6272, 0.6272, 0.6272, 0.6272, 0.6272, 0.6272, 0.6272, 0.6272, 0.6272, 0.6272, 0.6272, 0.6272, 0.6272, 0.6272, 0.6272, 0.6376000000000001, 0.6376000000000001]}], \"AUC_weighted\": [{\"categories\": [\"0\", \"1\", \"2\", \"3\", \"4\", \"5\", \"6\", \"7\", \"8\", \"9\", \"10\", \"11\", \"12\", \"13\", \"14\", \"15\", \"16\", \"17\", \"18\", \"19\", \"20\", \"22\", \"23\", \"24\", \"25\", \"26\", \"27\", \"28\", \"29\", \"30\", \"31\", \"32\", \"33\", \"34\", \"35\", \"38\", \"39\"], \"mode\": \"markers\", \"name\": \"AUC_weighted\", \"stepped\": false, \"type\": \"scatter\", \"data\": [0.6727645050971365, 0.6790850708500741, 0.6265053358904495, 0.583380483535973, 0.5413699644442782, 0.6086029647083149, 0.6859690133888046, 0.663139532161332, 0.6648402049497731, 0.6220046538639243, 0.6702819227595282, 0.6596917114173004, 0.6495988116251248, 0.6687819739164063, 0.6624002478963407, 0.655263739706452, 0.6668390092926199, 0.6677908746151109, 0.6527180403607356, 0.6664253897205132, 0.6638593896130827, 0.6466927398562741, 0.6642595569996066, 0.6703931916803113, 0.6255958722918527, 0.6623501855176216, 0.6645425849999882, 0.66572210269944, 0.6618862005975378, 0.6606145638023938, 0.6228622661168187, 0.6620925836449782, 0.6657753043382553, 0.6196345059485597, 0.6518613044936398, 0.6891508554649647, 0.6889902335120809]}, {\"categories\": [\"0\", \"1\", \"2\", \"3\", \"4\", \"5\", \"6\", \"7\", \"8\", \"9\", \"10\", \"11\", \"12\", \"13\", \"14\", \"15\", \"16\", \"17\", \"18\", \"19\", \"20\", \"22\", \"23\", \"24\", \"25\", \"26\", \"27\", \"28\", \"29\", \"30\", \"31\", \"32\", \"33\", \"34\", \"35\", \"38\", \"39\"], \"mode\": \"lines\", \"name\": \"AUC_weighted_max\", \"stepped\": true, \"type\": \"scatter\", \"data\": [0.6727645050971365, 0.6790850708500741, 0.6790850708500741, 0.6790850708500741, 0.6790850708500741, 0.6790850708500741, 0.6859690133888046, 0.6859690133888046, 0.6859690133888046, 0.6859690133888046, 0.6859690133888046, 0.6859690133888046, 0.6859690133888046, 0.6859690133888046, 0.6859690133888046, 0.6859690133888046, 0.6859690133888046, 0.6859690133888046, 0.6859690133888046, 0.6859690133888046, 0.6859690133888046, 0.6859690133888046, 0.6859690133888046, 0.6859690133888046, 0.6859690133888046, 0.6859690133888046, 0.6859690133888046, 0.6859690133888046, 0.6859690133888046, 0.6859690133888046, 0.6859690133888046, 0.6859690133888046, 0.6859690133888046, 0.6859690133888046, 0.6859690133888046, 0.6891508554649647, 0.6891508554649647]}], \"norm_macro_recall\": [{\"categories\": [\"0\", \"1\", \"2\", \"3\", \"4\", \"5\", \"6\", \"7\", \"8\", \"9\", \"10\", \"11\", \"12\", \"13\", \"14\", \"15\", \"16\", \"17\", \"18\", \"19\", \"20\", \"22\", \"23\", \"24\", \"25\", \"26\", \"27\", \"28\", \"29\", \"30\", \"31\", \"32\", \"33\", \"34\", \"35\", \"38\", \"39\"], \"mode\": \"markers\", \"name\": \"norm_macro_recall\", \"stepped\": false, \"type\": \"scatter\", \"data\": [0.23561937901144042, 0.2476495324963079, 0.16259976523422814, 0.10784043397276175, 0.05973295122059037, 0.14833053293737647, 0.2540925217833461, 0.21753465739728747, 0.22549541317718175, 0.1639752255492879, 0.22839382037066916, 0.21282010073405627, 0.19414135898325582, 0.2360545626161799, 0.22198262502986124, 0.21903941079223088, 0.22963893811237393, 0.23174695980880022, 0.21406928211155668, 0.23376358426258204, 0.23989040209793983, 0.20030071841590508, 0.21741153945920208, 0.2376770980811847, 0.05585595866164868, 0.2267762142714683, 0.23133953454242767, 0.21969908571847868, 0.21820790828003872, 0.2145838097889281, 0.17566988881484943, 0.22264353421283886, 0.23542570039068628, 0.16821452708051104, 0.194458716376171, 0.2753275238234247, 0.2729818788875276]}, {\"categories\": [\"0\", \"1\", \"2\", \"3\", \"4\", \"5\", \"6\", \"7\", \"8\", \"9\", \"10\", \"11\", \"12\", \"13\", \"14\", \"15\", \"16\", \"17\", \"18\", \"19\", \"20\", \"22\", \"23\", \"24\", \"25\", \"26\", \"27\", \"28\", \"29\", \"30\", \"31\", \"32\", \"33\", \"34\", \"35\", \"38\", \"39\"], \"mode\": \"lines\", \"name\": \"norm_macro_recall_max\", \"stepped\": true, \"type\": \"scatter\", \"data\": [0.23561937901144042, 0.2476495324963079, 0.2476495324963079, 0.2476495324963079, 0.2476495324963079, 0.2476495324963079, 0.2540925217833461, 0.2540925217833461, 0.2540925217833461, 0.2540925217833461, 0.2540925217833461, 0.2540925217833461, 0.2540925217833461, 0.2540925217833461, 0.2540925217833461, 0.2540925217833461, 0.2540925217833461, 0.2540925217833461, 0.2540925217833461, 0.2540925217833461, 0.2540925217833461, 0.2540925217833461, 0.2540925217833461, 0.2540925217833461, 0.2540925217833461, 0.2540925217833461, 0.2540925217833461, 0.2540925217833461, 0.2540925217833461, 0.2540925217833461, 0.2540925217833461, 0.2540925217833461, 0.2540925217833461, 0.2540925217833461, 0.2540925217833461, 0.2753275238234247, 0.2753275238234247]}], \"AUC_micro\": [{\"categories\": [\"0\", \"1\", \"2\", \"3\", \"4\", \"5\", \"6\", \"7\", \"8\", \"9\", \"10\", \"11\", \"12\", \"13\", \"14\", \"15\", \"16\", \"17\", \"18\", \"19\", \"20\", \"22\", \"23\", \"24\", \"25\", \"26\", \"27\", \"28\", \"29\", \"30\", \"31\", \"32\", \"33\", \"34\", \"35\", \"38\", \"39\"], \"mode\": \"markers\", \"name\": \"AUC_micro\", \"stepped\": false, \"type\": \"scatter\", \"data\": [0.6729170000000001, 0.6803468, 0.6233774000000001, 0.5766452000000001, 0.5439136999999999, 0.60786625, 0.6864245, 0.66431945, 0.6656443750000001, 0.62205555, 0.6712054499999999, 0.66104225, 0.6493714500000001, 0.6690932, 0.662443, 0.6555683, 0.6675144, 0.66733775, 0.6512313000000001, 0.6669856750000001, 0.6649781499999999, 0.6463753999999999, 0.66495745, 0.6707604500000001, 0.5775585, 0.66188255, 0.6650254500000001, 0.6663953499999999, 0.6622155000000001, 0.6621378499999999, 0.6230706, 0.66268225, 0.6663555000000001, 0.61961405, 0.6461443, 0.6895131, 0.6892694500000001]}, {\"categories\": [\"0\", \"1\", \"2\", \"3\", \"4\", \"5\", \"6\", \"7\", \"8\", \"9\", \"10\", \"11\", \"12\", \"13\", \"14\", \"15\", \"16\", \"17\", \"18\", \"19\", \"20\", \"22\", \"23\", \"24\", \"25\", \"26\", \"27\", \"28\", \"29\", \"30\", \"31\", \"32\", \"33\", \"34\", \"35\", \"38\", \"39\"], \"mode\": \"lines\", \"name\": \"AUC_micro_max\", \"stepped\": true, \"type\": \"scatter\", \"data\": [0.6729170000000001, 0.6803468, 0.6803468, 0.6803468, 0.6803468, 0.6803468, 0.6864245, 0.6864245, 0.6864245, 0.6864245, 0.6864245, 0.6864245, 0.6864245, 0.6864245, 0.6864245, 0.6864245, 0.6864245, 0.6864245, 0.6864245, 0.6864245, 0.6864245, 0.6864245, 0.6864245, 0.6864245, 0.6864245, 0.6864245, 0.6864245, 0.6864245, 0.6864245, 0.6864245, 0.6864245, 0.6864245, 0.6864245, 0.6864245, 0.6864245, 0.6895131, 0.6895131]}], \"weighted_accuracy\": [{\"categories\": [\"0\", \"1\", \"2\", \"3\", \"4\", \"5\", \"6\", \"7\", \"8\", \"9\", \"10\", \"11\", \"12\", \"13\", \"14\", \"15\", \"16\", \"17\", \"18\", \"19\", \"20\", \"22\", \"23\", \"24\", \"25\", \"26\", \"27\", \"28\", \"29\", \"30\", \"31\", \"32\", \"33\", \"34\", \"35\", \"38\", \"39\"], \"mode\": \"markers\", \"name\": \"weighted_accuracy\", \"stepped\": false, \"type\": \"scatter\", \"data\": [0.6177902675452612, 0.6241750119928604, 0.5824993981045201, 0.5550787391464064, 0.5329322795564667, 0.5736348568414277, 0.6273535911798517, 0.6100320806222024, 0.6124524928496518, 0.5818124892872121, 0.6138033462069179, 0.6059902199580861, 0.5945312032158876, 0.6175729607440215, 0.6110086469371865, 0.6072816478905289, 0.6143808092572712, 0.6167259191234912, 0.6085644746311683, 0.6161186944052421, 0.6194551344148731, 0.6002495129062125, 0.608294422007549, 0.6185615715713506, 0.533268536443957, 0.6112131934682996, 0.6143309813830121, 0.6101503117274334, 0.6084964230844403, 0.6065085555868477, 0.5877650346417499, 0.6112782488831419, 0.6170875333317095, 0.5840928172522457, 0.5973704482886175, 0.6375363288373189, 0.6361092708853742]}, {\"categories\": [\"0\", \"1\", \"2\", \"3\", \"4\", \"5\", \"6\", \"7\", \"8\", \"9\", \"10\", \"11\", \"12\", \"13\", \"14\", \"15\", \"16\", \"17\", \"18\", \"19\", \"20\", \"22\", \"23\", \"24\", \"25\", \"26\", \"27\", \"28\", \"29\", \"30\", \"31\", \"32\", \"33\", \"34\", \"35\", \"38\", \"39\"], \"mode\": \"lines\", \"name\": \"weighted_accuracy_max\", \"stepped\": true, \"type\": \"scatter\", \"data\": [0.6177902675452612, 0.6241750119928604, 0.6241750119928604, 0.6241750119928604, 0.6241750119928604, 0.6241750119928604, 0.6273535911798517, 0.6273535911798517, 0.6273535911798517, 0.6273535911798517, 0.6273535911798517, 0.6273535911798517, 0.6273535911798517, 0.6273535911798517, 0.6273535911798517, 0.6273535911798517, 0.6273535911798517, 0.6273535911798517, 0.6273535911798517, 0.6273535911798517, 0.6273535911798517, 0.6273535911798517, 0.6273535911798517, 0.6273535911798517, 0.6273535911798517, 0.6273535911798517, 0.6273535911798517, 0.6273535911798517, 0.6273535911798517, 0.6273535911798517, 0.6273535911798517, 0.6273535911798517, 0.6273535911798517, 0.6273535911798517, 0.6273535911798517, 0.6375363288373189, 0.6375363288373189]}]}, \"metricName\": null, \"primaryMetricName\": \"accuracy\", \"showLegend\": false}, \"run_metrics\": [{\"name\": \"experiment_status\", \"run_id\": \"AutoML_b41a0d8e-8a07-4e82-ac68-cae8152970b4\", \"categories\": [0, 1, 2, 3, 4, 5, 6, 7, 8, 9, 10, 11, 12, 13], \"series\": [{\"data\": [\"DatasetEvaluation\", \"FeaturesGeneration\", \"DatasetFeaturization\", \"DatasetFeaturizationCompleted\", \"DatasetCrossValidationSplit\", \"ModelSelection\", \"BestRunExplainModel\", \"ModelExplanationDataSetSetup\", \"PickSurrogateModel\", \"EngineeredFeatureExplanations\", \"EngineeredFeatureExplanations\", \"RawFeaturesExplanations\", \"RawFeaturesExplanations\", \"BestRunExplainModel\"]}]}, {\"name\": \"experiment_status_description\", \"run_id\": \"AutoML_b41a0d8e-8a07-4e82-ac68-cae8152970b4\", \"categories\": [0, 1, 2, 3, 4, 5, 6, 7, 8, 9, 10, 11, 12, 13], \"series\": [{\"data\": [\"Gathering dataset statistics.\", \"Generating features for the dataset.\", \"Beginning to fit featurizers and featurize the dataset.\", \"Completed fit featurizers and featurizing the dataset.\", \"Generating individually featurized CV splits.\", \"Beginning model selection.\", \"Best run model explanations started\", \"Model explanations data setup completed\", \"Choosing LinearModel as the surrogate model for explanations\", \"Computation of engineered features started\", \"Computation of engineered features completed\", \"Computation of raw features started\", \"Computation of raw features completed\", \"Best run model explanations completed\"]}]}, {\"name\": \"log_loss\", \"run_id\": \"AutoML_b41a0d8e-8a07-4e82-ac68-cae8152970b4\", \"categories\": [0], \"series\": [{\"data\": [0.6404037431875012]}]}, {\"name\": \"average_precision_score_macro\", \"run_id\": \"AutoML_b41a0d8e-8a07-4e82-ac68-cae8152970b4\", \"categories\": [0], \"series\": [{\"data\": [0.6811340727295183]}]}, {\"name\": \"average_precision_score_micro\", \"run_id\": \"AutoML_b41a0d8e-8a07-4e82-ac68-cae8152970b4\", \"categories\": [0], \"series\": [{\"data\": [0.6850607643945976]}]}, {\"name\": \"recall_score_micro\", \"run_id\": \"AutoML_b41a0d8e-8a07-4e82-ac68-cae8152970b4\", \"categories\": [0], \"series\": [{\"data\": [0.6376000000000001]}]}, {\"name\": \"f1_score_macro\", \"run_id\": \"AutoML_b41a0d8e-8a07-4e82-ac68-cae8152970b4\", \"categories\": [0], \"series\": [{\"data\": [0.6375678259506241]}]}, {\"name\": \"AUC_weighted\", \"run_id\": \"AutoML_b41a0d8e-8a07-4e82-ac68-cae8152970b4\", \"categories\": [0], \"series\": [{\"data\": [0.6891508554649647]}]}, {\"name\": \"precision_score_weighted\", \"run_id\": \"AutoML_b41a0d8e-8a07-4e82-ac68-cae8152970b4\", \"categories\": [0], \"series\": [{\"data\": [0.6377989744319355]}]}, {\"name\": \"balanced_accuracy\", \"run_id\": \"AutoML_b41a0d8e-8a07-4e82-ac68-cae8152970b4\", \"categories\": [0], \"series\": [{\"data\": [0.6376637619117124]}]}, {\"name\": \"AUC_macro\", \"run_id\": \"AutoML_b41a0d8e-8a07-4e82-ac68-cae8152970b4\", \"categories\": [0], \"series\": [{\"data\": [0.6891508554649647]}]}, {\"name\": \"AUC_micro\", \"run_id\": \"AutoML_b41a0d8e-8a07-4e82-ac68-cae8152970b4\", \"categories\": [0], \"series\": [{\"data\": [0.6895131]}]}, {\"name\": \"average_precision_score_weighted\", \"run_id\": \"AutoML_b41a0d8e-8a07-4e82-ac68-cae8152970b4\", \"categories\": [0], \"series\": [{\"data\": [0.6814373682936801]}]}, {\"name\": \"matthews_correlation\", \"run_id\": \"AutoML_b41a0d8e-8a07-4e82-ac68-cae8152970b4\", \"categories\": [0], \"series\": [{\"data\": [0.2753086631258564]}]}, {\"name\": \"recall_score_macro\", \"run_id\": \"AutoML_b41a0d8e-8a07-4e82-ac68-cae8152970b4\", \"categories\": [0], \"series\": [{\"data\": [0.6376637619117124]}]}, {\"name\": \"f1_score_micro\", \"run_id\": \"AutoML_b41a0d8e-8a07-4e82-ac68-cae8152970b4\", \"categories\": [0], \"series\": [{\"data\": [0.6376000000000001]}]}, {\"name\": \"accuracy\", \"run_id\": \"AutoML_b41a0d8e-8a07-4e82-ac68-cae8152970b4\", \"categories\": [0], \"series\": [{\"data\": [0.6376000000000001]}]}, {\"name\": \"norm_macro_recall\", \"run_id\": \"AutoML_b41a0d8e-8a07-4e82-ac68-cae8152970b4\", \"categories\": [0], \"series\": [{\"data\": [0.2753275238234247]}]}, {\"name\": \"recall_score_weighted\", \"run_id\": \"AutoML_b41a0d8e-8a07-4e82-ac68-cae8152970b4\", \"categories\": [0], \"series\": [{\"data\": [0.6376000000000001]}]}, {\"name\": \"f1_score_weighted\", \"run_id\": \"AutoML_b41a0d8e-8a07-4e82-ac68-cae8152970b4\", \"categories\": [0], \"series\": [{\"data\": [0.6376129954389803]}]}, {\"name\": \"weighted_accuracy\", \"run_id\": \"AutoML_b41a0d8e-8a07-4e82-ac68-cae8152970b4\", \"categories\": [0], \"series\": [{\"data\": [0.6375363288373189]}]}, {\"name\": \"precision_score_macro\", \"run_id\": \"AutoML_b41a0d8e-8a07-4e82-ac68-cae8152970b4\", \"categories\": [0], \"series\": [{\"data\": [0.6376449033869295]}]}, {\"name\": \"precision_score_micro\", \"run_id\": \"AutoML_b41a0d8e-8a07-4e82-ac68-cae8152970b4\", \"categories\": [0], \"series\": [{\"data\": [0.6376000000000001]}]}], \"run_logs\": \"\\nRun is completed.\", \"graph\": {}, \"widget_settings\": {\"childWidgetDisplay\": \"popup\", \"send_telemetry\": false, \"log_level\": \"INFO\", \"sdk_version\": \"1.19.0\"}, \"loading\": false}"
     },
     "metadata": {},
     "output_type": "display_data"
    }
   ],
   "source": [
    "RunDetails(remote_run).show()"
   ]
  },
  {
   "cell_type": "markdown",
   "metadata": {},
   "source": [
    "## Best Model\n"
   ]
  },
  {
   "cell_type": "code",
   "execution_count": 12,
   "metadata": {},
   "outputs": [
    {
     "data": {
      "text/plain": [
       "{'precision_score_macro': 0.6376449033869295,\n",
       " 'precision_score_micro': 0.6376000000000001,\n",
       " 'accuracy': 0.6376000000000001,\n",
       " 'f1_score_micro': 0.6376000000000001,\n",
       " 'recall_score_micro': 0.6376000000000001,\n",
       " 'average_precision_score_macro': 0.6811340727295183,\n",
       " 'recall_score_macro': 0.6376637619117124,\n",
       " 'AUC_macro': 0.6891508554649647,\n",
       " 'f1_score_macro': 0.6375678259506241,\n",
       " 'balanced_accuracy': 0.6376637619117124,\n",
       " 'f1_score_weighted': 0.6376129954389803,\n",
       " 'log_loss': 0.6404037431875012,\n",
       " 'weighted_accuracy': 0.6375363288373189,\n",
       " 'AUC_micro': 0.6895131,\n",
       " 'average_precision_score_micro': 0.6850607643945976,\n",
       " 'AUC_weighted': 0.6891508554649647,\n",
       " 'average_precision_score_weighted': 0.6814373682936801,\n",
       " 'recall_score_weighted': 0.6376000000000001,\n",
       " 'matthews_correlation': 0.2753086631258564,\n",
       " 'norm_macro_recall': 0.2753275238234247,\n",
       " 'precision_score_weighted': 0.6377989744319355,\n",
       " 'confusion_matrix': 'aml://artifactId/ExperimentRun/dcid.AutoML_b41a0d8e-8a07-4e82-ac68-cae8152970b4_38/confusion_matrix',\n",
       " 'accuracy_table': 'aml://artifactId/ExperimentRun/dcid.AutoML_b41a0d8e-8a07-4e82-ac68-cae8152970b4_38/accuracy_table'}"
      ]
     },
     "execution_count": 12,
     "metadata": {},
     "output_type": "execute_result"
    }
   ],
   "source": [
    "best_run = remote_run.get_best_child()\n",
    "best_run.get_metrics()"
   ]
  },
  {
   "cell_type": "code",
   "execution_count": 13,
   "metadata": {},
   "outputs": [
    {
     "data": {
      "text/plain": [
       "{'runTemplate': 'automl_child',\n",
       " 'pipeline_id': '__AutoML_Ensemble__',\n",
       " 'pipeline_spec': '{\"pipeline_id\":\"__AutoML_Ensemble__\",\"objects\":[{\"module\":\"azureml.train.automl.ensemble\",\"class_name\":\"Ensemble\",\"spec_class\":\"sklearn\",\"param_args\":[],\"param_kwargs\":{\"automl_settings\":\"{\\'task_type\\':\\'classification\\',\\'primary_metric\\':\\'accuracy\\',\\'verbosity\\':20,\\'ensemble_iterations\\':15,\\'is_timeseries\\':False,\\'name\\':\\'MS-Malware\\',\\'compute_target\\':\\'malware-compute\\',\\'subscription_id\\':\\'610d6e37-4747-4a20-80eb-3aad70a55f43\\',\\'region\\':\\'southcentralus\\',\\'spark_service\\':None}\",\"ensemble_run_id\":\"AutoML_b41a0d8e-8a07-4e82-ac68-cae8152970b4_38\",\"experiment_name\":\"MS-Malware\",\"workspace_name\":\"quick-starts-ws-133553\",\"subscription_id\":\"610d6e37-4747-4a20-80eb-3aad70a55f43\",\"resource_group_name\":\"aml-quickstarts-133553\"}}]}',\n",
       " 'training_percent': '100',\n",
       " 'predicted_cost': None,\n",
       " 'iteration': '38',\n",
       " '_aml_system_scenario_identification': 'Remote.Child',\n",
       " '_azureml.ComputeTargetType': 'amlcompute',\n",
       " 'ContentSnapshotId': '57a45ce7-2b0f-4bd8-a67c-e10bc2c472eb',\n",
       " 'ProcessInfoFile': 'azureml-logs/process_info.json',\n",
       " 'ProcessStatusFile': 'azureml-logs/process_status.json',\n",
       " 'run_template': 'automl_child',\n",
       " 'run_preprocessor': '',\n",
       " 'run_algorithm': 'VotingEnsemble',\n",
       " 'conda_env_data_location': 'aml://artifact/ExperimentRun/dcid.AutoML_b41a0d8e-8a07-4e82-ac68-cae8152970b4_38/outputs/conda_env_v_1_0_0.yml',\n",
       " 'model_data_location': 'aml://artifact/ExperimentRun/dcid.AutoML_b41a0d8e-8a07-4e82-ac68-cae8152970b4_38/outputs/model.pkl',\n",
       " 'model_size_on_disk': '20547585',\n",
       " 'scoring_data_location': 'aml://artifact/ExperimentRun/dcid.AutoML_b41a0d8e-8a07-4e82-ac68-cae8152970b4_38/outputs/scoring_file_v_1_0_0.py',\n",
       " 'model_exp_support': 'True',\n",
       " 'pipeline_graph_version': '1.0.0',\n",
       " 'model_name': 'AutoMLb41a0d8e838',\n",
       " 'staticProperties': '{}',\n",
       " 'score': '0.6376000000000001',\n",
       " 'run_properties': \"classification_labels=None,\\n                              estimators=[('6',\\n                                           Pipeline(memory=None,\\n                                                    steps=[('standardscalerwrapper',\\n                                                            <azureml.automl.runtime.shared.model_wrappers.StandardScalerWrapper object at 0x7fccd8271198>\",\n",
       " 'pipeline_script': '{\"pipeline_id\":\"__AutoML_Ensemble__\",\"objects\":[{\"module\":\"azureml.train.automl.ensemble\",\"class_name\":\"Ensemble\",\"spec_class\":\"sklearn\",\"param_args\":[],\"param_kwargs\":{\"automl_settings\":\"{\\'task_type\\':\\'classification\\',\\'primary_metric\\':\\'accuracy\\',\\'verbosity\\':20,\\'ensemble_iterations\\':15,\\'is_timeseries\\':False,\\'name\\':\\'MS-Malware\\',\\'compute_target\\':\\'malware-compute\\',\\'subscription_id\\':\\'610d6e37-4747-4a20-80eb-3aad70a55f43\\',\\'region\\':\\'southcentralus\\',\\'spark_service\\':None}\",\"ensemble_run_id\":\"AutoML_b41a0d8e-8a07-4e82-ac68-cae8152970b4_38\",\"experiment_name\":\"MS-Malware\",\"workspace_name\":\"quick-starts-ws-133553\",\"subscription_id\":\"610d6e37-4747-4a20-80eb-3aad70a55f43\",\"resource_group_name\":\"aml-quickstarts-133553\"}}]}',\n",
       " 'training_type': 'MeanCrossValidation',\n",
       " 'num_classes': '',\n",
       " 'framework': 'sklearn',\n",
       " 'fit_time': '48',\n",
       " 'goal': 'accuracy_max',\n",
       " 'class_labels': '',\n",
       " 'primary_metric': 'accuracy',\n",
       " 'errors': '{}',\n",
       " 'fitted_pipeline': \"Pipeline(memory=None,\\n         steps=[('datatransformer',\\n                 DataTransformer(enable_dnn=None, enable_feature_sweeping=None,\\n                                 feature_sweeping_config=None,\\n                                 feature_sweeping_timeout=None,\\n                                 featurization_config=None, force_text_dnn=None,\\n                                 is_cross_validation=None,\\n                                 is_onnx_compatible=None, logger=None,\\n                                 observer=None, task=None, working_dir=None)),\\n                ('prefittedsoftvotingclassifier',...\\n                                                                                                solver='saga',\\n                                                                                                tol=0.0001,\\n                                                                                                verbose=0,\\n                                                                                                warm_start=False))],\\n                                                                     verbose=False))],\\n                                               flatten_transform=None,\\n                                               weights=[0.13333333333333333,\\n                                                        0.13333333333333333,\\n                                                        0.06666666666666667,\\n                                                        0.06666666666666667,\\n                                                        0.06666666666666667,\\n                                                        0.06666666666666667,\\n                                                        0.06666666666666667,\\n                                                        0.13333333333333333,\\n                                                        0.06666666666666667,\\n                                                        0.06666666666666667,\\n                                                        0.06666666666666667,\\n                                                        0.06666666666666667]))],\\n         verbose=False)\",\n",
       " 'friendly_errors': '{}',\n",
       " 'onnx_model_resource': '{}',\n",
       " 'error_code': '',\n",
       " 'failure_reason': '',\n",
       " 'feature_skus': 'automatedml_sdk_guardrails',\n",
       " 'dependencies_versions': '{\"azureml-train-automl-runtime\": \"1.19.0\", \"azureml-train-automl-client\": \"1.19.0\", \"azureml-telemetry\": \"1.19.0\", \"azureml-pipeline-core\": \"1.19.0\", \"azureml-model-management-sdk\": \"1.0.1b6.post1\", \"azureml-interpret\": \"1.19.0\", \"azureml-defaults\": \"1.19.0\", \"azureml-dataset-runtime\": \"1.19.0\", \"azureml-dataprep\": \"2.6.1\", \"azureml-dataprep-rslex\": \"1.4.0\", \"azureml-dataprep-native\": \"26.0.0\", \"azureml-core\": \"1.19.0\", \"azureml-automl-runtime\": \"1.19.0\", \"azureml-automl-core\": \"1.19.0\"}',\n",
       " 'num_cores': '2',\n",
       " 'num_logical_cores': '2',\n",
       " 'peak_memory_usage': '946124',\n",
       " 'vm_configuration': 'Intel(R) Xeon(R) Platinum 8171M CPU @ 2.60GHz',\n",
       " 'core_hours': '0.014075552500000001'}"
      ]
     },
     "execution_count": 13,
     "metadata": {},
     "output_type": "execute_result"
    }
   ],
   "source": [
    "best_run.properties"
   ]
  },
  {
   "cell_type": "markdown",
   "metadata": {},
   "source": [
    "## Model Deployment\n",
    "\n",
    "Below we register the model, create an inference config and deploy the model as a web service."
   ]
  },
  {
   "cell_type": "markdown",
   "metadata": {},
   "source": [
    "### Register Model"
   ]
  },
  {
   "cell_type": "code",
   "execution_count": 50,
   "metadata": {
    "collapsed": false,
    "gather": {
     "logged": 1598431435189
    },
    "jupyter": {
     "outputs_hidden": false,
     "source_hidden": false
    },
    "nteract": {
     "transient": {
      "deleting": false
     }
    }
   },
   "outputs": [
    {
     "name": "stdout",
     "output_type": "stream",
     "text": [
      "best_automl\tbest_automl:5\t5\n"
     ]
    }
   ],
   "source": [
    "model = best_run.register_model(model_name = 'best_automl', model_path='outputs/model.pkl')\n",
    "print(model.name, model.id, model.version, sep='\\t')"
   ]
  },
  {
   "cell_type": "markdown",
   "metadata": {},
   "source": [
    "### Create Inference and Deployment Config"
   ]
  },
  {
   "cell_type": "code",
   "execution_count": 134,
   "metadata": {},
   "outputs": [],
   "source": [
    "azml_env = Environment.get(workspace=ws, name=\"AzureML-AutoML\")\n",
    "inference_config = InferenceConfig(entry_script='automl_scoring.py', environment=azml_env)\n",
    "deployment_config = LocalWebservice.deploy_configuration()\n",
    "model = Model(ws, name='best_automl')"
   ]
  },
  {
   "cell_type": "markdown",
   "metadata": {},
   "source": [
    "### Deploy as Web Service"
   ]
  },
  {
   "cell_type": "code",
   "execution_count": 135,
   "metadata": {},
   "outputs": [
    {
     "name": "stdout",
     "output_type": "stream",
     "text": [
      "Downloading model best_automl:5 to /tmp/azureml_fb1zyxuu/best_automl/5\n",
      "Generating Docker build context.\n",
      "Package creation Succeeded\n",
      "Logging into Docker registry viennaglobal.azurecr.io\n",
      "Logging into Docker registry viennaglobal.azurecr.io\n",
      "Building Docker image from Dockerfile...\n",
      "Step 1/5 : FROM viennaglobal.azurecr.io/azureml/azureml_4f3cee89203e005745d1830c04fe722a\n",
      " ---> c354c32ff2d1\n",
      "Step 2/5 : COPY azureml-app /var/azureml-app\n",
      " ---> 53dad3312650\n",
      "Step 3/5 : RUN mkdir -p '/var/azureml-app' && echo eyJhY2NvdW50Q29udGV4dCI6eyJzdWJzY3JpcHRpb25JZCI6IjYxMGQ2ZTM3LTQ3NDctNGEyMC04MGViLTNhYWQ3MGE1NWY0MyIsInJlc291cmNlR3JvdXBOYW1lIjoiYW1sLXF1aWNrc3RhcnRzLTEzMzU1MyIsImFjY291bnROYW1lIjoicXVpY2stc3RhcnRzLXdzLTEzMzU1MyIsIndvcmtzcGFjZUlkIjoiYzNkNWZlNzctODc5YS00MDI4LWI5NTYtNWI2N2VhZDU5Yzg0In0sIm1vZGVscyI6e30sIm1vZGVsc0luZm8iOnt9fQ== | base64 --decode > /var/azureml-app/model_config_map.json\n",
      " ---> Running in f1de27fe7407\n",
      " ---> e32d3fef9f29\n",
      "Step 4/5 : RUN mv '/var/azureml-app/tmp3qdjqf8j.py' /var/azureml-app/main.py\n",
      " ---> Running in 1e52862bef75\n",
      " ---> c0b0791040c6\n",
      "Step 5/5 : CMD [\"runsvdir\",\"/var/runit\"]\n",
      " ---> Running in 2e71cd4961e6\n",
      " ---> e03e1f9c8b21\n",
      "Successfully built e03e1f9c8b21\n",
      "Successfully tagged myservice:latest\n",
      "Container has been successfully cleaned up.\n",
      "Image sha256:fea2a2b6e8ad0d6088009bdf0754b84f2a6ee1da085f9afb0fe4d72bbb32a476 successfully removed.\n",
      "Starting Docker container...\n",
      "Docker container running.\n",
      "Checking container health...\n",
      "Local webservice is running at http://localhost:32783\n"
     ]
    }
   ],
   "source": [
    "service = Model.deploy(ws, 'myservice', [model], inference_config, deployment_config)\n",
    "service.wait_for_deployment(show_output=True)"
   ]
  },
  {
   "cell_type": "markdown",
   "metadata": {},
   "source": [
    "### Test Web Service"
   ]
  },
  {
   "cell_type": "code",
   "execution_count": 136,
   "metadata": {},
   "outputs": [
    {
     "name": "stdout",
     "output_type": "stream",
     "text": [
      "Service state: running\n",
      "Scoring URI: http://localhost:32783/score\n"
     ]
    }
   ],
   "source": [
    "print(\"Service state: {}\".format(service.state))\n",
    "print(\"Scoring URI: {}\".format( service.scoring_uri))"
   ]
  },
  {
   "cell_type": "code",
   "execution_count": 137,
   "metadata": {
    "collapsed": false,
    "gather": {
     "logged": 1598432707604
    },
    "jupyter": {
     "outputs_hidden": false,
     "source_hidden": false
    },
    "nteract": {
     "transient": {
      "deleting": false
     }
    }
   },
   "outputs": [],
   "source": [
    "import json\n",
    "test_data_path = 'https://raw.githubusercontent.com/tybyers/AZMLND_projects/capstone/capstone/data/test_data.json'\n",
    "\n",
    "r = requests.get(test_data_path)\n",
    "input_data = r.text"
   ]
  },
  {
   "cell_type": "code",
   "execution_count": 139,
   "metadata": {},
   "outputs": [
    {
     "data": {
      "text/plain": [
       "[0, 1, 0, 0, 0]"
      ]
     },
     "execution_count": 139,
     "metadata": {},
     "output_type": "execute_result"
    }
   ],
   "source": [
    "# Set the content type\n",
    "headers = {'Content-Type': 'application/json'}\n",
    "# If authentication is enabled, set the authorization header\n",
    "\n",
    "# Make the request and display the response\n",
    "resp = requests.post(service.scoring_uri, input_data, headers=headers)\n",
    "resp.json()"
   ]
  },
  {
   "cell_type": "code",
   "execution_count": 141,
   "metadata": {},
   "outputs": [
    {
     "data": {
      "text/plain": [
       "[0, 0, 1, 1, 0]"
      ]
     },
     "execution_count": 141,
     "metadata": {},
     "output_type": "execute_result"
    }
   ],
   "source": [
    "# compare to actual:\n",
    "[obs['HasDetections'] for obs in json.loads(input_data)['data']]"
   ]
  },
  {
   "cell_type": "markdown",
   "metadata": {},
   "source": [
    "Accuracy on this small subset only 40% (2/5). "
   ]
  },
  {
   "cell_type": "markdown",
   "metadata": {},
   "source": [
    "### Web Service Logs"
   ]
  },
  {
   "cell_type": "code",
   "execution_count": 143,
   "metadata": {},
   "outputs": [
    {
     "data": {
      "text/plain": [
       "'2021-01-05T23:28:06,438407794+00:00 - iot-server/run \\n2021-01-05T23:28:06,438727391+00:00 - gunicorn/run \\n2021-01-05T23:28:06,439487083+00:00 - rsyslog/run \\n2021-01-05T23:28:06,448162689+00:00 - nginx/run \\n/usr/sbin/nginx: /azureml-envs/azureml_8eff28b157f42edcd2424a5aae6c8074/lib/libcrypto.so.1.0.0: no version information available (required by /usr/sbin/nginx)\\n/usr/sbin/nginx: /azureml-envs/azureml_8eff28b157f42edcd2424a5aae6c8074/lib/libcrypto.so.1.0.0: no version information available (required by /usr/sbin/nginx)\\n/usr/sbin/nginx: /azureml-envs/azureml_8eff28b157f42edcd2424a5aae6c8074/lib/libssl.so.1.0.0: no version information available (required by /usr/sbin/nginx)\\n/usr/sbin/nginx: /azureml-envs/azureml_8eff28b157f42edcd2424a5aae6c8074/lib/libssl.so.1.0.0: no version information available (required by /usr/sbin/nginx)\\n/usr/sbin/nginx: /azureml-envs/azureml_8eff28b157f42edcd2424a5aae6c8074/lib/libssl.so.1.0.0: no version information available (required by /usr/sbin/nginx)\\nrsyslogd: /azureml-envs/azureml_8eff28b157f42edcd2424a5aae6c8074/lib/libuuid.so.1: no version information available (required by rsyslogd)\\nEdgeHubConnectionString and IOTEDGE_IOTHUBHOSTNAME are not set. Exiting...\\n2021-01-05T23:28:06,520988807+00:00 - iot-server/finish 1 0\\n2021-01-05T23:28:06,522273293+00:00 - Exit code 1 is normal. Not restarting iot-server.\\nStarting gunicorn 19.9.0\\nListening at: http://127.0.0.1:31311 (13)\\nUsing worker: sync\\nworker timeout is set to 300\\nBooting worker with pid: 42\\nSPARK_HOME not set. Skipping PySpark Initialization.\\nGenerating new fontManager, this may take some time...\\nInitializing logger\\n2021-01-05 23:28:08,712 | root | INFO | Starting up app insights client\\nStarting up app insights client\\n2021-01-05 23:28:08,712 | root | INFO | Starting up request id generator\\nStarting up request id generator\\n2021-01-05 23:28:08,712 | root | INFO | Starting up app insight hooks\\nStarting up app insight hooks\\n2021-01-05 23:28:08,712 | root | INFO | Invoking user\\'s init function\\nInvoking user\\'s init function\\n2021-01-05 23:28:09,722 | root | INFO | Users\\'s init has completed successfully\\nUsers\\'s init has completed successfully\\n2021-01-05 23:28:09,725 | root | INFO | Skipping middleware: dbg_model_info as it\\'s not enabled.\\nSkipping middleware: dbg_model_info as it\\'s not enabled.\\n2021-01-05 23:28:09,725 | root | INFO | Skipping middleware: dbg_resource_usage as it\\'s not enabled.\\nSkipping middleware: dbg_resource_usage as it\\'s not enabled.\\n2021-01-05 23:28:09,726 | root | INFO | Scoring timeout setting is not found. Use default timeout: 3600000 ms\\nScoring timeout setting is not found. Use default timeout: 3600000 ms\\n2021-01-05 23:29:05,443 | root | INFO | Validation Request Content-Type\\nValidation Request Content-Type\\n2021-01-05 23:29:05,443 | root | INFO | \\tHost: localhost:32783\\n\\tHost: localhost:32783\\n2021-01-05 23:29:05,443 | root | INFO | \\tX-Real-Ip: 172.17.0.1\\n\\tX-Real-Ip: 172.17.0.1\\n2021-01-05 23:29:05,443 | root | INFO | \\tX-Forwarded-For: 172.17.0.1\\n\\tX-Forwarded-For: 172.17.0.1\\n2021-01-05 23:29:05,443 | root | INFO | \\tX-Forwarded-Proto: http\\n\\tX-Forwarded-Proto: http\\n2021-01-05 23:29:05,444 | root | INFO | \\tConnection: close\\n\\tConnection: close\\n2021-01-05 23:29:05,444 | root | INFO | \\tContent-Length: 12770\\n\\tContent-Length: 12770\\n2021-01-05 23:29:05,444 | root | INFO | \\tUser-Agent: python-requests/2.25.0\\n\\tUser-Agent: python-requests/2.25.0\\n2021-01-05 23:29:05,444 | root | INFO | \\tAccept-Encoding: gzip, deflate\\n\\tAccept-Encoding: gzip, deflate\\n2021-01-05 23:29:05,444 | root | INFO | \\tAccept: */*\\n\\tAccept: */*\\n2021-01-05 23:29:05,444 | root | INFO | \\tContent-Type: application/json\\n\\tContent-Type: application/json\\n2021-01-05 23:29:05,444 | root | INFO | Scoring Timer is set to 3600.0 seconds\\nScoring Timer is set to 3600.0 seconds\\n2021-01-05 23:29:05,681 | root | INFO | 200\\n200\\n127.0.0.1 - - [05/Jan/2021:23:29:05 +0000] \"POST /score HTTP/1.0\" 200 15 \"-\" \"python-requests/2.25.0\"\\n2021-01-05 23:29:17,971 | root | INFO | Validation Request Content-Type\\nValidation Request Content-Type\\n2021-01-05 23:29:17,971 | root | INFO | \\tHost: localhost:32783\\n\\tHost: localhost:32783\\n2021-01-05 23:29:17,971 | root | INFO | \\tX-Real-Ip: 172.17.0.1\\n\\tX-Real-Ip: 172.17.0.1\\n2021-01-05 23:29:17,971 | root | INFO | \\tX-Forwarded-For: 172.17.0.1\\n\\tX-Forwarded-For: 172.17.0.1\\n2021-01-05 23:29:17,972 | root | INFO | \\tX-Forwarded-Proto: http\\n\\tX-Forwarded-Proto: http\\n2021-01-05 23:29:17,972 | root | INFO | \\tConnection: close\\n\\tConnection: close\\n2021-01-05 23:29:17,972 | root | INFO | \\tContent-Length: 12770\\n\\tContent-Length: 12770\\n2021-01-05 23:29:17,972 | root | INFO | \\tUser-Agent: python-requests/2.25.0\\n\\tUser-Agent: python-requests/2.25.0\\n2021-01-05 23:29:17,972 | root | INFO | \\tAccept-Encoding: gzip, deflate\\n\\tAccept-Encoding: gzip, deflate\\n2021-01-05 23:29:17,972 | root | INFO | \\tAccept: */*\\n\\tAccept: */*\\n2021-01-05 23:29:17,972 | root | INFO | \\tContent-Type: application/json\\n\\tContent-Type: application/json\\n2021-01-05 23:29:17,972 | root | INFO | Scoring Timer is set to 3600.0 seconds\\nScoring Timer is set to 3600.0 seconds\\n2021-01-05 23:29:18,214 | root | INFO | 200\\n200\\n127.0.0.1 - - [05/Jan/2021:23:29:18 +0000] \"POST /score HTTP/1.0\" 200 15 \"-\" \"python-requests/2.25.0\"\\n'"
      ]
     },
     "execution_count": 143,
     "metadata": {},
     "output_type": "execute_result"
    }
   ],
   "source": [
    "service.get_logs()"
   ]
  },
  {
   "cell_type": "markdown",
   "metadata": {},
   "source": [
    "### Delete Service"
   ]
  },
  {
   "cell_type": "code",
   "execution_count": 144,
   "metadata": {},
   "outputs": [
    {
     "name": "stdout",
     "output_type": "stream",
     "text": [
      "Container has been successfully cleaned up.\n"
     ]
    }
   ],
   "source": [
    "service.delete()"
   ]
  }
 ],
 "metadata": {
  "kernel_info": {
   "name": "python3-azureml"
  },
  "kernelspec": {
   "display_name": "Python 3",
   "language": "python",
   "name": "python3"
  },
  "language_info": {
   "codemirror_mode": {
    "name": "ipython",
    "version": 3
   },
   "file_extension": ".py",
   "mimetype": "text/x-python",
   "name": "python",
   "nbconvert_exporter": "python",
   "pygments_lexer": "ipython3",
   "version": "3.6.9"
  },
  "nteract": {
   "version": "nteract-front-end@1.0.0"
  }
 },
 "nbformat": 4,
 "nbformat_minor": 4
}
